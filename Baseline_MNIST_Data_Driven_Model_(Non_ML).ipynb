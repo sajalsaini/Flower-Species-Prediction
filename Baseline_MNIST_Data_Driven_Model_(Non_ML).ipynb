{
  "nbformat": 4,
  "nbformat_minor": 0,
  "metadata": {
    "colab": {
      "name": "Baseline MNIST Data Driven Model (Non-ML).ipynb",
      "provenance": [],
      "collapsed_sections": [],
      "authorship_tag": "ABX9TyOqbLV869McEWFjyv0YPMRk",
      "include_colab_link": true
    },
    "kernelspec": {
      "name": "python3",
      "display_name": "Python 3"
    },
    "language_info": {
      "name": "python"
    },
    "accelerator": "GPU"
  },
  "cells": [
    {
      "cell_type": "markdown",
      "metadata": {
        "id": "view-in-github",
        "colab_type": "text"
      },
      "source": [
        "<a href=\"https://colab.research.google.com/github/sajalsaini/ML-Projects/blob/main/Baseline_MNIST_Data_Driven_Model_(Non_ML).ipynb\" target=\"_parent\"><img src=\"https://colab.research.google.com/assets/colab-badge.svg\" alt=\"Open In Colab\"/></a>"
      ]
    },
    {
      "cell_type": "markdown",
      "source": [
        "# Introduction"
      ],
      "metadata": {
        "id": "jcatFLOryX35"
      }
    },
    {
      "cell_type": "markdown",
      "source": [
        "This notebook is based on Fast AI's course. The notebook deals with creating a baseline model for a small MNIST dataset. The dataset only contains images of handwritten 7s and 3s. The notebook aims to show a clearer picture of how a **baseline ML model** can be created from **scratch**. The model that'll be created here will be using maths and nothing more. \n",
        "\n",
        "This is created as per the advice of blogging given in the course."
      ],
      "metadata": {
        "id": "BHWWIBLkxpe3"
      }
    },
    {
      "cell_type": "markdown",
      "source": [
        "\n",
        "\n",
        "---\n",
        "\n"
      ],
      "metadata": {
        "id": "lfsnvxO8zcSw"
      }
    },
    {
      "cell_type": "code",
      "execution_count": 1,
      "metadata": {
        "colab": {
          "base_uri": "https://localhost:8080/"
        },
        "id": "n_-d5j0vv7fk",
        "outputId": "6339d67b-e3de-4f65-9a19-61debf7ea1cf"
      },
      "outputs": [
        {
          "output_type": "stream",
          "name": "stdout",
          "text": [
            "Collecting fastbook\n",
            "  Downloading fastbook-0.0.18-py3-none-any.whl (720 kB)\n",
            "\u001b[?25l\r\u001b[K     |▌                               | 10 kB 29.1 MB/s eta 0:00:01\r\u001b[K     |█                               | 20 kB 31.1 MB/s eta 0:00:01\r\u001b[K     |█▍                              | 30 kB 34.2 MB/s eta 0:00:01\r\u001b[K     |█▉                              | 40 kB 28.1 MB/s eta 0:00:01\r\u001b[K     |██▎                             | 51 kB 17.5 MB/s eta 0:00:01\r\u001b[K     |██▊                             | 61 kB 18.0 MB/s eta 0:00:01\r\u001b[K     |███▏                            | 71 kB 11.8 MB/s eta 0:00:01\r\u001b[K     |███▋                            | 81 kB 12.8 MB/s eta 0:00:01\r\u001b[K     |████                            | 92 kB 14.0 MB/s eta 0:00:01\r\u001b[K     |████▌                           | 102 kB 13.0 MB/s eta 0:00:01\r\u001b[K     |█████                           | 112 kB 13.0 MB/s eta 0:00:01\r\u001b[K     |█████▌                          | 122 kB 13.0 MB/s eta 0:00:01\r\u001b[K     |██████                          | 133 kB 13.0 MB/s eta 0:00:01\r\u001b[K     |██████▍                         | 143 kB 13.0 MB/s eta 0:00:01\r\u001b[K     |██████▉                         | 153 kB 13.0 MB/s eta 0:00:01\r\u001b[K     |███████▎                        | 163 kB 13.0 MB/s eta 0:00:01\r\u001b[K     |███████▊                        | 174 kB 13.0 MB/s eta 0:00:01\r\u001b[K     |████████▏                       | 184 kB 13.0 MB/s eta 0:00:01\r\u001b[K     |████████▋                       | 194 kB 13.0 MB/s eta 0:00:01\r\u001b[K     |█████████                       | 204 kB 13.0 MB/s eta 0:00:01\r\u001b[K     |█████████▋                      | 215 kB 13.0 MB/s eta 0:00:01\r\u001b[K     |██████████                      | 225 kB 13.0 MB/s eta 0:00:01\r\u001b[K     |██████████▌                     | 235 kB 13.0 MB/s eta 0:00:01\r\u001b[K     |███████████                     | 245 kB 13.0 MB/s eta 0:00:01\r\u001b[K     |███████████▍                    | 256 kB 13.0 MB/s eta 0:00:01\r\u001b[K     |███████████▉                    | 266 kB 13.0 MB/s eta 0:00:01\r\u001b[K     |████████████▎                   | 276 kB 13.0 MB/s eta 0:00:01\r\u001b[K     |████████████▊                   | 286 kB 13.0 MB/s eta 0:00:01\r\u001b[K     |█████████████▏                  | 296 kB 13.0 MB/s eta 0:00:01\r\u001b[K     |█████████████▋                  | 307 kB 13.0 MB/s eta 0:00:01\r\u001b[K     |██████████████                  | 317 kB 13.0 MB/s eta 0:00:01\r\u001b[K     |██████████████▋                 | 327 kB 13.0 MB/s eta 0:00:01\r\u001b[K     |███████████████                 | 337 kB 13.0 MB/s eta 0:00:01\r\u001b[K     |███████████████▌                | 348 kB 13.0 MB/s eta 0:00:01\r\u001b[K     |████████████████                | 358 kB 13.0 MB/s eta 0:00:01\r\u001b[K     |████████████████▍               | 368 kB 13.0 MB/s eta 0:00:01\r\u001b[K     |████████████████▉               | 378 kB 13.0 MB/s eta 0:00:01\r\u001b[K     |█████████████████▎              | 389 kB 13.0 MB/s eta 0:00:01\r\u001b[K     |█████████████████▊              | 399 kB 13.0 MB/s eta 0:00:01\r\u001b[K     |██████████████████▏             | 409 kB 13.0 MB/s eta 0:00:01\r\u001b[K     |██████████████████▋             | 419 kB 13.0 MB/s eta 0:00:01\r\u001b[K     |███████████████████▏            | 430 kB 13.0 MB/s eta 0:00:01\r\u001b[K     |███████████████████▋            | 440 kB 13.0 MB/s eta 0:00:01\r\u001b[K     |████████████████████            | 450 kB 13.0 MB/s eta 0:00:01\r\u001b[K     |████████████████████▌           | 460 kB 13.0 MB/s eta 0:00:01\r\u001b[K     |█████████████████████           | 471 kB 13.0 MB/s eta 0:00:01\r\u001b[K     |█████████████████████▍          | 481 kB 13.0 MB/s eta 0:00:01\r\u001b[K     |█████████████████████▉          | 491 kB 13.0 MB/s eta 0:00:01\r\u001b[K     |██████████████████████▎         | 501 kB 13.0 MB/s eta 0:00:01\r\u001b[K     |██████████████████████▊         | 512 kB 13.0 MB/s eta 0:00:01\r\u001b[K     |███████████████████████▏        | 522 kB 13.0 MB/s eta 0:00:01\r\u001b[K     |███████████████████████▋        | 532 kB 13.0 MB/s eta 0:00:01\r\u001b[K     |████████████████████████▏       | 542 kB 13.0 MB/s eta 0:00:01\r\u001b[K     |████████████████████████▋       | 552 kB 13.0 MB/s eta 0:00:01\r\u001b[K     |█████████████████████████       | 563 kB 13.0 MB/s eta 0:00:01\r\u001b[K     |█████████████████████████▌      | 573 kB 13.0 MB/s eta 0:00:01\r\u001b[K     |██████████████████████████      | 583 kB 13.0 MB/s eta 0:00:01\r\u001b[K     |██████████████████████████▍     | 593 kB 13.0 MB/s eta 0:00:01\r\u001b[K     |██████████████████████████▉     | 604 kB 13.0 MB/s eta 0:00:01\r\u001b[K     |███████████████████████████▎    | 614 kB 13.0 MB/s eta 0:00:01\r\u001b[K     |███████████████████████████▊    | 624 kB 13.0 MB/s eta 0:00:01\r\u001b[K     |████████████████████████████▏   | 634 kB 13.0 MB/s eta 0:00:01\r\u001b[K     |████████████████████████████▊   | 645 kB 13.0 MB/s eta 0:00:01\r\u001b[K     |█████████████████████████████▏  | 655 kB 13.0 MB/s eta 0:00:01\r\u001b[K     |█████████████████████████████▋  | 665 kB 13.0 MB/s eta 0:00:01\r\u001b[K     |██████████████████████████████  | 675 kB 13.0 MB/s eta 0:00:01\r\u001b[K     |██████████████████████████████▌ | 686 kB 13.0 MB/s eta 0:00:01\r\u001b[K     |███████████████████████████████ | 696 kB 13.0 MB/s eta 0:00:01\r\u001b[K     |███████████████████████████████▍| 706 kB 13.0 MB/s eta 0:00:01\r\u001b[K     |███████████████████████████████▉| 716 kB 13.0 MB/s eta 0:00:01\r\u001b[K     |████████████████████████████████| 720 kB 13.0 MB/s \n",
            "\u001b[?25hRequirement already satisfied: pip in /usr/local/lib/python3.7/dist-packages (from fastbook) (21.1.3)\n",
            "Requirement already satisfied: requests in /usr/local/lib/python3.7/dist-packages (from fastbook) (2.23.0)\n",
            "Collecting sentencepiece\n",
            "  Downloading sentencepiece-0.1.96-cp37-cp37m-manylinux_2_17_x86_64.manylinux2014_x86_64.whl (1.2 MB)\n",
            "\u001b[K     |████████████████████████████████| 1.2 MB 46.3 MB/s \n",
            "\u001b[?25hRequirement already satisfied: packaging in /usr/local/lib/python3.7/dist-packages (from fastbook) (21.3)\n",
            "Collecting fastai>=2.5\n",
            "  Downloading fastai-2.5.3-py3-none-any.whl (189 kB)\n",
            "\u001b[K     |████████████████████████████████| 189 kB 51.4 MB/s \n",
            "\u001b[?25hRequirement already satisfied: pandas in /usr/local/lib/python3.7/dist-packages (from fastbook) (1.1.5)\n",
            "Requirement already satisfied: ipywidgets in /usr/local/lib/python3.7/dist-packages (from fastbook) (7.6.5)\n",
            "Collecting nbdev>=0.2.38\n",
            "  Downloading nbdev-1.1.23-py3-none-any.whl (46 kB)\n",
            "\u001b[K     |████████████████████████████████| 46 kB 4.2 MB/s \n",
            "\u001b[?25hRequirement already satisfied: pyyaml in /usr/local/lib/python3.7/dist-packages (from fastai>=2.5->fastbook) (3.13)\n",
            "Requirement already satisfied: pillow>6.0.0 in /usr/local/lib/python3.7/dist-packages (from fastai>=2.5->fastbook) (7.1.2)\n",
            "Requirement already satisfied: torch<1.11,>=1.7.0 in /usr/local/lib/python3.7/dist-packages (from fastai>=2.5->fastbook) (1.10.0+cu111)\n",
            "Collecting fastdownload<2,>=0.0.5\n",
            "  Downloading fastdownload-0.0.5-py3-none-any.whl (13 kB)\n",
            "Requirement already satisfied: fastprogress>=0.2.4 in /usr/local/lib/python3.7/dist-packages (from fastai>=2.5->fastbook) (1.0.0)\n",
            "Requirement already satisfied: scipy in /usr/local/lib/python3.7/dist-packages (from fastai>=2.5->fastbook) (1.4.1)\n",
            "Requirement already satisfied: spacy<4 in /usr/local/lib/python3.7/dist-packages (from fastai>=2.5->fastbook) (2.2.4)\n",
            "Requirement already satisfied: torchvision>=0.8.2 in /usr/local/lib/python3.7/dist-packages (from fastai>=2.5->fastbook) (0.11.1+cu111)\n",
            "Collecting fastcore<1.4,>=1.3.22\n",
            "  Downloading fastcore-1.3.27-py3-none-any.whl (56 kB)\n",
            "\u001b[K     |████████████████████████████████| 56 kB 4.9 MB/s \n",
            "\u001b[?25hRequirement already satisfied: scikit-learn in /usr/local/lib/python3.7/dist-packages (from fastai>=2.5->fastbook) (1.0.2)\n",
            "Requirement already satisfied: matplotlib in /usr/local/lib/python3.7/dist-packages (from fastai>=2.5->fastbook) (3.2.2)\n",
            "Requirement already satisfied: numpy in /usr/local/lib/python3.7/dist-packages (from fastprogress>=0.2.4->fastai>=2.5->fastbook) (1.19.5)\n",
            "Collecting ghapi\n",
            "  Downloading ghapi-0.1.19-py3-none-any.whl (51 kB)\n",
            "\u001b[K     |████████████████████████████████| 51 kB 317 kB/s \n",
            "\u001b[?25hCollecting fastrelease\n",
            "  Downloading fastrelease-0.1.12-py3-none-any.whl (14 kB)\n",
            "Requirement already satisfied: nbformat>=4.4.0 in /usr/local/lib/python3.7/dist-packages (from nbdev>=0.2.38->fastbook) (5.1.3)\n",
            "Requirement already satisfied: nbconvert<6 in /usr/local/lib/python3.7/dist-packages (from nbdev>=0.2.38->fastbook) (5.6.1)\n",
            "Requirement already satisfied: jupyter-client<7.0 in /usr/local/lib/python3.7/dist-packages (from nbdev>=0.2.38->fastbook) (5.3.5)\n",
            "Requirement already satisfied: jupyter in /usr/local/lib/python3.7/dist-packages (from nbdev>=0.2.38->fastbook) (1.0.0)\n",
            "Requirement already satisfied: ipykernel in /usr/local/lib/python3.7/dist-packages (from nbdev>=0.2.38->fastbook) (4.10.1)\n",
            "Requirement already satisfied: pyzmq>=13 in /usr/local/lib/python3.7/dist-packages (from jupyter-client<7.0->nbdev>=0.2.38->fastbook) (22.3.0)\n",
            "Requirement already satisfied: traitlets in /usr/local/lib/python3.7/dist-packages (from jupyter-client<7.0->nbdev>=0.2.38->fastbook) (5.1.1)\n",
            "Requirement already satisfied: jupyter-core>=4.6.0 in /usr/local/lib/python3.7/dist-packages (from jupyter-client<7.0->nbdev>=0.2.38->fastbook) (4.9.1)\n",
            "Requirement already satisfied: tornado>=4.1 in /usr/local/lib/python3.7/dist-packages (from jupyter-client<7.0->nbdev>=0.2.38->fastbook) (5.1.1)\n",
            "Requirement already satisfied: python-dateutil>=2.1 in /usr/local/lib/python3.7/dist-packages (from jupyter-client<7.0->nbdev>=0.2.38->fastbook) (2.8.2)\n",
            "Requirement already satisfied: pygments in /usr/local/lib/python3.7/dist-packages (from nbconvert<6->nbdev>=0.2.38->fastbook) (2.6.1)\n",
            "Requirement already satisfied: defusedxml in /usr/local/lib/python3.7/dist-packages (from nbconvert<6->nbdev>=0.2.38->fastbook) (0.7.1)\n",
            "Requirement already satisfied: pandocfilters>=1.4.1 in /usr/local/lib/python3.7/dist-packages (from nbconvert<6->nbdev>=0.2.38->fastbook) (1.5.0)\n",
            "Requirement already satisfied: mistune<2,>=0.8.1 in /usr/local/lib/python3.7/dist-packages (from nbconvert<6->nbdev>=0.2.38->fastbook) (0.8.4)\n",
            "Requirement already satisfied: entrypoints>=0.2.2 in /usr/local/lib/python3.7/dist-packages (from nbconvert<6->nbdev>=0.2.38->fastbook) (0.3)\n",
            "Requirement already satisfied: bleach in /usr/local/lib/python3.7/dist-packages (from nbconvert<6->nbdev>=0.2.38->fastbook) (4.1.0)\n",
            "Requirement already satisfied: jinja2>=2.4 in /usr/local/lib/python3.7/dist-packages (from nbconvert<6->nbdev>=0.2.38->fastbook) (2.11.3)\n",
            "Requirement already satisfied: testpath in /usr/local/lib/python3.7/dist-packages (from nbconvert<6->nbdev>=0.2.38->fastbook) (0.5.0)\n",
            "Requirement already satisfied: MarkupSafe>=0.23 in /usr/local/lib/python3.7/dist-packages (from jinja2>=2.4->nbconvert<6->nbdev>=0.2.38->fastbook) (2.0.1)\n",
            "Requirement already satisfied: jsonschema!=2.5.0,>=2.4 in /usr/local/lib/python3.7/dist-packages (from nbformat>=4.4.0->nbdev>=0.2.38->fastbook) (4.3.3)\n",
            "Requirement already satisfied: ipython-genutils in /usr/local/lib/python3.7/dist-packages (from nbformat>=4.4.0->nbdev>=0.2.38->fastbook) (0.2.0)\n",
            "Requirement already satisfied: importlib-metadata in /usr/local/lib/python3.7/dist-packages (from jsonschema!=2.5.0,>=2.4->nbformat>=4.4.0->nbdev>=0.2.38->fastbook) (4.10.1)\n",
            "Requirement already satisfied: importlib-resources>=1.4.0 in /usr/local/lib/python3.7/dist-packages (from jsonschema!=2.5.0,>=2.4->nbformat>=4.4.0->nbdev>=0.2.38->fastbook) (5.4.0)\n",
            "Requirement already satisfied: attrs>=17.4.0 in /usr/local/lib/python3.7/dist-packages (from jsonschema!=2.5.0,>=2.4->nbformat>=4.4.0->nbdev>=0.2.38->fastbook) (21.4.0)\n",
            "Requirement already satisfied: pyrsistent!=0.17.0,!=0.17.1,!=0.17.2,>=0.14.0 in /usr/local/lib/python3.7/dist-packages (from jsonschema!=2.5.0,>=2.4->nbformat>=4.4.0->nbdev>=0.2.38->fastbook) (0.18.1)\n",
            "Requirement already satisfied: typing-extensions in /usr/local/lib/python3.7/dist-packages (from jsonschema!=2.5.0,>=2.4->nbformat>=4.4.0->nbdev>=0.2.38->fastbook) (3.10.0.2)\n",
            "Requirement already satisfied: zipp>=3.1.0 in /usr/local/lib/python3.7/dist-packages (from importlib-resources>=1.4.0->jsonschema!=2.5.0,>=2.4->nbformat>=4.4.0->nbdev>=0.2.38->fastbook) (3.7.0)\n",
            "Requirement already satisfied: six>=1.5 in /usr/local/lib/python3.7/dist-packages (from python-dateutil>=2.1->jupyter-client<7.0->nbdev>=0.2.38->fastbook) (1.15.0)\n",
            "Requirement already satisfied: srsly<1.1.0,>=1.0.2 in /usr/local/lib/python3.7/dist-packages (from spacy<4->fastai>=2.5->fastbook) (1.0.5)\n",
            "Requirement already satisfied: plac<1.2.0,>=0.9.6 in /usr/local/lib/python3.7/dist-packages (from spacy<4->fastai>=2.5->fastbook) (1.1.3)\n",
            "Requirement already satisfied: wasabi<1.1.0,>=0.4.0 in /usr/local/lib/python3.7/dist-packages (from spacy<4->fastai>=2.5->fastbook) (0.9.0)\n",
            "Requirement already satisfied: cymem<2.1.0,>=2.0.2 in /usr/local/lib/python3.7/dist-packages (from spacy<4->fastai>=2.5->fastbook) (2.0.6)\n",
            "Requirement already satisfied: blis<0.5.0,>=0.4.0 in /usr/local/lib/python3.7/dist-packages (from spacy<4->fastai>=2.5->fastbook) (0.4.1)\n",
            "Requirement already satisfied: tqdm<5.0.0,>=4.38.0 in /usr/local/lib/python3.7/dist-packages (from spacy<4->fastai>=2.5->fastbook) (4.62.3)\n",
            "Requirement already satisfied: thinc==7.4.0 in /usr/local/lib/python3.7/dist-packages (from spacy<4->fastai>=2.5->fastbook) (7.4.0)\n",
            "Requirement already satisfied: setuptools in /usr/local/lib/python3.7/dist-packages (from spacy<4->fastai>=2.5->fastbook) (57.4.0)\n",
            "Requirement already satisfied: catalogue<1.1.0,>=0.0.7 in /usr/local/lib/python3.7/dist-packages (from spacy<4->fastai>=2.5->fastbook) (1.0.0)\n",
            "Requirement already satisfied: murmurhash<1.1.0,>=0.28.0 in /usr/local/lib/python3.7/dist-packages (from spacy<4->fastai>=2.5->fastbook) (1.0.6)\n",
            "Requirement already satisfied: preshed<3.1.0,>=3.0.2 in /usr/local/lib/python3.7/dist-packages (from spacy<4->fastai>=2.5->fastbook) (3.0.6)\n",
            "Requirement already satisfied: urllib3!=1.25.0,!=1.25.1,<1.26,>=1.21.1 in /usr/local/lib/python3.7/dist-packages (from requests->fastbook) (1.24.3)\n",
            "Requirement already satisfied: chardet<4,>=3.0.2 in /usr/local/lib/python3.7/dist-packages (from requests->fastbook) (3.0.4)\n",
            "Requirement already satisfied: idna<3,>=2.5 in /usr/local/lib/python3.7/dist-packages (from requests->fastbook) (2.10)\n",
            "Requirement already satisfied: certifi>=2017.4.17 in /usr/local/lib/python3.7/dist-packages (from requests->fastbook) (2021.10.8)\n",
            "Requirement already satisfied: webencodings in /usr/local/lib/python3.7/dist-packages (from bleach->nbconvert<6->nbdev>=0.2.38->fastbook) (0.5.1)\n",
            "Requirement already satisfied: ipython>=4.0.0 in /usr/local/lib/python3.7/dist-packages (from ipykernel->nbdev>=0.2.38->fastbook) (5.5.0)\n",
            "Requirement already satisfied: pickleshare in /usr/local/lib/python3.7/dist-packages (from ipython>=4.0.0->ipykernel->nbdev>=0.2.38->fastbook) (0.7.5)\n",
            "Requirement already satisfied: decorator in /usr/local/lib/python3.7/dist-packages (from ipython>=4.0.0->ipykernel->nbdev>=0.2.38->fastbook) (4.4.2)\n",
            "Requirement already satisfied: prompt-toolkit<2.0.0,>=1.0.4 in /usr/local/lib/python3.7/dist-packages (from ipython>=4.0.0->ipykernel->nbdev>=0.2.38->fastbook) (1.0.18)\n",
            "Requirement already satisfied: simplegeneric>0.8 in /usr/local/lib/python3.7/dist-packages (from ipython>=4.0.0->ipykernel->nbdev>=0.2.38->fastbook) (0.8.1)\n",
            "Requirement already satisfied: pexpect in /usr/local/lib/python3.7/dist-packages (from ipython>=4.0.0->ipykernel->nbdev>=0.2.38->fastbook) (4.8.0)\n",
            "Requirement already satisfied: wcwidth in /usr/local/lib/python3.7/dist-packages (from prompt-toolkit<2.0.0,>=1.0.4->ipython>=4.0.0->ipykernel->nbdev>=0.2.38->fastbook) (0.2.5)\n",
            "Requirement already satisfied: jupyterlab-widgets>=1.0.0 in /usr/local/lib/python3.7/dist-packages (from ipywidgets->fastbook) (1.0.2)\n",
            "Requirement already satisfied: widgetsnbextension~=3.5.0 in /usr/local/lib/python3.7/dist-packages (from ipywidgets->fastbook) (3.5.2)\n",
            "Requirement already satisfied: notebook>=4.4.1 in /usr/local/lib/python3.7/dist-packages (from widgetsnbextension~=3.5.0->ipywidgets->fastbook) (5.3.1)\n",
            "Requirement already satisfied: Send2Trash in /usr/local/lib/python3.7/dist-packages (from notebook>=4.4.1->widgetsnbextension~=3.5.0->ipywidgets->fastbook) (1.8.0)\n",
            "Requirement already satisfied: terminado>=0.8.1 in /usr/local/lib/python3.7/dist-packages (from notebook>=4.4.1->widgetsnbextension~=3.5.0->ipywidgets->fastbook) (0.12.1)\n",
            "Requirement already satisfied: ptyprocess in /usr/local/lib/python3.7/dist-packages (from terminado>=0.8.1->notebook>=4.4.1->widgetsnbextension~=3.5.0->ipywidgets->fastbook) (0.7.0)\n",
            "Requirement already satisfied: jupyter-console in /usr/local/lib/python3.7/dist-packages (from jupyter->nbdev>=0.2.38->fastbook) (5.2.0)\n",
            "Requirement already satisfied: qtconsole in /usr/local/lib/python3.7/dist-packages (from jupyter->nbdev>=0.2.38->fastbook) (5.2.2)\n",
            "Requirement already satisfied: kiwisolver>=1.0.1 in /usr/local/lib/python3.7/dist-packages (from matplotlib->fastai>=2.5->fastbook) (1.3.2)\n",
            "Requirement already satisfied: pyparsing!=2.0.4,!=2.1.2,!=2.1.6,>=2.0.1 in /usr/local/lib/python3.7/dist-packages (from matplotlib->fastai>=2.5->fastbook) (3.0.7)\n",
            "Requirement already satisfied: cycler>=0.10 in /usr/local/lib/python3.7/dist-packages (from matplotlib->fastai>=2.5->fastbook) (0.11.0)\n",
            "Requirement already satisfied: pytz>=2017.2 in /usr/local/lib/python3.7/dist-packages (from pandas->fastbook) (2018.9)\n",
            "Requirement already satisfied: qtpy in /usr/local/lib/python3.7/dist-packages (from qtconsole->jupyter->nbdev>=0.2.38->fastbook) (2.0.0)\n",
            "Requirement already satisfied: joblib>=0.11 in /usr/local/lib/python3.7/dist-packages (from scikit-learn->fastai>=2.5->fastbook) (1.1.0)\n",
            "Requirement already satisfied: threadpoolctl>=2.0.0 in /usr/local/lib/python3.7/dist-packages (from scikit-learn->fastai>=2.5->fastbook) (3.0.0)\n",
            "Installing collected packages: fastcore, ghapi, fastrelease, fastdownload, sentencepiece, nbdev, fastai, fastbook\n",
            "  Attempting uninstall: fastai\n",
            "    Found existing installation: fastai 1.0.61\n",
            "    Uninstalling fastai-1.0.61:\n",
            "      Successfully uninstalled fastai-1.0.61\n",
            "Successfully installed fastai-2.5.3 fastbook-0.0.18 fastcore-1.3.27 fastdownload-0.0.5 fastrelease-0.1.12 ghapi-0.1.19 nbdev-1.1.23 sentencepiece-0.1.96\n"
          ]
        }
      ],
      "source": [
        "pip install fastbook"
      ]
    },
    {
      "cell_type": "code",
      "source": [
        "import fastbook"
      ],
      "metadata": {
        "id": "SDtaKr8jwZCN"
      },
      "execution_count": 2,
      "outputs": []
    },
    {
      "cell_type": "code",
      "source": [
        "from fastai.vision.all import *\n",
        "from fastai import *"
      ],
      "metadata": {
        "id": "0kePYA0Ewjsv"
      },
      "execution_count": 3,
      "outputs": []
    },
    {
      "cell_type": "markdown",
      "source": [
        "# Getting the MNIST Data"
      ],
      "metadata": {
        "id": "Nano29yXw8YP"
      }
    },
    {
      "cell_type": "code",
      "source": [
        "path = untar_data(URLs.MNIST_SAMPLE)"
      ],
      "metadata": {
        "colab": {
          "base_uri": "https://localhost:8080/",
          "height": 37
        },
        "id": "l3C_g8SRwsmL",
        "outputId": "3630c1cd-1afe-4f74-8b59-dde17ddcb80a"
      },
      "execution_count": 4,
      "outputs": [
        {
          "output_type": "display_data",
          "data": {
            "text/html": [
              "\n",
              "    <div>\n",
              "        <style>\n",
              "            /* Turns off some styling */\n",
              "            progress {\n",
              "                /* gets rid of default border in Firefox and Opera. */\n",
              "                border: none;\n",
              "                /* Needs to be in here for Safari polyfill so background images work as expected. */\n",
              "                background-size: auto;\n",
              "            }\n",
              "            .progress-bar-interrupted, .progress-bar-interrupted::-webkit-progress-bar {\n",
              "                background: #F44336;\n",
              "            }\n",
              "        </style>\n",
              "      <progress value='3219456' class='' max='3214948' style='width:300px; height:20px; vertical-align: middle;'></progress>\n",
              "      100.14% [3219456/3214948 00:00<00:00]\n",
              "    </div>\n",
              "    "
            ],
            "text/plain": [
              "<IPython.core.display.HTML object>"
            ]
          },
          "metadata": {}
        }
      ]
    },
    {
      "cell_type": "markdown",
      "source": [
        "Looking at the downloaded data."
      ],
      "metadata": {
        "id": "qumNDBYdxKe9"
      }
    },
    {
      "cell_type": "code",
      "source": [
        "path.ls()"
      ],
      "metadata": {
        "colab": {
          "base_uri": "https://localhost:8080/"
        },
        "id": "zf-Rg3zCw6J1",
        "outputId": "abab2572-e529-4400-bbae-695d79052cf0"
      },
      "execution_count": 5,
      "outputs": [
        {
          "output_type": "execute_result",
          "data": {
            "text/plain": [
              "(#3) [Path('/root/.fastai/data/mnist_sample/train'),Path('/root/.fastai/data/mnist_sample/labels.csv'),Path('/root/.fastai/data/mnist_sample/valid')]"
            ]
          },
          "metadata": {},
          "execution_count": 5
        }
      ]
    },
    {
      "cell_type": "markdown",
      "source": [
        "Looking inside the training data folder."
      ],
      "metadata": {
        "id": "24XSeuVqxZOi"
      }
    },
    {
      "cell_type": "code",
      "source": [
        "(path/\"train\").ls()"
      ],
      "metadata": {
        "colab": {
          "base_uri": "https://localhost:8080/"
        },
        "id": "vzvRHQOzxOfH",
        "outputId": "301e00d8-0480-4adc-8fe9-14347e57a07e"
      },
      "execution_count": 6,
      "outputs": [
        {
          "output_type": "execute_result",
          "data": {
            "text/plain": [
              "(#2) [Path('/root/.fastai/data/mnist_sample/train/7'),Path('/root/.fastai/data/mnist_sample/train/3')]"
            ]
          },
          "metadata": {},
          "execution_count": 6
        }
      ]
    },
    {
      "cell_type": "markdown",
      "source": [
        "Here, we can see that the training folder contains two folders. One for the images of 7s and one with images of 3s."
      ],
      "metadata": {
        "id": "9K5bENN5xdR2"
      }
    },
    {
      "cell_type": "markdown",
      "source": [
        "Now, we inspect the images in the training folder. For this we assign all the images in the training folders to threes and sevens folders. We use the sorted method to get all the images in order. The images will be sorted according to their file name. \n",
        "\n"
      ],
      "metadata": {
        "id": "xkZo_OFIy4cd"
      }
    },
    {
      "cell_type": "code",
      "source": [
        "threes = (path/\"train\"/\"3\").ls().sorted()"
      ],
      "metadata": {
        "id": "Gr36_ax0xWre"
      },
      "execution_count": 7,
      "outputs": []
    },
    {
      "cell_type": "code",
      "source": [
        "sevens = (path/\"train\"/\"7\").ls().sorted()"
      ],
      "metadata": {
        "id": "ILtB1pvwytpx"
      },
      "execution_count": 8,
      "outputs": []
    },
    {
      "cell_type": "code",
      "source": [
        "threes"
      ],
      "metadata": {
        "colab": {
          "base_uri": "https://localhost:8080/"
        },
        "id": "Lvah5Huby0tV",
        "outputId": "d119ed82-2514-4f06-d6b6-fa81840a25ee"
      },
      "execution_count": 9,
      "outputs": [
        {
          "output_type": "execute_result",
          "data": {
            "text/plain": [
              "(#6131) [Path('/root/.fastai/data/mnist_sample/train/3/10.png'),Path('/root/.fastai/data/mnist_sample/train/3/10000.png'),Path('/root/.fastai/data/mnist_sample/train/3/10011.png'),Path('/root/.fastai/data/mnist_sample/train/3/10031.png'),Path('/root/.fastai/data/mnist_sample/train/3/10034.png'),Path('/root/.fastai/data/mnist_sample/train/3/10042.png'),Path('/root/.fastai/data/mnist_sample/train/3/10052.png'),Path('/root/.fastai/data/mnist_sample/train/3/1007.png'),Path('/root/.fastai/data/mnist_sample/train/3/10074.png'),Path('/root/.fastai/data/mnist_sample/train/3/10091.png')...]"
            ]
          },
          "metadata": {},
          "execution_count": 9
        }
      ]
    },
    {
      "cell_type": "markdown",
      "source": [
        "Taking the path of an image, and then opening the image using the \"Image\" class from the Python Imaginng Library. "
      ],
      "metadata": {
        "id": "XAXbw_FDrqj8"
      }
    },
    {
      "cell_type": "code",
      "source": [
        "im3_path = threes[1]\n",
        "im3 = Image.open(im3_path)\n",
        "im3"
      ],
      "metadata": {
        "colab": {
          "base_uri": "https://localhost:8080/",
          "height": 45
        },
        "id": "pP-fHxKQy1xs",
        "outputId": "e73c1497-d9b8-4ae7-8e29-ced17d9e3dab"
      },
      "execution_count": 10,
      "outputs": [
        {
          "output_type": "execute_result",
          "data": {
            "image/png": "[encoded data removed]",
            "text/plain": [
              "<PIL.PngImagePlugin.PngImageFile image mode=L size=28x28 at 0x7F1D1CA2CBD0>"
            ]
          },
          "metadata": {},
          "execution_count": 10
        }
      ]
    },
    {
      "cell_type": "markdown",
      "source": [
        "An image on a computer is nothing but numbers. To display that, we'll have to convert the image into an array. "
      ],
      "metadata": {
        "id": "jXzEVj_OsFj7"
      }
    },
    {
      "cell_type": "code",
      "source": [
        "array(im3)"
      ],
      "metadata": {
        "colab": {
          "base_uri": "https://localhost:8080/"
        },
        "id": "hnGf4diU0UYL",
        "outputId": "1835e448-deab-4fa9-f1f7-c643106f3eae"
      },
      "execution_count": 11,
      "outputs": [
        {
          "output_type": "execute_result",
          "data": {
            "text/plain": [
              "array([[  0,   0,   0,   0,   0,   0,   0,   0,   0,   0,   0,   0,   0,   0,   0,   0,   0,   0,   0,   0,   0,   0,   0,   0,   0,   0,   0,   0],\n",
              "       [  0,   0,   0,   0,   0,   0,   0,   0,   0,   0,   0,   0,   0,   0,   0,   0,   0,   0,   0,   0,   0,   0,   0,   0,   0,   0,   0,   0],\n",
              "       [  0,   0,   0,   0,   0,   0,   0,   0,   0,   0,   0,   0,   0,   0,   0,   0,   0,   0,   0,   0,   0,   0,   0,   0,   0,   0,   0,   0],\n",
              "       [  0,   0,   0,   0,   0,   0,   0,   0,   0,   0,   0,   0,   0,   0,   0,   0,   0,   0,   0,   0,   0,   0,   0,   0,   0,   0,   0,   0],\n",
              "       [  0,   0,   0,   0,   0,   0,   0,   0,   0,   0,   0,   0,   0,   0,   0,   0,   0,   0,   0,   0,   0,   0,   0,   0,   0,   0,   0,   0],\n",
              "       [  0,   0,   0,   0,   0,   0,   0,   0,   0,  29, 150, 195, 254, 255, 254, 176, 193, 150,  96,   0,   0,   0,   0,   0,   0,   0,   0,   0],\n",
              "       [  0,   0,   0,   0,   0,   0,   0,  48, 166, 224, 253, 253, 234, 196, 253, 253, 253, 253, 233,   0,   0,   0,   0,   0,   0,   0,   0,   0],\n",
              "       [  0,   0,   0,   0,   0,  93, 244, 249, 253, 187,  46,  10,   8,   4,  10, 194, 253, 253, 233,   0,   0,   0,   0,   0,   0,   0,   0,   0],\n",
              "       [  0,   0,   0,   0,   0, 107, 253, 253, 230,  48,   0,   0,   0,   0,   0, 192, 253, 253, 156,   0,   0,   0,   0,   0,   0,   0,   0,   0],\n",
              "       [  0,   0,   0,   0,   0,   3,  20,  20,  15,   0,   0,   0,   0,   0,  43, 224, 253, 245,  74,   0,   0,   0,   0,   0,   0,   0,   0,   0],\n",
              "       [  0,   0,   0,   0,   0,   0,   0,   0,   0,   0,   0,   0,   0,   0, 249, 253, 245, 126,   0,   0,   0,   0,   0,   0,   0,   0,   0,   0],\n",
              "       [  0,   0,   0,   0,   0,   0,   0,   0,   0,   0,   0,  14, 101, 223, 253, 248, 124,   0,   0,   0,   0,   0,   0,   0,   0,   0,   0,   0],\n",
              "       [  0,   0,   0,   0,   0,   0,   0,   0,   0,  11, 166, 239, 253, 253, 253, 187,  30,   0,   0,   0,   0,   0,   0,   0,   0,   0,   0,   0],\n",
              "       [  0,   0,   0,   0,   0,   0,   0,   0,   0,  16, 248, 250, 253, 253, 253, 253, 232, 213, 111,   2,   0,   0,   0,   0,   0,   0,   0,   0],\n",
              "       [  0,   0,   0,   0,   0,   0,   0,   0,   0,   0,   0,  43,  98,  98, 208, 253, 253, 253, 253, 187,  22,   0,   0,   0,   0,   0,   0,   0],\n",
              "       [  0,   0,   0,   0,   0,   0,   0,   0,   0,   0,   0,   0,   0,   0,   9,  51, 119, 253, 253, 253,  76,   0,   0,   0,   0,   0,   0,   0],\n",
              "       [  0,   0,   0,   0,   0,   0,   0,   0,   0,   0,   0,   0,   0,   0,   0,   0,   1, 183, 253, 253, 139,   0,   0,   0,   0,   0,   0,   0],\n",
              "       [  0,   0,   0,   0,   0,   0,   0,   0,   0,   0,   0,   0,   0,   0,   0,   0,   0, 182, 253, 253, 104,   0,   0,   0,   0,   0,   0,   0],\n",
              "       [  0,   0,   0,   0,   0,   0,   0,   0,   0,   0,   0,   0,   0,   0,   0,   0,  85, 249, 253, 253,  36,   0,   0,   0,   0,   0,   0,   0],\n",
              "       [  0,   0,   0,   0,   0,   0,   0,   0,   0,   0,   0,   0,   0,   0,   0,  60, 214, 253, 253, 173,  11,   0,   0,   0,   0,   0,   0,   0],\n",
              "       [  0,   0,   0,   0,   0,   0,   0,   0,   0,   0,   0,   0,   0,   0,  98, 247, 253, 253, 226,   9,   0,   0,   0,   0,   0,   0,   0,   0],\n",
              "       [  0,   0,   0,   0,   0,   0,   0,   0,   0,   0,   0,   0,  42, 150, 252, 253, 253, 233,  53,   0,   0,   0,   0,   0,   0,   0,   0,   0],\n",
              "       [  0,   0,   0,   0,   0,   0,  42, 115,  42,  60, 115, 159, 240, 253, 253, 250, 175,  25,   0,   0,   0,   0,   0,   0,   0,   0,   0,   0],\n",
              "       [  0,   0,   0,   0,   0,   0, 187, 253, 253, 253, 253, 253, 253, 253, 197,  86,   0,   0,   0,   0,   0,   0,   0,   0,   0,   0,   0,   0],\n",
              "       [  0,   0,   0,   0,   0,   0, 103, 253, 253, 253, 253, 253, 232,  67,   1,   0,   0,   0,   0,   0,   0,   0,   0,   0,   0,   0,   0,   0],\n",
              "       [  0,   0,   0,   0,   0,   0,   0,   0,   0,   0,   0,   0,   0,   0,   0,   0,   0,   0,   0,   0,   0,   0,   0,   0,   0,   0,   0,   0],\n",
              "       [  0,   0,   0,   0,   0,   0,   0,   0,   0,   0,   0,   0,   0,   0,   0,   0,   0,   0,   0,   0,   0,   0,   0,   0,   0,   0,   0,   0],\n",
              "       [  0,   0,   0,   0,   0,   0,   0,   0,   0,   0,   0,   0,   0,   0,   0,   0,   0,   0,   0,   0,   0,   0,   0,   0,   0,   0,   0,   0]], dtype=uint8)"
            ]
          },
          "metadata": {},
          "execution_count": 11
        }
      ]
    },
    {
      "cell_type": "markdown",
      "source": [
        "From this we can really see how numbers make up an image. "
      ],
      "metadata": {
        "id": "Mo-eJS8cs0xQ"
      }
    },
    {
      "cell_type": "markdown",
      "source": [
        "We can display the image as a combination of numbers by using PyTorch Tensors."
      ],
      "metadata": {
        "id": "tJlE3Tzys88g"
      }
    },
    {
      "cell_type": "code",
      "source": [
        "tensor(im3)"
      ],
      "metadata": {
        "colab": {
          "base_uri": "https://localhost:8080/"
        },
        "id": "Ri862uf_syvk",
        "outputId": "8d46c66f-f2f0-4731-a199-dc538d05e2c3"
      },
      "execution_count": 12,
      "outputs": [
        {
          "output_type": "execute_result",
          "data": {
            "text/plain": [
              "tensor([[  0,   0,   0,   0,   0,   0,   0,   0,   0,   0,   0,   0,   0,   0,   0,   0,   0,   0,   0,   0,   0,   0,   0,   0,   0,   0,   0,   0],\n",
              "        [  0,   0,   0,   0,   0,   0,   0,   0,   0,   0,   0,   0,   0,   0,   0,   0,   0,   0,   0,   0,   0,   0,   0,   0,   0,   0,   0,   0],\n",
              "        [  0,   0,   0,   0,   0,   0,   0,   0,   0,   0,   0,   0,   0,   0,   0,   0,   0,   0,   0,   0,   0,   0,   0,   0,   0,   0,   0,   0],\n",
              "        [  0,   0,   0,   0,   0,   0,   0,   0,   0,   0,   0,   0,   0,   0,   0,   0,   0,   0,   0,   0,   0,   0,   0,   0,   0,   0,   0,   0],\n",
              "        [  0,   0,   0,   0,   0,   0,   0,   0,   0,   0,   0,   0,   0,   0,   0,   0,   0,   0,   0,   0,   0,   0,   0,   0,   0,   0,   0,   0],\n",
              "        [  0,   0,   0,   0,   0,   0,   0,   0,   0,  29, 150, 195, 254, 255, 254, 176, 193, 150,  96,   0,   0,   0,   0,   0,   0,   0,   0,   0],\n",
              "        [  0,   0,   0,   0,   0,   0,   0,  48, 166, 224, 253, 253, 234, 196, 253, 253, 253, 253, 233,   0,   0,   0,   0,   0,   0,   0,   0,   0],\n",
              "        [  0,   0,   0,   0,   0,  93, 244, 249, 253, 187,  46,  10,   8,   4,  10, 194, 253, 253, 233,   0,   0,   0,   0,   0,   0,   0,   0,   0],\n",
              "        [  0,   0,   0,   0,   0, 107, 253, 253, 230,  48,   0,   0,   0,   0,   0, 192, 253, 253, 156,   0,   0,   0,   0,   0,   0,   0,   0,   0],\n",
              "        [  0,   0,   0,   0,   0,   3,  20,  20,  15,   0,   0,   0,   0,   0,  43, 224, 253, 245,  74,   0,   0,   0,   0,   0,   0,   0,   0,   0],\n",
              "        [  0,   0,   0,   0,   0,   0,   0,   0,   0,   0,   0,   0,   0,   0, 249, 253, 245, 126,   0,   0,   0,   0,   0,   0,   0,   0,   0,   0],\n",
              "        [  0,   0,   0,   0,   0,   0,   0,   0,   0,   0,   0,  14, 101, 223, 253, 248, 124,   0,   0,   0,   0,   0,   0,   0,   0,   0,   0,   0],\n",
              "        [  0,   0,   0,   0,   0,   0,   0,   0,   0,  11, 166, 239, 253, 253, 253, 187,  30,   0,   0,   0,   0,   0,   0,   0,   0,   0,   0,   0],\n",
              "        [  0,   0,   0,   0,   0,   0,   0,   0,   0,  16, 248, 250, 253, 253, 253, 253, 232, 213, 111,   2,   0,   0,   0,   0,   0,   0,   0,   0],\n",
              "        [  0,   0,   0,   0,   0,   0,   0,   0,   0,   0,   0,  43,  98,  98, 208, 253, 253, 253, 253, 187,  22,   0,   0,   0,   0,   0,   0,   0],\n",
              "        [  0,   0,   0,   0,   0,   0,   0,   0,   0,   0,   0,   0,   0,   0,   9,  51, 119, 253, 253, 253,  76,   0,   0,   0,   0,   0,   0,   0],\n",
              "        [  0,   0,   0,   0,   0,   0,   0,   0,   0,   0,   0,   0,   0,   0,   0,   0,   1, 183, 253, 253, 139,   0,   0,   0,   0,   0,   0,   0],\n",
              "        [  0,   0,   0,   0,   0,   0,   0,   0,   0,   0,   0,   0,   0,   0,   0,   0,   0, 182, 253, 253, 104,   0,   0,   0,   0,   0,   0,   0],\n",
              "        [  0,   0,   0,   0,   0,   0,   0,   0,   0,   0,   0,   0,   0,   0,   0,   0,  85, 249, 253, 253,  36,   0,   0,   0,   0,   0,   0,   0],\n",
              "        [  0,   0,   0,   0,   0,   0,   0,   0,   0,   0,   0,   0,   0,   0,   0,  60, 214, 253, 253, 173,  11,   0,   0,   0,   0,   0,   0,   0],\n",
              "        [  0,   0,   0,   0,   0,   0,   0,   0,   0,   0,   0,   0,   0,   0,  98, 247, 253, 253, 226,   9,   0,   0,   0,   0,   0,   0,   0,   0],\n",
              "        [  0,   0,   0,   0,   0,   0,   0,   0,   0,   0,   0,   0,  42, 150, 252, 253, 253, 233,  53,   0,   0,   0,   0,   0,   0,   0,   0,   0],\n",
              "        [  0,   0,   0,   0,   0,   0,  42, 115,  42,  60, 115, 159, 240, 253, 253, 250, 175,  25,   0,   0,   0,   0,   0,   0,   0,   0,   0,   0],\n",
              "        [  0,   0,   0,   0,   0,   0, 187, 253, 253, 253, 253, 253, 253, 253, 197,  86,   0,   0,   0,   0,   0,   0,   0,   0,   0,   0,   0,   0],\n",
              "        [  0,   0,   0,   0,   0,   0, 103, 253, 253, 253, 253, 253, 232,  67,   1,   0,   0,   0,   0,   0,   0,   0,   0,   0,   0,   0,   0,   0],\n",
              "        [  0,   0,   0,   0,   0,   0,   0,   0,   0,   0,   0,   0,   0,   0,   0,   0,   0,   0,   0,   0,   0,   0,   0,   0,   0,   0,   0,   0],\n",
              "        [  0,   0,   0,   0,   0,   0,   0,   0,   0,   0,   0,   0,   0,   0,   0,   0,   0,   0,   0,   0,   0,   0,   0,   0,   0,   0,   0,   0],\n",
              "        [  0,   0,   0,   0,   0,   0,   0,   0,   0,   0,   0,   0,   0,   0,   0,   0,   0,   0,   0,   0,   0,   0,   0,   0,   0,   0,   0,   0]], dtype=torch.uint8)"
            ]
          },
          "metadata": {},
          "execution_count": 12
        }
      ]
    },
    {
      "cell_type": "markdown",
      "source": [
        "Now you must be wondering as to why a tensor and not an array. Let's discuss in detail the difference between both. \n",
        "\n",
        "\n",
        "*   A calculation involving tensors can be done on a GPU, whereas one done involving array, will not be computed on a GPU. \n",
        "*   This results in a smaller computing time for a tensor as compared to that of an array. \n",
        "\n"
      ],
      "metadata": {
        "id": "zeZ6ZT16tMZv"
      }
    },
    {
      "cell_type": "markdown",
      "source": [
        "Now we can use Pandas to color code the tensor displayed above, so as to really see how numbers make up an image. "
      ],
      "metadata": {
        "id": "yN1qng1Rur73"
      }
    },
    {
      "cell_type": "code",
      "source": [
        "pip install pandas"
      ],
      "metadata": {
        "colab": {
          "base_uri": "https://localhost:8080/"
        },
        "id": "zQ4s-UZpu76G",
        "outputId": "5c6af16a-a982-4bf4-e493-acd1216b271e"
      },
      "execution_count": 13,
      "outputs": [
        {
          "output_type": "stream",
          "name": "stdout",
          "text": [
            "Requirement already satisfied: pandas in /usr/local/lib/python3.7/dist-packages (1.1.5)\n",
            "Requirement already satisfied: pytz>=2017.2 in /usr/local/lib/python3.7/dist-packages (from pandas) (2018.9)\n",
            "Requirement already satisfied: python-dateutil>=2.7.3 in /usr/local/lib/python3.7/dist-packages (from pandas) (2.8.2)\n",
            "Requirement already satisfied: numpy>=1.15.4 in /usr/local/lib/python3.7/dist-packages (from pandas) (1.19.5)\n",
            "Requirement already satisfied: six>=1.5 in /usr/local/lib/python3.7/dist-packages (from python-dateutil>=2.7.3->pandas) (1.15.0)\n"
          ]
        }
      ]
    },
    {
      "cell_type": "code",
      "source": [
        "im_3t = tensor(im3)"
      ],
      "metadata": {
        "id": "e06SBO0XtK0B"
      },
      "execution_count": 14,
      "outputs": []
    },
    {
      "cell_type": "code",
      "source": [
        "df = pd.DataFrame(im_3t)"
      ],
      "metadata": {
        "id": "YAkevGGHu43t"
      },
      "execution_count": 15,
      "outputs": []
    },
    {
      "cell_type": "code",
      "source": [
        "df.style.background_gradient(\"Greys\")"
      ],
      "metadata": {
        "colab": {
          "base_uri": "https://localhost:8080/",
          "height": 927
        },
        "id": "iPlm01AWvEm-",
        "outputId": "71f9269a-9415-4fab-c8e1-00688cfa4240"
      },
      "execution_count": 16,
      "outputs": [
        {
          "output_type": "execute_result",
          "data": {
            "text/html": [
              "<style  type=\"text/css\" >\n",
              "#T_ad7eeff6_827c_11ec_9826_0242ac1c0002row0_col0,#T_ad7eeff6_827c_11ec_9826_0242ac1c0002row0_col1,#T_ad7eeff6_827c_11ec_9826_0242ac1c0002row0_col2,#T_ad7eeff6_827c_11ec_9826_0242ac1c0002row0_col3,#T_ad7eeff6_827c_11ec_9826_0242ac1c0002row0_col4,#T_ad7eeff6_827c_11ec_9826_0242ac1c0002row0_col5,#T_ad7eeff6_827c_11ec_9826_0242ac1c0002row0_col6,#T_ad7eeff6_827c_11ec_9826_0242ac1c0002row0_col7,#T_ad7eeff6_827c_11ec_9826_0242ac1c0002row0_col8,#T_ad7eeff6_827c_11ec_9826_0242ac1c0002row0_col9,#T_ad7eeff6_827c_11ec_9826_0242ac1c0002row0_col10,#T_ad7eeff6_827c_11ec_9826_0242ac1c0002row0_col11,#T_ad7eeff6_827c_11ec_9826_0242ac1c0002row0_col12,#T_ad7eeff6_827c_11ec_9826_0242ac1c0002row0_col13,#T_ad7eeff6_827c_11ec_9826_0242ac1c0002row0_col14,#T_ad7eeff6_827c_11ec_9826_0242ac1c0002row0_col15,#T_ad7eeff6_827c_11ec_9826_0242ac1c0002row0_col16,#T_ad7eeff6_827c_11ec_9826_0242ac1c0002row0_col17,#T_ad7eeff6_827c_11ec_9826_0242ac1c0002row0_col18,#T_ad7eeff6_827c_11ec_9826_0242ac1c0002row0_col19,#T_ad7eeff6_827c_11ec_9826_0242ac1c0002row0_col20,#T_ad7eeff6_827c_11ec_9826_0242ac1c0002row0_col21,#T_ad7eeff6_827c_11ec_9826_0242ac1c0002row0_col22,#T_ad7eeff6_827c_11ec_9826_0242ac1c0002row0_col23,#T_ad7eeff6_827c_11ec_9826_0242ac1c0002row0_col24,#T_ad7eeff6_827c_11ec_9826_0242ac1c0002row0_col25,#T_ad7eeff6_827c_11ec_9826_0242ac1c0002row0_col26,#T_ad7eeff6_827c_11ec_9826_0242ac1c0002row0_col27,#T_ad7eeff6_827c_11ec_9826_0242ac1c0002row1_col0,#T_ad7eeff6_827c_11ec_9826_0242ac1c0002row1_col1,#T_ad7eeff6_827c_11ec_9826_0242ac1c0002row1_col2,#T_ad7eeff6_827c_11ec_9826_0242ac1c0002row1_col3,#T_ad7eeff6_827c_11ec_9826_0242ac1c0002row1_col4,#T_ad7eeff6_827c_11ec_9826_0242ac1c0002row1_col5,#T_ad7eeff6_827c_11ec_9826_0242ac1c0002row1_col6,#T_ad7eeff6_827c_11ec_9826_0242ac1c0002row1_col7,#T_ad7eeff6_827c_11ec_9826_0242ac1c0002row1_col8,#T_ad7eeff6_827c_11ec_9826_0242ac1c0002row1_col9,#T_ad7eeff6_827c_11ec_9826_0242ac1c0002row1_col10,#T_ad7eeff6_827c_11ec_9826_0242ac1c0002row1_col11,#T_ad7eeff6_827c_11ec_9826_0242ac1c0002row1_col12,#T_ad7eeff6_827c_11ec_9826_0242ac1c0002row1_col13,#T_ad7eeff6_827c_11ec_9826_0242ac1c0002row1_col14,#T_ad7eeff6_827c_11ec_9826_0242ac1c0002row1_col15,#T_ad7eeff6_827c_11ec_9826_0242ac1c0002row1_col16,#T_ad7eeff6_827c_11ec_9826_0242ac1c0002row1_col17,#T_ad7eeff6_827c_11ec_9826_0242ac1c0002row1_col18,#T_ad7eeff6_827c_11ec_9826_0242ac1c0002row1_col19,#T_ad7eeff6_827c_11ec_9826_0242ac1c0002row1_col20,#T_ad7eeff6_827c_11ec_9826_0242ac1c0002row1_col21,#T_ad7eeff6_827c_11ec_9826_0242ac1c0002row1_col22,#T_ad7eeff6_827c_11ec_9826_0242ac1c0002row1_col23,#T_ad7eeff6_827c_11ec_9826_0242ac1c0002row1_col24,#T_ad7eeff6_827c_11ec_9826_0242ac1c0002row1_col25,#T_ad7eeff6_827c_11ec_9826_0242ac1c0002row1_col26,#T_ad7eeff6_827c_11ec_9826_0242ac1c0002row1_col27,#T_ad7eeff6_827c_11ec_9826_0242ac1c0002row2_col0,#T_ad7eeff6_827c_11ec_9826_0242ac1c0002row2_col1,#T_ad7eeff6_827c_11ec_9826_0242ac1c0002row2_col2,#T_ad7eeff6_827c_11ec_9826_0242ac1c0002row2_col3,#T_ad7eeff6_827c_11ec_9826_0242ac1c0002row2_col4,#T_ad7eeff6_827c_11ec_9826_0242ac1c0002row2_col5,#T_ad7eeff6_827c_11ec_9826_0242ac1c0002row2_col6,#T_ad7eeff6_827c_11ec_9826_0242ac1c0002row2_col7,#T_ad7eeff6_827c_11ec_9826_0242ac1c0002row2_col8,#T_ad7eeff6_827c_11ec_9826_0242ac1c0002row2_col9,#T_ad7eeff6_827c_11ec_9826_0242ac1c0002row2_col10,#T_ad7eeff6_827c_11ec_9826_0242ac1c0002row2_col11,#T_ad7eeff6_827c_11ec_9826_0242ac1c0002row2_col12,#T_ad7eeff6_827c_11ec_9826_0242ac1c0002row2_col13,#T_ad7eeff6_827c_11ec_9826_0242ac1c0002row2_col14,#T_ad7eeff6_827c_11ec_9826_0242ac1c0002row2_col15,#T_ad7eeff6_827c_11ec_9826_0242ac1c0002row2_col16,#T_ad7eeff6_827c_11ec_9826_0242ac1c0002row2_col17,#T_ad7eeff6_827c_11ec_9826_0242ac1c0002row2_col18,#T_ad7eeff6_827c_11ec_9826_0242ac1c0002row2_col19,#T_ad7eeff6_827c_11ec_9826_0242ac1c0002row2_col20,#T_ad7eeff6_827c_11ec_9826_0242ac1c0002row2_col21,#T_ad7eeff6_827c_11ec_9826_0242ac1c0002row2_col22,#T_ad7eeff6_827c_11ec_9826_0242ac1c0002row2_col23,#T_ad7eeff6_827c_11ec_9826_0242ac1c0002row2_col24,#T_ad7eeff6_827c_11ec_9826_0242ac1c0002row2_col25,#T_ad7eeff6_827c_11ec_9826_0242ac1c0002row2_col26,#T_ad7eeff6_827c_11ec_9826_0242ac1c0002row2_col27,#T_ad7eeff6_827c_11ec_9826_0242ac1c0002row3_col0,#T_ad7eeff6_827c_11ec_9826_0242ac1c0002row3_col1,#T_ad7eeff6_827c_11ec_9826_0242ac1c0002row3_col2,#T_ad7eeff6_827c_11ec_9826_0242ac1c0002row3_col3,#T_ad7eeff6_827c_11ec_9826_0242ac1c0002row3_col4,#T_ad7eeff6_827c_11ec_9826_0242ac1c0002row3_col5,#T_ad7eeff6_827c_11ec_9826_0242ac1c0002row3_col6,#T_ad7eeff6_827c_11ec_9826_0242ac1c0002row3_col7,#T_ad7eeff6_827c_11ec_9826_0242ac1c0002row3_col8,#T_ad7eeff6_827c_11ec_9826_0242ac1c0002row3_col9,#T_ad7eeff6_827c_11ec_9826_0242ac1c0002row3_col10,#T_ad7eeff6_827c_11ec_9826_0242ac1c0002row3_col11,#T_ad7eeff6_827c_11ec_9826_0242ac1c0002row3_col12,#T_ad7eeff6_827c_11ec_9826_0242ac1c0002row3_col13,#T_ad7eeff6_827c_11ec_9826_0242ac1c0002row3_col14,#T_ad7eeff6_827c_11ec_9826_0242ac1c0002row3_col15,#T_ad7eeff6_827c_11ec_9826_0242ac1c0002row3_col16,#T_ad7eeff6_827c_11ec_9826_0242ac1c0002row3_col17,#T_ad7eeff6_827c_11ec_9826_0242ac1c0002row3_col18,#T_ad7eeff6_827c_11ec_9826_0242ac1c0002row3_col19,#T_ad7eeff6_827c_11ec_9826_0242ac1c0002row3_col20,#T_ad7eeff6_827c_11ec_9826_0242ac1c0002row3_col21,#T_ad7eeff6_827c_11ec_9826_0242ac1c0002row3_col22,#T_ad7eeff6_827c_11ec_9826_0242ac1c0002row3_col23,#T_ad7eeff6_827c_11ec_9826_0242ac1c0002row3_col24,#T_ad7eeff6_827c_11ec_9826_0242ac1c0002row3_col25,#T_ad7eeff6_827c_11ec_9826_0242ac1c0002row3_col26,#T_ad7eeff6_827c_11ec_9826_0242ac1c0002row3_col27,#T_ad7eeff6_827c_11ec_9826_0242ac1c0002row4_col0,#T_ad7eeff6_827c_11ec_9826_0242ac1c0002row4_col1,#T_ad7eeff6_827c_11ec_9826_0242ac1c0002row4_col2,#T_ad7eeff6_827c_11ec_9826_0242ac1c0002row4_col3,#T_ad7eeff6_827c_11ec_9826_0242ac1c0002row4_col4,#T_ad7eeff6_827c_11ec_9826_0242ac1c0002row4_col5,#T_ad7eeff6_827c_11ec_9826_0242ac1c0002row4_col6,#T_ad7eeff6_827c_11ec_9826_0242ac1c0002row4_col7,#T_ad7eeff6_827c_11ec_9826_0242ac1c0002row4_col8,#T_ad7eeff6_827c_11ec_9826_0242ac1c0002row4_col9,#T_ad7eeff6_827c_11ec_9826_0242ac1c0002row4_col10,#T_ad7eeff6_827c_11ec_9826_0242ac1c0002row4_col11,#T_ad7eeff6_827c_11ec_9826_0242ac1c0002row4_col12,#T_ad7eeff6_827c_11ec_9826_0242ac1c0002row4_col13,#T_ad7eeff6_827c_11ec_9826_0242ac1c0002row4_col14,#T_ad7eeff6_827c_11ec_9826_0242ac1c0002row4_col15,#T_ad7eeff6_827c_11ec_9826_0242ac1c0002row4_col16,#T_ad7eeff6_827c_11ec_9826_0242ac1c0002row4_col17,#T_ad7eeff6_827c_11ec_9826_0242ac1c0002row4_col18,#T_ad7eeff6_827c_11ec_9826_0242ac1c0002row4_col19,#T_ad7eeff6_827c_11ec_9826_0242ac1c0002row4_col20,#T_ad7eeff6_827c_11ec_9826_0242ac1c0002row4_col21,#T_ad7eeff6_827c_11ec_9826_0242ac1c0002row4_col22,#T_ad7eeff6_827c_11ec_9826_0242ac1c0002row4_col23,#T_ad7eeff6_827c_11ec_9826_0242ac1c0002row4_col24,#T_ad7eeff6_827c_11ec_9826_0242ac1c0002row4_col25,#T_ad7eeff6_827c_11ec_9826_0242ac1c0002row4_col26,#T_ad7eeff6_827c_11ec_9826_0242ac1c0002row4_col27,#T_ad7eeff6_827c_11ec_9826_0242ac1c0002row5_col0,#T_ad7eeff6_827c_11ec_9826_0242ac1c0002row5_col1,#T_ad7eeff6_827c_11ec_9826_0242ac1c0002row5_col2,#T_ad7eeff6_827c_11ec_9826_0242ac1c0002row5_col3,#T_ad7eeff6_827c_11ec_9826_0242ac1c0002row5_col4,#T_ad7eeff6_827c_11ec_9826_0242ac1c0002row5_col5,#T_ad7eeff6_827c_11ec_9826_0242ac1c0002row5_col6,#T_ad7eeff6_827c_11ec_9826_0242ac1c0002row5_col7,#T_ad7eeff6_827c_11ec_9826_0242ac1c0002row5_col8,#T_ad7eeff6_827c_11ec_9826_0242ac1c0002row5_col19,#T_ad7eeff6_827c_11ec_9826_0242ac1c0002row5_col20,#T_ad7eeff6_827c_11ec_9826_0242ac1c0002row5_col21,#T_ad7eeff6_827c_11ec_9826_0242ac1c0002row5_col22,#T_ad7eeff6_827c_11ec_9826_0242ac1c0002row5_col23,#T_ad7eeff6_827c_11ec_9826_0242ac1c0002row5_col24,#T_ad7eeff6_827c_11ec_9826_0242ac1c0002row5_col25,#T_ad7eeff6_827c_11ec_9826_0242ac1c0002row5_col26,#T_ad7eeff6_827c_11ec_9826_0242ac1c0002row5_col27,#T_ad7eeff6_827c_11ec_9826_0242ac1c0002row6_col0,#T_ad7eeff6_827c_11ec_9826_0242ac1c0002row6_col1,#T_ad7eeff6_827c_11ec_9826_0242ac1c0002row6_col2,#T_ad7eeff6_827c_11ec_9826_0242ac1c0002row6_col3,#T_ad7eeff6_827c_11ec_9826_0242ac1c0002row6_col4,#T_ad7eeff6_827c_11ec_9826_0242ac1c0002row6_col5,#T_ad7eeff6_827c_11ec_9826_0242ac1c0002row6_col6,#T_ad7eeff6_827c_11ec_9826_0242ac1c0002row6_col19,#T_ad7eeff6_827c_11ec_9826_0242ac1c0002row6_col20,#T_ad7eeff6_827c_11ec_9826_0242ac1c0002row6_col21,#T_ad7eeff6_827c_11ec_9826_0242ac1c0002row6_col22,#T_ad7eeff6_827c_11ec_9826_0242ac1c0002row6_col23,#T_ad7eeff6_827c_11ec_9826_0242ac1c0002row6_col24,#T_ad7eeff6_827c_11ec_9826_0242ac1c0002row6_col25,#T_ad7eeff6_827c_11ec_9826_0242ac1c0002row6_col26,#T_ad7eeff6_827c_11ec_9826_0242ac1c0002row6_col27,#T_ad7eeff6_827c_11ec_9826_0242ac1c0002row7_col0,#T_ad7eeff6_827c_11ec_9826_0242ac1c0002row7_col1,#T_ad7eeff6_827c_11ec_9826_0242ac1c0002row7_col2,#T_ad7eeff6_827c_11ec_9826_0242ac1c0002row7_col3,#T_ad7eeff6_827c_11ec_9826_0242ac1c0002row7_col4,#T_ad7eeff6_827c_11ec_9826_0242ac1c0002row7_col19,#T_ad7eeff6_827c_11ec_9826_0242ac1c0002row7_col20,#T_ad7eeff6_827c_11ec_9826_0242ac1c0002row7_col21,#T_ad7eeff6_827c_11ec_9826_0242ac1c0002row7_col22,#T_ad7eeff6_827c_11ec_9826_0242ac1c0002row7_col23,#T_ad7eeff6_827c_11ec_9826_0242ac1c0002row7_col24,#T_ad7eeff6_827c_11ec_9826_0242ac1c0002row7_col25,#T_ad7eeff6_827c_11ec_9826_0242ac1c0002row7_col26,#T_ad7eeff6_827c_11ec_9826_0242ac1c0002row7_col27,#T_ad7eeff6_827c_11ec_9826_0242ac1c0002row8_col0,#T_ad7eeff6_827c_11ec_9826_0242ac1c0002row8_col1,#T_ad7eeff6_827c_11ec_9826_0242ac1c0002row8_col2,#T_ad7eeff6_827c_11ec_9826_0242ac1c0002row8_col3,#T_ad7eeff6_827c_11ec_9826_0242ac1c0002row8_col4,#T_ad7eeff6_827c_11ec_9826_0242ac1c0002row8_col10,#T_ad7eeff6_827c_11ec_9826_0242ac1c0002row8_col11,#T_ad7eeff6_827c_11ec_9826_0242ac1c0002row8_col12,#T_ad7eeff6_827c_11ec_9826_0242ac1c0002row8_col13,#T_ad7eeff6_827c_11ec_9826_0242ac1c0002row8_col14,#T_ad7eeff6_827c_11ec_9826_0242ac1c0002row8_col19,#T_ad7eeff6_827c_11ec_9826_0242ac1c0002row8_col20,#T_ad7eeff6_827c_11ec_9826_0242ac1c0002row8_col21,#T_ad7eeff6_827c_11ec_9826_0242ac1c0002row8_col22,#T_ad7eeff6_827c_11ec_9826_0242ac1c0002row8_col23,#T_ad7eeff6_827c_11ec_9826_0242ac1c0002row8_col24,#T_ad7eeff6_827c_11ec_9826_0242ac1c0002row8_col25,#T_ad7eeff6_827c_11ec_9826_0242ac1c0002row8_col26,#T_ad7eeff6_827c_11ec_9826_0242ac1c0002row8_col27,#T_ad7eeff6_827c_11ec_9826_0242ac1c0002row9_col0,#T_ad7eeff6_827c_11ec_9826_0242ac1c0002row9_col1,#T_ad7eeff6_827c_11ec_9826_0242ac1c0002row9_col2,#T_ad7eeff6_827c_11ec_9826_0242ac1c0002row9_col3,#T_ad7eeff6_827c_11ec_9826_0242ac1c0002row9_col4,#T_ad7eeff6_827c_11ec_9826_0242ac1c0002row9_col9,#T_ad7eeff6_827c_11ec_9826_0242ac1c0002row9_col10,#T_ad7eeff6_827c_11ec_9826_0242ac1c0002row9_col11,#T_ad7eeff6_827c_11ec_9826_0242ac1c0002row9_col12,#T_ad7eeff6_827c_11ec_9826_0242ac1c0002row9_col13,#T_ad7eeff6_827c_11ec_9826_0242ac1c0002row9_col19,#T_ad7eeff6_827c_11ec_9826_0242ac1c0002row9_col20,#T_ad7eeff6_827c_11ec_9826_0242ac1c0002row9_col21,#T_ad7eeff6_827c_11ec_9826_0242ac1c0002row9_col22,#T_ad7eeff6_827c_11ec_9826_0242ac1c0002row9_col23,#T_ad7eeff6_827c_11ec_9826_0242ac1c0002row9_col24,#T_ad7eeff6_827c_11ec_9826_0242ac1c0002row9_col25,#T_ad7eeff6_827c_11ec_9826_0242ac1c0002row9_col26,#T_ad7eeff6_827c_11ec_9826_0242ac1c0002row9_col27,#T_ad7eeff6_827c_11ec_9826_0242ac1c0002row10_col0,#T_ad7eeff6_827c_11ec_9826_0242ac1c0002row10_col1,#T_ad7eeff6_827c_11ec_9826_0242ac1c0002row10_col2,#T_ad7eeff6_827c_11ec_9826_0242ac1c0002row10_col3,#T_ad7eeff6_827c_11ec_9826_0242ac1c0002row10_col4,#T_ad7eeff6_827c_11ec_9826_0242ac1c0002row10_col5,#T_ad7eeff6_827c_11ec_9826_0242ac1c0002row10_col6,#T_ad7eeff6_827c_11ec_9826_0242ac1c0002row10_col7,#T_ad7eeff6_827c_11ec_9826_0242ac1c0002row10_col8,#T_ad7eeff6_827c_11ec_9826_0242ac1c0002row10_col9,#T_ad7eeff6_827c_11ec_9826_0242ac1c0002row10_col10,#T_ad7eeff6_827c_11ec_9826_0242ac1c0002row10_col11,#T_ad7eeff6_827c_11ec_9826_0242ac1c0002row10_col12,#T_ad7eeff6_827c_11ec_9826_0242ac1c0002row10_col13,#T_ad7eeff6_827c_11ec_9826_0242ac1c0002row10_col18,#T_ad7eeff6_827c_11ec_9826_0242ac1c0002row10_col19,#T_ad7eeff6_827c_11ec_9826_0242ac1c0002row10_col20,#T_ad7eeff6_827c_11ec_9826_0242ac1c0002row10_col21,#T_ad7eeff6_827c_11ec_9826_0242ac1c0002row10_col22,#T_ad7eeff6_827c_11ec_9826_0242ac1c0002row10_col23,#T_ad7eeff6_827c_11ec_9826_0242ac1c0002row10_col24,#T_ad7eeff6_827c_11ec_9826_0242ac1c0002row10_col25,#T_ad7eeff6_827c_11ec_9826_0242ac1c0002row10_col26,#T_ad7eeff6_827c_11ec_9826_0242ac1c0002row10_col27,#T_ad7eeff6_827c_11ec_9826_0242ac1c0002row11_col0,#T_ad7eeff6_827c_11ec_9826_0242ac1c0002row11_col1,#T_ad7eeff6_827c_11ec_9826_0242ac1c0002row11_col2,#T_ad7eeff6_827c_11ec_9826_0242ac1c0002row11_col3,#T_ad7eeff6_827c_11ec_9826_0242ac1c0002row11_col4,#T_ad7eeff6_827c_11ec_9826_0242ac1c0002row11_col5,#T_ad7eeff6_827c_11ec_9826_0242ac1c0002row11_col6,#T_ad7eeff6_827c_11ec_9826_0242ac1c0002row11_col7,#T_ad7eeff6_827c_11ec_9826_0242ac1c0002row11_col8,#T_ad7eeff6_827c_11ec_9826_0242ac1c0002row11_col9,#T_ad7eeff6_827c_11ec_9826_0242ac1c0002row11_col10,#T_ad7eeff6_827c_11ec_9826_0242ac1c0002row11_col17,#T_ad7eeff6_827c_11ec_9826_0242ac1c0002row11_col18,#T_ad7eeff6_827c_11ec_9826_0242ac1c0002row11_col19,#T_ad7eeff6_827c_11ec_9826_0242ac1c0002row11_col20,#T_ad7eeff6_827c_11ec_9826_0242ac1c0002row11_col21,#T_ad7eeff6_827c_11ec_9826_0242ac1c0002row11_col22,#T_ad7eeff6_827c_11ec_9826_0242ac1c0002row11_col23,#T_ad7eeff6_827c_11ec_9826_0242ac1c0002row11_col24,#T_ad7eeff6_827c_11ec_9826_0242ac1c0002row11_col25,#T_ad7eeff6_827c_11ec_9826_0242ac1c0002row11_col26,#T_ad7eeff6_827c_11ec_9826_0242ac1c0002row11_col27,#T_ad7eeff6_827c_11ec_9826_0242ac1c0002row12_col0,#T_ad7eeff6_827c_11ec_9826_0242ac1c0002row12_col1,#T_ad7eeff6_827c_11ec_9826_0242ac1c0002row12_col2,#T_ad7eeff6_827c_11ec_9826_0242ac1c0002row12_col3,#T_ad7eeff6_827c_11ec_9826_0242ac1c0002row12_col4,#T_ad7eeff6_827c_11ec_9826_0242ac1c0002row12_col5,#T_ad7eeff6_827c_11ec_9826_0242ac1c0002row12_col6,#T_ad7eeff6_827c_11ec_9826_0242ac1c0002row12_col7,#T_ad7eeff6_827c_11ec_9826_0242ac1c0002row12_col8,#T_ad7eeff6_827c_11ec_9826_0242ac1c0002row12_col17,#T_ad7eeff6_827c_11ec_9826_0242ac1c0002row12_col18,#T_ad7eeff6_827c_11ec_9826_0242ac1c0002row12_col19,#T_ad7eeff6_827c_11ec_9826_0242ac1c0002row12_col20,#T_ad7eeff6_827c_11ec_9826_0242ac1c0002row12_col21,#T_ad7eeff6_827c_11ec_9826_0242ac1c0002row12_col22,#T_ad7eeff6_827c_11ec_9826_0242ac1c0002row12_col23,#T_ad7eeff6_827c_11ec_9826_0242ac1c0002row12_col24,#T_ad7eeff6_827c_11ec_9826_0242ac1c0002row12_col25,#T_ad7eeff6_827c_11ec_9826_0242ac1c0002row12_col26,#T_ad7eeff6_827c_11ec_9826_0242ac1c0002row12_col27,#T_ad7eeff6_827c_11ec_9826_0242ac1c0002row13_col0,#T_ad7eeff6_827c_11ec_9826_0242ac1c0002row13_col1,#T_ad7eeff6_827c_11ec_9826_0242ac1c0002row13_col2,#T_ad7eeff6_827c_11ec_9826_0242ac1c0002row13_col3,#T_ad7eeff6_827c_11ec_9826_0242ac1c0002row13_col4,#T_ad7eeff6_827c_11ec_9826_0242ac1c0002row13_col5,#T_ad7eeff6_827c_11ec_9826_0242ac1c0002row13_col6,#T_ad7eeff6_827c_11ec_9826_0242ac1c0002row13_col7,#T_ad7eeff6_827c_11ec_9826_0242ac1c0002row13_col8,#T_ad7eeff6_827c_11ec_9826_0242ac1c0002row13_col20,#T_ad7eeff6_827c_11ec_9826_0242ac1c0002row13_col21,#T_ad7eeff6_827c_11ec_9826_0242ac1c0002row13_col22,#T_ad7eeff6_827c_11ec_9826_0242ac1c0002row13_col23,#T_ad7eeff6_827c_11ec_9826_0242ac1c0002row13_col24,#T_ad7eeff6_827c_11ec_9826_0242ac1c0002row13_col25,#T_ad7eeff6_827c_11ec_9826_0242ac1c0002row13_col26,#T_ad7eeff6_827c_11ec_9826_0242ac1c0002row13_col27,#T_ad7eeff6_827c_11ec_9826_0242ac1c0002row14_col0,#T_ad7eeff6_827c_11ec_9826_0242ac1c0002row14_col1,#T_ad7eeff6_827c_11ec_9826_0242ac1c0002row14_col2,#T_ad7eeff6_827c_11ec_9826_0242ac1c0002row14_col3,#T_ad7eeff6_827c_11ec_9826_0242ac1c0002row14_col4,#T_ad7eeff6_827c_11ec_9826_0242ac1c0002row14_col5,#T_ad7eeff6_827c_11ec_9826_0242ac1c0002row14_col6,#T_ad7eeff6_827c_11ec_9826_0242ac1c0002row14_col7,#T_ad7eeff6_827c_11ec_9826_0242ac1c0002row14_col8,#T_ad7eeff6_827c_11ec_9826_0242ac1c0002row14_col9,#T_ad7eeff6_827c_11ec_9826_0242ac1c0002row14_col10,#T_ad7eeff6_827c_11ec_9826_0242ac1c0002row14_col21,#T_ad7eeff6_827c_11ec_9826_0242ac1c0002row14_col22,#T_ad7eeff6_827c_11ec_9826_0242ac1c0002row14_col23,#T_ad7eeff6_827c_11ec_9826_0242ac1c0002row14_col24,#T_ad7eeff6_827c_11ec_9826_0242ac1c0002row14_col25,#T_ad7eeff6_827c_11ec_9826_0242ac1c0002row14_col26,#T_ad7eeff6_827c_11ec_9826_0242ac1c0002row14_col27,#T_ad7eeff6_827c_11ec_9826_0242ac1c0002row15_col0,#T_ad7eeff6_827c_11ec_9826_0242ac1c0002row15_col1,#T_ad7eeff6_827c_11ec_9826_0242ac1c0002row15_col2,#T_ad7eeff6_827c_11ec_9826_0242ac1c0002row15_col3,#T_ad7eeff6_827c_11ec_9826_0242ac1c0002row15_col4,#T_ad7eeff6_827c_11ec_9826_0242ac1c0002row15_col5,#T_ad7eeff6_827c_11ec_9826_0242ac1c0002row15_col6,#T_ad7eeff6_827c_11ec_9826_0242ac1c0002row15_col7,#T_ad7eeff6_827c_11ec_9826_0242ac1c0002row15_col8,#T_ad7eeff6_827c_11ec_9826_0242ac1c0002row15_col9,#T_ad7eeff6_827c_11ec_9826_0242ac1c0002row15_col10,#T_ad7eeff6_827c_11ec_9826_0242ac1c0002row15_col11,#T_ad7eeff6_827c_11ec_9826_0242ac1c0002row15_col12,#T_ad7eeff6_827c_11ec_9826_0242ac1c0002row15_col13,#T_ad7eeff6_827c_11ec_9826_0242ac1c0002row15_col21,#T_ad7eeff6_827c_11ec_9826_0242ac1c0002row15_col22,#T_ad7eeff6_827c_11ec_9826_0242ac1c0002row15_col23,#T_ad7eeff6_827c_11ec_9826_0242ac1c0002row15_col24,#T_ad7eeff6_827c_11ec_9826_0242ac1c0002row15_col25,#T_ad7eeff6_827c_11ec_9826_0242ac1c0002row15_col26,#T_ad7eeff6_827c_11ec_9826_0242ac1c0002row15_col27,#T_ad7eeff6_827c_11ec_9826_0242ac1c0002row16_col0,#T_ad7eeff6_827c_11ec_9826_0242ac1c0002row16_col1,#T_ad7eeff6_827c_11ec_9826_0242ac1c0002row16_col2,#T_ad7eeff6_827c_11ec_9826_0242ac1c0002row16_col3,#T_ad7eeff6_827c_11ec_9826_0242ac1c0002row16_col4,#T_ad7eeff6_827c_11ec_9826_0242ac1c0002row16_col5,#T_ad7eeff6_827c_11ec_9826_0242ac1c0002row16_col6,#T_ad7eeff6_827c_11ec_9826_0242ac1c0002row16_col7,#T_ad7eeff6_827c_11ec_9826_0242ac1c0002row16_col8,#T_ad7eeff6_827c_11ec_9826_0242ac1c0002row16_col9,#T_ad7eeff6_827c_11ec_9826_0242ac1c0002row16_col10,#T_ad7eeff6_827c_11ec_9826_0242ac1c0002row16_col11,#T_ad7eeff6_827c_11ec_9826_0242ac1c0002row16_col12,#T_ad7eeff6_827c_11ec_9826_0242ac1c0002row16_col13,#T_ad7eeff6_827c_11ec_9826_0242ac1c0002row16_col14,#T_ad7eeff6_827c_11ec_9826_0242ac1c0002row16_col15,#T_ad7eeff6_827c_11ec_9826_0242ac1c0002row16_col16,#T_ad7eeff6_827c_11ec_9826_0242ac1c0002row16_col21,#T_ad7eeff6_827c_11ec_9826_0242ac1c0002row16_col22,#T_ad7eeff6_827c_11ec_9826_0242ac1c0002row16_col23,#T_ad7eeff6_827c_11ec_9826_0242ac1c0002row16_col24,#T_ad7eeff6_827c_11ec_9826_0242ac1c0002row16_col25,#T_ad7eeff6_827c_11ec_9826_0242ac1c0002row16_col26,#T_ad7eeff6_827c_11ec_9826_0242ac1c0002row16_col27,#T_ad7eeff6_827c_11ec_9826_0242ac1c0002row17_col0,#T_ad7eeff6_827c_11ec_9826_0242ac1c0002row17_col1,#T_ad7eeff6_827c_11ec_9826_0242ac1c0002row17_col2,#T_ad7eeff6_827c_11ec_9826_0242ac1c0002row17_col3,#T_ad7eeff6_827c_11ec_9826_0242ac1c0002row17_col4,#T_ad7eeff6_827c_11ec_9826_0242ac1c0002row17_col5,#T_ad7eeff6_827c_11ec_9826_0242ac1c0002row17_col6,#T_ad7eeff6_827c_11ec_9826_0242ac1c0002row17_col7,#T_ad7eeff6_827c_11ec_9826_0242ac1c0002row17_col8,#T_ad7eeff6_827c_11ec_9826_0242ac1c0002row17_col9,#T_ad7eeff6_827c_11ec_9826_0242ac1c0002row17_col10,#T_ad7eeff6_827c_11ec_9826_0242ac1c0002row17_col11,#T_ad7eeff6_827c_11ec_9826_0242ac1c0002row17_col12,#T_ad7eeff6_827c_11ec_9826_0242ac1c0002row17_col13,#T_ad7eeff6_827c_11ec_9826_0242ac1c0002row17_col14,#T_ad7eeff6_827c_11ec_9826_0242ac1c0002row17_col15,#T_ad7eeff6_827c_11ec_9826_0242ac1c0002row17_col16,#T_ad7eeff6_827c_11ec_9826_0242ac1c0002row17_col21,#T_ad7eeff6_827c_11ec_9826_0242ac1c0002row17_col22,#T_ad7eeff6_827c_11ec_9826_0242ac1c0002row17_col23,#T_ad7eeff6_827c_11ec_9826_0242ac1c0002row17_col24,#T_ad7eeff6_827c_11ec_9826_0242ac1c0002row17_col25,#T_ad7eeff6_827c_11ec_9826_0242ac1c0002row17_col26,#T_ad7eeff6_827c_11ec_9826_0242ac1c0002row17_col27,#T_ad7eeff6_827c_11ec_9826_0242ac1c0002row18_col0,#T_ad7eeff6_827c_11ec_9826_0242ac1c0002row18_col1,#T_ad7eeff6_827c_11ec_9826_0242ac1c0002row18_col2,#T_ad7eeff6_827c_11ec_9826_0242ac1c0002row18_col3,#T_ad7eeff6_827c_11ec_9826_0242ac1c0002row18_col4,#T_ad7eeff6_827c_11ec_9826_0242ac1c0002row18_col5,#T_ad7eeff6_827c_11ec_9826_0242ac1c0002row18_col6,#T_ad7eeff6_827c_11ec_9826_0242ac1c0002row18_col7,#T_ad7eeff6_827c_11ec_9826_0242ac1c0002row18_col8,#T_ad7eeff6_827c_11ec_9826_0242ac1c0002row18_col9,#T_ad7eeff6_827c_11ec_9826_0242ac1c0002row18_col10,#T_ad7eeff6_827c_11ec_9826_0242ac1c0002row18_col11,#T_ad7eeff6_827c_11ec_9826_0242ac1c0002row18_col12,#T_ad7eeff6_827c_11ec_9826_0242ac1c0002row18_col13,#T_ad7eeff6_827c_11ec_9826_0242ac1c0002row18_col14,#T_ad7eeff6_827c_11ec_9826_0242ac1c0002row18_col15,#T_ad7eeff6_827c_11ec_9826_0242ac1c0002row18_col21,#T_ad7eeff6_827c_11ec_9826_0242ac1c0002row18_col22,#T_ad7eeff6_827c_11ec_9826_0242ac1c0002row18_col23,#T_ad7eeff6_827c_11ec_9826_0242ac1c0002row18_col24,#T_ad7eeff6_827c_11ec_9826_0242ac1c0002row18_col25,#T_ad7eeff6_827c_11ec_9826_0242ac1c0002row18_col26,#T_ad7eeff6_827c_11ec_9826_0242ac1c0002row18_col27,#T_ad7eeff6_827c_11ec_9826_0242ac1c0002row19_col0,#T_ad7eeff6_827c_11ec_9826_0242ac1c0002row19_col1,#T_ad7eeff6_827c_11ec_9826_0242ac1c0002row19_col2,#T_ad7eeff6_827c_11ec_9826_0242ac1c0002row19_col3,#T_ad7eeff6_827c_11ec_9826_0242ac1c0002row19_col4,#T_ad7eeff6_827c_11ec_9826_0242ac1c0002row19_col5,#T_ad7eeff6_827c_11ec_9826_0242ac1c0002row19_col6,#T_ad7eeff6_827c_11ec_9826_0242ac1c0002row19_col7,#T_ad7eeff6_827c_11ec_9826_0242ac1c0002row19_col8,#T_ad7eeff6_827c_11ec_9826_0242ac1c0002row19_col9,#T_ad7eeff6_827c_11ec_9826_0242ac1c0002row19_col10,#T_ad7eeff6_827c_11ec_9826_0242ac1c0002row19_col11,#T_ad7eeff6_827c_11ec_9826_0242ac1c0002row19_col12,#T_ad7eeff6_827c_11ec_9826_0242ac1c0002row19_col13,#T_ad7eeff6_827c_11ec_9826_0242ac1c0002row19_col14,#T_ad7eeff6_827c_11ec_9826_0242ac1c0002row19_col21,#T_ad7eeff6_827c_11ec_9826_0242ac1c0002row19_col22,#T_ad7eeff6_827c_11ec_9826_0242ac1c0002row19_col23,#T_ad7eeff6_827c_11ec_9826_0242ac1c0002row19_col24,#T_ad7eeff6_827c_11ec_9826_0242ac1c0002row19_col25,#T_ad7eeff6_827c_11ec_9826_0242ac1c0002row19_col26,#T_ad7eeff6_827c_11ec_9826_0242ac1c0002row19_col27,#T_ad7eeff6_827c_11ec_9826_0242ac1c0002row20_col0,#T_ad7eeff6_827c_11ec_9826_0242ac1c0002row20_col1,#T_ad7eeff6_827c_11ec_9826_0242ac1c0002row20_col2,#T_ad7eeff6_827c_11ec_9826_0242ac1c0002row20_col3,#T_ad7eeff6_827c_11ec_9826_0242ac1c0002row20_col4,#T_ad7eeff6_827c_11ec_9826_0242ac1c0002row20_col5,#T_ad7eeff6_827c_11ec_9826_0242ac1c0002row20_col6,#T_ad7eeff6_827c_11ec_9826_0242ac1c0002row20_col7,#T_ad7eeff6_827c_11ec_9826_0242ac1c0002row20_col8,#T_ad7eeff6_827c_11ec_9826_0242ac1c0002row20_col9,#T_ad7eeff6_827c_11ec_9826_0242ac1c0002row20_col10,#T_ad7eeff6_827c_11ec_9826_0242ac1c0002row20_col11,#T_ad7eeff6_827c_11ec_9826_0242ac1c0002row20_col12,#T_ad7eeff6_827c_11ec_9826_0242ac1c0002row20_col13,#T_ad7eeff6_827c_11ec_9826_0242ac1c0002row20_col20,#T_ad7eeff6_827c_11ec_9826_0242ac1c0002row20_col21,#T_ad7eeff6_827c_11ec_9826_0242ac1c0002row20_col22,#T_ad7eeff6_827c_11ec_9826_0242ac1c0002row20_col23,#T_ad7eeff6_827c_11ec_9826_0242ac1c0002row20_col24,#T_ad7eeff6_827c_11ec_9826_0242ac1c0002row20_col25,#T_ad7eeff6_827c_11ec_9826_0242ac1c0002row20_col26,#T_ad7eeff6_827c_11ec_9826_0242ac1c0002row20_col27,#T_ad7eeff6_827c_11ec_9826_0242ac1c0002row21_col0,#T_ad7eeff6_827c_11ec_9826_0242ac1c0002row21_col1,#T_ad7eeff6_827c_11ec_9826_0242ac1c0002row21_col2,#T_ad7eeff6_827c_11ec_9826_0242ac1c0002row21_col3,#T_ad7eeff6_827c_11ec_9826_0242ac1c0002row21_col4,#T_ad7eeff6_827c_11ec_9826_0242ac1c0002row21_col5,#T_ad7eeff6_827c_11ec_9826_0242ac1c0002row21_col6,#T_ad7eeff6_827c_11ec_9826_0242ac1c0002row21_col7,#T_ad7eeff6_827c_11ec_9826_0242ac1c0002row21_col8,#T_ad7eeff6_827c_11ec_9826_0242ac1c0002row21_col9,#T_ad7eeff6_827c_11ec_9826_0242ac1c0002row21_col10,#T_ad7eeff6_827c_11ec_9826_0242ac1c0002row21_col11,#T_ad7eeff6_827c_11ec_9826_0242ac1c0002row21_col19,#T_ad7eeff6_827c_11ec_9826_0242ac1c0002row21_col20,#T_ad7eeff6_827c_11ec_9826_0242ac1c0002row21_col21,#T_ad7eeff6_827c_11ec_9826_0242ac1c0002row21_col22,#T_ad7eeff6_827c_11ec_9826_0242ac1c0002row21_col23,#T_ad7eeff6_827c_11ec_9826_0242ac1c0002row21_col24,#T_ad7eeff6_827c_11ec_9826_0242ac1c0002row21_col25,#T_ad7eeff6_827c_11ec_9826_0242ac1c0002row21_col26,#T_ad7eeff6_827c_11ec_9826_0242ac1c0002row21_col27,#T_ad7eeff6_827c_11ec_9826_0242ac1c0002row22_col0,#T_ad7eeff6_827c_11ec_9826_0242ac1c0002row22_col1,#T_ad7eeff6_827c_11ec_9826_0242ac1c0002row22_col2,#T_ad7eeff6_827c_11ec_9826_0242ac1c0002row22_col3,#T_ad7eeff6_827c_11ec_9826_0242ac1c0002row22_col4,#T_ad7eeff6_827c_11ec_9826_0242ac1c0002row22_col5,#T_ad7eeff6_827c_11ec_9826_0242ac1c0002row22_col18,#T_ad7eeff6_827c_11ec_9826_0242ac1c0002row22_col19,#T_ad7eeff6_827c_11ec_9826_0242ac1c0002row22_col20,#T_ad7eeff6_827c_11ec_9826_0242ac1c0002row22_col21,#T_ad7eeff6_827c_11ec_9826_0242ac1c0002row22_col22,#T_ad7eeff6_827c_11ec_9826_0242ac1c0002row22_col23,#T_ad7eeff6_827c_11ec_9826_0242ac1c0002row22_col24,#T_ad7eeff6_827c_11ec_9826_0242ac1c0002row22_col25,#T_ad7eeff6_827c_11ec_9826_0242ac1c0002row22_col26,#T_ad7eeff6_827c_11ec_9826_0242ac1c0002row22_col27,#T_ad7eeff6_827c_11ec_9826_0242ac1c0002row23_col0,#T_ad7eeff6_827c_11ec_9826_0242ac1c0002row23_col1,#T_ad7eeff6_827c_11ec_9826_0242ac1c0002row23_col2,#T_ad7eeff6_827c_11ec_9826_0242ac1c0002row23_col3,#T_ad7eeff6_827c_11ec_9826_0242ac1c0002row23_col4,#T_ad7eeff6_827c_11ec_9826_0242ac1c0002row23_col5,#T_ad7eeff6_827c_11ec_9826_0242ac1c0002row23_col16,#T_ad7eeff6_827c_11ec_9826_0242ac1c0002row23_col17,#T_ad7eeff6_827c_11ec_9826_0242ac1c0002row23_col18,#T_ad7eeff6_827c_11ec_9826_0242ac1c0002row23_col19,#T_ad7eeff6_827c_11ec_9826_0242ac1c0002row23_col20,#T_ad7eeff6_827c_11ec_9826_0242ac1c0002row23_col21,#T_ad7eeff6_827c_11ec_9826_0242ac1c0002row23_col22,#T_ad7eeff6_827c_11ec_9826_0242ac1c0002row23_col23,#T_ad7eeff6_827c_11ec_9826_0242ac1c0002row23_col24,#T_ad7eeff6_827c_11ec_9826_0242ac1c0002row23_col25,#T_ad7eeff6_827c_11ec_9826_0242ac1c0002row23_col26,#T_ad7eeff6_827c_11ec_9826_0242ac1c0002row23_col27,#T_ad7eeff6_827c_11ec_9826_0242ac1c0002row24_col0,#T_ad7eeff6_827c_11ec_9826_0242ac1c0002row24_col1,#T_ad7eeff6_827c_11ec_9826_0242ac1c0002row24_col2,#T_ad7eeff6_827c_11ec_9826_0242ac1c0002row24_col3,#T_ad7eeff6_827c_11ec_9826_0242ac1c0002row24_col4,#T_ad7eeff6_827c_11ec_9826_0242ac1c0002row24_col5,#T_ad7eeff6_827c_11ec_9826_0242ac1c0002row24_col14,#T_ad7eeff6_827c_11ec_9826_0242ac1c0002row24_col15,#T_ad7eeff6_827c_11ec_9826_0242ac1c0002row24_col16,#T_ad7eeff6_827c_11ec_9826_0242ac1c0002row24_col17,#T_ad7eeff6_827c_11ec_9826_0242ac1c0002row24_col18,#T_ad7eeff6_827c_11ec_9826_0242ac1c0002row24_col19,#T_ad7eeff6_827c_11ec_9826_0242ac1c0002row24_col20,#T_ad7eeff6_827c_11ec_9826_0242ac1c0002row24_col21,#T_ad7eeff6_827c_11ec_9826_0242ac1c0002row24_col22,#T_ad7eeff6_827c_11ec_9826_0242ac1c0002row24_col23,#T_ad7eeff6_827c_11ec_9826_0242ac1c0002row24_col24,#T_ad7eeff6_827c_11ec_9826_0242ac1c0002row24_col25,#T_ad7eeff6_827c_11ec_9826_0242ac1c0002row24_col26,#T_ad7eeff6_827c_11ec_9826_0242ac1c0002row24_col27,#T_ad7eeff6_827c_11ec_9826_0242ac1c0002row25_col0,#T_ad7eeff6_827c_11ec_9826_0242ac1c0002row25_col1,#T_ad7eeff6_827c_11ec_9826_0242ac1c0002row25_col2,#T_ad7eeff6_827c_11ec_9826_0242ac1c0002row25_col3,#T_ad7eeff6_827c_11ec_9826_0242ac1c0002row25_col4,#T_ad7eeff6_827c_11ec_9826_0242ac1c0002row25_col5,#T_ad7eeff6_827c_11ec_9826_0242ac1c0002row25_col6,#T_ad7eeff6_827c_11ec_9826_0242ac1c0002row25_col7,#T_ad7eeff6_827c_11ec_9826_0242ac1c0002row25_col8,#T_ad7eeff6_827c_11ec_9826_0242ac1c0002row25_col9,#T_ad7eeff6_827c_11ec_9826_0242ac1c0002row25_col10,#T_ad7eeff6_827c_11ec_9826_0242ac1c0002row25_col11,#T_ad7eeff6_827c_11ec_9826_0242ac1c0002row25_col12,#T_ad7eeff6_827c_11ec_9826_0242ac1c0002row25_col13,#T_ad7eeff6_827c_11ec_9826_0242ac1c0002row25_col14,#T_ad7eeff6_827c_11ec_9826_0242ac1c0002row25_col15,#T_ad7eeff6_827c_11ec_9826_0242ac1c0002row25_col16,#T_ad7eeff6_827c_11ec_9826_0242ac1c0002row25_col17,#T_ad7eeff6_827c_11ec_9826_0242ac1c0002row25_col18,#T_ad7eeff6_827c_11ec_9826_0242ac1c0002row25_col19,#T_ad7eeff6_827c_11ec_9826_0242ac1c0002row25_col20,#T_ad7eeff6_827c_11ec_9826_0242ac1c0002row25_col21,#T_ad7eeff6_827c_11ec_9826_0242ac1c0002row25_col22,#T_ad7eeff6_827c_11ec_9826_0242ac1c0002row25_col23,#T_ad7eeff6_827c_11ec_9826_0242ac1c0002row25_col24,#T_ad7eeff6_827c_11ec_9826_0242ac1c0002row25_col25,#T_ad7eeff6_827c_11ec_9826_0242ac1c0002row25_col26,#T_ad7eeff6_827c_11ec_9826_0242ac1c0002row25_col27,#T_ad7eeff6_827c_11ec_9826_0242ac1c0002row26_col0,#T_ad7eeff6_827c_11ec_9826_0242ac1c0002row26_col1,#T_ad7eeff6_827c_11ec_9826_0242ac1c0002row26_col2,#T_ad7eeff6_827c_11ec_9826_0242ac1c0002row26_col3,#T_ad7eeff6_827c_11ec_9826_0242ac1c0002row26_col4,#T_ad7eeff6_827c_11ec_9826_0242ac1c0002row26_col5,#T_ad7eeff6_827c_11ec_9826_0242ac1c0002row26_col6,#T_ad7eeff6_827c_11ec_9826_0242ac1c0002row26_col7,#T_ad7eeff6_827c_11ec_9826_0242ac1c0002row26_col8,#T_ad7eeff6_827c_11ec_9826_0242ac1c0002row26_col9,#T_ad7eeff6_827c_11ec_9826_0242ac1c0002row26_col10,#T_ad7eeff6_827c_11ec_9826_0242ac1c0002row26_col11,#T_ad7eeff6_827c_11ec_9826_0242ac1c0002row26_col12,#T_ad7eeff6_827c_11ec_9826_0242ac1c0002row26_col13,#T_ad7eeff6_827c_11ec_9826_0242ac1c0002row26_col14,#T_ad7eeff6_827c_11ec_9826_0242ac1c0002row26_col15,#T_ad7eeff6_827c_11ec_9826_0242ac1c0002row26_col16,#T_ad7eeff6_827c_11ec_9826_0242ac1c0002row26_col17,#T_ad7eeff6_827c_11ec_9826_0242ac1c0002row26_col18,#T_ad7eeff6_827c_11ec_9826_0242ac1c0002row26_col19,#T_ad7eeff6_827c_11ec_9826_0242ac1c0002row26_col20,#T_ad7eeff6_827c_11ec_9826_0242ac1c0002row26_col21,#T_ad7eeff6_827c_11ec_9826_0242ac1c0002row26_col22,#T_ad7eeff6_827c_11ec_9826_0242ac1c0002row26_col23,#T_ad7eeff6_827c_11ec_9826_0242ac1c0002row26_col24,#T_ad7eeff6_827c_11ec_9826_0242ac1c0002row26_col25,#T_ad7eeff6_827c_11ec_9826_0242ac1c0002row26_col26,#T_ad7eeff6_827c_11ec_9826_0242ac1c0002row26_col27,#T_ad7eeff6_827c_11ec_9826_0242ac1c0002row27_col0,#T_ad7eeff6_827c_11ec_9826_0242ac1c0002row27_col1,#T_ad7eeff6_827c_11ec_9826_0242ac1c0002row27_col2,#T_ad7eeff6_827c_11ec_9826_0242ac1c0002row27_col3,#T_ad7eeff6_827c_11ec_9826_0242ac1c0002row27_col4,#T_ad7eeff6_827c_11ec_9826_0242ac1c0002row27_col5,#T_ad7eeff6_827c_11ec_9826_0242ac1c0002row27_col6,#T_ad7eeff6_827c_11ec_9826_0242ac1c0002row27_col7,#T_ad7eeff6_827c_11ec_9826_0242ac1c0002row27_col8,#T_ad7eeff6_827c_11ec_9826_0242ac1c0002row27_col9,#T_ad7eeff6_827c_11ec_9826_0242ac1c0002row27_col10,#T_ad7eeff6_827c_11ec_9826_0242ac1c0002row27_col11,#T_ad7eeff6_827c_11ec_9826_0242ac1c0002row27_col12,#T_ad7eeff6_827c_11ec_9826_0242ac1c0002row27_col13,#T_ad7eeff6_827c_11ec_9826_0242ac1c0002row27_col14,#T_ad7eeff6_827c_11ec_9826_0242ac1c0002row27_col15,#T_ad7eeff6_827c_11ec_9826_0242ac1c0002row27_col16,#T_ad7eeff6_827c_11ec_9826_0242ac1c0002row27_col17,#T_ad7eeff6_827c_11ec_9826_0242ac1c0002row27_col18,#T_ad7eeff6_827c_11ec_9826_0242ac1c0002row27_col19,#T_ad7eeff6_827c_11ec_9826_0242ac1c0002row27_col20,#T_ad7eeff6_827c_11ec_9826_0242ac1c0002row27_col21,#T_ad7eeff6_827c_11ec_9826_0242ac1c0002row27_col22,#T_ad7eeff6_827c_11ec_9826_0242ac1c0002row27_col23,#T_ad7eeff6_827c_11ec_9826_0242ac1c0002row27_col24,#T_ad7eeff6_827c_11ec_9826_0242ac1c0002row27_col25,#T_ad7eeff6_827c_11ec_9826_0242ac1c0002row27_col26,#T_ad7eeff6_827c_11ec_9826_0242ac1c0002row27_col27{\n",
              "            background-color:  #ffffff;\n",
              "            color:  #000000;\n",
              "        }#T_ad7eeff6_827c_11ec_9826_0242ac1c0002row5_col9,#T_ad7eeff6_827c_11ec_9826_0242ac1c0002row12_col16{\n",
              "            background-color:  #f1f1f1;\n",
              "            color:  #000000;\n",
              "        }#T_ad7eeff6_827c_11ec_9826_0242ac1c0002row5_col10,#T_ad7eeff6_827c_11ec_9826_0242ac1c0002row5_col17{\n",
              "            background-color:  #7c7c7c;\n",
              "            color:  #000000;\n",
              "        }#T_ad7eeff6_827c_11ec_9826_0242ac1c0002row5_col11{\n",
              "            background-color:  #4a4a4a;\n",
              "            color:  #f1f1f1;\n",
              "        }#T_ad7eeff6_827c_11ec_9826_0242ac1c0002row5_col12,#T_ad7eeff6_827c_11ec_9826_0242ac1c0002row5_col13,#T_ad7eeff6_827c_11ec_9826_0242ac1c0002row5_col14,#T_ad7eeff6_827c_11ec_9826_0242ac1c0002row6_col10,#T_ad7eeff6_827c_11ec_9826_0242ac1c0002row6_col11,#T_ad7eeff6_827c_11ec_9826_0242ac1c0002row6_col15,#T_ad7eeff6_827c_11ec_9826_0242ac1c0002row6_col16,#T_ad7eeff6_827c_11ec_9826_0242ac1c0002row6_col17,#T_ad7eeff6_827c_11ec_9826_0242ac1c0002row7_col8,#T_ad7eeff6_827c_11ec_9826_0242ac1c0002row7_col16,#T_ad7eeff6_827c_11ec_9826_0242ac1c0002row7_col17,#T_ad7eeff6_827c_11ec_9826_0242ac1c0002row8_col5,#T_ad7eeff6_827c_11ec_9826_0242ac1c0002row8_col6,#T_ad7eeff6_827c_11ec_9826_0242ac1c0002row8_col7,#T_ad7eeff6_827c_11ec_9826_0242ac1c0002row8_col16,#T_ad7eeff6_827c_11ec_9826_0242ac1c0002row8_col17,#T_ad7eeff6_827c_11ec_9826_0242ac1c0002row9_col16,#T_ad7eeff6_827c_11ec_9826_0242ac1c0002row10_col15,#T_ad7eeff6_827c_11ec_9826_0242ac1c0002row13_col15,#T_ad7eeff6_827c_11ec_9826_0242ac1c0002row14_col15,#T_ad7eeff6_827c_11ec_9826_0242ac1c0002row14_col16,#T_ad7eeff6_827c_11ec_9826_0242ac1c0002row14_col17,#T_ad7eeff6_827c_11ec_9826_0242ac1c0002row14_col18,#T_ad7eeff6_827c_11ec_9826_0242ac1c0002row15_col17,#T_ad7eeff6_827c_11ec_9826_0242ac1c0002row15_col18,#T_ad7eeff6_827c_11ec_9826_0242ac1c0002row15_col19,#T_ad7eeff6_827c_11ec_9826_0242ac1c0002row16_col18,#T_ad7eeff6_827c_11ec_9826_0242ac1c0002row16_col19,#T_ad7eeff6_827c_11ec_9826_0242ac1c0002row16_col20,#T_ad7eeff6_827c_11ec_9826_0242ac1c0002row17_col18,#T_ad7eeff6_827c_11ec_9826_0242ac1c0002row17_col19,#T_ad7eeff6_827c_11ec_9826_0242ac1c0002row18_col18,#T_ad7eeff6_827c_11ec_9826_0242ac1c0002row18_col19,#T_ad7eeff6_827c_11ec_9826_0242ac1c0002row19_col17,#T_ad7eeff6_827c_11ec_9826_0242ac1c0002row19_col18,#T_ad7eeff6_827c_11ec_9826_0242ac1c0002row20_col16,#T_ad7eeff6_827c_11ec_9826_0242ac1c0002row20_col17,#T_ad7eeff6_827c_11ec_9826_0242ac1c0002row21_col15,#T_ad7eeff6_827c_11ec_9826_0242ac1c0002row21_col16,#T_ad7eeff6_827c_11ec_9826_0242ac1c0002row23_col7,#T_ad7eeff6_827c_11ec_9826_0242ac1c0002row23_col8,#T_ad7eeff6_827c_11ec_9826_0242ac1c0002row23_col9,#T_ad7eeff6_827c_11ec_9826_0242ac1c0002row23_col10,#T_ad7eeff6_827c_11ec_9826_0242ac1c0002row23_col11,#T_ad7eeff6_827c_11ec_9826_0242ac1c0002row24_col7,#T_ad7eeff6_827c_11ec_9826_0242ac1c0002row24_col8,#T_ad7eeff6_827c_11ec_9826_0242ac1c0002row24_col9,#T_ad7eeff6_827c_11ec_9826_0242ac1c0002row24_col10,#T_ad7eeff6_827c_11ec_9826_0242ac1c0002row24_col11{\n",
              "            background-color:  #000000;\n",
              "            color:  #f1f1f1;\n",
              "        }#T_ad7eeff6_827c_11ec_9826_0242ac1c0002row5_col15{\n",
              "            background-color:  #606060;\n",
              "            color:  #f1f1f1;\n",
              "        }#T_ad7eeff6_827c_11ec_9826_0242ac1c0002row5_col16{\n",
              "            background-color:  #4d4d4d;\n",
              "            color:  #f1f1f1;\n",
              "        }#T_ad7eeff6_827c_11ec_9826_0242ac1c0002row5_col18{\n",
              "            background-color:  #bbbbbb;\n",
              "            color:  #000000;\n",
              "        }#T_ad7eeff6_827c_11ec_9826_0242ac1c0002row6_col7,#T_ad7eeff6_827c_11ec_9826_0242ac1c0002row8_col9{\n",
              "            background-color:  #e4e4e4;\n",
              "            color:  #000000;\n",
              "        }#T_ad7eeff6_827c_11ec_9826_0242ac1c0002row6_col8,#T_ad7eeff6_827c_11ec_9826_0242ac1c0002row12_col10{\n",
              "            background-color:  #6b6b6b;\n",
              "            color:  #000000;\n",
              "        }#T_ad7eeff6_827c_11ec_9826_0242ac1c0002row6_col9,#T_ad7eeff6_827c_11ec_9826_0242ac1c0002row9_col15{\n",
              "            background-color:  #222222;\n",
              "            color:  #f1f1f1;\n",
              "        }#T_ad7eeff6_827c_11ec_9826_0242ac1c0002row6_col12,#T_ad7eeff6_827c_11ec_9826_0242ac1c0002row6_col18,#T_ad7eeff6_827c_11ec_9826_0242ac1c0002row7_col18,#T_ad7eeff6_827c_11ec_9826_0242ac1c0002row21_col17{\n",
              "            background-color:  #171717;\n",
              "            color:  #f1f1f1;\n",
              "        }#T_ad7eeff6_827c_11ec_9826_0242ac1c0002row6_col13,#T_ad7eeff6_827c_11ec_9826_0242ac1c0002row7_col15{\n",
              "            background-color:  #4b4b4b;\n",
              "            color:  #f1f1f1;\n",
              "        }#T_ad7eeff6_827c_11ec_9826_0242ac1c0002row6_col14,#T_ad7eeff6_827c_11ec_9826_0242ac1c0002row11_col14,#T_ad7eeff6_827c_11ec_9826_0242ac1c0002row12_col12,#T_ad7eeff6_827c_11ec_9826_0242ac1c0002row12_col14,#T_ad7eeff6_827c_11ec_9826_0242ac1c0002row13_col12,#T_ad7eeff6_827c_11ec_9826_0242ac1c0002row13_col14,#T_ad7eeff6_827c_11ec_9826_0242ac1c0002row22_col14,#T_ad7eeff6_827c_11ec_9826_0242ac1c0002row23_col12{\n",
              "            background-color:  #010101;\n",
              "            color:  #f1f1f1;\n",
              "        }#T_ad7eeff6_827c_11ec_9826_0242ac1c0002row7_col5{\n",
              "            background-color:  #272727;\n",
              "            color:  #f1f1f1;\n",
              "        }#T_ad7eeff6_827c_11ec_9826_0242ac1c0002row7_col6{\n",
              "            background-color:  #0a0a0a;\n",
              "            color:  #f1f1f1;\n",
              "        }#T_ad7eeff6_827c_11ec_9826_0242ac1c0002row7_col7,#T_ad7eeff6_827c_11ec_9826_0242ac1c0002row18_col17{\n",
              "            background-color:  #050505;\n",
              "            color:  #f1f1f1;\n",
              "        }#T_ad7eeff6_827c_11ec_9826_0242ac1c0002row7_col9,#T_ad7eeff6_827c_11ec_9826_0242ac1c0002row12_col15,#T_ad7eeff6_827c_11ec_9826_0242ac1c0002row14_col19,#T_ad7eeff6_827c_11ec_9826_0242ac1c0002row23_col6{\n",
              "            background-color:  #545454;\n",
              "            color:  #f1f1f1;\n",
              "        }#T_ad7eeff6_827c_11ec_9826_0242ac1c0002row7_col10{\n",
              "            background-color:  #e6e6e6;\n",
              "            color:  #000000;\n",
              "        }#T_ad7eeff6_827c_11ec_9826_0242ac1c0002row7_col11,#T_ad7eeff6_827c_11ec_9826_0242ac1c0002row7_col14,#T_ad7eeff6_827c_11ec_9826_0242ac1c0002row12_col9{\n",
              "            background-color:  #fafafa;\n",
              "            color:  #000000;\n",
              "        }#T_ad7eeff6_827c_11ec_9826_0242ac1c0002row7_col12,#T_ad7eeff6_827c_11ec_9826_0242ac1c0002row15_col14,#T_ad7eeff6_827c_11ec_9826_0242ac1c0002row20_col19{\n",
              "            background-color:  #fbfbfb;\n",
              "            color:  #000000;\n",
              "        }#T_ad7eeff6_827c_11ec_9826_0242ac1c0002row7_col13{\n",
              "            background-color:  #fdfdfd;\n",
              "            color:  #000000;\n",
              "        }#T_ad7eeff6_827c_11ec_9826_0242ac1c0002row8_col8{\n",
              "            background-color:  #1b1b1b;\n",
              "            color:  #f1f1f1;\n",
              "        }#T_ad7eeff6_827c_11ec_9826_0242ac1c0002row8_col15{\n",
              "            background-color:  #4e4e4e;\n",
              "            color:  #f1f1f1;\n",
              "        }#T_ad7eeff6_827c_11ec_9826_0242ac1c0002row8_col18{\n",
              "            background-color:  #767676;\n",
              "            color:  #000000;\n",
              "        }#T_ad7eeff6_827c_11ec_9826_0242ac1c0002row9_col5{\n",
              "            background-color:  #fcfcfc;\n",
              "            color:  #000000;\n",
              "        }#T_ad7eeff6_827c_11ec_9826_0242ac1c0002row9_col6,#T_ad7eeff6_827c_11ec_9826_0242ac1c0002row9_col7,#T_ad7eeff6_827c_11ec_9826_0242ac1c0002row19_col20{\n",
              "            background-color:  #f6f6f6;\n",
              "            color:  #000000;\n",
              "        }#T_ad7eeff6_827c_11ec_9826_0242ac1c0002row9_col8,#T_ad7eeff6_827c_11ec_9826_0242ac1c0002row11_col11{\n",
              "            background-color:  #f8f8f8;\n",
              "            color:  #000000;\n",
              "        }#T_ad7eeff6_827c_11ec_9826_0242ac1c0002row9_col14,#T_ad7eeff6_827c_11ec_9826_0242ac1c0002row14_col11{\n",
              "            background-color:  #e8e8e8;\n",
              "            color:  #000000;\n",
              "        }#T_ad7eeff6_827c_11ec_9826_0242ac1c0002row9_col17,#T_ad7eeff6_827c_11ec_9826_0242ac1c0002row10_col16{\n",
              "            background-color:  #090909;\n",
              "            color:  #f1f1f1;\n",
              "        }#T_ad7eeff6_827c_11ec_9826_0242ac1c0002row9_col18{\n",
              "            background-color:  #d0d0d0;\n",
              "            color:  #000000;\n",
              "        }#T_ad7eeff6_827c_11ec_9826_0242ac1c0002row10_col14,#T_ad7eeff6_827c_11ec_9826_0242ac1c0002row11_col15,#T_ad7eeff6_827c_11ec_9826_0242ac1c0002row13_col10{\n",
              "            background-color:  #060606;\n",
              "            color:  #f1f1f1;\n",
              "        }#T_ad7eeff6_827c_11ec_9826_0242ac1c0002row10_col17{\n",
              "            background-color:  #979797;\n",
              "            color:  #000000;\n",
              "        }#T_ad7eeff6_827c_11ec_9826_0242ac1c0002row11_col12{\n",
              "            background-color:  #b6b6b6;\n",
              "            color:  #000000;\n",
              "        }#T_ad7eeff6_827c_11ec_9826_0242ac1c0002row11_col13{\n",
              "            background-color:  #252525;\n",
              "            color:  #f1f1f1;\n",
              "        }#T_ad7eeff6_827c_11ec_9826_0242ac1c0002row11_col16{\n",
              "            background-color:  #999999;\n",
              "            color:  #000000;\n",
              "        }#T_ad7eeff6_827c_11ec_9826_0242ac1c0002row12_col11,#T_ad7eeff6_827c_11ec_9826_0242ac1c0002row22_col12{\n",
              "            background-color:  #101010;\n",
              "            color:  #f1f1f1;\n",
              "        }#T_ad7eeff6_827c_11ec_9826_0242ac1c0002row12_col13,#T_ad7eeff6_827c_11ec_9826_0242ac1c0002row13_col13,#T_ad7eeff6_827c_11ec_9826_0242ac1c0002row21_col14,#T_ad7eeff6_827c_11ec_9826_0242ac1c0002row22_col13,#T_ad7eeff6_827c_11ec_9826_0242ac1c0002row23_col13{\n",
              "            background-color:  #020202;\n",
              "            color:  #f1f1f1;\n",
              "        }#T_ad7eeff6_827c_11ec_9826_0242ac1c0002row13_col9{\n",
              "            background-color:  #f7f7f7;\n",
              "            color:  #000000;\n",
              "        }#T_ad7eeff6_827c_11ec_9826_0242ac1c0002row13_col11,#T_ad7eeff6_827c_11ec_9826_0242ac1c0002row22_col15{\n",
              "            background-color:  #030303;\n",
              "            color:  #f1f1f1;\n",
              "        }#T_ad7eeff6_827c_11ec_9826_0242ac1c0002row13_col16{\n",
              "            background-color:  #181818;\n",
              "            color:  #f1f1f1;\n",
              "        }#T_ad7eeff6_827c_11ec_9826_0242ac1c0002row13_col17{\n",
              "            background-color:  #303030;\n",
              "            color:  #f1f1f1;\n",
              "        }#T_ad7eeff6_827c_11ec_9826_0242ac1c0002row13_col18{\n",
              "            background-color:  #a9a9a9;\n",
              "            color:  #000000;\n",
              "        }#T_ad7eeff6_827c_11ec_9826_0242ac1c0002row13_col19{\n",
              "            background-color:  #fefefe;\n",
              "            color:  #000000;\n",
              "        }#T_ad7eeff6_827c_11ec_9826_0242ac1c0002row14_col12,#T_ad7eeff6_827c_11ec_9826_0242ac1c0002row14_col13,#T_ad7eeff6_827c_11ec_9826_0242ac1c0002row20_col14{\n",
              "            background-color:  #bababa;\n",
              "            color:  #000000;\n",
              "        }#T_ad7eeff6_827c_11ec_9826_0242ac1c0002row14_col14{\n",
              "            background-color:  #393939;\n",
              "            color:  #f1f1f1;\n",
              "        }#T_ad7eeff6_827c_11ec_9826_0242ac1c0002row14_col20{\n",
              "            background-color:  #eaeaea;\n",
              "            color:  #000000;\n",
              "        }#T_ad7eeff6_827c_11ec_9826_0242ac1c0002row15_col15{\n",
              "            background-color:  #e2e2e2;\n",
              "            color:  #000000;\n",
              "        }#T_ad7eeff6_827c_11ec_9826_0242ac1c0002row15_col16{\n",
              "            background-color:  #9f9f9f;\n",
              "            color:  #000000;\n",
              "        }#T_ad7eeff6_827c_11ec_9826_0242ac1c0002row15_col20{\n",
              "            background-color:  #898989;\n",
              "            color:  #000000;\n",
              "        }#T_ad7eeff6_827c_11ec_9826_0242ac1c0002row16_col17{\n",
              "            background-color:  #585858;\n",
              "            color:  #f1f1f1;\n",
              "        }#T_ad7eeff6_827c_11ec_9826_0242ac1c0002row17_col17{\n",
              "            background-color:  #5a5a5a;\n",
              "            color:  #f1f1f1;\n",
              "        }#T_ad7eeff6_827c_11ec_9826_0242ac1c0002row17_col20{\n",
              "            background-color:  #525252;\n",
              "            color:  #f1f1f1;\n",
              "        }#T_ad7eeff6_827c_11ec_9826_0242ac1c0002row18_col16,#T_ad7eeff6_827c_11ec_9826_0242ac1c0002row23_col15{\n",
              "            background-color:  #c5c5c5;\n",
              "            color:  #000000;\n",
              "        }#T_ad7eeff6_827c_11ec_9826_0242ac1c0002row18_col20{\n",
              "            background-color:  #d7d7d7;\n",
              "            color:  #000000;\n",
              "        }#T_ad7eeff6_827c_11ec_9826_0242ac1c0002row19_col15,#T_ad7eeff6_827c_11ec_9826_0242ac1c0002row22_col9{\n",
              "            background-color:  #dcdcdc;\n",
              "            color:  #000000;\n",
              "        }#T_ad7eeff6_827c_11ec_9826_0242ac1c0002row19_col16{\n",
              "            background-color:  #2f2f2f;\n",
              "            color:  #f1f1f1;\n",
              "        }#T_ad7eeff6_827c_11ec_9826_0242ac1c0002row19_col19{\n",
              "            background-color:  #636363;\n",
              "            color:  #f1f1f1;\n",
              "        }#T_ad7eeff6_827c_11ec_9826_0242ac1c0002row20_col15{\n",
              "            background-color:  #070707;\n",
              "            color:  #f1f1f1;\n",
              "        }#T_ad7eeff6_827c_11ec_9826_0242ac1c0002row20_col18{\n",
              "            background-color:  #1f1f1f;\n",
              "            color:  #f1f1f1;\n",
              "        }#T_ad7eeff6_827c_11ec_9826_0242ac1c0002row21_col12,#T_ad7eeff6_827c_11ec_9826_0242ac1c0002row22_col6,#T_ad7eeff6_827c_11ec_9826_0242ac1c0002row22_col8{\n",
              "            background-color:  #e9e9e9;\n",
              "            color:  #000000;\n",
              "        }#T_ad7eeff6_827c_11ec_9826_0242ac1c0002row21_col13{\n",
              "            background-color:  #7d7d7d;\n",
              "            color:  #000000;\n",
              "        }#T_ad7eeff6_827c_11ec_9826_0242ac1c0002row21_col18{\n",
              "            background-color:  #e1e1e1;\n",
              "            color:  #000000;\n",
              "        }#T_ad7eeff6_827c_11ec_9826_0242ac1c0002row22_col7,#T_ad7eeff6_827c_11ec_9826_0242ac1c0002row22_col10{\n",
              "            background-color:  #a4a4a4;\n",
              "            color:  #000000;\n",
              "        }#T_ad7eeff6_827c_11ec_9826_0242ac1c0002row22_col11{\n",
              "            background-color:  #727272;\n",
              "            color:  #000000;\n",
              "        }#T_ad7eeff6_827c_11ec_9826_0242ac1c0002row22_col16{\n",
              "            background-color:  #616161;\n",
              "            color:  #f1f1f1;\n",
              "        }#T_ad7eeff6_827c_11ec_9826_0242ac1c0002row22_col17{\n",
              "            background-color:  #f3f3f3;\n",
              "            color:  #000000;\n",
              "        }#T_ad7eeff6_827c_11ec_9826_0242ac1c0002row23_col14{\n",
              "            background-color:  #484848;\n",
              "            color:  #f1f1f1;\n",
              "        }#T_ad7eeff6_827c_11ec_9826_0242ac1c0002row24_col6{\n",
              "            background-color:  #b3b3b3;\n",
              "            color:  #000000;\n",
              "        }#T_ad7eeff6_827c_11ec_9826_0242ac1c0002row24_col12{\n",
              "            background-color:  #1a1a1a;\n",
              "            color:  #f1f1f1;\n",
              "        }#T_ad7eeff6_827c_11ec_9826_0242ac1c0002row24_col13{\n",
              "            background-color:  #d6d6d6;\n",
              "            color:  #000000;\n",
              "        }</style><table id=\"T_ad7eeff6_827c_11ec_9826_0242ac1c0002\" class=\"dataframe\"><thead>    <tr>        <th class=\"blank level0\" ></th>        <th class=\"col_heading level0 col0\" >0</th>        <th class=\"col_heading level0 col1\" >1</th>        <th class=\"col_heading level0 col2\" >2</th>        <th class=\"col_heading level0 col3\" >3</th>        <th class=\"col_heading level0 col4\" >4</th>        <th class=\"col_heading level0 col5\" >5</th>        <th class=\"col_heading level0 col6\" >6</th>        <th class=\"col_heading level0 col7\" >7</th>        <th class=\"col_heading level0 col8\" >8</th>        <th class=\"col_heading level0 col9\" >9</th>        <th class=\"col_heading level0 col10\" >10</th>        <th class=\"col_heading level0 col11\" >11</th>        <th class=\"col_heading level0 col12\" >12</th>        <th class=\"col_heading level0 col13\" >13</th>        <th class=\"col_heading level0 col14\" >14</th>        <th class=\"col_heading level0 col15\" >15</th>        <th class=\"col_heading level0 col16\" >16</th>        <th class=\"col_heading level0 col17\" >17</th>        <th class=\"col_heading level0 col18\" >18</th>        <th class=\"col_heading level0 col19\" >19</th>        <th class=\"col_heading level0 col20\" >20</th>        <th class=\"col_heading level0 col21\" >21</th>        <th class=\"col_heading level0 col22\" >22</th>        <th class=\"col_heading level0 col23\" >23</th>        <th class=\"col_heading level0 col24\" >24</th>        <th class=\"col_heading level0 col25\" >25</th>        <th class=\"col_heading level0 col26\" >26</th>        <th class=\"col_heading level0 col27\" >27</th>    </tr></thead><tbody>\n",
              "                <tr>\n",
              "                        <th id=\"T_ad7eeff6_827c_11ec_9826_0242ac1c0002level0_row0\" class=\"row_heading level0 row0\" >0</th>\n",
              "                        <td id=\"T_ad7eeff6_827c_11ec_9826_0242ac1c0002row0_col0\" class=\"data row0 col0\" >0</td>\n",
              "                        <td id=\"T_ad7eeff6_827c_11ec_9826_0242ac1c0002row0_col1\" class=\"data row0 col1\" >0</td>\n",
              "                        <td id=\"T_ad7eeff6_827c_11ec_9826_0242ac1c0002row0_col2\" class=\"data row0 col2\" >0</td>\n",
              "                        <td id=\"T_ad7eeff6_827c_11ec_9826_0242ac1c0002row0_col3\" class=\"data row0 col3\" >0</td>\n",
              "                        <td id=\"T_ad7eeff6_827c_11ec_9826_0242ac1c0002row0_col4\" class=\"data row0 col4\" >0</td>\n",
              "                        <td id=\"T_ad7eeff6_827c_11ec_9826_0242ac1c0002row0_col5\" class=\"data row0 col5\" >0</td>\n",
              "                        <td id=\"T_ad7eeff6_827c_11ec_9826_0242ac1c0002row0_col6\" class=\"data row0 col6\" >0</td>\n",
              "                        <td id=\"T_ad7eeff6_827c_11ec_9826_0242ac1c0002row0_col7\" class=\"data row0 col7\" >0</td>\n",
              "                        <td id=\"T_ad7eeff6_827c_11ec_9826_0242ac1c0002row0_col8\" class=\"data row0 col8\" >0</td>\n",
              "                        <td id=\"T_ad7eeff6_827c_11ec_9826_0242ac1c0002row0_col9\" class=\"data row0 col9\" >0</td>\n",
              "                        <td id=\"T_ad7eeff6_827c_11ec_9826_0242ac1c0002row0_col10\" class=\"data row0 col10\" >0</td>\n",
              "                        <td id=\"T_ad7eeff6_827c_11ec_9826_0242ac1c0002row0_col11\" class=\"data row0 col11\" >0</td>\n",
              "                        <td id=\"T_ad7eeff6_827c_11ec_9826_0242ac1c0002row0_col12\" class=\"data row0 col12\" >0</td>\n",
              "                        <td id=\"T_ad7eeff6_827c_11ec_9826_0242ac1c0002row0_col13\" class=\"data row0 col13\" >0</td>\n",
              "                        <td id=\"T_ad7eeff6_827c_11ec_9826_0242ac1c0002row0_col14\" class=\"data row0 col14\" >0</td>\n",
              "                        <td id=\"T_ad7eeff6_827c_11ec_9826_0242ac1c0002row0_col15\" class=\"data row0 col15\" >0</td>\n",
              "                        <td id=\"T_ad7eeff6_827c_11ec_9826_0242ac1c0002row0_col16\" class=\"data row0 col16\" >0</td>\n",
              "                        <td id=\"T_ad7eeff6_827c_11ec_9826_0242ac1c0002row0_col17\" class=\"data row0 col17\" >0</td>\n",
              "                        <td id=\"T_ad7eeff6_827c_11ec_9826_0242ac1c0002row0_col18\" class=\"data row0 col18\" >0</td>\n",
              "                        <td id=\"T_ad7eeff6_827c_11ec_9826_0242ac1c0002row0_col19\" class=\"data row0 col19\" >0</td>\n",
              "                        <td id=\"T_ad7eeff6_827c_11ec_9826_0242ac1c0002row0_col20\" class=\"data row0 col20\" >0</td>\n",
              "                        <td id=\"T_ad7eeff6_827c_11ec_9826_0242ac1c0002row0_col21\" class=\"data row0 col21\" >0</td>\n",
              "                        <td id=\"T_ad7eeff6_827c_11ec_9826_0242ac1c0002row0_col22\" class=\"data row0 col22\" >0</td>\n",
              "                        <td id=\"T_ad7eeff6_827c_11ec_9826_0242ac1c0002row0_col23\" class=\"data row0 col23\" >0</td>\n",
              "                        <td id=\"T_ad7eeff6_827c_11ec_9826_0242ac1c0002row0_col24\" class=\"data row0 col24\" >0</td>\n",
              "                        <td id=\"T_ad7eeff6_827c_11ec_9826_0242ac1c0002row0_col25\" class=\"data row0 col25\" >0</td>\n",
              "                        <td id=\"T_ad7eeff6_827c_11ec_9826_0242ac1c0002row0_col26\" class=\"data row0 col26\" >0</td>\n",
              "                        <td id=\"T_ad7eeff6_827c_11ec_9826_0242ac1c0002row0_col27\" class=\"data row0 col27\" >0</td>\n",
              "            </tr>\n",
              "            <tr>\n",
              "                        <th id=\"T_ad7eeff6_827c_11ec_9826_0242ac1c0002level0_row1\" class=\"row_heading level0 row1\" >1</th>\n",
              "                        <td id=\"T_ad7eeff6_827c_11ec_9826_0242ac1c0002row1_col0\" class=\"data row1 col0\" >0</td>\n",
              "                        <td id=\"T_ad7eeff6_827c_11ec_9826_0242ac1c0002row1_col1\" class=\"data row1 col1\" >0</td>\n",
              "                        <td id=\"T_ad7eeff6_827c_11ec_9826_0242ac1c0002row1_col2\" class=\"data row1 col2\" >0</td>\n",
              "                        <td id=\"T_ad7eeff6_827c_11ec_9826_0242ac1c0002row1_col3\" class=\"data row1 col3\" >0</td>\n",
              "                        <td id=\"T_ad7eeff6_827c_11ec_9826_0242ac1c0002row1_col4\" class=\"data row1 col4\" >0</td>\n",
              "                        <td id=\"T_ad7eeff6_827c_11ec_9826_0242ac1c0002row1_col5\" class=\"data row1 col5\" >0</td>\n",
              "                        <td id=\"T_ad7eeff6_827c_11ec_9826_0242ac1c0002row1_col6\" class=\"data row1 col6\" >0</td>\n",
              "                        <td id=\"T_ad7eeff6_827c_11ec_9826_0242ac1c0002row1_col7\" class=\"data row1 col7\" >0</td>\n",
              "                        <td id=\"T_ad7eeff6_827c_11ec_9826_0242ac1c0002row1_col8\" class=\"data row1 col8\" >0</td>\n",
              "                        <td id=\"T_ad7eeff6_827c_11ec_9826_0242ac1c0002row1_col9\" class=\"data row1 col9\" >0</td>\n",
              "                        <td id=\"T_ad7eeff6_827c_11ec_9826_0242ac1c0002row1_col10\" class=\"data row1 col10\" >0</td>\n",
              "                        <td id=\"T_ad7eeff6_827c_11ec_9826_0242ac1c0002row1_col11\" class=\"data row1 col11\" >0</td>\n",
              "                        <td id=\"T_ad7eeff6_827c_11ec_9826_0242ac1c0002row1_col12\" class=\"data row1 col12\" >0</td>\n",
              "                        <td id=\"T_ad7eeff6_827c_11ec_9826_0242ac1c0002row1_col13\" class=\"data row1 col13\" >0</td>\n",
              "                        <td id=\"T_ad7eeff6_827c_11ec_9826_0242ac1c0002row1_col14\" class=\"data row1 col14\" >0</td>\n",
              "                        <td id=\"T_ad7eeff6_827c_11ec_9826_0242ac1c0002row1_col15\" class=\"data row1 col15\" >0</td>\n",
              "                        <td id=\"T_ad7eeff6_827c_11ec_9826_0242ac1c0002row1_col16\" class=\"data row1 col16\" >0</td>\n",
              "                        <td id=\"T_ad7eeff6_827c_11ec_9826_0242ac1c0002row1_col17\" class=\"data row1 col17\" >0</td>\n",
              "                        <td id=\"T_ad7eeff6_827c_11ec_9826_0242ac1c0002row1_col18\" class=\"data row1 col18\" >0</td>\n",
              "                        <td id=\"T_ad7eeff6_827c_11ec_9826_0242ac1c0002row1_col19\" class=\"data row1 col19\" >0</td>\n",
              "                        <td id=\"T_ad7eeff6_827c_11ec_9826_0242ac1c0002row1_col20\" class=\"data row1 col20\" >0</td>\n",
              "                        <td id=\"T_ad7eeff6_827c_11ec_9826_0242ac1c0002row1_col21\" class=\"data row1 col21\" >0</td>\n",
              "                        <td id=\"T_ad7eeff6_827c_11ec_9826_0242ac1c0002row1_col22\" class=\"data row1 col22\" >0</td>\n",
              "                        <td id=\"T_ad7eeff6_827c_11ec_9826_0242ac1c0002row1_col23\" class=\"data row1 col23\" >0</td>\n",
              "                        <td id=\"T_ad7eeff6_827c_11ec_9826_0242ac1c0002row1_col24\" class=\"data row1 col24\" >0</td>\n",
              "                        <td id=\"T_ad7eeff6_827c_11ec_9826_0242ac1c0002row1_col25\" class=\"data row1 col25\" >0</td>\n",
              "                        <td id=\"T_ad7eeff6_827c_11ec_9826_0242ac1c0002row1_col26\" class=\"data row1 col26\" >0</td>\n",
              "                        <td id=\"T_ad7eeff6_827c_11ec_9826_0242ac1c0002row1_col27\" class=\"data row1 col27\" >0</td>\n",
              "            </tr>\n",
              "            <tr>\n",
              "                        <th id=\"T_ad7eeff6_827c_11ec_9826_0242ac1c0002level0_row2\" class=\"row_heading level0 row2\" >2</th>\n",
              "                        <td id=\"T_ad7eeff6_827c_11ec_9826_0242ac1c0002row2_col0\" class=\"data row2 col0\" >0</td>\n",
              "                        <td id=\"T_ad7eeff6_827c_11ec_9826_0242ac1c0002row2_col1\" class=\"data row2 col1\" >0</td>\n",
              "                        <td id=\"T_ad7eeff6_827c_11ec_9826_0242ac1c0002row2_col2\" class=\"data row2 col2\" >0</td>\n",
              "                        <td id=\"T_ad7eeff6_827c_11ec_9826_0242ac1c0002row2_col3\" class=\"data row2 col3\" >0</td>\n",
              "                        <td id=\"T_ad7eeff6_827c_11ec_9826_0242ac1c0002row2_col4\" class=\"data row2 col4\" >0</td>\n",
              "                        <td id=\"T_ad7eeff6_827c_11ec_9826_0242ac1c0002row2_col5\" class=\"data row2 col5\" >0</td>\n",
              "                        <td id=\"T_ad7eeff6_827c_11ec_9826_0242ac1c0002row2_col6\" class=\"data row2 col6\" >0</td>\n",
              "                        <td id=\"T_ad7eeff6_827c_11ec_9826_0242ac1c0002row2_col7\" class=\"data row2 col7\" >0</td>\n",
              "                        <td id=\"T_ad7eeff6_827c_11ec_9826_0242ac1c0002row2_col8\" class=\"data row2 col8\" >0</td>\n",
              "                        <td id=\"T_ad7eeff6_827c_11ec_9826_0242ac1c0002row2_col9\" class=\"data row2 col9\" >0</td>\n",
              "                        <td id=\"T_ad7eeff6_827c_11ec_9826_0242ac1c0002row2_col10\" class=\"data row2 col10\" >0</td>\n",
              "                        <td id=\"T_ad7eeff6_827c_11ec_9826_0242ac1c0002row2_col11\" class=\"data row2 col11\" >0</td>\n",
              "                        <td id=\"T_ad7eeff6_827c_11ec_9826_0242ac1c0002row2_col12\" class=\"data row2 col12\" >0</td>\n",
              "                        <td id=\"T_ad7eeff6_827c_11ec_9826_0242ac1c0002row2_col13\" class=\"data row2 col13\" >0</td>\n",
              "                        <td id=\"T_ad7eeff6_827c_11ec_9826_0242ac1c0002row2_col14\" class=\"data row2 col14\" >0</td>\n",
              "                        <td id=\"T_ad7eeff6_827c_11ec_9826_0242ac1c0002row2_col15\" class=\"data row2 col15\" >0</td>\n",
              "                        <td id=\"T_ad7eeff6_827c_11ec_9826_0242ac1c0002row2_col16\" class=\"data row2 col16\" >0</td>\n",
              "                        <td id=\"T_ad7eeff6_827c_11ec_9826_0242ac1c0002row2_col17\" class=\"data row2 col17\" >0</td>\n",
              "                        <td id=\"T_ad7eeff6_827c_11ec_9826_0242ac1c0002row2_col18\" class=\"data row2 col18\" >0</td>\n",
              "                        <td id=\"T_ad7eeff6_827c_11ec_9826_0242ac1c0002row2_col19\" class=\"data row2 col19\" >0</td>\n",
              "                        <td id=\"T_ad7eeff6_827c_11ec_9826_0242ac1c0002row2_col20\" class=\"data row2 col20\" >0</td>\n",
              "                        <td id=\"T_ad7eeff6_827c_11ec_9826_0242ac1c0002row2_col21\" class=\"data row2 col21\" >0</td>\n",
              "                        <td id=\"T_ad7eeff6_827c_11ec_9826_0242ac1c0002row2_col22\" class=\"data row2 col22\" >0</td>\n",
              "                        <td id=\"T_ad7eeff6_827c_11ec_9826_0242ac1c0002row2_col23\" class=\"data row2 col23\" >0</td>\n",
              "                        <td id=\"T_ad7eeff6_827c_11ec_9826_0242ac1c0002row2_col24\" class=\"data row2 col24\" >0</td>\n",
              "                        <td id=\"T_ad7eeff6_827c_11ec_9826_0242ac1c0002row2_col25\" class=\"data row2 col25\" >0</td>\n",
              "                        <td id=\"T_ad7eeff6_827c_11ec_9826_0242ac1c0002row2_col26\" class=\"data row2 col26\" >0</td>\n",
              "                        <td id=\"T_ad7eeff6_827c_11ec_9826_0242ac1c0002row2_col27\" class=\"data row2 col27\" >0</td>\n",
              "            </tr>\n",
              "            <tr>\n",
              "                        <th id=\"T_ad7eeff6_827c_11ec_9826_0242ac1c0002level0_row3\" class=\"row_heading level0 row3\" >3</th>\n",
              "                        <td id=\"T_ad7eeff6_827c_11ec_9826_0242ac1c0002row3_col0\" class=\"data row3 col0\" >0</td>\n",
              "                        <td id=\"T_ad7eeff6_827c_11ec_9826_0242ac1c0002row3_col1\" class=\"data row3 col1\" >0</td>\n",
              "                        <td id=\"T_ad7eeff6_827c_11ec_9826_0242ac1c0002row3_col2\" class=\"data row3 col2\" >0</td>\n",
              "                        <td id=\"T_ad7eeff6_827c_11ec_9826_0242ac1c0002row3_col3\" class=\"data row3 col3\" >0</td>\n",
              "                        <td id=\"T_ad7eeff6_827c_11ec_9826_0242ac1c0002row3_col4\" class=\"data row3 col4\" >0</td>\n",
              "                        <td id=\"T_ad7eeff6_827c_11ec_9826_0242ac1c0002row3_col5\" class=\"data row3 col5\" >0</td>\n",
              "                        <td id=\"T_ad7eeff6_827c_11ec_9826_0242ac1c0002row3_col6\" class=\"data row3 col6\" >0</td>\n",
              "                        <td id=\"T_ad7eeff6_827c_11ec_9826_0242ac1c0002row3_col7\" class=\"data row3 col7\" >0</td>\n",
              "                        <td id=\"T_ad7eeff6_827c_11ec_9826_0242ac1c0002row3_col8\" class=\"data row3 col8\" >0</td>\n",
              "                        <td id=\"T_ad7eeff6_827c_11ec_9826_0242ac1c0002row3_col9\" class=\"data row3 col9\" >0</td>\n",
              "                        <td id=\"T_ad7eeff6_827c_11ec_9826_0242ac1c0002row3_col10\" class=\"data row3 col10\" >0</td>\n",
              "                        <td id=\"T_ad7eeff6_827c_11ec_9826_0242ac1c0002row3_col11\" class=\"data row3 col11\" >0</td>\n",
              "                        <td id=\"T_ad7eeff6_827c_11ec_9826_0242ac1c0002row3_col12\" class=\"data row3 col12\" >0</td>\n",
              "                        <td id=\"T_ad7eeff6_827c_11ec_9826_0242ac1c0002row3_col13\" class=\"data row3 col13\" >0</td>\n",
              "                        <td id=\"T_ad7eeff6_827c_11ec_9826_0242ac1c0002row3_col14\" class=\"data row3 col14\" >0</td>\n",
              "                        <td id=\"T_ad7eeff6_827c_11ec_9826_0242ac1c0002row3_col15\" class=\"data row3 col15\" >0</td>\n",
              "                        <td id=\"T_ad7eeff6_827c_11ec_9826_0242ac1c0002row3_col16\" class=\"data row3 col16\" >0</td>\n",
              "                        <td id=\"T_ad7eeff6_827c_11ec_9826_0242ac1c0002row3_col17\" class=\"data row3 col17\" >0</td>\n",
              "                        <td id=\"T_ad7eeff6_827c_11ec_9826_0242ac1c0002row3_col18\" class=\"data row3 col18\" >0</td>\n",
              "                        <td id=\"T_ad7eeff6_827c_11ec_9826_0242ac1c0002row3_col19\" class=\"data row3 col19\" >0</td>\n",
              "                        <td id=\"T_ad7eeff6_827c_11ec_9826_0242ac1c0002row3_col20\" class=\"data row3 col20\" >0</td>\n",
              "                        <td id=\"T_ad7eeff6_827c_11ec_9826_0242ac1c0002row3_col21\" class=\"data row3 col21\" >0</td>\n",
              "                        <td id=\"T_ad7eeff6_827c_11ec_9826_0242ac1c0002row3_col22\" class=\"data row3 col22\" >0</td>\n",
              "                        <td id=\"T_ad7eeff6_827c_11ec_9826_0242ac1c0002row3_col23\" class=\"data row3 col23\" >0</td>\n",
              "                        <td id=\"T_ad7eeff6_827c_11ec_9826_0242ac1c0002row3_col24\" class=\"data row3 col24\" >0</td>\n",
              "                        <td id=\"T_ad7eeff6_827c_11ec_9826_0242ac1c0002row3_col25\" class=\"data row3 col25\" >0</td>\n",
              "                        <td id=\"T_ad7eeff6_827c_11ec_9826_0242ac1c0002row3_col26\" class=\"data row3 col26\" >0</td>\n",
              "                        <td id=\"T_ad7eeff6_827c_11ec_9826_0242ac1c0002row3_col27\" class=\"data row3 col27\" >0</td>\n",
              "            </tr>\n",
              "            <tr>\n",
              "                        <th id=\"T_ad7eeff6_827c_11ec_9826_0242ac1c0002level0_row4\" class=\"row_heading level0 row4\" >4</th>\n",
              "                        <td id=\"T_ad7eeff6_827c_11ec_9826_0242ac1c0002row4_col0\" class=\"data row4 col0\" >0</td>\n",
              "                        <td id=\"T_ad7eeff6_827c_11ec_9826_0242ac1c0002row4_col1\" class=\"data row4 col1\" >0</td>\n",
              "                        <td id=\"T_ad7eeff6_827c_11ec_9826_0242ac1c0002row4_col2\" class=\"data row4 col2\" >0</td>\n",
              "                        <td id=\"T_ad7eeff6_827c_11ec_9826_0242ac1c0002row4_col3\" class=\"data row4 col3\" >0</td>\n",
              "                        <td id=\"T_ad7eeff6_827c_11ec_9826_0242ac1c0002row4_col4\" class=\"data row4 col4\" >0</td>\n",
              "                        <td id=\"T_ad7eeff6_827c_11ec_9826_0242ac1c0002row4_col5\" class=\"data row4 col5\" >0</td>\n",
              "                        <td id=\"T_ad7eeff6_827c_11ec_9826_0242ac1c0002row4_col6\" class=\"data row4 col6\" >0</td>\n",
              "                        <td id=\"T_ad7eeff6_827c_11ec_9826_0242ac1c0002row4_col7\" class=\"data row4 col7\" >0</td>\n",
              "                        <td id=\"T_ad7eeff6_827c_11ec_9826_0242ac1c0002row4_col8\" class=\"data row4 col8\" >0</td>\n",
              "                        <td id=\"T_ad7eeff6_827c_11ec_9826_0242ac1c0002row4_col9\" class=\"data row4 col9\" >0</td>\n",
              "                        <td id=\"T_ad7eeff6_827c_11ec_9826_0242ac1c0002row4_col10\" class=\"data row4 col10\" >0</td>\n",
              "                        <td id=\"T_ad7eeff6_827c_11ec_9826_0242ac1c0002row4_col11\" class=\"data row4 col11\" >0</td>\n",
              "                        <td id=\"T_ad7eeff6_827c_11ec_9826_0242ac1c0002row4_col12\" class=\"data row4 col12\" >0</td>\n",
              "                        <td id=\"T_ad7eeff6_827c_11ec_9826_0242ac1c0002row4_col13\" class=\"data row4 col13\" >0</td>\n",
              "                        <td id=\"T_ad7eeff6_827c_11ec_9826_0242ac1c0002row4_col14\" class=\"data row4 col14\" >0</td>\n",
              "                        <td id=\"T_ad7eeff6_827c_11ec_9826_0242ac1c0002row4_col15\" class=\"data row4 col15\" >0</td>\n",
              "                        <td id=\"T_ad7eeff6_827c_11ec_9826_0242ac1c0002row4_col16\" class=\"data row4 col16\" >0</td>\n",
              "                        <td id=\"T_ad7eeff6_827c_11ec_9826_0242ac1c0002row4_col17\" class=\"data row4 col17\" >0</td>\n",
              "                        <td id=\"T_ad7eeff6_827c_11ec_9826_0242ac1c0002row4_col18\" class=\"data row4 col18\" >0</td>\n",
              "                        <td id=\"T_ad7eeff6_827c_11ec_9826_0242ac1c0002row4_col19\" class=\"data row4 col19\" >0</td>\n",
              "                        <td id=\"T_ad7eeff6_827c_11ec_9826_0242ac1c0002row4_col20\" class=\"data row4 col20\" >0</td>\n",
              "                        <td id=\"T_ad7eeff6_827c_11ec_9826_0242ac1c0002row4_col21\" class=\"data row4 col21\" >0</td>\n",
              "                        <td id=\"T_ad7eeff6_827c_11ec_9826_0242ac1c0002row4_col22\" class=\"data row4 col22\" >0</td>\n",
              "                        <td id=\"T_ad7eeff6_827c_11ec_9826_0242ac1c0002row4_col23\" class=\"data row4 col23\" >0</td>\n",
              "                        <td id=\"T_ad7eeff6_827c_11ec_9826_0242ac1c0002row4_col24\" class=\"data row4 col24\" >0</td>\n",
              "                        <td id=\"T_ad7eeff6_827c_11ec_9826_0242ac1c0002row4_col25\" class=\"data row4 col25\" >0</td>\n",
              "                        <td id=\"T_ad7eeff6_827c_11ec_9826_0242ac1c0002row4_col26\" class=\"data row4 col26\" >0</td>\n",
              "                        <td id=\"T_ad7eeff6_827c_11ec_9826_0242ac1c0002row4_col27\" class=\"data row4 col27\" >0</td>\n",
              "            </tr>\n",
              "            <tr>\n",
              "                        <th id=\"T_ad7eeff6_827c_11ec_9826_0242ac1c0002level0_row5\" class=\"row_heading level0 row5\" >5</th>\n",
              "                        <td id=\"T_ad7eeff6_827c_11ec_9826_0242ac1c0002row5_col0\" class=\"data row5 col0\" >0</td>\n",
              "                        <td id=\"T_ad7eeff6_827c_11ec_9826_0242ac1c0002row5_col1\" class=\"data row5 col1\" >0</td>\n",
              "                        <td id=\"T_ad7eeff6_827c_11ec_9826_0242ac1c0002row5_col2\" class=\"data row5 col2\" >0</td>\n",
              "                        <td id=\"T_ad7eeff6_827c_11ec_9826_0242ac1c0002row5_col3\" class=\"data row5 col3\" >0</td>\n",
              "                        <td id=\"T_ad7eeff6_827c_11ec_9826_0242ac1c0002row5_col4\" class=\"data row5 col4\" >0</td>\n",
              "                        <td id=\"T_ad7eeff6_827c_11ec_9826_0242ac1c0002row5_col5\" class=\"data row5 col5\" >0</td>\n",
              "                        <td id=\"T_ad7eeff6_827c_11ec_9826_0242ac1c0002row5_col6\" class=\"data row5 col6\" >0</td>\n",
              "                        <td id=\"T_ad7eeff6_827c_11ec_9826_0242ac1c0002row5_col7\" class=\"data row5 col7\" >0</td>\n",
              "                        <td id=\"T_ad7eeff6_827c_11ec_9826_0242ac1c0002row5_col8\" class=\"data row5 col8\" >0</td>\n",
              "                        <td id=\"T_ad7eeff6_827c_11ec_9826_0242ac1c0002row5_col9\" class=\"data row5 col9\" >29</td>\n",
              "                        <td id=\"T_ad7eeff6_827c_11ec_9826_0242ac1c0002row5_col10\" class=\"data row5 col10\" >150</td>\n",
              "                        <td id=\"T_ad7eeff6_827c_11ec_9826_0242ac1c0002row5_col11\" class=\"data row5 col11\" >195</td>\n",
              "                        <td id=\"T_ad7eeff6_827c_11ec_9826_0242ac1c0002row5_col12\" class=\"data row5 col12\" >254</td>\n",
              "                        <td id=\"T_ad7eeff6_827c_11ec_9826_0242ac1c0002row5_col13\" class=\"data row5 col13\" >255</td>\n",
              "                        <td id=\"T_ad7eeff6_827c_11ec_9826_0242ac1c0002row5_col14\" class=\"data row5 col14\" >254</td>\n",
              "                        <td id=\"T_ad7eeff6_827c_11ec_9826_0242ac1c0002row5_col15\" class=\"data row5 col15\" >176</td>\n",
              "                        <td id=\"T_ad7eeff6_827c_11ec_9826_0242ac1c0002row5_col16\" class=\"data row5 col16\" >193</td>\n",
              "                        <td id=\"T_ad7eeff6_827c_11ec_9826_0242ac1c0002row5_col17\" class=\"data row5 col17\" >150</td>\n",
              "                        <td id=\"T_ad7eeff6_827c_11ec_9826_0242ac1c0002row5_col18\" class=\"data row5 col18\" >96</td>\n",
              "                        <td id=\"T_ad7eeff6_827c_11ec_9826_0242ac1c0002row5_col19\" class=\"data row5 col19\" >0</td>\n",
              "                        <td id=\"T_ad7eeff6_827c_11ec_9826_0242ac1c0002row5_col20\" class=\"data row5 col20\" >0</td>\n",
              "                        <td id=\"T_ad7eeff6_827c_11ec_9826_0242ac1c0002row5_col21\" class=\"data row5 col21\" >0</td>\n",
              "                        <td id=\"T_ad7eeff6_827c_11ec_9826_0242ac1c0002row5_col22\" class=\"data row5 col22\" >0</td>\n",
              "                        <td id=\"T_ad7eeff6_827c_11ec_9826_0242ac1c0002row5_col23\" class=\"data row5 col23\" >0</td>\n",
              "                        <td id=\"T_ad7eeff6_827c_11ec_9826_0242ac1c0002row5_col24\" class=\"data row5 col24\" >0</td>\n",
              "                        <td id=\"T_ad7eeff6_827c_11ec_9826_0242ac1c0002row5_col25\" class=\"data row5 col25\" >0</td>\n",
              "                        <td id=\"T_ad7eeff6_827c_11ec_9826_0242ac1c0002row5_col26\" class=\"data row5 col26\" >0</td>\n",
              "                        <td id=\"T_ad7eeff6_827c_11ec_9826_0242ac1c0002row5_col27\" class=\"data row5 col27\" >0</td>\n",
              "            </tr>\n",
              "            <tr>\n",
              "                        <th id=\"T_ad7eeff6_827c_11ec_9826_0242ac1c0002level0_row6\" class=\"row_heading level0 row6\" >6</th>\n",
              "                        <td id=\"T_ad7eeff6_827c_11ec_9826_0242ac1c0002row6_col0\" class=\"data row6 col0\" >0</td>\n",
              "                        <td id=\"T_ad7eeff6_827c_11ec_9826_0242ac1c0002row6_col1\" class=\"data row6 col1\" >0</td>\n",
              "                        <td id=\"T_ad7eeff6_827c_11ec_9826_0242ac1c0002row6_col2\" class=\"data row6 col2\" >0</td>\n",
              "                        <td id=\"T_ad7eeff6_827c_11ec_9826_0242ac1c0002row6_col3\" class=\"data row6 col3\" >0</td>\n",
              "                        <td id=\"T_ad7eeff6_827c_11ec_9826_0242ac1c0002row6_col4\" class=\"data row6 col4\" >0</td>\n",
              "                        <td id=\"T_ad7eeff6_827c_11ec_9826_0242ac1c0002row6_col5\" class=\"data row6 col5\" >0</td>\n",
              "                        <td id=\"T_ad7eeff6_827c_11ec_9826_0242ac1c0002row6_col6\" class=\"data row6 col6\" >0</td>\n",
              "                        <td id=\"T_ad7eeff6_827c_11ec_9826_0242ac1c0002row6_col7\" class=\"data row6 col7\" >48</td>\n",
              "                        <td id=\"T_ad7eeff6_827c_11ec_9826_0242ac1c0002row6_col8\" class=\"data row6 col8\" >166</td>\n",
              "                        <td id=\"T_ad7eeff6_827c_11ec_9826_0242ac1c0002row6_col9\" class=\"data row6 col9\" >224</td>\n",
              "                        <td id=\"T_ad7eeff6_827c_11ec_9826_0242ac1c0002row6_col10\" class=\"data row6 col10\" >253</td>\n",
              "                        <td id=\"T_ad7eeff6_827c_11ec_9826_0242ac1c0002row6_col11\" class=\"data row6 col11\" >253</td>\n",
              "                        <td id=\"T_ad7eeff6_827c_11ec_9826_0242ac1c0002row6_col12\" class=\"data row6 col12\" >234</td>\n",
              "                        <td id=\"T_ad7eeff6_827c_11ec_9826_0242ac1c0002row6_col13\" class=\"data row6 col13\" >196</td>\n",
              "                        <td id=\"T_ad7eeff6_827c_11ec_9826_0242ac1c0002row6_col14\" class=\"data row6 col14\" >253</td>\n",
              "                        <td id=\"T_ad7eeff6_827c_11ec_9826_0242ac1c0002row6_col15\" class=\"data row6 col15\" >253</td>\n",
              "                        <td id=\"T_ad7eeff6_827c_11ec_9826_0242ac1c0002row6_col16\" class=\"data row6 col16\" >253</td>\n",
              "                        <td id=\"T_ad7eeff6_827c_11ec_9826_0242ac1c0002row6_col17\" class=\"data row6 col17\" >253</td>\n",
              "                        <td id=\"T_ad7eeff6_827c_11ec_9826_0242ac1c0002row6_col18\" class=\"data row6 col18\" >233</td>\n",
              "                        <td id=\"T_ad7eeff6_827c_11ec_9826_0242ac1c0002row6_col19\" class=\"data row6 col19\" >0</td>\n",
              "                        <td id=\"T_ad7eeff6_827c_11ec_9826_0242ac1c0002row6_col20\" class=\"data row6 col20\" >0</td>\n",
              "                        <td id=\"T_ad7eeff6_827c_11ec_9826_0242ac1c0002row6_col21\" class=\"data row6 col21\" >0</td>\n",
              "                        <td id=\"T_ad7eeff6_827c_11ec_9826_0242ac1c0002row6_col22\" class=\"data row6 col22\" >0</td>\n",
              "                        <td id=\"T_ad7eeff6_827c_11ec_9826_0242ac1c0002row6_col23\" class=\"data row6 col23\" >0</td>\n",
              "                        <td id=\"T_ad7eeff6_827c_11ec_9826_0242ac1c0002row6_col24\" class=\"data row6 col24\" >0</td>\n",
              "                        <td id=\"T_ad7eeff6_827c_11ec_9826_0242ac1c0002row6_col25\" class=\"data row6 col25\" >0</td>\n",
              "                        <td id=\"T_ad7eeff6_827c_11ec_9826_0242ac1c0002row6_col26\" class=\"data row6 col26\" >0</td>\n",
              "                        <td id=\"T_ad7eeff6_827c_11ec_9826_0242ac1c0002row6_col27\" class=\"data row6 col27\" >0</td>\n",
              "            </tr>\n",
              "            <tr>\n",
              "                        <th id=\"T_ad7eeff6_827c_11ec_9826_0242ac1c0002level0_row7\" class=\"row_heading level0 row7\" >7</th>\n",
              "                        <td id=\"T_ad7eeff6_827c_11ec_9826_0242ac1c0002row7_col0\" class=\"data row7 col0\" >0</td>\n",
              "                        <td id=\"T_ad7eeff6_827c_11ec_9826_0242ac1c0002row7_col1\" class=\"data row7 col1\" >0</td>\n",
              "                        <td id=\"T_ad7eeff6_827c_11ec_9826_0242ac1c0002row7_col2\" class=\"data row7 col2\" >0</td>\n",
              "                        <td id=\"T_ad7eeff6_827c_11ec_9826_0242ac1c0002row7_col3\" class=\"data row7 col3\" >0</td>\n",
              "                        <td id=\"T_ad7eeff6_827c_11ec_9826_0242ac1c0002row7_col4\" class=\"data row7 col4\" >0</td>\n",
              "                        <td id=\"T_ad7eeff6_827c_11ec_9826_0242ac1c0002row7_col5\" class=\"data row7 col5\" >93</td>\n",
              "                        <td id=\"T_ad7eeff6_827c_11ec_9826_0242ac1c0002row7_col6\" class=\"data row7 col6\" >244</td>\n",
              "                        <td id=\"T_ad7eeff6_827c_11ec_9826_0242ac1c0002row7_col7\" class=\"data row7 col7\" >249</td>\n",
              "                        <td id=\"T_ad7eeff6_827c_11ec_9826_0242ac1c0002row7_col8\" class=\"data row7 col8\" >253</td>\n",
              "                        <td id=\"T_ad7eeff6_827c_11ec_9826_0242ac1c0002row7_col9\" class=\"data row7 col9\" >187</td>\n",
              "                        <td id=\"T_ad7eeff6_827c_11ec_9826_0242ac1c0002row7_col10\" class=\"data row7 col10\" >46</td>\n",
              "                        <td id=\"T_ad7eeff6_827c_11ec_9826_0242ac1c0002row7_col11\" class=\"data row7 col11\" >10</td>\n",
              "                        <td id=\"T_ad7eeff6_827c_11ec_9826_0242ac1c0002row7_col12\" class=\"data row7 col12\" >8</td>\n",
              "                        <td id=\"T_ad7eeff6_827c_11ec_9826_0242ac1c0002row7_col13\" class=\"data row7 col13\" >4</td>\n",
              "                        <td id=\"T_ad7eeff6_827c_11ec_9826_0242ac1c0002row7_col14\" class=\"data row7 col14\" >10</td>\n",
              "                        <td id=\"T_ad7eeff6_827c_11ec_9826_0242ac1c0002row7_col15\" class=\"data row7 col15\" >194</td>\n",
              "                        <td id=\"T_ad7eeff6_827c_11ec_9826_0242ac1c0002row7_col16\" class=\"data row7 col16\" >253</td>\n",
              "                        <td id=\"T_ad7eeff6_827c_11ec_9826_0242ac1c0002row7_col17\" class=\"data row7 col17\" >253</td>\n",
              "                        <td id=\"T_ad7eeff6_827c_11ec_9826_0242ac1c0002row7_col18\" class=\"data row7 col18\" >233</td>\n",
              "                        <td id=\"T_ad7eeff6_827c_11ec_9826_0242ac1c0002row7_col19\" class=\"data row7 col19\" >0</td>\n",
              "                        <td id=\"T_ad7eeff6_827c_11ec_9826_0242ac1c0002row7_col20\" class=\"data row7 col20\" >0</td>\n",
              "                        <td id=\"T_ad7eeff6_827c_11ec_9826_0242ac1c0002row7_col21\" class=\"data row7 col21\" >0</td>\n",
              "                        <td id=\"T_ad7eeff6_827c_11ec_9826_0242ac1c0002row7_col22\" class=\"data row7 col22\" >0</td>\n",
              "                        <td id=\"T_ad7eeff6_827c_11ec_9826_0242ac1c0002row7_col23\" class=\"data row7 col23\" >0</td>\n",
              "                        <td id=\"T_ad7eeff6_827c_11ec_9826_0242ac1c0002row7_col24\" class=\"data row7 col24\" >0</td>\n",
              "                        <td id=\"T_ad7eeff6_827c_11ec_9826_0242ac1c0002row7_col25\" class=\"data row7 col25\" >0</td>\n",
              "                        <td id=\"T_ad7eeff6_827c_11ec_9826_0242ac1c0002row7_col26\" class=\"data row7 col26\" >0</td>\n",
              "                        <td id=\"T_ad7eeff6_827c_11ec_9826_0242ac1c0002row7_col27\" class=\"data row7 col27\" >0</td>\n",
              "            </tr>\n",
              "            <tr>\n",
              "                        <th id=\"T_ad7eeff6_827c_11ec_9826_0242ac1c0002level0_row8\" class=\"row_heading level0 row8\" >8</th>\n",
              "                        <td id=\"T_ad7eeff6_827c_11ec_9826_0242ac1c0002row8_col0\" class=\"data row8 col0\" >0</td>\n",
              "                        <td id=\"T_ad7eeff6_827c_11ec_9826_0242ac1c0002row8_col1\" class=\"data row8 col1\" >0</td>\n",
              "                        <td id=\"T_ad7eeff6_827c_11ec_9826_0242ac1c0002row8_col2\" class=\"data row8 col2\" >0</td>\n",
              "                        <td id=\"T_ad7eeff6_827c_11ec_9826_0242ac1c0002row8_col3\" class=\"data row8 col3\" >0</td>\n",
              "                        <td id=\"T_ad7eeff6_827c_11ec_9826_0242ac1c0002row8_col4\" class=\"data row8 col4\" >0</td>\n",
              "                        <td id=\"T_ad7eeff6_827c_11ec_9826_0242ac1c0002row8_col5\" class=\"data row8 col5\" >107</td>\n",
              "                        <td id=\"T_ad7eeff6_827c_11ec_9826_0242ac1c0002row8_col6\" class=\"data row8 col6\" >253</td>\n",
              "                        <td id=\"T_ad7eeff6_827c_11ec_9826_0242ac1c0002row8_col7\" class=\"data row8 col7\" >253</td>\n",
              "                        <td id=\"T_ad7eeff6_827c_11ec_9826_0242ac1c0002row8_col8\" class=\"data row8 col8\" >230</td>\n",
              "                        <td id=\"T_ad7eeff6_827c_11ec_9826_0242ac1c0002row8_col9\" class=\"data row8 col9\" >48</td>\n",
              "                        <td id=\"T_ad7eeff6_827c_11ec_9826_0242ac1c0002row8_col10\" class=\"data row8 col10\" >0</td>\n",
              "                        <td id=\"T_ad7eeff6_827c_11ec_9826_0242ac1c0002row8_col11\" class=\"data row8 col11\" >0</td>\n",
              "                        <td id=\"T_ad7eeff6_827c_11ec_9826_0242ac1c0002row8_col12\" class=\"data row8 col12\" >0</td>\n",
              "                        <td id=\"T_ad7eeff6_827c_11ec_9826_0242ac1c0002row8_col13\" class=\"data row8 col13\" >0</td>\n",
              "                        <td id=\"T_ad7eeff6_827c_11ec_9826_0242ac1c0002row8_col14\" class=\"data row8 col14\" >0</td>\n",
              "                        <td id=\"T_ad7eeff6_827c_11ec_9826_0242ac1c0002row8_col15\" class=\"data row8 col15\" >192</td>\n",
              "                        <td id=\"T_ad7eeff6_827c_11ec_9826_0242ac1c0002row8_col16\" class=\"data row8 col16\" >253</td>\n",
              "                        <td id=\"T_ad7eeff6_827c_11ec_9826_0242ac1c0002row8_col17\" class=\"data row8 col17\" >253</td>\n",
              "                        <td id=\"T_ad7eeff6_827c_11ec_9826_0242ac1c0002row8_col18\" class=\"data row8 col18\" >156</td>\n",
              "                        <td id=\"T_ad7eeff6_827c_11ec_9826_0242ac1c0002row8_col19\" class=\"data row8 col19\" >0</td>\n",
              "                        <td id=\"T_ad7eeff6_827c_11ec_9826_0242ac1c0002row8_col20\" class=\"data row8 col20\" >0</td>\n",
              "                        <td id=\"T_ad7eeff6_827c_11ec_9826_0242ac1c0002row8_col21\" class=\"data row8 col21\" >0</td>\n",
              "                        <td id=\"T_ad7eeff6_827c_11ec_9826_0242ac1c0002row8_col22\" class=\"data row8 col22\" >0</td>\n",
              "                        <td id=\"T_ad7eeff6_827c_11ec_9826_0242ac1c0002row8_col23\" class=\"data row8 col23\" >0</td>\n",
              "                        <td id=\"T_ad7eeff6_827c_11ec_9826_0242ac1c0002row8_col24\" class=\"data row8 col24\" >0</td>\n",
              "                        <td id=\"T_ad7eeff6_827c_11ec_9826_0242ac1c0002row8_col25\" class=\"data row8 col25\" >0</td>\n",
              "                        <td id=\"T_ad7eeff6_827c_11ec_9826_0242ac1c0002row8_col26\" class=\"data row8 col26\" >0</td>\n",
              "                        <td id=\"T_ad7eeff6_827c_11ec_9826_0242ac1c0002row8_col27\" class=\"data row8 col27\" >0</td>\n",
              "            </tr>\n",
              "            <tr>\n",
              "                        <th id=\"T_ad7eeff6_827c_11ec_9826_0242ac1c0002level0_row9\" class=\"row_heading level0 row9\" >9</th>\n",
              "                        <td id=\"T_ad7eeff6_827c_11ec_9826_0242ac1c0002row9_col0\" class=\"data row9 col0\" >0</td>\n",
              "                        <td id=\"T_ad7eeff6_827c_11ec_9826_0242ac1c0002row9_col1\" class=\"data row9 col1\" >0</td>\n",
              "                        <td id=\"T_ad7eeff6_827c_11ec_9826_0242ac1c0002row9_col2\" class=\"data row9 col2\" >0</td>\n",
              "                        <td id=\"T_ad7eeff6_827c_11ec_9826_0242ac1c0002row9_col3\" class=\"data row9 col3\" >0</td>\n",
              "                        <td id=\"T_ad7eeff6_827c_11ec_9826_0242ac1c0002row9_col4\" class=\"data row9 col4\" >0</td>\n",
              "                        <td id=\"T_ad7eeff6_827c_11ec_9826_0242ac1c0002row9_col5\" class=\"data row9 col5\" >3</td>\n",
              "                        <td id=\"T_ad7eeff6_827c_11ec_9826_0242ac1c0002row9_col6\" class=\"data row9 col6\" >20</td>\n",
              "                        <td id=\"T_ad7eeff6_827c_11ec_9826_0242ac1c0002row9_col7\" class=\"data row9 col7\" >20</td>\n",
              "                        <td id=\"T_ad7eeff6_827c_11ec_9826_0242ac1c0002row9_col8\" class=\"data row9 col8\" >15</td>\n",
              "                        <td id=\"T_ad7eeff6_827c_11ec_9826_0242ac1c0002row9_col9\" class=\"data row9 col9\" >0</td>\n",
              "                        <td id=\"T_ad7eeff6_827c_11ec_9826_0242ac1c0002row9_col10\" class=\"data row9 col10\" >0</td>\n",
              "                        <td id=\"T_ad7eeff6_827c_11ec_9826_0242ac1c0002row9_col11\" class=\"data row9 col11\" >0</td>\n",
              "                        <td id=\"T_ad7eeff6_827c_11ec_9826_0242ac1c0002row9_col12\" class=\"data row9 col12\" >0</td>\n",
              "                        <td id=\"T_ad7eeff6_827c_11ec_9826_0242ac1c0002row9_col13\" class=\"data row9 col13\" >0</td>\n",
              "                        <td id=\"T_ad7eeff6_827c_11ec_9826_0242ac1c0002row9_col14\" class=\"data row9 col14\" >43</td>\n",
              "                        <td id=\"T_ad7eeff6_827c_11ec_9826_0242ac1c0002row9_col15\" class=\"data row9 col15\" >224</td>\n",
              "                        <td id=\"T_ad7eeff6_827c_11ec_9826_0242ac1c0002row9_col16\" class=\"data row9 col16\" >253</td>\n",
              "                        <td id=\"T_ad7eeff6_827c_11ec_9826_0242ac1c0002row9_col17\" class=\"data row9 col17\" >245</td>\n",
              "                        <td id=\"T_ad7eeff6_827c_11ec_9826_0242ac1c0002row9_col18\" class=\"data row9 col18\" >74</td>\n",
              "                        <td id=\"T_ad7eeff6_827c_11ec_9826_0242ac1c0002row9_col19\" class=\"data row9 col19\" >0</td>\n",
              "                        <td id=\"T_ad7eeff6_827c_11ec_9826_0242ac1c0002row9_col20\" class=\"data row9 col20\" >0</td>\n",
              "                        <td id=\"T_ad7eeff6_827c_11ec_9826_0242ac1c0002row9_col21\" class=\"data row9 col21\" >0</td>\n",
              "                        <td id=\"T_ad7eeff6_827c_11ec_9826_0242ac1c0002row9_col22\" class=\"data row9 col22\" >0</td>\n",
              "                        <td id=\"T_ad7eeff6_827c_11ec_9826_0242ac1c0002row9_col23\" class=\"data row9 col23\" >0</td>\n",
              "                        <td id=\"T_ad7eeff6_827c_11ec_9826_0242ac1c0002row9_col24\" class=\"data row9 col24\" >0</td>\n",
              "                        <td id=\"T_ad7eeff6_827c_11ec_9826_0242ac1c0002row9_col25\" class=\"data row9 col25\" >0</td>\n",
              "                        <td id=\"T_ad7eeff6_827c_11ec_9826_0242ac1c0002row9_col26\" class=\"data row9 col26\" >0</td>\n",
              "                        <td id=\"T_ad7eeff6_827c_11ec_9826_0242ac1c0002row9_col27\" class=\"data row9 col27\" >0</td>\n",
              "            </tr>\n",
              "            <tr>\n",
              "                        <th id=\"T_ad7eeff6_827c_11ec_9826_0242ac1c0002level0_row10\" class=\"row_heading level0 row10\" >10</th>\n",
              "                        <td id=\"T_ad7eeff6_827c_11ec_9826_0242ac1c0002row10_col0\" class=\"data row10 col0\" >0</td>\n",
              "                        <td id=\"T_ad7eeff6_827c_11ec_9826_0242ac1c0002row10_col1\" class=\"data row10 col1\" >0</td>\n",
              "                        <td id=\"T_ad7eeff6_827c_11ec_9826_0242ac1c0002row10_col2\" class=\"data row10 col2\" >0</td>\n",
              "                        <td id=\"T_ad7eeff6_827c_11ec_9826_0242ac1c0002row10_col3\" class=\"data row10 col3\" >0</td>\n",
              "                        <td id=\"T_ad7eeff6_827c_11ec_9826_0242ac1c0002row10_col4\" class=\"data row10 col4\" >0</td>\n",
              "                        <td id=\"T_ad7eeff6_827c_11ec_9826_0242ac1c0002row10_col5\" class=\"data row10 col5\" >0</td>\n",
              "                        <td id=\"T_ad7eeff6_827c_11ec_9826_0242ac1c0002row10_col6\" class=\"data row10 col6\" >0</td>\n",
              "                        <td id=\"T_ad7eeff6_827c_11ec_9826_0242ac1c0002row10_col7\" class=\"data row10 col7\" >0</td>\n",
              "                        <td id=\"T_ad7eeff6_827c_11ec_9826_0242ac1c0002row10_col8\" class=\"data row10 col8\" >0</td>\n",
              "                        <td id=\"T_ad7eeff6_827c_11ec_9826_0242ac1c0002row10_col9\" class=\"data row10 col9\" >0</td>\n",
              "                        <td id=\"T_ad7eeff6_827c_11ec_9826_0242ac1c0002row10_col10\" class=\"data row10 col10\" >0</td>\n",
              "                        <td id=\"T_ad7eeff6_827c_11ec_9826_0242ac1c0002row10_col11\" class=\"data row10 col11\" >0</td>\n",
              "                        <td id=\"T_ad7eeff6_827c_11ec_9826_0242ac1c0002row10_col12\" class=\"data row10 col12\" >0</td>\n",
              "                        <td id=\"T_ad7eeff6_827c_11ec_9826_0242ac1c0002row10_col13\" class=\"data row10 col13\" >0</td>\n",
              "                        <td id=\"T_ad7eeff6_827c_11ec_9826_0242ac1c0002row10_col14\" class=\"data row10 col14\" >249</td>\n",
              "                        <td id=\"T_ad7eeff6_827c_11ec_9826_0242ac1c0002row10_col15\" class=\"data row10 col15\" >253</td>\n",
              "                        <td id=\"T_ad7eeff6_827c_11ec_9826_0242ac1c0002row10_col16\" class=\"data row10 col16\" >245</td>\n",
              "                        <td id=\"T_ad7eeff6_827c_11ec_9826_0242ac1c0002row10_col17\" class=\"data row10 col17\" >126</td>\n",
              "                        <td id=\"T_ad7eeff6_827c_11ec_9826_0242ac1c0002row10_col18\" class=\"data row10 col18\" >0</td>\n",
              "                        <td id=\"T_ad7eeff6_827c_11ec_9826_0242ac1c0002row10_col19\" class=\"data row10 col19\" >0</td>\n",
              "                        <td id=\"T_ad7eeff6_827c_11ec_9826_0242ac1c0002row10_col20\" class=\"data row10 col20\" >0</td>\n",
              "                        <td id=\"T_ad7eeff6_827c_11ec_9826_0242ac1c0002row10_col21\" class=\"data row10 col21\" >0</td>\n",
              "                        <td id=\"T_ad7eeff6_827c_11ec_9826_0242ac1c0002row10_col22\" class=\"data row10 col22\" >0</td>\n",
              "                        <td id=\"T_ad7eeff6_827c_11ec_9826_0242ac1c0002row10_col23\" class=\"data row10 col23\" >0</td>\n",
              "                        <td id=\"T_ad7eeff6_827c_11ec_9826_0242ac1c0002row10_col24\" class=\"data row10 col24\" >0</td>\n",
              "                        <td id=\"T_ad7eeff6_827c_11ec_9826_0242ac1c0002row10_col25\" class=\"data row10 col25\" >0</td>\n",
              "                        <td id=\"T_ad7eeff6_827c_11ec_9826_0242ac1c0002row10_col26\" class=\"data row10 col26\" >0</td>\n",
              "                        <td id=\"T_ad7eeff6_827c_11ec_9826_0242ac1c0002row10_col27\" class=\"data row10 col27\" >0</td>\n",
              "            </tr>\n",
              "            <tr>\n",
              "                        <th id=\"T_ad7eeff6_827c_11ec_9826_0242ac1c0002level0_row11\" class=\"row_heading level0 row11\" >11</th>\n",
              "                        <td id=\"T_ad7eeff6_827c_11ec_9826_0242ac1c0002row11_col0\" class=\"data row11 col0\" >0</td>\n",
              "                        <td id=\"T_ad7eeff6_827c_11ec_9826_0242ac1c0002row11_col1\" class=\"data row11 col1\" >0</td>\n",
              "                        <td id=\"T_ad7eeff6_827c_11ec_9826_0242ac1c0002row11_col2\" class=\"data row11 col2\" >0</td>\n",
              "                        <td id=\"T_ad7eeff6_827c_11ec_9826_0242ac1c0002row11_col3\" class=\"data row11 col3\" >0</td>\n",
              "                        <td id=\"T_ad7eeff6_827c_11ec_9826_0242ac1c0002row11_col4\" class=\"data row11 col4\" >0</td>\n",
              "                        <td id=\"T_ad7eeff6_827c_11ec_9826_0242ac1c0002row11_col5\" class=\"data row11 col5\" >0</td>\n",
              "                        <td id=\"T_ad7eeff6_827c_11ec_9826_0242ac1c0002row11_col6\" class=\"data row11 col6\" >0</td>\n",
              "                        <td id=\"T_ad7eeff6_827c_11ec_9826_0242ac1c0002row11_col7\" class=\"data row11 col7\" >0</td>\n",
              "                        <td id=\"T_ad7eeff6_827c_11ec_9826_0242ac1c0002row11_col8\" class=\"data row11 col8\" >0</td>\n",
              "                        <td id=\"T_ad7eeff6_827c_11ec_9826_0242ac1c0002row11_col9\" class=\"data row11 col9\" >0</td>\n",
              "                        <td id=\"T_ad7eeff6_827c_11ec_9826_0242ac1c0002row11_col10\" class=\"data row11 col10\" >0</td>\n",
              "                        <td id=\"T_ad7eeff6_827c_11ec_9826_0242ac1c0002row11_col11\" class=\"data row11 col11\" >14</td>\n",
              "                        <td id=\"T_ad7eeff6_827c_11ec_9826_0242ac1c0002row11_col12\" class=\"data row11 col12\" >101</td>\n",
              "                        <td id=\"T_ad7eeff6_827c_11ec_9826_0242ac1c0002row11_col13\" class=\"data row11 col13\" >223</td>\n",
              "                        <td id=\"T_ad7eeff6_827c_11ec_9826_0242ac1c0002row11_col14\" class=\"data row11 col14\" >253</td>\n",
              "                        <td id=\"T_ad7eeff6_827c_11ec_9826_0242ac1c0002row11_col15\" class=\"data row11 col15\" >248</td>\n",
              "                        <td id=\"T_ad7eeff6_827c_11ec_9826_0242ac1c0002row11_col16\" class=\"data row11 col16\" >124</td>\n",
              "                        <td id=\"T_ad7eeff6_827c_11ec_9826_0242ac1c0002row11_col17\" class=\"data row11 col17\" >0</td>\n",
              "                        <td id=\"T_ad7eeff6_827c_11ec_9826_0242ac1c0002row11_col18\" class=\"data row11 col18\" >0</td>\n",
              "                        <td id=\"T_ad7eeff6_827c_11ec_9826_0242ac1c0002row11_col19\" class=\"data row11 col19\" >0</td>\n",
              "                        <td id=\"T_ad7eeff6_827c_11ec_9826_0242ac1c0002row11_col20\" class=\"data row11 col20\" >0</td>\n",
              "                        <td id=\"T_ad7eeff6_827c_11ec_9826_0242ac1c0002row11_col21\" class=\"data row11 col21\" >0</td>\n",
              "                        <td id=\"T_ad7eeff6_827c_11ec_9826_0242ac1c0002row11_col22\" class=\"data row11 col22\" >0</td>\n",
              "                        <td id=\"T_ad7eeff6_827c_11ec_9826_0242ac1c0002row11_col23\" class=\"data row11 col23\" >0</td>\n",
              "                        <td id=\"T_ad7eeff6_827c_11ec_9826_0242ac1c0002row11_col24\" class=\"data row11 col24\" >0</td>\n",
              "                        <td id=\"T_ad7eeff6_827c_11ec_9826_0242ac1c0002row11_col25\" class=\"data row11 col25\" >0</td>\n",
              "                        <td id=\"T_ad7eeff6_827c_11ec_9826_0242ac1c0002row11_col26\" class=\"data row11 col26\" >0</td>\n",
              "                        <td id=\"T_ad7eeff6_827c_11ec_9826_0242ac1c0002row11_col27\" class=\"data row11 col27\" >0</td>\n",
              "            </tr>\n",
              "            <tr>\n",
              "                        <th id=\"T_ad7eeff6_827c_11ec_9826_0242ac1c0002level0_row12\" class=\"row_heading level0 row12\" >12</th>\n",
              "                        <td id=\"T_ad7eeff6_827c_11ec_9826_0242ac1c0002row12_col0\" class=\"data row12 col0\" >0</td>\n",
              "                        <td id=\"T_ad7eeff6_827c_11ec_9826_0242ac1c0002row12_col1\" class=\"data row12 col1\" >0</td>\n",
              "                        <td id=\"T_ad7eeff6_827c_11ec_9826_0242ac1c0002row12_col2\" class=\"data row12 col2\" >0</td>\n",
              "                        <td id=\"T_ad7eeff6_827c_11ec_9826_0242ac1c0002row12_col3\" class=\"data row12 col3\" >0</td>\n",
              "                        <td id=\"T_ad7eeff6_827c_11ec_9826_0242ac1c0002row12_col4\" class=\"data row12 col4\" >0</td>\n",
              "                        <td id=\"T_ad7eeff6_827c_11ec_9826_0242ac1c0002row12_col5\" class=\"data row12 col5\" >0</td>\n",
              "                        <td id=\"T_ad7eeff6_827c_11ec_9826_0242ac1c0002row12_col6\" class=\"data row12 col6\" >0</td>\n",
              "                        <td id=\"T_ad7eeff6_827c_11ec_9826_0242ac1c0002row12_col7\" class=\"data row12 col7\" >0</td>\n",
              "                        <td id=\"T_ad7eeff6_827c_11ec_9826_0242ac1c0002row12_col8\" class=\"data row12 col8\" >0</td>\n",
              "                        <td id=\"T_ad7eeff6_827c_11ec_9826_0242ac1c0002row12_col9\" class=\"data row12 col9\" >11</td>\n",
              "                        <td id=\"T_ad7eeff6_827c_11ec_9826_0242ac1c0002row12_col10\" class=\"data row12 col10\" >166</td>\n",
              "                        <td id=\"T_ad7eeff6_827c_11ec_9826_0242ac1c0002row12_col11\" class=\"data row12 col11\" >239</td>\n",
              "                        <td id=\"T_ad7eeff6_827c_11ec_9826_0242ac1c0002row12_col12\" class=\"data row12 col12\" >253</td>\n",
              "                        <td id=\"T_ad7eeff6_827c_11ec_9826_0242ac1c0002row12_col13\" class=\"data row12 col13\" >253</td>\n",
              "                        <td id=\"T_ad7eeff6_827c_11ec_9826_0242ac1c0002row12_col14\" class=\"data row12 col14\" >253</td>\n",
              "                        <td id=\"T_ad7eeff6_827c_11ec_9826_0242ac1c0002row12_col15\" class=\"data row12 col15\" >187</td>\n",
              "                        <td id=\"T_ad7eeff6_827c_11ec_9826_0242ac1c0002row12_col16\" class=\"data row12 col16\" >30</td>\n",
              "                        <td id=\"T_ad7eeff6_827c_11ec_9826_0242ac1c0002row12_col17\" class=\"data row12 col17\" >0</td>\n",
              "                        <td id=\"T_ad7eeff6_827c_11ec_9826_0242ac1c0002row12_col18\" class=\"data row12 col18\" >0</td>\n",
              "                        <td id=\"T_ad7eeff6_827c_11ec_9826_0242ac1c0002row12_col19\" class=\"data row12 col19\" >0</td>\n",
              "                        <td id=\"T_ad7eeff6_827c_11ec_9826_0242ac1c0002row12_col20\" class=\"data row12 col20\" >0</td>\n",
              "                        <td id=\"T_ad7eeff6_827c_11ec_9826_0242ac1c0002row12_col21\" class=\"data row12 col21\" >0</td>\n",
              "                        <td id=\"T_ad7eeff6_827c_11ec_9826_0242ac1c0002row12_col22\" class=\"data row12 col22\" >0</td>\n",
              "                        <td id=\"T_ad7eeff6_827c_11ec_9826_0242ac1c0002row12_col23\" class=\"data row12 col23\" >0</td>\n",
              "                        <td id=\"T_ad7eeff6_827c_11ec_9826_0242ac1c0002row12_col24\" class=\"data row12 col24\" >0</td>\n",
              "                        <td id=\"T_ad7eeff6_827c_11ec_9826_0242ac1c0002row12_col25\" class=\"data row12 col25\" >0</td>\n",
              "                        <td id=\"T_ad7eeff6_827c_11ec_9826_0242ac1c0002row12_col26\" class=\"data row12 col26\" >0</td>\n",
              "                        <td id=\"T_ad7eeff6_827c_11ec_9826_0242ac1c0002row12_col27\" class=\"data row12 col27\" >0</td>\n",
              "            </tr>\n",
              "            <tr>\n",
              "                        <th id=\"T_ad7eeff6_827c_11ec_9826_0242ac1c0002level0_row13\" class=\"row_heading level0 row13\" >13</th>\n",
              "                        <td id=\"T_ad7eeff6_827c_11ec_9826_0242ac1c0002row13_col0\" class=\"data row13 col0\" >0</td>\n",
              "                        <td id=\"T_ad7eeff6_827c_11ec_9826_0242ac1c0002row13_col1\" class=\"data row13 col1\" >0</td>\n",
              "                        <td id=\"T_ad7eeff6_827c_11ec_9826_0242ac1c0002row13_col2\" class=\"data row13 col2\" >0</td>\n",
              "                        <td id=\"T_ad7eeff6_827c_11ec_9826_0242ac1c0002row13_col3\" class=\"data row13 col3\" >0</td>\n",
              "                        <td id=\"T_ad7eeff6_827c_11ec_9826_0242ac1c0002row13_col4\" class=\"data row13 col4\" >0</td>\n",
              "                        <td id=\"T_ad7eeff6_827c_11ec_9826_0242ac1c0002row13_col5\" class=\"data row13 col5\" >0</td>\n",
              "                        <td id=\"T_ad7eeff6_827c_11ec_9826_0242ac1c0002row13_col6\" class=\"data row13 col6\" >0</td>\n",
              "                        <td id=\"T_ad7eeff6_827c_11ec_9826_0242ac1c0002row13_col7\" class=\"data row13 col7\" >0</td>\n",
              "                        <td id=\"T_ad7eeff6_827c_11ec_9826_0242ac1c0002row13_col8\" class=\"data row13 col8\" >0</td>\n",
              "                        <td id=\"T_ad7eeff6_827c_11ec_9826_0242ac1c0002row13_col9\" class=\"data row13 col9\" >16</td>\n",
              "                        <td id=\"T_ad7eeff6_827c_11ec_9826_0242ac1c0002row13_col10\" class=\"data row13 col10\" >248</td>\n",
              "                        <td id=\"T_ad7eeff6_827c_11ec_9826_0242ac1c0002row13_col11\" class=\"data row13 col11\" >250</td>\n",
              "                        <td id=\"T_ad7eeff6_827c_11ec_9826_0242ac1c0002row13_col12\" class=\"data row13 col12\" >253</td>\n",
              "                        <td id=\"T_ad7eeff6_827c_11ec_9826_0242ac1c0002row13_col13\" class=\"data row13 col13\" >253</td>\n",
              "                        <td id=\"T_ad7eeff6_827c_11ec_9826_0242ac1c0002row13_col14\" class=\"data row13 col14\" >253</td>\n",
              "                        <td id=\"T_ad7eeff6_827c_11ec_9826_0242ac1c0002row13_col15\" class=\"data row13 col15\" >253</td>\n",
              "                        <td id=\"T_ad7eeff6_827c_11ec_9826_0242ac1c0002row13_col16\" class=\"data row13 col16\" >232</td>\n",
              "                        <td id=\"T_ad7eeff6_827c_11ec_9826_0242ac1c0002row13_col17\" class=\"data row13 col17\" >213</td>\n",
              "                        <td id=\"T_ad7eeff6_827c_11ec_9826_0242ac1c0002row13_col18\" class=\"data row13 col18\" >111</td>\n",
              "                        <td id=\"T_ad7eeff6_827c_11ec_9826_0242ac1c0002row13_col19\" class=\"data row13 col19\" >2</td>\n",
              "                        <td id=\"T_ad7eeff6_827c_11ec_9826_0242ac1c0002row13_col20\" class=\"data row13 col20\" >0</td>\n",
              "                        <td id=\"T_ad7eeff6_827c_11ec_9826_0242ac1c0002row13_col21\" class=\"data row13 col21\" >0</td>\n",
              "                        <td id=\"T_ad7eeff6_827c_11ec_9826_0242ac1c0002row13_col22\" class=\"data row13 col22\" >0</td>\n",
              "                        <td id=\"T_ad7eeff6_827c_11ec_9826_0242ac1c0002row13_col23\" class=\"data row13 col23\" >0</td>\n",
              "                        <td id=\"T_ad7eeff6_827c_11ec_9826_0242ac1c0002row13_col24\" class=\"data row13 col24\" >0</td>\n",
              "                        <td id=\"T_ad7eeff6_827c_11ec_9826_0242ac1c0002row13_col25\" class=\"data row13 col25\" >0</td>\n",
              "                        <td id=\"T_ad7eeff6_827c_11ec_9826_0242ac1c0002row13_col26\" class=\"data row13 col26\" >0</td>\n",
              "                        <td id=\"T_ad7eeff6_827c_11ec_9826_0242ac1c0002row13_col27\" class=\"data row13 col27\" >0</td>\n",
              "            </tr>\n",
              "            <tr>\n",
              "                        <th id=\"T_ad7eeff6_827c_11ec_9826_0242ac1c0002level0_row14\" class=\"row_heading level0 row14\" >14</th>\n",
              "                        <td id=\"T_ad7eeff6_827c_11ec_9826_0242ac1c0002row14_col0\" class=\"data row14 col0\" >0</td>\n",
              "                        <td id=\"T_ad7eeff6_827c_11ec_9826_0242ac1c0002row14_col1\" class=\"data row14 col1\" >0</td>\n",
              "                        <td id=\"T_ad7eeff6_827c_11ec_9826_0242ac1c0002row14_col2\" class=\"data row14 col2\" >0</td>\n",
              "                        <td id=\"T_ad7eeff6_827c_11ec_9826_0242ac1c0002row14_col3\" class=\"data row14 col3\" >0</td>\n",
              "                        <td id=\"T_ad7eeff6_827c_11ec_9826_0242ac1c0002row14_col4\" class=\"data row14 col4\" >0</td>\n",
              "                        <td id=\"T_ad7eeff6_827c_11ec_9826_0242ac1c0002row14_col5\" class=\"data row14 col5\" >0</td>\n",
              "                        <td id=\"T_ad7eeff6_827c_11ec_9826_0242ac1c0002row14_col6\" class=\"data row14 col6\" >0</td>\n",
              "                        <td id=\"T_ad7eeff6_827c_11ec_9826_0242ac1c0002row14_col7\" class=\"data row14 col7\" >0</td>\n",
              "                        <td id=\"T_ad7eeff6_827c_11ec_9826_0242ac1c0002row14_col8\" class=\"data row14 col8\" >0</td>\n",
              "                        <td id=\"T_ad7eeff6_827c_11ec_9826_0242ac1c0002row14_col9\" class=\"data row14 col9\" >0</td>\n",
              "                        <td id=\"T_ad7eeff6_827c_11ec_9826_0242ac1c0002row14_col10\" class=\"data row14 col10\" >0</td>\n",
              "                        <td id=\"T_ad7eeff6_827c_11ec_9826_0242ac1c0002row14_col11\" class=\"data row14 col11\" >43</td>\n",
              "                        <td id=\"T_ad7eeff6_827c_11ec_9826_0242ac1c0002row14_col12\" class=\"data row14 col12\" >98</td>\n",
              "                        <td id=\"T_ad7eeff6_827c_11ec_9826_0242ac1c0002row14_col13\" class=\"data row14 col13\" >98</td>\n",
              "                        <td id=\"T_ad7eeff6_827c_11ec_9826_0242ac1c0002row14_col14\" class=\"data row14 col14\" >208</td>\n",
              "                        <td id=\"T_ad7eeff6_827c_11ec_9826_0242ac1c0002row14_col15\" class=\"data row14 col15\" >253</td>\n",
              "                        <td id=\"T_ad7eeff6_827c_11ec_9826_0242ac1c0002row14_col16\" class=\"data row14 col16\" >253</td>\n",
              "                        <td id=\"T_ad7eeff6_827c_11ec_9826_0242ac1c0002row14_col17\" class=\"data row14 col17\" >253</td>\n",
              "                        <td id=\"T_ad7eeff6_827c_11ec_9826_0242ac1c0002row14_col18\" class=\"data row14 col18\" >253</td>\n",
              "                        <td id=\"T_ad7eeff6_827c_11ec_9826_0242ac1c0002row14_col19\" class=\"data row14 col19\" >187</td>\n",
              "                        <td id=\"T_ad7eeff6_827c_11ec_9826_0242ac1c0002row14_col20\" class=\"data row14 col20\" >22</td>\n",
              "                        <td id=\"T_ad7eeff6_827c_11ec_9826_0242ac1c0002row14_col21\" class=\"data row14 col21\" >0</td>\n",
              "                        <td id=\"T_ad7eeff6_827c_11ec_9826_0242ac1c0002row14_col22\" class=\"data row14 col22\" >0</td>\n",
              "                        <td id=\"T_ad7eeff6_827c_11ec_9826_0242ac1c0002row14_col23\" class=\"data row14 col23\" >0</td>\n",
              "                        <td id=\"T_ad7eeff6_827c_11ec_9826_0242ac1c0002row14_col24\" class=\"data row14 col24\" >0</td>\n",
              "                        <td id=\"T_ad7eeff6_827c_11ec_9826_0242ac1c0002row14_col25\" class=\"data row14 col25\" >0</td>\n",
              "                        <td id=\"T_ad7eeff6_827c_11ec_9826_0242ac1c0002row14_col26\" class=\"data row14 col26\" >0</td>\n",
              "                        <td id=\"T_ad7eeff6_827c_11ec_9826_0242ac1c0002row14_col27\" class=\"data row14 col27\" >0</td>\n",
              "            </tr>\n",
              "            <tr>\n",
              "                        <th id=\"T_ad7eeff6_827c_11ec_9826_0242ac1c0002level0_row15\" class=\"row_heading level0 row15\" >15</th>\n",
              "                        <td id=\"T_ad7eeff6_827c_11ec_9826_0242ac1c0002row15_col0\" class=\"data row15 col0\" >0</td>\n",
              "                        <td id=\"T_ad7eeff6_827c_11ec_9826_0242ac1c0002row15_col1\" class=\"data row15 col1\" >0</td>\n",
              "                        <td id=\"T_ad7eeff6_827c_11ec_9826_0242ac1c0002row15_col2\" class=\"data row15 col2\" >0</td>\n",
              "                        <td id=\"T_ad7eeff6_827c_11ec_9826_0242ac1c0002row15_col3\" class=\"data row15 col3\" >0</td>\n",
              "                        <td id=\"T_ad7eeff6_827c_11ec_9826_0242ac1c0002row15_col4\" class=\"data row15 col4\" >0</td>\n",
              "                        <td id=\"T_ad7eeff6_827c_11ec_9826_0242ac1c0002row15_col5\" class=\"data row15 col5\" >0</td>\n",
              "                        <td id=\"T_ad7eeff6_827c_11ec_9826_0242ac1c0002row15_col6\" class=\"data row15 col6\" >0</td>\n",
              "                        <td id=\"T_ad7eeff6_827c_11ec_9826_0242ac1c0002row15_col7\" class=\"data row15 col7\" >0</td>\n",
              "                        <td id=\"T_ad7eeff6_827c_11ec_9826_0242ac1c0002row15_col8\" class=\"data row15 col8\" >0</td>\n",
              "                        <td id=\"T_ad7eeff6_827c_11ec_9826_0242ac1c0002row15_col9\" class=\"data row15 col9\" >0</td>\n",
              "                        <td id=\"T_ad7eeff6_827c_11ec_9826_0242ac1c0002row15_col10\" class=\"data row15 col10\" >0</td>\n",
              "                        <td id=\"T_ad7eeff6_827c_11ec_9826_0242ac1c0002row15_col11\" class=\"data row15 col11\" >0</td>\n",
              "                        <td id=\"T_ad7eeff6_827c_11ec_9826_0242ac1c0002row15_col12\" class=\"data row15 col12\" >0</td>\n",
              "                        <td id=\"T_ad7eeff6_827c_11ec_9826_0242ac1c0002row15_col13\" class=\"data row15 col13\" >0</td>\n",
              "                        <td id=\"T_ad7eeff6_827c_11ec_9826_0242ac1c0002row15_col14\" class=\"data row15 col14\" >9</td>\n",
              "                        <td id=\"T_ad7eeff6_827c_11ec_9826_0242ac1c0002row15_col15\" class=\"data row15 col15\" >51</td>\n",
              "                        <td id=\"T_ad7eeff6_827c_11ec_9826_0242ac1c0002row15_col16\" class=\"data row15 col16\" >119</td>\n",
              "                        <td id=\"T_ad7eeff6_827c_11ec_9826_0242ac1c0002row15_col17\" class=\"data row15 col17\" >253</td>\n",
              "                        <td id=\"T_ad7eeff6_827c_11ec_9826_0242ac1c0002row15_col18\" class=\"data row15 col18\" >253</td>\n",
              "                        <td id=\"T_ad7eeff6_827c_11ec_9826_0242ac1c0002row15_col19\" class=\"data row15 col19\" >253</td>\n",
              "                        <td id=\"T_ad7eeff6_827c_11ec_9826_0242ac1c0002row15_col20\" class=\"data row15 col20\" >76</td>\n",
              "                        <td id=\"T_ad7eeff6_827c_11ec_9826_0242ac1c0002row15_col21\" class=\"data row15 col21\" >0</td>\n",
              "                        <td id=\"T_ad7eeff6_827c_11ec_9826_0242ac1c0002row15_col22\" class=\"data row15 col22\" >0</td>\n",
              "                        <td id=\"T_ad7eeff6_827c_11ec_9826_0242ac1c0002row15_col23\" class=\"data row15 col23\" >0</td>\n",
              "                        <td id=\"T_ad7eeff6_827c_11ec_9826_0242ac1c0002row15_col24\" class=\"data row15 col24\" >0</td>\n",
              "                        <td id=\"T_ad7eeff6_827c_11ec_9826_0242ac1c0002row15_col25\" class=\"data row15 col25\" >0</td>\n",
              "                        <td id=\"T_ad7eeff6_827c_11ec_9826_0242ac1c0002row15_col26\" class=\"data row15 col26\" >0</td>\n",
              "                        <td id=\"T_ad7eeff6_827c_11ec_9826_0242ac1c0002row15_col27\" class=\"data row15 col27\" >0</td>\n",
              "            </tr>\n",
              "            <tr>\n",
              "                        <th id=\"T_ad7eeff6_827c_11ec_9826_0242ac1c0002level0_row16\" class=\"row_heading level0 row16\" >16</th>\n",
              "                        <td id=\"T_ad7eeff6_827c_11ec_9826_0242ac1c0002row16_col0\" class=\"data row16 col0\" >0</td>\n",
              "                        <td id=\"T_ad7eeff6_827c_11ec_9826_0242ac1c0002row16_col1\" class=\"data row16 col1\" >0</td>\n",
              "                        <td id=\"T_ad7eeff6_827c_11ec_9826_0242ac1c0002row16_col2\" class=\"data row16 col2\" >0</td>\n",
              "                        <td id=\"T_ad7eeff6_827c_11ec_9826_0242ac1c0002row16_col3\" class=\"data row16 col3\" >0</td>\n",
              "                        <td id=\"T_ad7eeff6_827c_11ec_9826_0242ac1c0002row16_col4\" class=\"data row16 col4\" >0</td>\n",
              "                        <td id=\"T_ad7eeff6_827c_11ec_9826_0242ac1c0002row16_col5\" class=\"data row16 col5\" >0</td>\n",
              "                        <td id=\"T_ad7eeff6_827c_11ec_9826_0242ac1c0002row16_col6\" class=\"data row16 col6\" >0</td>\n",
              "                        <td id=\"T_ad7eeff6_827c_11ec_9826_0242ac1c0002row16_col7\" class=\"data row16 col7\" >0</td>\n",
              "                        <td id=\"T_ad7eeff6_827c_11ec_9826_0242ac1c0002row16_col8\" class=\"data row16 col8\" >0</td>\n",
              "                        <td id=\"T_ad7eeff6_827c_11ec_9826_0242ac1c0002row16_col9\" class=\"data row16 col9\" >0</td>\n",
              "                        <td id=\"T_ad7eeff6_827c_11ec_9826_0242ac1c0002row16_col10\" class=\"data row16 col10\" >0</td>\n",
              "                        <td id=\"T_ad7eeff6_827c_11ec_9826_0242ac1c0002row16_col11\" class=\"data row16 col11\" >0</td>\n",
              "                        <td id=\"T_ad7eeff6_827c_11ec_9826_0242ac1c0002row16_col12\" class=\"data row16 col12\" >0</td>\n",
              "                        <td id=\"T_ad7eeff6_827c_11ec_9826_0242ac1c0002row16_col13\" class=\"data row16 col13\" >0</td>\n",
              "                        <td id=\"T_ad7eeff6_827c_11ec_9826_0242ac1c0002row16_col14\" class=\"data row16 col14\" >0</td>\n",
              "                        <td id=\"T_ad7eeff6_827c_11ec_9826_0242ac1c0002row16_col15\" class=\"data row16 col15\" >0</td>\n",
              "                        <td id=\"T_ad7eeff6_827c_11ec_9826_0242ac1c0002row16_col16\" class=\"data row16 col16\" >1</td>\n",
              "                        <td id=\"T_ad7eeff6_827c_11ec_9826_0242ac1c0002row16_col17\" class=\"data row16 col17\" >183</td>\n",
              "                        <td id=\"T_ad7eeff6_827c_11ec_9826_0242ac1c0002row16_col18\" class=\"data row16 col18\" >253</td>\n",
              "                        <td id=\"T_ad7eeff6_827c_11ec_9826_0242ac1c0002row16_col19\" class=\"data row16 col19\" >253</td>\n",
              "                        <td id=\"T_ad7eeff6_827c_11ec_9826_0242ac1c0002row16_col20\" class=\"data row16 col20\" >139</td>\n",
              "                        <td id=\"T_ad7eeff6_827c_11ec_9826_0242ac1c0002row16_col21\" class=\"data row16 col21\" >0</td>\n",
              "                        <td id=\"T_ad7eeff6_827c_11ec_9826_0242ac1c0002row16_col22\" class=\"data row16 col22\" >0</td>\n",
              "                        <td id=\"T_ad7eeff6_827c_11ec_9826_0242ac1c0002row16_col23\" class=\"data row16 col23\" >0</td>\n",
              "                        <td id=\"T_ad7eeff6_827c_11ec_9826_0242ac1c0002row16_col24\" class=\"data row16 col24\" >0</td>\n",
              "                        <td id=\"T_ad7eeff6_827c_11ec_9826_0242ac1c0002row16_col25\" class=\"data row16 col25\" >0</td>\n",
              "                        <td id=\"T_ad7eeff6_827c_11ec_9826_0242ac1c0002row16_col26\" class=\"data row16 col26\" >0</td>\n",
              "                        <td id=\"T_ad7eeff6_827c_11ec_9826_0242ac1c0002row16_col27\" class=\"data row16 col27\" >0</td>\n",
              "            </tr>\n",
              "            <tr>\n",
              "                        <th id=\"T_ad7eeff6_827c_11ec_9826_0242ac1c0002level0_row17\" class=\"row_heading level0 row17\" >17</th>\n",
              "                        <td id=\"T_ad7eeff6_827c_11ec_9826_0242ac1c0002row17_col0\" class=\"data row17 col0\" >0</td>\n",
              "                        <td id=\"T_ad7eeff6_827c_11ec_9826_0242ac1c0002row17_col1\" class=\"data row17 col1\" >0</td>\n",
              "                        <td id=\"T_ad7eeff6_827c_11ec_9826_0242ac1c0002row17_col2\" class=\"data row17 col2\" >0</td>\n",
              "                        <td id=\"T_ad7eeff6_827c_11ec_9826_0242ac1c0002row17_col3\" class=\"data row17 col3\" >0</td>\n",
              "                        <td id=\"T_ad7eeff6_827c_11ec_9826_0242ac1c0002row17_col4\" class=\"data row17 col4\" >0</td>\n",
              "                        <td id=\"T_ad7eeff6_827c_11ec_9826_0242ac1c0002row17_col5\" class=\"data row17 col5\" >0</td>\n",
              "                        <td id=\"T_ad7eeff6_827c_11ec_9826_0242ac1c0002row17_col6\" class=\"data row17 col6\" >0</td>\n",
              "                        <td id=\"T_ad7eeff6_827c_11ec_9826_0242ac1c0002row17_col7\" class=\"data row17 col7\" >0</td>\n",
              "                        <td id=\"T_ad7eeff6_827c_11ec_9826_0242ac1c0002row17_col8\" class=\"data row17 col8\" >0</td>\n",
              "                        <td id=\"T_ad7eeff6_827c_11ec_9826_0242ac1c0002row17_col9\" class=\"data row17 col9\" >0</td>\n",
              "                        <td id=\"T_ad7eeff6_827c_11ec_9826_0242ac1c0002row17_col10\" class=\"data row17 col10\" >0</td>\n",
              "                        <td id=\"T_ad7eeff6_827c_11ec_9826_0242ac1c0002row17_col11\" class=\"data row17 col11\" >0</td>\n",
              "                        <td id=\"T_ad7eeff6_827c_11ec_9826_0242ac1c0002row17_col12\" class=\"data row17 col12\" >0</td>\n",
              "                        <td id=\"T_ad7eeff6_827c_11ec_9826_0242ac1c0002row17_col13\" class=\"data row17 col13\" >0</td>\n",
              "                        <td id=\"T_ad7eeff6_827c_11ec_9826_0242ac1c0002row17_col14\" class=\"data row17 col14\" >0</td>\n",
              "                        <td id=\"T_ad7eeff6_827c_11ec_9826_0242ac1c0002row17_col15\" class=\"data row17 col15\" >0</td>\n",
              "                        <td id=\"T_ad7eeff6_827c_11ec_9826_0242ac1c0002row17_col16\" class=\"data row17 col16\" >0</td>\n",
              "                        <td id=\"T_ad7eeff6_827c_11ec_9826_0242ac1c0002row17_col17\" class=\"data row17 col17\" >182</td>\n",
              "                        <td id=\"T_ad7eeff6_827c_11ec_9826_0242ac1c0002row17_col18\" class=\"data row17 col18\" >253</td>\n",
              "                        <td id=\"T_ad7eeff6_827c_11ec_9826_0242ac1c0002row17_col19\" class=\"data row17 col19\" >253</td>\n",
              "                        <td id=\"T_ad7eeff6_827c_11ec_9826_0242ac1c0002row17_col20\" class=\"data row17 col20\" >104</td>\n",
              "                        <td id=\"T_ad7eeff6_827c_11ec_9826_0242ac1c0002row17_col21\" class=\"data row17 col21\" >0</td>\n",
              "                        <td id=\"T_ad7eeff6_827c_11ec_9826_0242ac1c0002row17_col22\" class=\"data row17 col22\" >0</td>\n",
              "                        <td id=\"T_ad7eeff6_827c_11ec_9826_0242ac1c0002row17_col23\" class=\"data row17 col23\" >0</td>\n",
              "                        <td id=\"T_ad7eeff6_827c_11ec_9826_0242ac1c0002row17_col24\" class=\"data row17 col24\" >0</td>\n",
              "                        <td id=\"T_ad7eeff6_827c_11ec_9826_0242ac1c0002row17_col25\" class=\"data row17 col25\" >0</td>\n",
              "                        <td id=\"T_ad7eeff6_827c_11ec_9826_0242ac1c0002row17_col26\" class=\"data row17 col26\" >0</td>\n",
              "                        <td id=\"T_ad7eeff6_827c_11ec_9826_0242ac1c0002row17_col27\" class=\"data row17 col27\" >0</td>\n",
              "            </tr>\n",
              "            <tr>\n",
              "                        <th id=\"T_ad7eeff6_827c_11ec_9826_0242ac1c0002level0_row18\" class=\"row_heading level0 row18\" >18</th>\n",
              "                        <td id=\"T_ad7eeff6_827c_11ec_9826_0242ac1c0002row18_col0\" class=\"data row18 col0\" >0</td>\n",
              "                        <td id=\"T_ad7eeff6_827c_11ec_9826_0242ac1c0002row18_col1\" class=\"data row18 col1\" >0</td>\n",
              "                        <td id=\"T_ad7eeff6_827c_11ec_9826_0242ac1c0002row18_col2\" class=\"data row18 col2\" >0</td>\n",
              "                        <td id=\"T_ad7eeff6_827c_11ec_9826_0242ac1c0002row18_col3\" class=\"data row18 col3\" >0</td>\n",
              "                        <td id=\"T_ad7eeff6_827c_11ec_9826_0242ac1c0002row18_col4\" class=\"data row18 col4\" >0</td>\n",
              "                        <td id=\"T_ad7eeff6_827c_11ec_9826_0242ac1c0002row18_col5\" class=\"data row18 col5\" >0</td>\n",
              "                        <td id=\"T_ad7eeff6_827c_11ec_9826_0242ac1c0002row18_col6\" class=\"data row18 col6\" >0</td>\n",
              "                        <td id=\"T_ad7eeff6_827c_11ec_9826_0242ac1c0002row18_col7\" class=\"data row18 col7\" >0</td>\n",
              "                        <td id=\"T_ad7eeff6_827c_11ec_9826_0242ac1c0002row18_col8\" class=\"data row18 col8\" >0</td>\n",
              "                        <td id=\"T_ad7eeff6_827c_11ec_9826_0242ac1c0002row18_col9\" class=\"data row18 col9\" >0</td>\n",
              "                        <td id=\"T_ad7eeff6_827c_11ec_9826_0242ac1c0002row18_col10\" class=\"data row18 col10\" >0</td>\n",
              "                        <td id=\"T_ad7eeff6_827c_11ec_9826_0242ac1c0002row18_col11\" class=\"data row18 col11\" >0</td>\n",
              "                        <td id=\"T_ad7eeff6_827c_11ec_9826_0242ac1c0002row18_col12\" class=\"data row18 col12\" >0</td>\n",
              "                        <td id=\"T_ad7eeff6_827c_11ec_9826_0242ac1c0002row18_col13\" class=\"data row18 col13\" >0</td>\n",
              "                        <td id=\"T_ad7eeff6_827c_11ec_9826_0242ac1c0002row18_col14\" class=\"data row18 col14\" >0</td>\n",
              "                        <td id=\"T_ad7eeff6_827c_11ec_9826_0242ac1c0002row18_col15\" class=\"data row18 col15\" >0</td>\n",
              "                        <td id=\"T_ad7eeff6_827c_11ec_9826_0242ac1c0002row18_col16\" class=\"data row18 col16\" >85</td>\n",
              "                        <td id=\"T_ad7eeff6_827c_11ec_9826_0242ac1c0002row18_col17\" class=\"data row18 col17\" >249</td>\n",
              "                        <td id=\"T_ad7eeff6_827c_11ec_9826_0242ac1c0002row18_col18\" class=\"data row18 col18\" >253</td>\n",
              "                        <td id=\"T_ad7eeff6_827c_11ec_9826_0242ac1c0002row18_col19\" class=\"data row18 col19\" >253</td>\n",
              "                        <td id=\"T_ad7eeff6_827c_11ec_9826_0242ac1c0002row18_col20\" class=\"data row18 col20\" >36</td>\n",
              "                        <td id=\"T_ad7eeff6_827c_11ec_9826_0242ac1c0002row18_col21\" class=\"data row18 col21\" >0</td>\n",
              "                        <td id=\"T_ad7eeff6_827c_11ec_9826_0242ac1c0002row18_col22\" class=\"data row18 col22\" >0</td>\n",
              "                        <td id=\"T_ad7eeff6_827c_11ec_9826_0242ac1c0002row18_col23\" class=\"data row18 col23\" >0</td>\n",
              "                        <td id=\"T_ad7eeff6_827c_11ec_9826_0242ac1c0002row18_col24\" class=\"data row18 col24\" >0</td>\n",
              "                        <td id=\"T_ad7eeff6_827c_11ec_9826_0242ac1c0002row18_col25\" class=\"data row18 col25\" >0</td>\n",
              "                        <td id=\"T_ad7eeff6_827c_11ec_9826_0242ac1c0002row18_col26\" class=\"data row18 col26\" >0</td>\n",
              "                        <td id=\"T_ad7eeff6_827c_11ec_9826_0242ac1c0002row18_col27\" class=\"data row18 col27\" >0</td>\n",
              "            </tr>\n",
              "            <tr>\n",
              "                        <th id=\"T_ad7eeff6_827c_11ec_9826_0242ac1c0002level0_row19\" class=\"row_heading level0 row19\" >19</th>\n",
              "                        <td id=\"T_ad7eeff6_827c_11ec_9826_0242ac1c0002row19_col0\" class=\"data row19 col0\" >0</td>\n",
              "                        <td id=\"T_ad7eeff6_827c_11ec_9826_0242ac1c0002row19_col1\" class=\"data row19 col1\" >0</td>\n",
              "                        <td id=\"T_ad7eeff6_827c_11ec_9826_0242ac1c0002row19_col2\" class=\"data row19 col2\" >0</td>\n",
              "                        <td id=\"T_ad7eeff6_827c_11ec_9826_0242ac1c0002row19_col3\" class=\"data row19 col3\" >0</td>\n",
              "                        <td id=\"T_ad7eeff6_827c_11ec_9826_0242ac1c0002row19_col4\" class=\"data row19 col4\" >0</td>\n",
              "                        <td id=\"T_ad7eeff6_827c_11ec_9826_0242ac1c0002row19_col5\" class=\"data row19 col5\" >0</td>\n",
              "                        <td id=\"T_ad7eeff6_827c_11ec_9826_0242ac1c0002row19_col6\" class=\"data row19 col6\" >0</td>\n",
              "                        <td id=\"T_ad7eeff6_827c_11ec_9826_0242ac1c0002row19_col7\" class=\"data row19 col7\" >0</td>\n",
              "                        <td id=\"T_ad7eeff6_827c_11ec_9826_0242ac1c0002row19_col8\" class=\"data row19 col8\" >0</td>\n",
              "                        <td id=\"T_ad7eeff6_827c_11ec_9826_0242ac1c0002row19_col9\" class=\"data row19 col9\" >0</td>\n",
              "                        <td id=\"T_ad7eeff6_827c_11ec_9826_0242ac1c0002row19_col10\" class=\"data row19 col10\" >0</td>\n",
              "                        <td id=\"T_ad7eeff6_827c_11ec_9826_0242ac1c0002row19_col11\" class=\"data row19 col11\" >0</td>\n",
              "                        <td id=\"T_ad7eeff6_827c_11ec_9826_0242ac1c0002row19_col12\" class=\"data row19 col12\" >0</td>\n",
              "                        <td id=\"T_ad7eeff6_827c_11ec_9826_0242ac1c0002row19_col13\" class=\"data row19 col13\" >0</td>\n",
              "                        <td id=\"T_ad7eeff6_827c_11ec_9826_0242ac1c0002row19_col14\" class=\"data row19 col14\" >0</td>\n",
              "                        <td id=\"T_ad7eeff6_827c_11ec_9826_0242ac1c0002row19_col15\" class=\"data row19 col15\" >60</td>\n",
              "                        <td id=\"T_ad7eeff6_827c_11ec_9826_0242ac1c0002row19_col16\" class=\"data row19 col16\" >214</td>\n",
              "                        <td id=\"T_ad7eeff6_827c_11ec_9826_0242ac1c0002row19_col17\" class=\"data row19 col17\" >253</td>\n",
              "                        <td id=\"T_ad7eeff6_827c_11ec_9826_0242ac1c0002row19_col18\" class=\"data row19 col18\" >253</td>\n",
              "                        <td id=\"T_ad7eeff6_827c_11ec_9826_0242ac1c0002row19_col19\" class=\"data row19 col19\" >173</td>\n",
              "                        <td id=\"T_ad7eeff6_827c_11ec_9826_0242ac1c0002row19_col20\" class=\"data row19 col20\" >11</td>\n",
              "                        <td id=\"T_ad7eeff6_827c_11ec_9826_0242ac1c0002row19_col21\" class=\"data row19 col21\" >0</td>\n",
              "                        <td id=\"T_ad7eeff6_827c_11ec_9826_0242ac1c0002row19_col22\" class=\"data row19 col22\" >0</td>\n",
              "                        <td id=\"T_ad7eeff6_827c_11ec_9826_0242ac1c0002row19_col23\" class=\"data row19 col23\" >0</td>\n",
              "                        <td id=\"T_ad7eeff6_827c_11ec_9826_0242ac1c0002row19_col24\" class=\"data row19 col24\" >0</td>\n",
              "                        <td id=\"T_ad7eeff6_827c_11ec_9826_0242ac1c0002row19_col25\" class=\"data row19 col25\" >0</td>\n",
              "                        <td id=\"T_ad7eeff6_827c_11ec_9826_0242ac1c0002row19_col26\" class=\"data row19 col26\" >0</td>\n",
              "                        <td id=\"T_ad7eeff6_827c_11ec_9826_0242ac1c0002row19_col27\" class=\"data row19 col27\" >0</td>\n",
              "            </tr>\n",
              "            <tr>\n",
              "                        <th id=\"T_ad7eeff6_827c_11ec_9826_0242ac1c0002level0_row20\" class=\"row_heading level0 row20\" >20</th>\n",
              "                        <td id=\"T_ad7eeff6_827c_11ec_9826_0242ac1c0002row20_col0\" class=\"data row20 col0\" >0</td>\n",
              "                        <td id=\"T_ad7eeff6_827c_11ec_9826_0242ac1c0002row20_col1\" class=\"data row20 col1\" >0</td>\n",
              "                        <td id=\"T_ad7eeff6_827c_11ec_9826_0242ac1c0002row20_col2\" class=\"data row20 col2\" >0</td>\n",
              "                        <td id=\"T_ad7eeff6_827c_11ec_9826_0242ac1c0002row20_col3\" class=\"data row20 col3\" >0</td>\n",
              "                        <td id=\"T_ad7eeff6_827c_11ec_9826_0242ac1c0002row20_col4\" class=\"data row20 col4\" >0</td>\n",
              "                        <td id=\"T_ad7eeff6_827c_11ec_9826_0242ac1c0002row20_col5\" class=\"data row20 col5\" >0</td>\n",
              "                        <td id=\"T_ad7eeff6_827c_11ec_9826_0242ac1c0002row20_col6\" class=\"data row20 col6\" >0</td>\n",
              "                        <td id=\"T_ad7eeff6_827c_11ec_9826_0242ac1c0002row20_col7\" class=\"data row20 col7\" >0</td>\n",
              "                        <td id=\"T_ad7eeff6_827c_11ec_9826_0242ac1c0002row20_col8\" class=\"data row20 col8\" >0</td>\n",
              "                        <td id=\"T_ad7eeff6_827c_11ec_9826_0242ac1c0002row20_col9\" class=\"data row20 col9\" >0</td>\n",
              "                        <td id=\"T_ad7eeff6_827c_11ec_9826_0242ac1c0002row20_col10\" class=\"data row20 col10\" >0</td>\n",
              "                        <td id=\"T_ad7eeff6_827c_11ec_9826_0242ac1c0002row20_col11\" class=\"data row20 col11\" >0</td>\n",
              "                        <td id=\"T_ad7eeff6_827c_11ec_9826_0242ac1c0002row20_col12\" class=\"data row20 col12\" >0</td>\n",
              "                        <td id=\"T_ad7eeff6_827c_11ec_9826_0242ac1c0002row20_col13\" class=\"data row20 col13\" >0</td>\n",
              "                        <td id=\"T_ad7eeff6_827c_11ec_9826_0242ac1c0002row20_col14\" class=\"data row20 col14\" >98</td>\n",
              "                        <td id=\"T_ad7eeff6_827c_11ec_9826_0242ac1c0002row20_col15\" class=\"data row20 col15\" >247</td>\n",
              "                        <td id=\"T_ad7eeff6_827c_11ec_9826_0242ac1c0002row20_col16\" class=\"data row20 col16\" >253</td>\n",
              "                        <td id=\"T_ad7eeff6_827c_11ec_9826_0242ac1c0002row20_col17\" class=\"data row20 col17\" >253</td>\n",
              "                        <td id=\"T_ad7eeff6_827c_11ec_9826_0242ac1c0002row20_col18\" class=\"data row20 col18\" >226</td>\n",
              "                        <td id=\"T_ad7eeff6_827c_11ec_9826_0242ac1c0002row20_col19\" class=\"data row20 col19\" >9</td>\n",
              "                        <td id=\"T_ad7eeff6_827c_11ec_9826_0242ac1c0002row20_col20\" class=\"data row20 col20\" >0</td>\n",
              "                        <td id=\"T_ad7eeff6_827c_11ec_9826_0242ac1c0002row20_col21\" class=\"data row20 col21\" >0</td>\n",
              "                        <td id=\"T_ad7eeff6_827c_11ec_9826_0242ac1c0002row20_col22\" class=\"data row20 col22\" >0</td>\n",
              "                        <td id=\"T_ad7eeff6_827c_11ec_9826_0242ac1c0002row20_col23\" class=\"data row20 col23\" >0</td>\n",
              "                        <td id=\"T_ad7eeff6_827c_11ec_9826_0242ac1c0002row20_col24\" class=\"data row20 col24\" >0</td>\n",
              "                        <td id=\"T_ad7eeff6_827c_11ec_9826_0242ac1c0002row20_col25\" class=\"data row20 col25\" >0</td>\n",
              "                        <td id=\"T_ad7eeff6_827c_11ec_9826_0242ac1c0002row20_col26\" class=\"data row20 col26\" >0</td>\n",
              "                        <td id=\"T_ad7eeff6_827c_11ec_9826_0242ac1c0002row20_col27\" class=\"data row20 col27\" >0</td>\n",
              "            </tr>\n",
              "            <tr>\n",
              "                        <th id=\"T_ad7eeff6_827c_11ec_9826_0242ac1c0002level0_row21\" class=\"row_heading level0 row21\" >21</th>\n",
              "                        <td id=\"T_ad7eeff6_827c_11ec_9826_0242ac1c0002row21_col0\" class=\"data row21 col0\" >0</td>\n",
              "                        <td id=\"T_ad7eeff6_827c_11ec_9826_0242ac1c0002row21_col1\" class=\"data row21 col1\" >0</td>\n",
              "                        <td id=\"T_ad7eeff6_827c_11ec_9826_0242ac1c0002row21_col2\" class=\"data row21 col2\" >0</td>\n",
              "                        <td id=\"T_ad7eeff6_827c_11ec_9826_0242ac1c0002row21_col3\" class=\"data row21 col3\" >0</td>\n",
              "                        <td id=\"T_ad7eeff6_827c_11ec_9826_0242ac1c0002row21_col4\" class=\"data row21 col4\" >0</td>\n",
              "                        <td id=\"T_ad7eeff6_827c_11ec_9826_0242ac1c0002row21_col5\" class=\"data row21 col5\" >0</td>\n",
              "                        <td id=\"T_ad7eeff6_827c_11ec_9826_0242ac1c0002row21_col6\" class=\"data row21 col6\" >0</td>\n",
              "                        <td id=\"T_ad7eeff6_827c_11ec_9826_0242ac1c0002row21_col7\" class=\"data row21 col7\" >0</td>\n",
              "                        <td id=\"T_ad7eeff6_827c_11ec_9826_0242ac1c0002row21_col8\" class=\"data row21 col8\" >0</td>\n",
              "                        <td id=\"T_ad7eeff6_827c_11ec_9826_0242ac1c0002row21_col9\" class=\"data row21 col9\" >0</td>\n",
              "                        <td id=\"T_ad7eeff6_827c_11ec_9826_0242ac1c0002row21_col10\" class=\"data row21 col10\" >0</td>\n",
              "                        <td id=\"T_ad7eeff6_827c_11ec_9826_0242ac1c0002row21_col11\" class=\"data row21 col11\" >0</td>\n",
              "                        <td id=\"T_ad7eeff6_827c_11ec_9826_0242ac1c0002row21_col12\" class=\"data row21 col12\" >42</td>\n",
              "                        <td id=\"T_ad7eeff6_827c_11ec_9826_0242ac1c0002row21_col13\" class=\"data row21 col13\" >150</td>\n",
              "                        <td id=\"T_ad7eeff6_827c_11ec_9826_0242ac1c0002row21_col14\" class=\"data row21 col14\" >252</td>\n",
              "                        <td id=\"T_ad7eeff6_827c_11ec_9826_0242ac1c0002row21_col15\" class=\"data row21 col15\" >253</td>\n",
              "                        <td id=\"T_ad7eeff6_827c_11ec_9826_0242ac1c0002row21_col16\" class=\"data row21 col16\" >253</td>\n",
              "                        <td id=\"T_ad7eeff6_827c_11ec_9826_0242ac1c0002row21_col17\" class=\"data row21 col17\" >233</td>\n",
              "                        <td id=\"T_ad7eeff6_827c_11ec_9826_0242ac1c0002row21_col18\" class=\"data row21 col18\" >53</td>\n",
              "                        <td id=\"T_ad7eeff6_827c_11ec_9826_0242ac1c0002row21_col19\" class=\"data row21 col19\" >0</td>\n",
              "                        <td id=\"T_ad7eeff6_827c_11ec_9826_0242ac1c0002row21_col20\" class=\"data row21 col20\" >0</td>\n",
              "                        <td id=\"T_ad7eeff6_827c_11ec_9826_0242ac1c0002row21_col21\" class=\"data row21 col21\" >0</td>\n",
              "                        <td id=\"T_ad7eeff6_827c_11ec_9826_0242ac1c0002row21_col22\" class=\"data row21 col22\" >0</td>\n",
              "                        <td id=\"T_ad7eeff6_827c_11ec_9826_0242ac1c0002row21_col23\" class=\"data row21 col23\" >0</td>\n",
              "                        <td id=\"T_ad7eeff6_827c_11ec_9826_0242ac1c0002row21_col24\" class=\"data row21 col24\" >0</td>\n",
              "                        <td id=\"T_ad7eeff6_827c_11ec_9826_0242ac1c0002row21_col25\" class=\"data row21 col25\" >0</td>\n",
              "                        <td id=\"T_ad7eeff6_827c_11ec_9826_0242ac1c0002row21_col26\" class=\"data row21 col26\" >0</td>\n",
              "                        <td id=\"T_ad7eeff6_827c_11ec_9826_0242ac1c0002row21_col27\" class=\"data row21 col27\" >0</td>\n",
              "            </tr>\n",
              "            <tr>\n",
              "                        <th id=\"T_ad7eeff6_827c_11ec_9826_0242ac1c0002level0_row22\" class=\"row_heading level0 row22\" >22</th>\n",
              "                        <td id=\"T_ad7eeff6_827c_11ec_9826_0242ac1c0002row22_col0\" class=\"data row22 col0\" >0</td>\n",
              "                        <td id=\"T_ad7eeff6_827c_11ec_9826_0242ac1c0002row22_col1\" class=\"data row22 col1\" >0</td>\n",
              "                        <td id=\"T_ad7eeff6_827c_11ec_9826_0242ac1c0002row22_col2\" class=\"data row22 col2\" >0</td>\n",
              "                        <td id=\"T_ad7eeff6_827c_11ec_9826_0242ac1c0002row22_col3\" class=\"data row22 col3\" >0</td>\n",
              "                        <td id=\"T_ad7eeff6_827c_11ec_9826_0242ac1c0002row22_col4\" class=\"data row22 col4\" >0</td>\n",
              "                        <td id=\"T_ad7eeff6_827c_11ec_9826_0242ac1c0002row22_col5\" class=\"data row22 col5\" >0</td>\n",
              "                        <td id=\"T_ad7eeff6_827c_11ec_9826_0242ac1c0002row22_col6\" class=\"data row22 col6\" >42</td>\n",
              "                        <td id=\"T_ad7eeff6_827c_11ec_9826_0242ac1c0002row22_col7\" class=\"data row22 col7\" >115</td>\n",
              "                        <td id=\"T_ad7eeff6_827c_11ec_9826_0242ac1c0002row22_col8\" class=\"data row22 col8\" >42</td>\n",
              "                        <td id=\"T_ad7eeff6_827c_11ec_9826_0242ac1c0002row22_col9\" class=\"data row22 col9\" >60</td>\n",
              "                        <td id=\"T_ad7eeff6_827c_11ec_9826_0242ac1c0002row22_col10\" class=\"data row22 col10\" >115</td>\n",
              "                        <td id=\"T_ad7eeff6_827c_11ec_9826_0242ac1c0002row22_col11\" class=\"data row22 col11\" >159</td>\n",
              "                        <td id=\"T_ad7eeff6_827c_11ec_9826_0242ac1c0002row22_col12\" class=\"data row22 col12\" >240</td>\n",
              "                        <td id=\"T_ad7eeff6_827c_11ec_9826_0242ac1c0002row22_col13\" class=\"data row22 col13\" >253</td>\n",
              "                        <td id=\"T_ad7eeff6_827c_11ec_9826_0242ac1c0002row22_col14\" class=\"data row22 col14\" >253</td>\n",
              "                        <td id=\"T_ad7eeff6_827c_11ec_9826_0242ac1c0002row22_col15\" class=\"data row22 col15\" >250</td>\n",
              "                        <td id=\"T_ad7eeff6_827c_11ec_9826_0242ac1c0002row22_col16\" class=\"data row22 col16\" >175</td>\n",
              "                        <td id=\"T_ad7eeff6_827c_11ec_9826_0242ac1c0002row22_col17\" class=\"data row22 col17\" >25</td>\n",
              "                        <td id=\"T_ad7eeff6_827c_11ec_9826_0242ac1c0002row22_col18\" class=\"data row22 col18\" >0</td>\n",
              "                        <td id=\"T_ad7eeff6_827c_11ec_9826_0242ac1c0002row22_col19\" class=\"data row22 col19\" >0</td>\n",
              "                        <td id=\"T_ad7eeff6_827c_11ec_9826_0242ac1c0002row22_col20\" class=\"data row22 col20\" >0</td>\n",
              "                        <td id=\"T_ad7eeff6_827c_11ec_9826_0242ac1c0002row22_col21\" class=\"data row22 col21\" >0</td>\n",
              "                        <td id=\"T_ad7eeff6_827c_11ec_9826_0242ac1c0002row22_col22\" class=\"data row22 col22\" >0</td>\n",
              "                        <td id=\"T_ad7eeff6_827c_11ec_9826_0242ac1c0002row22_col23\" class=\"data row22 col23\" >0</td>\n",
              "                        <td id=\"T_ad7eeff6_827c_11ec_9826_0242ac1c0002row22_col24\" class=\"data row22 col24\" >0</td>\n",
              "                        <td id=\"T_ad7eeff6_827c_11ec_9826_0242ac1c0002row22_col25\" class=\"data row22 col25\" >0</td>\n",
              "                        <td id=\"T_ad7eeff6_827c_11ec_9826_0242ac1c0002row22_col26\" class=\"data row22 col26\" >0</td>\n",
              "                        <td id=\"T_ad7eeff6_827c_11ec_9826_0242ac1c0002row22_col27\" class=\"data row22 col27\" >0</td>\n",
              "            </tr>\n",
              "            <tr>\n",
              "                        <th id=\"T_ad7eeff6_827c_11ec_9826_0242ac1c0002level0_row23\" class=\"row_heading level0 row23\" >23</th>\n",
              "                        <td id=\"T_ad7eeff6_827c_11ec_9826_0242ac1c0002row23_col0\" class=\"data row23 col0\" >0</td>\n",
              "                        <td id=\"T_ad7eeff6_827c_11ec_9826_0242ac1c0002row23_col1\" class=\"data row23 col1\" >0</td>\n",
              "                        <td id=\"T_ad7eeff6_827c_11ec_9826_0242ac1c0002row23_col2\" class=\"data row23 col2\" >0</td>\n",
              "                        <td id=\"T_ad7eeff6_827c_11ec_9826_0242ac1c0002row23_col3\" class=\"data row23 col3\" >0</td>\n",
              "                        <td id=\"T_ad7eeff6_827c_11ec_9826_0242ac1c0002row23_col4\" class=\"data row23 col4\" >0</td>\n",
              "                        <td id=\"T_ad7eeff6_827c_11ec_9826_0242ac1c0002row23_col5\" class=\"data row23 col5\" >0</td>\n",
              "                        <td id=\"T_ad7eeff6_827c_11ec_9826_0242ac1c0002row23_col6\" class=\"data row23 col6\" >187</td>\n",
              "                        <td id=\"T_ad7eeff6_827c_11ec_9826_0242ac1c0002row23_col7\" class=\"data row23 col7\" >253</td>\n",
              "                        <td id=\"T_ad7eeff6_827c_11ec_9826_0242ac1c0002row23_col8\" class=\"data row23 col8\" >253</td>\n",
              "                        <td id=\"T_ad7eeff6_827c_11ec_9826_0242ac1c0002row23_col9\" class=\"data row23 col9\" >253</td>\n",
              "                        <td id=\"T_ad7eeff6_827c_11ec_9826_0242ac1c0002row23_col10\" class=\"data row23 col10\" >253</td>\n",
              "                        <td id=\"T_ad7eeff6_827c_11ec_9826_0242ac1c0002row23_col11\" class=\"data row23 col11\" >253</td>\n",
              "                        <td id=\"T_ad7eeff6_827c_11ec_9826_0242ac1c0002row23_col12\" class=\"data row23 col12\" >253</td>\n",
              "                        <td id=\"T_ad7eeff6_827c_11ec_9826_0242ac1c0002row23_col13\" class=\"data row23 col13\" >253</td>\n",
              "                        <td id=\"T_ad7eeff6_827c_11ec_9826_0242ac1c0002row23_col14\" class=\"data row23 col14\" >197</td>\n",
              "                        <td id=\"T_ad7eeff6_827c_11ec_9826_0242ac1c0002row23_col15\" class=\"data row23 col15\" >86</td>\n",
              "                        <td id=\"T_ad7eeff6_827c_11ec_9826_0242ac1c0002row23_col16\" class=\"data row23 col16\" >0</td>\n",
              "                        <td id=\"T_ad7eeff6_827c_11ec_9826_0242ac1c0002row23_col17\" class=\"data row23 col17\" >0</td>\n",
              "                        <td id=\"T_ad7eeff6_827c_11ec_9826_0242ac1c0002row23_col18\" class=\"data row23 col18\" >0</td>\n",
              "                        <td id=\"T_ad7eeff6_827c_11ec_9826_0242ac1c0002row23_col19\" class=\"data row23 col19\" >0</td>\n",
              "                        <td id=\"T_ad7eeff6_827c_11ec_9826_0242ac1c0002row23_col20\" class=\"data row23 col20\" >0</td>\n",
              "                        <td id=\"T_ad7eeff6_827c_11ec_9826_0242ac1c0002row23_col21\" class=\"data row23 col21\" >0</td>\n",
              "                        <td id=\"T_ad7eeff6_827c_11ec_9826_0242ac1c0002row23_col22\" class=\"data row23 col22\" >0</td>\n",
              "                        <td id=\"T_ad7eeff6_827c_11ec_9826_0242ac1c0002row23_col23\" class=\"data row23 col23\" >0</td>\n",
              "                        <td id=\"T_ad7eeff6_827c_11ec_9826_0242ac1c0002row23_col24\" class=\"data row23 col24\" >0</td>\n",
              "                        <td id=\"T_ad7eeff6_827c_11ec_9826_0242ac1c0002row23_col25\" class=\"data row23 col25\" >0</td>\n",
              "                        <td id=\"T_ad7eeff6_827c_11ec_9826_0242ac1c0002row23_col26\" class=\"data row23 col26\" >0</td>\n",
              "                        <td id=\"T_ad7eeff6_827c_11ec_9826_0242ac1c0002row23_col27\" class=\"data row23 col27\" >0</td>\n",
              "            </tr>\n",
              "            <tr>\n",
              "                        <th id=\"T_ad7eeff6_827c_11ec_9826_0242ac1c0002level0_row24\" class=\"row_heading level0 row24\" >24</th>\n",
              "                        <td id=\"T_ad7eeff6_827c_11ec_9826_0242ac1c0002row24_col0\" class=\"data row24 col0\" >0</td>\n",
              "                        <td id=\"T_ad7eeff6_827c_11ec_9826_0242ac1c0002row24_col1\" class=\"data row24 col1\" >0</td>\n",
              "                        <td id=\"T_ad7eeff6_827c_11ec_9826_0242ac1c0002row24_col2\" class=\"data row24 col2\" >0</td>\n",
              "                        <td id=\"T_ad7eeff6_827c_11ec_9826_0242ac1c0002row24_col3\" class=\"data row24 col3\" >0</td>\n",
              "                        <td id=\"T_ad7eeff6_827c_11ec_9826_0242ac1c0002row24_col4\" class=\"data row24 col4\" >0</td>\n",
              "                        <td id=\"T_ad7eeff6_827c_11ec_9826_0242ac1c0002row24_col5\" class=\"data row24 col5\" >0</td>\n",
              "                        <td id=\"T_ad7eeff6_827c_11ec_9826_0242ac1c0002row24_col6\" class=\"data row24 col6\" >103</td>\n",
              "                        <td id=\"T_ad7eeff6_827c_11ec_9826_0242ac1c0002row24_col7\" class=\"data row24 col7\" >253</td>\n",
              "                        <td id=\"T_ad7eeff6_827c_11ec_9826_0242ac1c0002row24_col8\" class=\"data row24 col8\" >253</td>\n",
              "                        <td id=\"T_ad7eeff6_827c_11ec_9826_0242ac1c0002row24_col9\" class=\"data row24 col9\" >253</td>\n",
              "                        <td id=\"T_ad7eeff6_827c_11ec_9826_0242ac1c0002row24_col10\" class=\"data row24 col10\" >253</td>\n",
              "                        <td id=\"T_ad7eeff6_827c_11ec_9826_0242ac1c0002row24_col11\" class=\"data row24 col11\" >253</td>\n",
              "                        <td id=\"T_ad7eeff6_827c_11ec_9826_0242ac1c0002row24_col12\" class=\"data row24 col12\" >232</td>\n",
              "                        <td id=\"T_ad7eeff6_827c_11ec_9826_0242ac1c0002row24_col13\" class=\"data row24 col13\" >67</td>\n",
              "                        <td id=\"T_ad7eeff6_827c_11ec_9826_0242ac1c0002row24_col14\" class=\"data row24 col14\" >1</td>\n",
              "                        <td id=\"T_ad7eeff6_827c_11ec_9826_0242ac1c0002row24_col15\" class=\"data row24 col15\" >0</td>\n",
              "                        <td id=\"T_ad7eeff6_827c_11ec_9826_0242ac1c0002row24_col16\" class=\"data row24 col16\" >0</td>\n",
              "                        <td id=\"T_ad7eeff6_827c_11ec_9826_0242ac1c0002row24_col17\" class=\"data row24 col17\" >0</td>\n",
              "                        <td id=\"T_ad7eeff6_827c_11ec_9826_0242ac1c0002row24_col18\" class=\"data row24 col18\" >0</td>\n",
              "                        <td id=\"T_ad7eeff6_827c_11ec_9826_0242ac1c0002row24_col19\" class=\"data row24 col19\" >0</td>\n",
              "                        <td id=\"T_ad7eeff6_827c_11ec_9826_0242ac1c0002row24_col20\" class=\"data row24 col20\" >0</td>\n",
              "                        <td id=\"T_ad7eeff6_827c_11ec_9826_0242ac1c0002row24_col21\" class=\"data row24 col21\" >0</td>\n",
              "                        <td id=\"T_ad7eeff6_827c_11ec_9826_0242ac1c0002row24_col22\" class=\"data row24 col22\" >0</td>\n",
              "                        <td id=\"T_ad7eeff6_827c_11ec_9826_0242ac1c0002row24_col23\" class=\"data row24 col23\" >0</td>\n",
              "                        <td id=\"T_ad7eeff6_827c_11ec_9826_0242ac1c0002row24_col24\" class=\"data row24 col24\" >0</td>\n",
              "                        <td id=\"T_ad7eeff6_827c_11ec_9826_0242ac1c0002row24_col25\" class=\"data row24 col25\" >0</td>\n",
              "                        <td id=\"T_ad7eeff6_827c_11ec_9826_0242ac1c0002row24_col26\" class=\"data row24 col26\" >0</td>\n",
              "                        <td id=\"T_ad7eeff6_827c_11ec_9826_0242ac1c0002row24_col27\" class=\"data row24 col27\" >0</td>\n",
              "            </tr>\n",
              "            <tr>\n",
              "                        <th id=\"T_ad7eeff6_827c_11ec_9826_0242ac1c0002level0_row25\" class=\"row_heading level0 row25\" >25</th>\n",
              "                        <td id=\"T_ad7eeff6_827c_11ec_9826_0242ac1c0002row25_col0\" class=\"data row25 col0\" >0</td>\n",
              "                        <td id=\"T_ad7eeff6_827c_11ec_9826_0242ac1c0002row25_col1\" class=\"data row25 col1\" >0</td>\n",
              "                        <td id=\"T_ad7eeff6_827c_11ec_9826_0242ac1c0002row25_col2\" class=\"data row25 col2\" >0</td>\n",
              "                        <td id=\"T_ad7eeff6_827c_11ec_9826_0242ac1c0002row25_col3\" class=\"data row25 col3\" >0</td>\n",
              "                        <td id=\"T_ad7eeff6_827c_11ec_9826_0242ac1c0002row25_col4\" class=\"data row25 col4\" >0</td>\n",
              "                        <td id=\"T_ad7eeff6_827c_11ec_9826_0242ac1c0002row25_col5\" class=\"data row25 col5\" >0</td>\n",
              "                        <td id=\"T_ad7eeff6_827c_11ec_9826_0242ac1c0002row25_col6\" class=\"data row25 col6\" >0</td>\n",
              "                        <td id=\"T_ad7eeff6_827c_11ec_9826_0242ac1c0002row25_col7\" class=\"data row25 col7\" >0</td>\n",
              "                        <td id=\"T_ad7eeff6_827c_11ec_9826_0242ac1c0002row25_col8\" class=\"data row25 col8\" >0</td>\n",
              "                        <td id=\"T_ad7eeff6_827c_11ec_9826_0242ac1c0002row25_col9\" class=\"data row25 col9\" >0</td>\n",
              "                        <td id=\"T_ad7eeff6_827c_11ec_9826_0242ac1c0002row25_col10\" class=\"data row25 col10\" >0</td>\n",
              "                        <td id=\"T_ad7eeff6_827c_11ec_9826_0242ac1c0002row25_col11\" class=\"data row25 col11\" >0</td>\n",
              "                        <td id=\"T_ad7eeff6_827c_11ec_9826_0242ac1c0002row25_col12\" class=\"data row25 col12\" >0</td>\n",
              "                        <td id=\"T_ad7eeff6_827c_11ec_9826_0242ac1c0002row25_col13\" class=\"data row25 col13\" >0</td>\n",
              "                        <td id=\"T_ad7eeff6_827c_11ec_9826_0242ac1c0002row25_col14\" class=\"data row25 col14\" >0</td>\n",
              "                        <td id=\"T_ad7eeff6_827c_11ec_9826_0242ac1c0002row25_col15\" class=\"data row25 col15\" >0</td>\n",
              "                        <td id=\"T_ad7eeff6_827c_11ec_9826_0242ac1c0002row25_col16\" class=\"data row25 col16\" >0</td>\n",
              "                        <td id=\"T_ad7eeff6_827c_11ec_9826_0242ac1c0002row25_col17\" class=\"data row25 col17\" >0</td>\n",
              "                        <td id=\"T_ad7eeff6_827c_11ec_9826_0242ac1c0002row25_col18\" class=\"data row25 col18\" >0</td>\n",
              "                        <td id=\"T_ad7eeff6_827c_11ec_9826_0242ac1c0002row25_col19\" class=\"data row25 col19\" >0</td>\n",
              "                        <td id=\"T_ad7eeff6_827c_11ec_9826_0242ac1c0002row25_col20\" class=\"data row25 col20\" >0</td>\n",
              "                        <td id=\"T_ad7eeff6_827c_11ec_9826_0242ac1c0002row25_col21\" class=\"data row25 col21\" >0</td>\n",
              "                        <td id=\"T_ad7eeff6_827c_11ec_9826_0242ac1c0002row25_col22\" class=\"data row25 col22\" >0</td>\n",
              "                        <td id=\"T_ad7eeff6_827c_11ec_9826_0242ac1c0002row25_col23\" class=\"data row25 col23\" >0</td>\n",
              "                        <td id=\"T_ad7eeff6_827c_11ec_9826_0242ac1c0002row25_col24\" class=\"data row25 col24\" >0</td>\n",
              "                        <td id=\"T_ad7eeff6_827c_11ec_9826_0242ac1c0002row25_col25\" class=\"data row25 col25\" >0</td>\n",
              "                        <td id=\"T_ad7eeff6_827c_11ec_9826_0242ac1c0002row25_col26\" class=\"data row25 col26\" >0</td>\n",
              "                        <td id=\"T_ad7eeff6_827c_11ec_9826_0242ac1c0002row25_col27\" class=\"data row25 col27\" >0</td>\n",
              "            </tr>\n",
              "            <tr>\n",
              "                        <th id=\"T_ad7eeff6_827c_11ec_9826_0242ac1c0002level0_row26\" class=\"row_heading level0 row26\" >26</th>\n",
              "                        <td id=\"T_ad7eeff6_827c_11ec_9826_0242ac1c0002row26_col0\" class=\"data row26 col0\" >0</td>\n",
              "                        <td id=\"T_ad7eeff6_827c_11ec_9826_0242ac1c0002row26_col1\" class=\"data row26 col1\" >0</td>\n",
              "                        <td id=\"T_ad7eeff6_827c_11ec_9826_0242ac1c0002row26_col2\" class=\"data row26 col2\" >0</td>\n",
              "                        <td id=\"T_ad7eeff6_827c_11ec_9826_0242ac1c0002row26_col3\" class=\"data row26 col3\" >0</td>\n",
              "                        <td id=\"T_ad7eeff6_827c_11ec_9826_0242ac1c0002row26_col4\" class=\"data row26 col4\" >0</td>\n",
              "                        <td id=\"T_ad7eeff6_827c_11ec_9826_0242ac1c0002row26_col5\" class=\"data row26 col5\" >0</td>\n",
              "                        <td id=\"T_ad7eeff6_827c_11ec_9826_0242ac1c0002row26_col6\" class=\"data row26 col6\" >0</td>\n",
              "                        <td id=\"T_ad7eeff6_827c_11ec_9826_0242ac1c0002row26_col7\" class=\"data row26 col7\" >0</td>\n",
              "                        <td id=\"T_ad7eeff6_827c_11ec_9826_0242ac1c0002row26_col8\" class=\"data row26 col8\" >0</td>\n",
              "                        <td id=\"T_ad7eeff6_827c_11ec_9826_0242ac1c0002row26_col9\" class=\"data row26 col9\" >0</td>\n",
              "                        <td id=\"T_ad7eeff6_827c_11ec_9826_0242ac1c0002row26_col10\" class=\"data row26 col10\" >0</td>\n",
              "                        <td id=\"T_ad7eeff6_827c_11ec_9826_0242ac1c0002row26_col11\" class=\"data row26 col11\" >0</td>\n",
              "                        <td id=\"T_ad7eeff6_827c_11ec_9826_0242ac1c0002row26_col12\" class=\"data row26 col12\" >0</td>\n",
              "                        <td id=\"T_ad7eeff6_827c_11ec_9826_0242ac1c0002row26_col13\" class=\"data row26 col13\" >0</td>\n",
              "                        <td id=\"T_ad7eeff6_827c_11ec_9826_0242ac1c0002row26_col14\" class=\"data row26 col14\" >0</td>\n",
              "                        <td id=\"T_ad7eeff6_827c_11ec_9826_0242ac1c0002row26_col15\" class=\"data row26 col15\" >0</td>\n",
              "                        <td id=\"T_ad7eeff6_827c_11ec_9826_0242ac1c0002row26_col16\" class=\"data row26 col16\" >0</td>\n",
              "                        <td id=\"T_ad7eeff6_827c_11ec_9826_0242ac1c0002row26_col17\" class=\"data row26 col17\" >0</td>\n",
              "                        <td id=\"T_ad7eeff6_827c_11ec_9826_0242ac1c0002row26_col18\" class=\"data row26 col18\" >0</td>\n",
              "                        <td id=\"T_ad7eeff6_827c_11ec_9826_0242ac1c0002row26_col19\" class=\"data row26 col19\" >0</td>\n",
              "                        <td id=\"T_ad7eeff6_827c_11ec_9826_0242ac1c0002row26_col20\" class=\"data row26 col20\" >0</td>\n",
              "                        <td id=\"T_ad7eeff6_827c_11ec_9826_0242ac1c0002row26_col21\" class=\"data row26 col21\" >0</td>\n",
              "                        <td id=\"T_ad7eeff6_827c_11ec_9826_0242ac1c0002row26_col22\" class=\"data row26 col22\" >0</td>\n",
              "                        <td id=\"T_ad7eeff6_827c_11ec_9826_0242ac1c0002row26_col23\" class=\"data row26 col23\" >0</td>\n",
              "                        <td id=\"T_ad7eeff6_827c_11ec_9826_0242ac1c0002row26_col24\" class=\"data row26 col24\" >0</td>\n",
              "                        <td id=\"T_ad7eeff6_827c_11ec_9826_0242ac1c0002row26_col25\" class=\"data row26 col25\" >0</td>\n",
              "                        <td id=\"T_ad7eeff6_827c_11ec_9826_0242ac1c0002row26_col26\" class=\"data row26 col26\" >0</td>\n",
              "                        <td id=\"T_ad7eeff6_827c_11ec_9826_0242ac1c0002row26_col27\" class=\"data row26 col27\" >0</td>\n",
              "            </tr>\n",
              "            <tr>\n",
              "                        <th id=\"T_ad7eeff6_827c_11ec_9826_0242ac1c0002level0_row27\" class=\"row_heading level0 row27\" >27</th>\n",
              "                        <td id=\"T_ad7eeff6_827c_11ec_9826_0242ac1c0002row27_col0\" class=\"data row27 col0\" >0</td>\n",
              "                        <td id=\"T_ad7eeff6_827c_11ec_9826_0242ac1c0002row27_col1\" class=\"data row27 col1\" >0</td>\n",
              "                        <td id=\"T_ad7eeff6_827c_11ec_9826_0242ac1c0002row27_col2\" class=\"data row27 col2\" >0</td>\n",
              "                        <td id=\"T_ad7eeff6_827c_11ec_9826_0242ac1c0002row27_col3\" class=\"data row27 col3\" >0</td>\n",
              "                        <td id=\"T_ad7eeff6_827c_11ec_9826_0242ac1c0002row27_col4\" class=\"data row27 col4\" >0</td>\n",
              "                        <td id=\"T_ad7eeff6_827c_11ec_9826_0242ac1c0002row27_col5\" class=\"data row27 col5\" >0</td>\n",
              "                        <td id=\"T_ad7eeff6_827c_11ec_9826_0242ac1c0002row27_col6\" class=\"data row27 col6\" >0</td>\n",
              "                        <td id=\"T_ad7eeff6_827c_11ec_9826_0242ac1c0002row27_col7\" class=\"data row27 col7\" >0</td>\n",
              "                        <td id=\"T_ad7eeff6_827c_11ec_9826_0242ac1c0002row27_col8\" class=\"data row27 col8\" >0</td>\n",
              "                        <td id=\"T_ad7eeff6_827c_11ec_9826_0242ac1c0002row27_col9\" class=\"data row27 col9\" >0</td>\n",
              "                        <td id=\"T_ad7eeff6_827c_11ec_9826_0242ac1c0002row27_col10\" class=\"data row27 col10\" >0</td>\n",
              "                        <td id=\"T_ad7eeff6_827c_11ec_9826_0242ac1c0002row27_col11\" class=\"data row27 col11\" >0</td>\n",
              "                        <td id=\"T_ad7eeff6_827c_11ec_9826_0242ac1c0002row27_col12\" class=\"data row27 col12\" >0</td>\n",
              "                        <td id=\"T_ad7eeff6_827c_11ec_9826_0242ac1c0002row27_col13\" class=\"data row27 col13\" >0</td>\n",
              "                        <td id=\"T_ad7eeff6_827c_11ec_9826_0242ac1c0002row27_col14\" class=\"data row27 col14\" >0</td>\n",
              "                        <td id=\"T_ad7eeff6_827c_11ec_9826_0242ac1c0002row27_col15\" class=\"data row27 col15\" >0</td>\n",
              "                        <td id=\"T_ad7eeff6_827c_11ec_9826_0242ac1c0002row27_col16\" class=\"data row27 col16\" >0</td>\n",
              "                        <td id=\"T_ad7eeff6_827c_11ec_9826_0242ac1c0002row27_col17\" class=\"data row27 col17\" >0</td>\n",
              "                        <td id=\"T_ad7eeff6_827c_11ec_9826_0242ac1c0002row27_col18\" class=\"data row27 col18\" >0</td>\n",
              "                        <td id=\"T_ad7eeff6_827c_11ec_9826_0242ac1c0002row27_col19\" class=\"data row27 col19\" >0</td>\n",
              "                        <td id=\"T_ad7eeff6_827c_11ec_9826_0242ac1c0002row27_col20\" class=\"data row27 col20\" >0</td>\n",
              "                        <td id=\"T_ad7eeff6_827c_11ec_9826_0242ac1c0002row27_col21\" class=\"data row27 col21\" >0</td>\n",
              "                        <td id=\"T_ad7eeff6_827c_11ec_9826_0242ac1c0002row27_col22\" class=\"data row27 col22\" >0</td>\n",
              "                        <td id=\"T_ad7eeff6_827c_11ec_9826_0242ac1c0002row27_col23\" class=\"data row27 col23\" >0</td>\n",
              "                        <td id=\"T_ad7eeff6_827c_11ec_9826_0242ac1c0002row27_col24\" class=\"data row27 col24\" >0</td>\n",
              "                        <td id=\"T_ad7eeff6_827c_11ec_9826_0242ac1c0002row27_col25\" class=\"data row27 col25\" >0</td>\n",
              "                        <td id=\"T_ad7eeff6_827c_11ec_9826_0242ac1c0002row27_col26\" class=\"data row27 col26\" >0</td>\n",
              "                        <td id=\"T_ad7eeff6_827c_11ec_9826_0242ac1c0002row27_col27\" class=\"data row27 col27\" >0</td>\n",
              "            </tr>\n",
              "    </tbody></table>"
            ],
            "text/plain": [
              "<pandas.io.formats.style.Styler at 0x7f1d1c9c2310>"
            ]
          },
          "metadata": {},
          "execution_count": 16
        }
      ]
    },
    {
      "cell_type": "markdown",
      "source": [
        "\n",
        "\n",
        "*   Now we can clearly see here, that the numbers range from 0 to 255. The numbers that are close to 0 are more lighter in shade and those on the other side of the spectrum approach black. \n",
        "*   Each image is 28 by 28 pixels wide (from 0 to 27). Thus, each image has 784 pixels. \n",
        "\n"
      ],
      "metadata": {
        "id": "jj1wJpOwvm1C"
      }
    },
    {
      "cell_type": "markdown",
      "source": [
        "# Baseline Model"
      ],
      "metadata": {
        "id": "XxLst-ZiwYB-"
      }
    },
    {
      "cell_type": "markdown",
      "source": [
        "## Basic Idea"
      ],
      "metadata": {
        "id": "qpM5n4a97uL5"
      }
    },
    {
      "cell_type": "markdown",
      "source": [
        "This baseline model is based in **pixel similarity**. We'll arrange all of the images of threes in a vertical stack and try to find out the average value of each pixel (from 0 to 255). \n",
        "When the model will try to predict a digit from the \"validation set\", then the number of that pixel can be matched with the average value. So if it'll be closer to a \"Seven Value\" or a \"Three Value\", the same will be predicted. "
      ],
      "metadata": {
        "id": "g-HNLJx0wcD-"
      }
    },
    {
      "cell_type": "markdown",
      "source": [
        "## What are Baseline Models and why are they important?"
      ],
      "metadata": {
        "id": "WSfQKAX3xmhZ"
      }
    },
    {
      "cell_type": "markdown",
      "source": [
        "A baseline model is something that is created to compare the other fancy models that you're planning to build. \n",
        "Following are the qualities of a baseline model that should be kept in mind while creating one:\n",
        "\n",
        "\n",
        "*   It should be easy to implement.\n",
        "*   It should be weasy to test, so as to test your new models. \n",
        "\n",
        "One should think of a very easy to implement model by thinking upon the problem and reading up on solutions provided by other people.\n",
        "\n",
        "\n",
        "\n",
        "\n",
        "\n"
      ],
      "metadata": {
        "id": "tU3cuTjRxuBQ"
      }
    },
    {
      "cell_type": "markdown",
      "source": [
        "## Model Creation Step #1"
      ],
      "metadata": {
        "id": "F3jm4RUP7zeI"
      }
    },
    {
      "cell_type": "markdown",
      "source": [
        "The very first step should be to get the average values of the pixels for both the groups, that are, Sevens and Threes. "
      ],
      "metadata": {
        "id": "fujNjMTX7-Dc"
      }
    },
    {
      "cell_type": "code",
      "source": [
        "seven_tensors = [tensor(Image.open(i)) for i in sevens]\n",
        "three_tensors = [tensor(Image.open(i)) for i in threes]"
      ],
      "metadata": {
        "id": "A0rb9023vUX9"
      },
      "execution_count": 17,
      "outputs": []
    },
    {
      "cell_type": "code",
      "source": [
        "len(three_tensors), len(seven_tensors)"
      ],
      "metadata": {
        "colab": {
          "base_uri": "https://localhost:8080/"
        },
        "id": "FonIEddM8WQo",
        "outputId": "868c5b63-1420-4fc3-adcd-26e35b326846"
      },
      "execution_count": 18,
      "outputs": [
        {
          "output_type": "execute_result",
          "data": {
            "text/plain": [
              "(6131, 6265)"
            ]
          },
          "metadata": {},
          "execution_count": 18
        }
      ]
    },
    {
      "cell_type": "code",
      "source": [
        "three_tensors[0]"
      ],
      "metadata": {
        "colab": {
          "base_uri": "https://localhost:8080/"
        },
        "id": "-6mDFN9L8bPE",
        "outputId": "f3cb7bee-d1da-4f75-a25d-3a6bb9dee016"
      },
      "execution_count": 19,
      "outputs": [
        {
          "output_type": "execute_result",
          "data": {
            "text/plain": [
              "tensor([[  0,   0,   0,   0,   0,   0,   0,   0,   0,   0,   0,   0,   0,   0,   0,   0,   0,   0,   0,   0,   0,   0,   0,   0,   0,   0,   0,   0],\n",
              "        [  0,   0,   0,   0,   0,   0,   0,   0,   0,   0,   0,   0,   0,   0,   0,   0,   0,   0,   0,   0,   0,   0,   0,   0,   0,   0,   0,   0],\n",
              "        [  0,   0,   0,   0,   0,   0,   0,   0,   0,   0,   0,   0,   0,   0,   0,   0,   0,   0,   0,   0,   0,   0,   0,   0,   0,   0,   0,   0],\n",
              "        [  0,   0,   0,   0,   0,   0,   0,   0,   0,   0,   0,   0,   0,   0,   0,   0,   0,   0,   0,   0,   0,   0,   0,   0,   0,   0,   0,   0],\n",
              "        [  0,   0,   0,   0,   0,   0,   0,   0,   0,   0,   0,  42, 118, 219, 166, 118, 118,   6,   0,   0,   0,   0,   0,   0,   0,   0,   0,   0],\n",
              "        [  0,   0,   0,   0,   0,   0,   0,   0,   0,   0, 103, 242, 254, 254, 254, 254, 254,  66,   0,   0,   0,   0,   0,   0,   0,   0,   0,   0],\n",
              "        [  0,   0,   0,   0,   0,   0,   0,   0,   0,   0,  18, 232, 254, 254, 254, 254, 254, 238,  70,   0,   0,   0,   0,   0,   0,   0,   0,   0],\n",
              "        [  0,   0,   0,   0,   0,   0,   0,   0,   0,   0,   0, 104, 244, 254, 224, 254, 254, 254, 141,   0,   0,   0,   0,   0,   0,   0,   0,   0],\n",
              "        [  0,   0,   0,   0,   0,   0,   0,   0,   0,   0,   0,   0, 207, 254, 210, 254, 254, 254,  34,   0,   0,   0,   0,   0,   0,   0,   0,   0],\n",
              "        [  0,   0,   0,   0,   0,   0,   0,   0,   0,   0,   0,   0,  84, 206, 254, 254, 254, 254,  41,   0,   0,   0,   0,   0,   0,   0,   0,   0],\n",
              "        [  0,   0,   0,   0,   0,   0,   0,   0,   0,   0,   0,   0,   0,  24, 209, 254, 254, 254, 171,   0,   0,   0,   0,   0,   0,   0,   0,   0],\n",
              "        [  0,   0,   0,   0,   0,   0,   0,   0,   0,   0,   0,   0,  91, 137, 253, 254, 254, 254, 112,   0,   0,   0,   0,   0,   0,   0,   0,   0],\n",
              "        [  0,   0,   0,   0,   0,   0,   0,   0,   0,   0,  40, 214, 250, 254, 254, 254, 254, 254,  34,   0,   0,   0,   0,   0,   0,   0,   0,   0],\n",
              "        [  0,   0,   0,   0,   0,   0,   0,   0,   0,   0,  81, 247, 254, 254, 254, 254, 254, 254, 146,   0,   0,   0,   0,   0,   0,   0,   0,   0],\n",
              "        [  0,   0,   0,   0,   0,   0,   0,   0,   0,   0,   0, 110, 246, 254, 254, 254, 254, 254, 171,   0,   0,   0,   0,   0,   0,   0,   0,   0],\n",
              "        [  0,   0,   0,   0,   0,   0,   0,   0,   0,   0,   0,   0,  73,  89,  89,  93, 240, 254, 171,   0,   0,   0,   0,   0,   0,   0,   0,   0],\n",
              "        [  0,   0,   0,   0,   0,   0,   0,   0,   0,   0,   0,   0,   0,   0,   0,   1, 128, 254, 219,  31,   0,   0,   0,   0,   0,   0,   0,   0],\n",
              "        [  0,   0,   0,   0,   0,   0,   0,   0,   0,   0,   0,   0,   0,   0,   0,   7, 254, 254, 214,  28,   0,   0,   0,   0,   0,   0,   0,   0],\n",
              "        [  0,   0,   0,   0,   0,   0,   0,   0,   0,   0,   0,   0,   0,   0,   0, 138, 254, 254, 116,   0,   0,   0,   0,   0,   0,   0,   0,   0],\n",
              "        [  0,   0,   0,   0,   0,   0,  19, 177,  90,   0,   0,   0,   0,   0,  25, 240, 254, 254,  34,   0,   0,   0,   0,   0,   0,   0,   0,   0],\n",
              "        [  0,   0,   0,   0,   0,   0, 164, 254, 215,  63,  36,   0,  51,  89, 206, 254, 254, 139,   8,   0,   0,   0,   0,   0,   0,   0,   0,   0],\n",
              "        [  0,   0,   0,   0,   0,   0,  57, 197, 254, 254, 222, 180, 241, 254, 254, 253, 213,  11,   0,   0,   0,   0,   0,   0,   0,   0,   0,   0],\n",
              "        [  0,   0,   0,   0,   0,   0,   0, 140, 105, 254, 254, 254, 254, 254, 254, 236,   0,   0,   0,   0,   0,   0,   0,   0,   0,   0,   0,   0],\n",
              "        [  0,   0,   0,   0,   0,   0,   0,   0,   7, 117, 117, 165, 254, 254, 239,  50,   0,   0,   0,   0,   0,   0,   0,   0,   0,   0,   0,   0],\n",
              "        [  0,   0,   0,   0,   0,   0,   0,   0,   0,   0,   0,   0,   0,   0,   0,   0,   0,   0,   0,   0,   0,   0,   0,   0,   0,   0,   0,   0],\n",
              "        [  0,   0,   0,   0,   0,   0,   0,   0,   0,   0,   0,   0,   0,   0,   0,   0,   0,   0,   0,   0,   0,   0,   0,   0,   0,   0,   0,   0],\n",
              "        [  0,   0,   0,   0,   0,   0,   0,   0,   0,   0,   0,   0,   0,   0,   0,   0,   0,   0,   0,   0,   0,   0,   0,   0,   0,   0,   0,   0],\n",
              "        [  0,   0,   0,   0,   0,   0,   0,   0,   0,   0,   0,   0,   0,   0,   0,   0,   0,   0,   0,   0,   0,   0,   0,   0,   0,   0,   0,   0]], dtype=torch.uint8)"
            ]
          },
          "metadata": {},
          "execution_count": 19
        }
      ]
    },
    {
      "cell_type": "markdown",
      "source": [
        "Fast AI provides us with a function called \"show_image()\" to display a tensor as an image directly. "
      ],
      "metadata": {
        "id": "G71aUKK68t37"
      }
    },
    {
      "cell_type": "code",
      "source": [
        "show_image(three_tensors[1]);"
      ],
      "metadata": {
        "colab": {
          "base_uri": "https://localhost:8080/",
          "height": 85
        },
        "id": "ZDuVob__8dfM",
        "outputId": "209877dd-f630-4f3c-8ff5-88222b7b9200"
      },
      "execution_count": 20,
      "outputs": [
        {
          "output_type": "display_data",
          "data": {
            "image/png": "[encoded data removed]",
            "text/plain": [
              "<Figure size 72x72 with 1 Axes>"
            ]
          },
          "metadata": {
            "needs_background": "light"
          }
        }
      ]
    },
    {
      "cell_type": "markdown",
      "source": [
        "Now comes the part of computing the average of the values over each pixel position. \n",
        "\n",
        "To achieve this task, we'll stack all of the three_tensors on top of each other to create a cuboid. This stacked tensor is called a \"Rank-3 Tensor\". The image below will provide a very good idea of how a rank-3 tensor looks. \n",
        "\n",
        "A \"rank\" in a tensor is the number of axes or dimensions in a tensor. The \"shape\" is the size of the each axs of a tensor. \n",
        "\n",
        "![3-axis_front.png](data:image/png;base64,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)"
      ],
      "metadata": {
        "id": "Ytt4CzgM9G6K"
      }
    },
    {
      "cell_type": "markdown",
      "source": [
        "As we are using PyTorch, we'll have to convert the pixel values to float from integer. \n",
        "A basic rule of thumb to be followed while dealing with float values in images, is to convert the value between 0 and 1. "
      ],
      "metadata": {
        "id": "nS07tn5k-Fjy"
      }
    },
    {
      "cell_type": "code",
      "source": [
        "stacked_sevens = torch.stack(seven_tensors).float()/255\n",
        "stacked_threes = torch.stack(three_tensors).float()/255"
      ],
      "metadata": {
        "id": "U2bJ3N6K87S_"
      },
      "execution_count": 21,
      "outputs": []
    },
    {
      "cell_type": "code",
      "source": [
        "stacked_threes.shape"
      ],
      "metadata": {
        "colab": {
          "base_uri": "https://localhost:8080/"
        },
        "id": "Z_niKtHK-3Xt",
        "outputId": "e2f0e61c-fb1b-4ed0-90e0-0394d7dda372"
      },
      "execution_count": 22,
      "outputs": [
        {
          "output_type": "execute_result",
          "data": {
            "text/plain": [
              "torch.Size([6131, 28, 28])"
            ]
          },
          "metadata": {},
          "execution_count": 22
        }
      ]
    },
    {
      "cell_type": "markdown",
      "source": [
        "From this shape we can see that all the tensors of threes are stacked on top of each other. There are 6131 images that are 28 pixels by 28 pixels wide in this rank-3 tensor. \n",
        "\n",
        "As was stated earlier, that a rank in a tensor is the number of dimensions of that tensor. We can verify the rank of the tensor with the help of \"ndim\". "
      ],
      "metadata": {
        "id": "K3aoIugD_k83"
      }
    },
    {
      "cell_type": "code",
      "source": [
        "stacked_threes.ndim"
      ],
      "metadata": {
        "id": "ctRbF9L3--Ag",
        "colab": {
          "base_uri": "https://localhost:8080/"
        },
        "outputId": "50b5d6bf-3b57-46e4-fb6b-f7a178ef62ea"
      },
      "execution_count": 23,
      "outputs": [
        {
          "output_type": "execute_result",
          "data": {
            "text/plain": [
              "3"
            ]
          },
          "metadata": {},
          "execution_count": 23
        }
      ]
    },
    {
      "cell_type": "code",
      "source": [
        "mean3 = stacked_threes.mean(0)"
      ],
      "metadata": {
        "id": "cehSL8bVjDMs"
      },
      "execution_count": 24,
      "outputs": []
    },
    {
      "cell_type": "code",
      "source": [
        "show_image(mean3)"
      ],
      "metadata": {
        "colab": {
          "base_uri": "https://localhost:8080/",
          "height": 102
        },
        "id": "-aOd4t3RjQeQ",
        "outputId": "3afd8f7f-164d-49f7-ea6c-a37efbcf16a8"
      },
      "execution_count": 25,
      "outputs": [
        {
          "output_type": "execute_result",
          "data": {
            "text/plain": [
              "<matplotlib.axes._subplots.AxesSubplot at 0x7f1d1c13e650>"
            ]
          },
          "metadata": {},
          "execution_count": 25
        },
        {
          "output_type": "display_data",
          "data": {
            "image/png": "[encoded data removed]",
            "text/plain": [
              "<Figure size 72x72 with 1 Axes>"
            ]
          },
          "metadata": {
            "needs_background": "light"
          }
        }
      ]
    },
    {
      "cell_type": "markdown",
      "source": [
        "The above image is the ideal 3 for the machine. Intuitively this makes sense. If we do average values over pixels, then a larger portion will be covered by the three. The portion covered will be blurry as it encompasses the values of a large amount of threes. "
      ],
      "metadata": {
        "id": "Oc3MSj9Yjkis"
      }
    },
    {
      "cell_type": "code",
      "source": [
        "mean7 = stacked_sevens.mean(0)\n",
        "show_image(mean7)"
      ],
      "metadata": {
        "colab": {
          "base_uri": "https://localhost:8080/",
          "height": 102
        },
        "id": "upCuhhb_jfYX",
        "outputId": "7da8403d-8812-4d7b-f6cf-1d262378a825"
      },
      "execution_count": 26,
      "outputs": [
        {
          "output_type": "execute_result",
          "data": {
            "text/plain": [
              "<matplotlib.axes._subplots.AxesSubplot at 0x7f1d1c0f2d10>"
            ]
          },
          "metadata": {},
          "execution_count": 26
        },
        {
          "output_type": "display_data",
          "data": {
            "image/png": "[encoded data removed]",
            "text/plain": [
              "<Figure size 72x72 with 1 Axes>"
            ]
          },
          "metadata": {
            "needs_background": "light"
          }
        }
      ]
    },
    {
      "cell_type": "markdown",
      "source": [
        "Now we have to measure how much difference is in between our average 3 and the 3s in the dataset. \n",
        "\n",
        "One way to see the difference between our 3 and the dataset threes is literally taking the difference between each pixel and then adding the differences. But we can't do that. The reason being that there will be some -ve and some +ve differences. While addition, these will cancel out. \n",
        "\n",
        "But why the addition of differences?\n",
        "The main reason for seeing the distance of our 3 from those in the dataset is to see how good it represents all of the images in the dataset, so that a more accurate prediction about the newer data can be made. If we go on to see the difference between each pixel, we won't be able to see if our average image is any good. Hence, the additions of the differences. \n",
        "\n",
        "Now, if we can't simply subtract the differences, then what do we do?\n",
        "\n",
        "There are two conventional metjods used for this purpose. One is the **Mean Absolute Difference** (a.k.a L1 Norm) and the second is **Root Mean Squared Error** (RMSE) (a.k.a L2 Norm). \n",
        "\n",
        "In L1 norm we tae the mean of the absolute value of the difference. \n",
        "\n",
        "Whereas in L2 norm we first sqaure the differences. Then we take their mean. Then we square root that mean. \n",
        "\n",
        "In the images below the word error can be replaced by the word difference. \n",
        "\n",
        "Below I am adding the formulae of MAD and RMSE. Some people have a tendency to understand these things with the help of the formulae with them.\n",
        "\n",
        "**Mean Absolute Difference**\n",
        "\n",
        "![MAE.png](data:image/png;base64,iVBORw0KGgoAAAANSUhEUgAAAQgAAABgCAMAAADW+BxOAAAC7lBMVEX////+/v79/f38/Pz7+/v//9v6+vr5+fn4+Pj39/f//7b29vb19fXb///09PTz8/Py8vLx8fHw8PDv7+/u7u7t7e3s7Ozb/7br6+vq6uq2///p6eno6Ojn5+fm5ubl5eXk5OTj4+Pi4uLh4eHg4ODf39/e3t7/25Dd3d3c3Nzb29va2trZ2dnY2NjX19fW1tbV1dXT09PS0tLR0dHQ0NDPz8/Ozs7Nzc3MzMzJycmQ2//Hx8fGxsbFxcXExMTDw8P/tmbCwsLBwcHAwMC/v7++vr69vb28vLy7u7u6urq4uLi3t7e2tra1tbW0tLSysrKxsbGwsLCvr6+urq6srKyrq6uqqqqpqamnp6dmtv+mpqalpaWkpKSjo6NmttuioqKhoaGgoKCfn5+enp6dnZ3bkDqcnJybm5uampqZmZmYmJiXl5eWlpaVlZWQkLaUlJSTk5OQkJCPj4+Ojo6NjY2MjIxmkNuQkGaLi4uKioqJiYmIiIiHh4eQkDqGhoaEhISCgoJ/f386kNt+fn62ZmZ9fX18fHx7e3t6enp5eXm2Zjp4eHiQZpB3d3d1dXV0dHRzc3O2ZgBycnJxcXFwcHBvb29ubm5tbW1sbGxra2tqamppaWloaGhnZ2dmZmZkZGRjY2NiYmI6ZrZhYWFgYGBfX19eXl5dXV1cXFxbW1uQOmZYWFhXV1dWVlZVVVVUVFRSUlJRUVFmOpAAZrZQUFBOTk6QOgBNTU0AZpBLS0tKSkpJSUlISEhHR0dGRkZFRUVERERDQ0NCQkJBQUFAQEA/Pz8+Pj49PT08PDw7Ozs5OTk3Nzc2NjY1NTU0NDQzMzMAOpAyMjIxMTEwMDAvLy8uLi4tLS0sLCwrKysqKiopKSkoKCgnJycmJiZmADolJSUkJCQjIyNmAAAeHh5iAAAdHR06AGYbGxsaGhoZGRkYGBgXFxcWFhYVFRUUFBQ6AAAPDw8ODg4NDQ0MDAwAAGYLCwsKCgoJCQkAADoAAABtCdtIAAAIt0lEQVR42u2be1xT5xnHn5CQC8EkJoEZAQMopUhtu1p1s85qnb2stltpUWEXgzSgkc4WxkZXu04c4Oo2x2orresgMzC3KbWXsQXt1q5C5yxJk4BzClt1F6N0cyRe9vy3z3tyTnISknDwk7WEc35/nJzb58053/O8z/t73pMACBIkSJAgQYIECRIkSJAgQYJ4rBQAEAkYYP3Li6Qb2ncZ+M5h2bu/vnZoz4Nn3pDxm4P44JqX8JsgffXEzGl/rzPXSeIkiIc1772nBM3pt+XTGoJcm/uo05UV7xQD7gO4A5+a1hyUh11XEB1xQazH9QDfx+IvLZrGIGS7nqv8+QQg9qEBVCfe0ntmTfMUYY0PQjnwtgLU7/zqR98CfoMQ1a4CgNzd5cBzEPyRACIIYkAAQUeEQaAQvWtUt3d0tFutVmuHNbQM6mdqvoCQdyAiXnRScpCFy+V0XkBGTbzJEbd6EXFkiZZIRy30GbOy8m6sbOr1I+JwBm+SZSl58PYohbcst86LWMWfUaONkGiIen52N9rTp9RMQSIaUWjUNnQUaTWRpbkTEcc+G70y34mrmfXcbSmJvatHbhm3S0I6J3s2ZCbZIWW21J2m4JH0MEkmAXO3030N8QPXYHbEkdt8JBlkRq/d+63MHGbVoC6hHKRdtvHlr8cx4HBvDG7fMegYcLl3Mpu12K+iV41DTpbck0jqKTUdNTWbt9Q0dY2bf6omneOV6M+7yKb/f4HotI7bt8pqu4ihu5W8iujrtDJg5L2IC+n1zAO2YcQjVpvV2u5CtCZkyllkIySqY5Tv8BGCAFAN/QNxMdMb/30KHaEpgTxf2HjehVhBxbp6y1i/MiHXlDFC0sTC+Cd9RCA8v/TiC/TGjt972CDqrvixL2TxbIiV9JPsdiTo2u4insGhnQogBq029AZuXnP8y24WCHnvm0cQb48EIZ0DUPphdoKuqoF0DtuUANFxD2Iptb76w7lsEHn+unrE5kgQVX82QAHOTdBVSQ4REmvjnVLNBpF2DrGRrLTi5dnX95WyWBGhc+IRasR8aa+SDeJr/ty5PuzTRIBochlAXp+ZqOdTPIyI52/lCKLwn08jIZDag4hlHJpfgfj+DAAw43+XxgfhsUIz+vIAIGt0MRuEzH5EquxFXMQCUVtQXHMqoqLOyAzXZF/SlBA30ZfOCUTaazMKLyGWpfY0Fl7iEhHm3/RQEdSKdCCRG7NFB9FBjM0O8oXH09NZIPL9dQDsvmGjC8NwEPo/ugPy0DqsmiSJPaTR5zmB+E4gFhpbG7k1vaIRzCQkzO9/4lwoImyxIkJux76ZoPhtPbAjot5vBMj34TEtKyKKH6o9HRERn98YUEUltaxYPtnOkd5PxtASDiAKvw6BTvF6hB+JsZX6VapvXH6a6h0wIQji8O6GhaNGNghF71vz584r/h3ikvAc8aTHALByNycjUd4ZqW1RzrqFVORn5k8M4tmlVJYM9PrQ/Uof38LWY/nBgCgDIF0pjEM8EFletEHz4RQ2iHw/M0fSEg7i0VMGgOf/oOAC4tt/i9TBqFUQIvpXcRo1SNqLHC+Wn/CwNfgZJiB+MTswzIRnVXl0EG6ydy+eXzB0L7BB1Pu3VlRUVDzuC/odW8BZKgtEIDkYGvqz88J1PZOTe9BXAhxBrMDQAMB0LgVb4Xk3tSeUJmkQnbFBrEZsO6tng1Da7VKm3lgd6SzBMPpkMFn+C8N1XDVpDjJ7vHmY8SA4DZyMWiNTSiwQ+4mn7EMkNWcIxA1Xa2k3gYwDpyOCqCWIBKCgKFw5kw+INpZtmwgECXVs5N72+BwRDYREv8x7rEhPDZMLQayd40HnjToZaPN6cT319doFiMNkl07fhVij0+n1mfOaxvCGBHreJtzP2Vmm9nylJ/CI016bwaHttL98I5BTqIQRE0S5hwTzkBHyrh5VwDqPGxHPeloMJ8nukwaArJOkPvyrx5Q/5PAheh0Oh4PsuZCdOA7rsFfOGURrIzNsmLn0j9SessJLVE5Z0RgvIlZus2y2WF7UAGz+NMDynVssmyyWlgrVLrK7TQWgfnGTxWKxPHWfrquDrRZJwjiUjDnjV58MiMJLWGZ+PeAMZkPhTyfuFJdntzZS2bIMUr83I36O+Nh129jwfOAEwoyBUKAGRA4dw0w7LzP5eHYpTG0QN505/0ngBiLtHJ3+ybjBodBI+3sgqUYWaFMShM7h+0L0I/O6tWwQ1/MKUB9991QEobDTUyHjZQ0WpBSIBM7oT0UQNtwe40gpPhHDUIVp62OipAFRtX8tgLF6b0PxuEPNuDPGvNXW/3iDA/SyfTF/kGvEdxSTviDxMyUfB4faq/3YVHLhg1f8/sgXTNV4NGrEq++2I3azrjx26/fnQJLIOLqhEq9cK9fBgcg52ofHjupJkSSnFjK5QqnWzJpTtPGFY8TO3cspx0DSqO5sRj36HgGA/REGcuUYukPvztrb7S6n0zHAlG4jeg6Nb3XWJA2IHQ3iQ3iIpCg7huWom09jPDVzaLvmhybMAWlygBCLMoepl3pGb9hIKfuui5aTtQxqaP7ETWs8GQf8mZA0f21YjFgAAGvRG5bYJOkqlUqtVquphVoVLi4/jhCtyTz/hjh5skQ9OnUA4m7sFhfcmdimLbgmef7/JOmmRoscL5bK3mxLaNOyw2e021XJ8mcXOkXcg/6c268uSWjTWbhrwbtJ81+XRegn0+uL/cMlIy1cLLJE94P7OVZsIz/x3JU0XePOsx2UfXzC+acGDhZZst1+Eb/Ise08003Jkyshi57M0uu5WOSUBz63iTOI6aOoFnkD/0AELLKI9yBoi1xF3qiRF8iVlQ+JKBDl/OLAWORKk8lk2kBomB4EPoKIZZF5B4KxyKxf2yj5CYK2yJ5Q0fljOS9B0BZZow5KASCWVWKFXMwrENEssrjJOYoj7h38CokoFln0qTnGHOPNS0CQIEGCBAkSJEiQIEGCBAmaFvofPtPA/zJjyXwAAAAASUVORK5CYII=)\n",
        "\n",
        "**Root Mean Squared Error (RMSE)**\n",
        "\n",
        "![RMSE1.jpg](data:image/jpeg;base64,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)\n",
        "\n",
        "**An image to help understand L1 and L2 norm**\n",
        "\n",
        "![linear regression-error.png](data:image/png;base64,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)"
      ],
      "metadata": {
        "id": "ROyrbIPuksRk"
      }
    },
    {
      "cell_type": "markdown",
      "source": [
        "Calculating MAD and RMSE"
      ],
      "metadata": {
        "id": "NlPq_ppUuL6l"
      }
    },
    {
      "cell_type": "code",
      "source": [
        "a_3 = stacked_threes[1]\n",
        "show_image(a_3);"
      ],
      "metadata": {
        "colab": {
          "base_uri": "https://localhost:8080/",
          "height": 85
        },
        "id": "Vc_5g6JYuRB_",
        "outputId": "ba538658-7cde-4879-b73e-cc98d537386f"
      },
      "execution_count": 27,
      "outputs": [
        {
          "output_type": "display_data",
          "data": {
            "image/png": "[encoded data removed]",
            "text/plain": [
              "<Figure size 72x72 with 1 Axes>"
            ]
          },
          "metadata": {
            "needs_background": "light"
          }
        }
      ]
    },
    {
      "cell_type": "code",
      "source": [
        "dist_3_abs = (a_3 - mean3).abs().mean() #MAD\n",
        "dist_3_sqr = ((a_3 - mean3)**2).mean().sqrt() #RMSE\n",
        "dist_3_abs, dist_3_sqr"
      ],
      "metadata": {
        "colab": {
          "base_uri": "https://localhost:8080/"
        },
        "id": "PV4Auh-vkW9P",
        "outputId": "7b596927-6e13-4790-c1df-5f0cb17449bc"
      },
      "execution_count": 28,
      "outputs": [
        {
          "output_type": "execute_result",
          "data": {
            "text/plain": [
              "(tensor(0.1114), tensor(0.2021))"
            ]
          },
          "metadata": {},
          "execution_count": 28
        }
      ]
    },
    {
      "cell_type": "code",
      "source": [
        "dist_7_abs = (a_3 - mean7).abs().mean()\n",
        "dist_7_sqr = ((a_3 - mean7)**2).mean().sqrt()\n",
        "dist_7_abs, dist_7_sqr"
      ],
      "metadata": {
        "colab": {
          "base_uri": "https://localhost:8080/"
        },
        "id": "KS4YGH9QvF8u",
        "outputId": "2e8651e7-98fd-4cdc-e554-ec1f9bfacf7f"
      },
      "execution_count": 29,
      "outputs": [
        {
          "output_type": "execute_result",
          "data": {
            "text/plain": [
              "(tensor(0.1586), tensor(0.3021))"
            ]
          },
          "metadata": {},
          "execution_count": 29
        }
      ]
    },
    {
      "cell_type": "markdown",
      "source": [
        "Here, we can see that for both MAD and RMSE, the values are lesser for 3 than 7. This means less error. Hence, we can confirm of the image as a 3. This is the basic working of our model. We just now have to figure out a way to do this for all of the images in the valdation set at once so as to predict images. \n",
        "\n",
        "Also, we don't have to write the formulae for MAD and RMSE. PyTorch provides us with functions that help us calculate this. "
      ],
      "metadata": {
        "id": "eezFzdZnvkMH"
      }
    },
    {
      "cell_type": "code",
      "source": [
        "F.l1_loss(a_3.float(), mean7), F.mse_loss(a_3, mean7).sqrt()"
      ],
      "metadata": {
        "colab": {
          "base_uri": "https://localhost:8080/"
        },
        "id": "JjIUlibAvb9i",
        "outputId": "7611ffbb-b606-425f-e85b-6542f0384b15"
      },
      "execution_count": 30,
      "outputs": [
        {
          "output_type": "execute_result",
          "data": {
            "text/plain": [
              "(tensor(0.1586), tensor(0.3021))"
            ]
          },
          "metadata": {},
          "execution_count": 30
        }
      ]
    },
    {
      "cell_type": "markdown",
      "source": [
        "Now, we will use the valid dataset to measure the performance of the model. Let's first create the tensors for 3s and 7s to manipulate that data. "
      ],
      "metadata": {
        "id": "91RHd2Tel7Ds"
      }
    },
    {
      "cell_type": "code",
      "source": [
        "valid_3_tensor = torch.stack([tensor(Image.open(i)) for i in (path/\"valid\"/\"3\").ls()])\n",
        "valid_3_tensor = valid_3_tensor.float()/255"
      ],
      "metadata": {
        "id": "lwpFuJzIMKjN"
      },
      "execution_count": 32,
      "outputs": []
    },
    {
      "cell_type": "code",
      "source": [
        "show_image(valid_3_tensor[1])"
      ],
      "metadata": {
        "colab": {
          "base_uri": "https://localhost:8080/",
          "height": 102
        },
        "id": "a1Fc8FDqme_e",
        "outputId": "dee41d62-5ee2-41d6-a2c9-7a334613000b"
      },
      "execution_count": 34,
      "outputs": [
        {
          "output_type": "execute_result",
          "data": {
            "text/plain": [
              "<matplotlib.axes._subplots.AxesSubplot at 0x7f1d1a6ce650>"
            ]
          },
          "metadata": {},
          "execution_count": 34
        },
        {
          "output_type": "display_data",
          "data": {
            "image/png": "[encoded data removed]",
            "text/plain": [
              "<Figure size 72x72 with 1 Axes>"
            ]
          },
          "metadata": {
            "needs_background": "light"
          }
        }
      ]
    },
    {
      "cell_type": "code",
      "source": [
        "valid_7_tensor = torch.stack([tensor(Image.open(i)) for i in (path/\"valid\"/\"7\").ls()])\n",
        "valid_7_tensor = valid_7_tensor.float()/255"
      ],
      "metadata": {
        "id": "UlYatsiUmxyf"
      },
      "execution_count": 37,
      "outputs": []
    },
    {
      "cell_type": "code",
      "source": [
        "show_image(valid_7_tensor[0]);"
      ],
      "metadata": {
        "colab": {
          "base_uri": "https://localhost:8080/",
          "height": 85
        },
        "id": "yd5XEwDjnfqa",
        "outputId": "3b2a2f4a-d812-4bc3-eeaa-0c3b660e5239"
      },
      "execution_count": 43,
      "outputs": [
        {
          "output_type": "display_data",
          "data": {
            "image/png": "[encoded data removed]",
            "text/plain": [
              "<Figure size 72x72 with 1 Axes>"
            ]
          },
          "metadata": {
            "needs_background": "light"
          }
        }
      ]
    },
    {
      "cell_type": "code",
      "source": [
        "valid_3_tensor.shape, valid_7_tensor.shape"
      ],
      "metadata": {
        "colab": {
          "base_uri": "https://localhost:8080/"
        },
        "id": "ei5A_ViloVU2",
        "outputId": "53ff2ff6-828c-40f4-e1cf-877da6e3f9ea"
      },
      "execution_count": 45,
      "outputs": [
        {
          "output_type": "execute_result",
          "data": {
            "text/plain": [
              "(torch.Size([1010, 28, 28]), torch.Size([1028, 28, 28]))"
            ]
          },
          "metadata": {},
          "execution_count": 45
        }
      ]
    },
    {
      "cell_type": "code",
      "source": [
        "def mnist_dist(a,b):\n",
        "  return (a-b).abs().mean((-1,-2))"
      ],
      "metadata": {
        "id": "rW1cSAIKogXG"
      },
      "execution_count": 52,
      "outputs": []
    },
    {
      "cell_type": "markdown",
      "source": [
        "The tuple (-1,-2) represents a range of axes. In Python, -1 refers to the last element, and -2 refers to the second-to-last. So in this case, this tells PyTorch that we want to take the mean ranging over the values indexed by the last two axes of the tensor. The last two axes are the horizontal and vertical dimensions of an image. After taking the mean over the last two axes, we are left with just the first tensor axis, which indexes over our images, which is why our final size was (1010). In other words, for every image, we averaged the intensity of all the pixels in that image."
      ],
      "metadata": {
        "id": "G28HyZPFq9hm"
      }
    },
    {
      "cell_type": "code",
      "source": [
        "mnist_dist(a_3, mean3)"
      ],
      "metadata": {
        "colab": {
          "base_uri": "https://localhost:8080/"
        },
        "id": "tZG9OPRLpfgq",
        "outputId": "a2c7975b-0820-4c49-a05a-9f5c91fb0fb4"
      },
      "execution_count": 53,
      "outputs": [
        {
          "output_type": "execute_result",
          "data": {
            "text/plain": [
              "tensor(0.1114)"
            ]
          },
          "metadata": {},
          "execution_count": 53
        }
      ]
    },
    {
      "cell_type": "code",
      "source": [
        "valid_3_dist = mnist_dist(valid_3_tensor, mean3)"
      ],
      "metadata": {
        "id": "tNBCEBEsppBf"
      },
      "execution_count": 54,
      "outputs": []
    },
    {
      "cell_type": "code",
      "source": [
        "valid_3_dist.shape"
      ],
      "metadata": {
        "colab": {
          "base_uri": "https://localhost:8080/"
        },
        "id": "lXTXtJtnqLSD",
        "outputId": "74e5b8a1-a05f-4696-9504-8ead825a63f6"
      },
      "execution_count": 55,
      "outputs": [
        {
          "output_type": "execute_result",
          "data": {
            "text/plain": [
              "torch.Size([1010])"
            ]
          },
          "metadata": {},
          "execution_count": 55
        }
      ]
    },
    {
      "cell_type": "code",
      "source": [
        "valid_3_dist"
      ],
      "metadata": {
        "colab": {
          "base_uri": "https://localhost:8080/"
        },
        "id": "RAhuo9jEqNh8",
        "outputId": "baceea7f-042a-4e90-c623-5315acb5a67c"
      },
      "execution_count": 56,
      "outputs": [
        {
          "output_type": "execute_result",
          "data": {
            "text/plain": [
              "tensor([0.1117, 0.1295, 0.1168,  ..., 0.1506, 0.1380, 0.1483])"
            ]
          },
          "metadata": {},
          "execution_count": 56
        }
      ]
    },
    {
      "cell_type": "markdown",
      "source": [
        "What just happened? You might ask. So what PyTorch actually did is called broadcasting. \n",
        "\n",
        "PyTorch will automatically expand the tensor with the smaller rank to have the same size as the one with the larger rank. Broadcasting is an important capability that makes tensor code much easier to write.\n",
        "\n",
        "After broadcasting so the two argument tensors have the same rank, PyTorch applies its usual logic for two tensors of the same rank: it performs the operation on each corresponding element of the two tensors, and returns the tensor result."
      ],
      "metadata": {
        "id": "W5deGHkfqeOI"
      }
    },
    {
      "cell_type": "code",
      "source": [
        "def is_3(x): \n",
        "  return (mnist_dist(x, mean3) < mnist_dist(x, mean7))"
      ],
      "metadata": {
        "id": "5zo0WaMUqPi5"
      },
      "execution_count": 57,
      "outputs": []
    },
    {
      "cell_type": "code",
      "source": [
        "is_3(a_3)"
      ],
      "metadata": {
        "colab": {
          "base_uri": "https://localhost:8080/"
        },
        "id": "ZTxRKryRrKqZ",
        "outputId": "e9541dbd-65cd-4af7-b692-994d9d2b3c58"
      },
      "execution_count": 58,
      "outputs": [
        {
          "output_type": "execute_result",
          "data": {
            "text/plain": [
              "tensor(True)"
            ]
          },
          "metadata": {},
          "execution_count": 58
        }
      ]
    },
    {
      "cell_type": "code",
      "source": [
        "is_3(valid_3_tensor)"
      ],
      "metadata": {
        "colab": {
          "base_uri": "https://localhost:8080/"
        },
        "id": "TFvlpXRCrM8O",
        "outputId": "a9dafdd9-ab8a-417c-e819-6830f3e6f48a"
      },
      "execution_count": 59,
      "outputs": [
        {
          "output_type": "execute_result",
          "data": {
            "text/plain": [
              "tensor([ True, False,  True,  ...,  True,  True,  True])"
            ]
          },
          "metadata": {},
          "execution_count": 59
        }
      ]
    },
    {
      "cell_type": "code",
      "source": [
        "accuracy_3s = is_3(valid_3_tensor).float().mean()\n",
        "accuracy_7s = (1 - is_3(valid_7_tensor).float()).mean()"
      ],
      "metadata": {
        "id": "xbDoUSJqrTof"
      },
      "execution_count": 60,
      "outputs": []
    },
    {
      "cell_type": "code",
      "source": [
        "accuracy_3s, accuracy_7s"
      ],
      "metadata": {
        "colab": {
          "base_uri": "https://localhost:8080/"
        },
        "id": "pCDLyZsErrOi",
        "outputId": "41b928af-7df7-4f6a-8f93-a071ad3fcfa9"
      },
      "execution_count": 61,
      "outputs": [
        {
          "output_type": "execute_result",
          "data": {
            "text/plain": [
              "(tensor(0.9168), tensor(0.9854))"
            ]
          },
          "metadata": {},
          "execution_count": 61
        }
      ]
    },
    {
      "cell_type": "markdown",
      "source": [
        "Both of our models are actually performing very well with this baseine model. But let's be honest, 3 and 7 can easily be identified and only 2 out of 10 are being compared here. But, this model works pretty well for only a baseline model."
      ],
      "metadata": {
        "id": "2_0lSoQNrzW7"
      }
    },
    {
      "cell_type": "markdown",
      "source": [
        "\n",
        "\n",
        "---\n",
        "\n"
      ],
      "metadata": {
        "id": "zZNl8FJXsRMC"
      }
    }
  ]
}