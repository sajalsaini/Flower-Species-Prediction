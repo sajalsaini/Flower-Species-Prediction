{
  "nbformat": 4,
  "nbformat_minor": 0,
  "metadata": {
    "colab": {
      "provenance": []
    },
    "kernelspec": {
      "name": "python3",
      "display_name": "Python 3"
    },
    "language_info": {
      "name": "python"
    }
  },
  "cells": [
    {
      "cell_type": "markdown",
      "source": [
        "# Importing Dataset and Libs"
      ],
      "metadata": {
        "id": "KEj-Zuwtpv-a"
      }
    },
    {
      "cell_type": "code",
      "execution_count": 1,
      "metadata": {
        "id": "ikavng8LfyuB"
      },
      "outputs": [],
      "source": [
        "import pandas as pd\n",
        "import numpy as np\n",
        "import seaborn as sns\n",
        "import matplotlib.pyplot as plt"
      ]
    },
    {
      "cell_type": "code",
      "source": [
        "df = pd.read_csv(\"/content/drive/MyDrive/BADM576/Sales Transaction v.4a-1.csv\")"
      ],
      "metadata": {
        "id": "GRaKijMagHrv"
      },
      "execution_count": 2,
      "outputs": []
    },
    {
      "cell_type": "code",
      "source": [
        "df_main = df.copy()"
      ],
      "metadata": {
        "id": "lFvCyzzfgOaZ"
      },
      "execution_count": 3,
      "outputs": []
    },
    {
      "cell_type": "code",
      "source": [
        "df_main.info()"
      ],
      "metadata": {
        "colab": {
          "base_uri": "https://localhost:8080/"
        },
        "id": "2VAMfLcagQ4P",
        "outputId": "9248cc2f-6882-4cee-cafc-d660c3a2cb8e"
      },
      "execution_count": 4,
      "outputs": [
        {
          "output_type": "stream",
          "name": "stdout",
          "text": [
            "<class 'pandas.core.frame.DataFrame'>\n",
            "RangeIndex: 536350 entries, 0 to 536349\n",
            "Data columns (total 8 columns):\n",
            " #   Column         Non-Null Count   Dtype  \n",
            "---  ------         --------------   -----  \n",
            " 0   TransactionNo  536350 non-null  object \n",
            " 1   Date           536350 non-null  object \n",
            " 2   ProductNo      536350 non-null  object \n",
            " 3   ProductName    536350 non-null  object \n",
            " 4   Price          536350 non-null  float64\n",
            " 5   Quantity       536350 non-null  int64  \n",
            " 6   CustomerNo     536295 non-null  float64\n",
            " 7   Country        536350 non-null  object \n",
            "dtypes: float64(2), int64(1), object(5)\n",
            "memory usage: 32.7+ MB\n"
          ]
        }
      ]
    },
    {
      "cell_type": "markdown",
      "source": [
        "# Primary Key"
      ],
      "metadata": {
        "id": "BxIMULrQgoFb"
      }
    },
    {
      "cell_type": "code",
      "source": [
        "# Checking for unique values for TransactionNo, ProductNo, and CustomerNo as they are the top contenders for being the primary key\n",
        "print(\"Unique values in TransactionNo:\", df_main['TransactionNo'].nunique())\n",
        "print(\"Unique values in ProductNo:\", df_main['ProductNo'].nunique())\n",
        "print(\"Unique values in CustomerNo:\", df_main['CustomerNo'].nunique())"
      ],
      "metadata": {
        "colab": {
          "base_uri": "https://localhost:8080/"
        },
        "id": "VGyiGeMLgSCm",
        "outputId": "63545498-d707-4fe7-d579-a6e9eae0f501"
      },
      "execution_count": 5,
      "outputs": [
        {
          "output_type": "stream",
          "name": "stdout",
          "text": [
            "Unique values in TransactionNo: 23204\n",
            "Unique values in ProductNo: 3768\n",
            "Unique values in CustomerNo: 4738\n"
          ]
        }
      ]
    },
    {
      "cell_type": "markdown",
      "source": [
        "The dataframe has 536350 entries in it and none of the top contenders have these many unique values. Hence, we'll either have to create our own primary key (using some sort of auto numbering column) or create a composite key from the already present columns. "
      ],
      "metadata": {
        "id": "EDitF6JqhKf9"
      }
    },
    {
      "cell_type": "markdown",
      "source": [
        "## Creating a Composite Key"
      ],
      "metadata": {
        "id": "OaMLCVTthh0J"
      }
    },
    {
      "cell_type": "code",
      "source": [
        "# create a new column with the combined values of the columns that will form the primary key\n",
        "df_main['PrimaryKey'] = df_main['TransactionNo'].astype(str) + '_' + df_main['ProductNo'].astype(str) + '_' + df_main['CustomerNo'].astype(str)\n",
        "\n",
        "print(df_main['PrimaryKey'].nunique())"
      ],
      "metadata": {
        "colab": {
          "base_uri": "https://localhost:8080/"
        },
        "id": "X7gw_Q8XhAY2",
        "outputId": "bc499f4b-6ebd-42fb-ac7a-87e3df88becb"
      },
      "execution_count": 6,
      "outputs": [
        {
          "output_type": "stream",
          "name": "stdout",
          "text": [
            "525367\n"
          ]
        }
      ]
    },
    {
      "cell_type": "markdown",
      "source": [
        "As we can see that the Composite Key is also not able to create unique keys even after combining three columns. Hence we'll drop the primary key from the table and we'll use an autonumbered column as our primary key. "
      ],
      "metadata": {
        "id": "lLz5_DfylL_9"
      }
    },
    {
      "cell_type": "code",
      "source": [
        "df_main.drop(columns = ['PrimaryKey'], inplace = True)"
      ],
      "metadata": {
        "id": "KCZMqWgelt3M"
      },
      "execution_count": 7,
      "outputs": []
    },
    {
      "cell_type": "markdown",
      "source": [
        "## Creating an Autonumbered Column for PK"
      ],
      "metadata": {
        "id": "nGqQHpu7lcxa"
      }
    },
    {
      "cell_type": "code",
      "source": [
        "df_main.reset_index(drop=False, inplace=True)"
      ],
      "metadata": {
        "id": "qz4zstgNlIKp"
      },
      "execution_count": 8,
      "outputs": []
    },
    {
      "cell_type": "code",
      "source": [
        "df_main = df_main.rename(columns={'index': 'PrimaryKey'})"
      ],
      "metadata": {
        "id": "T-mxrFvOl9xZ"
      },
      "execution_count": 9,
      "outputs": []
    },
    {
      "cell_type": "code",
      "source": [
        "df_main.head()"
      ],
      "metadata": {
        "colab": {
          "base_uri": "https://localhost:8080/",
          "height": 206
        },
        "id": "d3s-e_DBl85Z",
        "outputId": "8bcea305-9f22-4373-c11d-f34d9abd6e63"
      },
      "execution_count": 10,
      "outputs": [
        {
          "output_type": "execute_result",
          "data": {
            "text/plain": [
              "   PrimaryKey TransactionNo       Date ProductNo  \\\n",
              "0           0        581482  12/9/2019     22485   \n",
              "1           1        581475  12/9/2019     22596   \n",
              "2           2        581475  12/9/2019     23235   \n",
              "3           3        581475  12/9/2019     23272   \n",
              "4           4        581475  12/9/2019     23239   \n",
              "\n",
              "                           ProductName  Price  Quantity  CustomerNo  \\\n",
              "0        Set Of 2 Wooden Market Crates  21.47        12     17490.0   \n",
              "1  Christmas Star Wish List Chalkboard  10.65        36     13069.0   \n",
              "2             Storage Tin Vintage Leaf  11.53        12     13069.0   \n",
              "3    Tree T-Light Holder Willie Winkie  10.65        12     13069.0   \n",
              "4    Set Of 4 Knick Knack Tins Poppies  11.94         6     13069.0   \n",
              "\n",
              "          Country  \n",
              "0  United Kingdom  \n",
              "1  United Kingdom  \n",
              "2  United Kingdom  \n",
              "3  United Kingdom  \n",
              "4  United Kingdom  "
            ],
            "text/html": [
              "\n",
              "  <div id=\"df-e797623e-27e4-4b9b-8c66-3d4c1cb0b163\">\n",
              "    <div class=\"colab-df-container\">\n",
              "      <div>\n",
              "<style scoped>\n",
              "    .dataframe tbody tr th:only-of-type {\n",
              "        vertical-align: middle;\n",
              "    }\n",
              "\n",
              "    .dataframe tbody tr th {\n",
              "        vertical-align: top;\n",
              "    }\n",
              "\n",
              "    .dataframe thead th {\n",
              "        text-align: right;\n",
              "    }\n",
              "</style>\n",
              "<table border=\"1\" class=\"dataframe\">\n",
              "  <thead>\n",
              "    <tr style=\"text-align: right;\">\n",
              "      <th></th>\n",
              "      <th>PrimaryKey</th>\n",
              "      <th>TransactionNo</th>\n",
              "      <th>Date</th>\n",
              "      <th>ProductNo</th>\n",
              "      <th>ProductName</th>\n",
              "      <th>Price</th>\n",
              "      <th>Quantity</th>\n",
              "      <th>CustomerNo</th>\n",
              "      <th>Country</th>\n",
              "    </tr>\n",
              "  </thead>\n",
              "  <tbody>\n",
              "    <tr>\n",
              "      <th>0</th>\n",
              "      <td>0</td>\n",
              "      <td>581482</td>\n",
              "      <td>12/9/2019</td>\n",
              "      <td>22485</td>\n",
              "      <td>Set Of 2 Wooden Market Crates</td>\n",
              "      <td>21.47</td>\n",
              "      <td>12</td>\n",
              "      <td>17490.0</td>\n",
              "      <td>United Kingdom</td>\n",
              "    </tr>\n",
              "    <tr>\n",
              "      <th>1</th>\n",
              "      <td>1</td>\n",
              "      <td>581475</td>\n",
              "      <td>12/9/2019</td>\n",
              "      <td>22596</td>\n",
              "      <td>Christmas Star Wish List Chalkboard</td>\n",
              "      <td>10.65</td>\n",
              "      <td>36</td>\n",
              "      <td>13069.0</td>\n",
              "      <td>United Kingdom</td>\n",
              "    </tr>\n",
              "    <tr>\n",
              "      <th>2</th>\n",
              "      <td>2</td>\n",
              "      <td>581475</td>\n",
              "      <td>12/9/2019</td>\n",
              "      <td>23235</td>\n",
              "      <td>Storage Tin Vintage Leaf</td>\n",
              "      <td>11.53</td>\n",
              "      <td>12</td>\n",
              "      <td>13069.0</td>\n",
              "      <td>United Kingdom</td>\n",
              "    </tr>\n",
              "    <tr>\n",
              "      <th>3</th>\n",
              "      <td>3</td>\n",
              "      <td>581475</td>\n",
              "      <td>12/9/2019</td>\n",
              "      <td>23272</td>\n",
              "      <td>Tree T-Light Holder Willie Winkie</td>\n",
              "      <td>10.65</td>\n",
              "      <td>12</td>\n",
              "      <td>13069.0</td>\n",
              "      <td>United Kingdom</td>\n",
              "    </tr>\n",
              "    <tr>\n",
              "      <th>4</th>\n",
              "      <td>4</td>\n",
              "      <td>581475</td>\n",
              "      <td>12/9/2019</td>\n",
              "      <td>23239</td>\n",
              "      <td>Set Of 4 Knick Knack Tins Poppies</td>\n",
              "      <td>11.94</td>\n",
              "      <td>6</td>\n",
              "      <td>13069.0</td>\n",
              "      <td>United Kingdom</td>\n",
              "    </tr>\n",
              "  </tbody>\n",
              "</table>\n",
              "</div>\n",
              "      <button class=\"colab-df-convert\" onclick=\"convertToInteractive('df-e797623e-27e4-4b9b-8c66-3d4c1cb0b163')\"\n",
              "              title=\"Convert this dataframe to an interactive table.\"\n",
              "              style=\"display:none;\">\n",
              "        \n",
              "  <svg xmlns=\"http://www.w3.org/2000/svg\" height=\"24px\"viewBox=\"0 0 24 24\"\n",
              "       width=\"24px\">\n",
              "    <path d=\"M0 0h24v24H0V0z\" fill=\"none\"/>\n",
              "    <path d=\"M18.56 5.44l.94 2.06.94-2.06 2.06-.94-2.06-.94-.94-2.06-.94 2.06-2.06.94zm-11 1L8.5 8.5l.94-2.06 2.06-.94-2.06-.94L8.5 2.5l-.94 2.06-2.06.94zm10 10l.94 2.06.94-2.06 2.06-.94-2.06-.94-.94-2.06-.94 2.06-2.06.94z\"/><path d=\"M17.41 7.96l-1.37-1.37c-.4-.4-.92-.59-1.43-.59-.52 0-1.04.2-1.43.59L10.3 9.45l-7.72 7.72c-.78.78-.78 2.05 0 2.83L4 21.41c.39.39.9.59 1.41.59.51 0 1.02-.2 1.41-.59l7.78-7.78 2.81-2.81c.8-.78.8-2.07 0-2.86zM5.41 20L4 18.59l7.72-7.72 1.47 1.35L5.41 20z\"/>\n",
              "  </svg>\n",
              "      </button>\n",
              "      \n",
              "  <style>\n",
              "    .colab-df-container {\n",
              "      display:flex;\n",
              "      flex-wrap:wrap;\n",
              "      gap: 12px;\n",
              "    }\n",
              "\n",
              "    .colab-df-convert {\n",
              "      background-color: #E8F0FE;\n",
              "      border: none;\n",
              "      border-radius: 50%;\n",
              "      cursor: pointer;\n",
              "      display: none;\n",
              "      fill: #1967D2;\n",
              "      height: 32px;\n",
              "      padding: 0 0 0 0;\n",
              "      width: 32px;\n",
              "    }\n",
              "\n",
              "    .colab-df-convert:hover {\n",
              "      background-color: #E2EBFA;\n",
              "      box-shadow: 0px 1px 2px rgba(60, 64, 67, 0.3), 0px 1px 3px 1px rgba(60, 64, 67, 0.15);\n",
              "      fill: #174EA6;\n",
              "    }\n",
              "\n",
              "    [theme=dark] .colab-df-convert {\n",
              "      background-color: #3B4455;\n",
              "      fill: #D2E3FC;\n",
              "    }\n",
              "\n",
              "    [theme=dark] .colab-df-convert:hover {\n",
              "      background-color: #434B5C;\n",
              "      box-shadow: 0px 1px 3px 1px rgba(0, 0, 0, 0.15);\n",
              "      filter: drop-shadow(0px 1px 2px rgba(0, 0, 0, 0.3));\n",
              "      fill: #FFFFFF;\n",
              "    }\n",
              "  </style>\n",
              "\n",
              "      <script>\n",
              "        const buttonEl =\n",
              "          document.querySelector('#df-e797623e-27e4-4b9b-8c66-3d4c1cb0b163 button.colab-df-convert');\n",
              "        buttonEl.style.display =\n",
              "          google.colab.kernel.accessAllowed ? 'block' : 'none';\n",
              "\n",
              "        async function convertToInteractive(key) {\n",
              "          const element = document.querySelector('#df-e797623e-27e4-4b9b-8c66-3d4c1cb0b163');\n",
              "          const dataTable =\n",
              "            await google.colab.kernel.invokeFunction('convertToInteractive',\n",
              "                                                     [key], {});\n",
              "          if (!dataTable) return;\n",
              "\n",
              "          const docLinkHtml = 'Like what you see? Visit the ' +\n",
              "            '<a target=\"_blank\" href=https://colab.research.google.com/notebooks/data_table.ipynb>data table notebook</a>'\n",
              "            + ' to learn more about interactive tables.';\n",
              "          element.innerHTML = '';\n",
              "          dataTable['output_type'] = 'display_data';\n",
              "          await google.colab.output.renderOutput(dataTable, element);\n",
              "          const docLink = document.createElement('div');\n",
              "          docLink.innerHTML = docLinkHtml;\n",
              "          element.appendChild(docLink);\n",
              "        }\n",
              "      </script>\n",
              "    </div>\n",
              "  </div>\n",
              "  "
            ]
          },
          "metadata": {},
          "execution_count": 10
        }
      ]
    },
    {
      "cell_type": "markdown",
      "source": [
        "# Type of ML Problem"
      ],
      "metadata": {
        "id": "rKP1J8eBm2Ad"
      }
    },
    {
      "cell_type": "markdown",
      "source": [
        "As the target variable is continuous in nature, it's a regression problem. We can implement the following types of regression algorithms on this data and compare which one performs the best:\n",
        "1. Linear\n",
        "2. Decision Tree\n",
        "3. Random Forest\n",
        "4. Support Vector\n",
        "5. ~~Ridge~~\n",
        "6. ~~Lasso~~\n",
        "\n",
        "The use of Lasso and Ridge regression techniques depend upon the number of features and the correlation between the features. We can see that there are not many features in the dataset which suggests that these methods shouldn't be implemented, but we'll also check for correlation. If the features are highly correlated then these techniques can help us narrow out the contribution by each feature to reduce overfitting and improve the model on unseen data. "
      ],
      "metadata": {
        "id": "Wkq7Es6mnJo_"
      }
    },
    {
      "cell_type": "markdown",
      "source": [
        "# Correlation - Whole Dataframe"
      ],
      "metadata": {
        "id": "wNp--Pn_pssh"
      }
    },
    {
      "cell_type": "code",
      "source": [
        "corr = df_main.corr()\n",
        "corr"
      ],
      "metadata": {
        "colab": {
          "base_uri": "https://localhost:8080/",
          "height": 229
        },
        "id": "SFN9SlbsmhDN",
        "outputId": "09c35c2c-e363-4f69-8f91-845cbb659fc6"
      },
      "execution_count": 11,
      "outputs": [
        {
          "output_type": "stream",
          "name": "stderr",
          "text": [
            "<ipython-input-11-70a6d42f3041>:1: FutureWarning: The default value of numeric_only in DataFrame.corr is deprecated. In a future version, it will default to False. Select only valid columns or specify the value of numeric_only to silence this warning.\n",
            "  corr = df_main.corr()\n"
          ]
        },
        {
          "output_type": "execute_result",
          "data": {
            "text/plain": [
              "            PrimaryKey     Price  Quantity  CustomerNo\n",
              "PrimaryKey    1.000000  0.148032 -0.000190   -0.006526\n",
              "Price         0.148032  1.000000 -0.007182   -0.003198\n",
              "Quantity     -0.000190 -0.007182  1.000000   -0.002232\n",
              "CustomerNo   -0.006526 -0.003198 -0.002232    1.000000"
            ],
            "text/html": [
              "\n",
              "  <div id=\"df-fabfc1f3-c208-443c-9731-94e471ce24be\">\n",
              "    <div class=\"colab-df-container\">\n",
              "      <div>\n",
              "<style scoped>\n",
              "    .dataframe tbody tr th:only-of-type {\n",
              "        vertical-align: middle;\n",
              "    }\n",
              "\n",
              "    .dataframe tbody tr th {\n",
              "        vertical-align: top;\n",
              "    }\n",
              "\n",
              "    .dataframe thead th {\n",
              "        text-align: right;\n",
              "    }\n",
              "</style>\n",
              "<table border=\"1\" class=\"dataframe\">\n",
              "  <thead>\n",
              "    <tr style=\"text-align: right;\">\n",
              "      <th></th>\n",
              "      <th>PrimaryKey</th>\n",
              "      <th>Price</th>\n",
              "      <th>Quantity</th>\n",
              "      <th>CustomerNo</th>\n",
              "    </tr>\n",
              "  </thead>\n",
              "  <tbody>\n",
              "    <tr>\n",
              "      <th>PrimaryKey</th>\n",
              "      <td>1.000000</td>\n",
              "      <td>0.148032</td>\n",
              "      <td>-0.000190</td>\n",
              "      <td>-0.006526</td>\n",
              "    </tr>\n",
              "    <tr>\n",
              "      <th>Price</th>\n",
              "      <td>0.148032</td>\n",
              "      <td>1.000000</td>\n",
              "      <td>-0.007182</td>\n",
              "      <td>-0.003198</td>\n",
              "    </tr>\n",
              "    <tr>\n",
              "      <th>Quantity</th>\n",
              "      <td>-0.000190</td>\n",
              "      <td>-0.007182</td>\n",
              "      <td>1.000000</td>\n",
              "      <td>-0.002232</td>\n",
              "    </tr>\n",
              "    <tr>\n",
              "      <th>CustomerNo</th>\n",
              "      <td>-0.006526</td>\n",
              "      <td>-0.003198</td>\n",
              "      <td>-0.002232</td>\n",
              "      <td>1.000000</td>\n",
              "    </tr>\n",
              "  </tbody>\n",
              "</table>\n",
              "</div>\n",
              "      <button class=\"colab-df-convert\" onclick=\"convertToInteractive('df-fabfc1f3-c208-443c-9731-94e471ce24be')\"\n",
              "              title=\"Convert this dataframe to an interactive table.\"\n",
              "              style=\"display:none;\">\n",
              "        \n",
              "  <svg xmlns=\"http://www.w3.org/2000/svg\" height=\"24px\"viewBox=\"0 0 24 24\"\n",
              "       width=\"24px\">\n",
              "    <path d=\"M0 0h24v24H0V0z\" fill=\"none\"/>\n",
              "    <path d=\"M18.56 5.44l.94 2.06.94-2.06 2.06-.94-2.06-.94-.94-2.06-.94 2.06-2.06.94zm-11 1L8.5 8.5l.94-2.06 2.06-.94-2.06-.94L8.5 2.5l-.94 2.06-2.06.94zm10 10l.94 2.06.94-2.06 2.06-.94-2.06-.94-.94-2.06-.94 2.06-2.06.94z\"/><path d=\"M17.41 7.96l-1.37-1.37c-.4-.4-.92-.59-1.43-.59-.52 0-1.04.2-1.43.59L10.3 9.45l-7.72 7.72c-.78.78-.78 2.05 0 2.83L4 21.41c.39.39.9.59 1.41.59.51 0 1.02-.2 1.41-.59l7.78-7.78 2.81-2.81c.8-.78.8-2.07 0-2.86zM5.41 20L4 18.59l7.72-7.72 1.47 1.35L5.41 20z\"/>\n",
              "  </svg>\n",
              "      </button>\n",
              "      \n",
              "  <style>\n",
              "    .colab-df-container {\n",
              "      display:flex;\n",
              "      flex-wrap:wrap;\n",
              "      gap: 12px;\n",
              "    }\n",
              "\n",
              "    .colab-df-convert {\n",
              "      background-color: #E8F0FE;\n",
              "      border: none;\n",
              "      border-radius: 50%;\n",
              "      cursor: pointer;\n",
              "      display: none;\n",
              "      fill: #1967D2;\n",
              "      height: 32px;\n",
              "      padding: 0 0 0 0;\n",
              "      width: 32px;\n",
              "    }\n",
              "\n",
              "    .colab-df-convert:hover {\n",
              "      background-color: #E2EBFA;\n",
              "      box-shadow: 0px 1px 2px rgba(60, 64, 67, 0.3), 0px 1px 3px 1px rgba(60, 64, 67, 0.15);\n",
              "      fill: #174EA6;\n",
              "    }\n",
              "\n",
              "    [theme=dark] .colab-df-convert {\n",
              "      background-color: #3B4455;\n",
              "      fill: #D2E3FC;\n",
              "    }\n",
              "\n",
              "    [theme=dark] .colab-df-convert:hover {\n",
              "      background-color: #434B5C;\n",
              "      box-shadow: 0px 1px 3px 1px rgba(0, 0, 0, 0.15);\n",
              "      filter: drop-shadow(0px 1px 2px rgba(0, 0, 0, 0.3));\n",
              "      fill: #FFFFFF;\n",
              "    }\n",
              "  </style>\n",
              "\n",
              "      <script>\n",
              "        const buttonEl =\n",
              "          document.querySelector('#df-fabfc1f3-c208-443c-9731-94e471ce24be button.colab-df-convert');\n",
              "        buttonEl.style.display =\n",
              "          google.colab.kernel.accessAllowed ? 'block' : 'none';\n",
              "\n",
              "        async function convertToInteractive(key) {\n",
              "          const element = document.querySelector('#df-fabfc1f3-c208-443c-9731-94e471ce24be');\n",
              "          const dataTable =\n",
              "            await google.colab.kernel.invokeFunction('convertToInteractive',\n",
              "                                                     [key], {});\n",
              "          if (!dataTable) return;\n",
              "\n",
              "          const docLinkHtml = 'Like what you see? Visit the ' +\n",
              "            '<a target=\"_blank\" href=https://colab.research.google.com/notebooks/data_table.ipynb>data table notebook</a>'\n",
              "            + ' to learn more about interactive tables.';\n",
              "          element.innerHTML = '';\n",
              "          dataTable['output_type'] = 'display_data';\n",
              "          await google.colab.output.renderOutput(dataTable, element);\n",
              "          const docLink = document.createElement('div');\n",
              "          docLink.innerHTML = docLinkHtml;\n",
              "          element.appendChild(docLink);\n",
              "        }\n",
              "      </script>\n",
              "    </div>\n",
              "  </div>\n",
              "  "
            ]
          },
          "metadata": {},
          "execution_count": 11
        }
      ]
    },
    {
      "cell_type": "markdown",
      "source": [
        "We can see that there's not much correlation between the features and hence using a penalizing model won't make sense as we would like to get all the information from the all the features. Hence, we won't be utilizing Lasso and Ridge for this dataset."
      ],
      "metadata": {
        "id": "Tyq9MLpeqKm9"
      }
    },
    {
      "cell_type": "markdown",
      "source": [
        "# Distribution of Target Variable"
      ],
      "metadata": {
        "id": "Y0scfDM_rxlG"
      }
    },
    {
      "cell_type": "code",
      "source": [
        "df_main['Quantity'].describe()"
      ],
      "metadata": {
        "colab": {
          "base_uri": "https://localhost:8080/"
        },
        "id": "05f-xtluqGeu",
        "outputId": "92a0fbdd-df9c-4f82-8eab-1907ec884107"
      },
      "execution_count": 12,
      "outputs": [
        {
          "output_type": "execute_result",
          "data": {
            "text/plain": [
              "count    536350.000000\n",
              "mean          9.919347\n",
              "std         216.662300\n",
              "min      -80995.000000\n",
              "25%           1.000000\n",
              "50%           3.000000\n",
              "75%          10.000000\n",
              "max       80995.000000\n",
              "Name: Quantity, dtype: float64"
            ]
          },
          "metadata": {},
          "execution_count": 12
        }
      ]
    },
    {
      "cell_type": "markdown",
      "source": [
        "The mean of the data is 9.9 and the standard deviation is 216.66 which indicates severe right (or positives) skewness of the data. The values ranging from -80995 to 80995 indicates extreme values and a probability of presence of outliers. Let's check the presence of outliers using kdeplot and boxplot."
      ],
      "metadata": {
        "id": "NjLbk1YQ3cEg"
      }
    },
    {
      "cell_type": "code",
      "source": [
        "sns.kdeplot(df['Quantity'])"
      ],
      "metadata": {
        "colab": {
          "base_uri": "https://localhost:8080/",
          "height": 482
        },
        "id": "h_3nnutw2lgG",
        "outputId": "ee735aea-cae4-4567-fb54-a8a4bd61813e"
      },
      "execution_count": 13,
      "outputs": [
        {
          "output_type": "execute_result",
          "data": {
            "text/plain": [
              "<Axes: xlabel='Quantity', ylabel='Density'>"
            ]
          },
          "metadata": {},
          "execution_count": 13
        },
        {
          "output_type": "display_data",
          "data": {
            "text/plain": [
              "<Figure size 640x480 with 1 Axes>"
            ],
            "image/png": "[encoded data removed]"
          },
          "metadata": {}
        }
      ]
    },
    {
      "cell_type": "code",
      "source": [
        "sns.boxenplot(df['Quantity'])"
      ],
      "metadata": {
        "colab": {
          "base_uri": "https://localhost:8080/",
          "height": 447
        },
        "id": "XYZdJLy93FKI",
        "outputId": "361b30f7-f837-4760-eaae-913267fd9f6c"
      },
      "execution_count": 14,
      "outputs": [
        {
          "output_type": "execute_result",
          "data": {
            "text/plain": [
              "<Axes: >"
            ]
          },
          "metadata": {},
          "execution_count": 14
        },
        {
          "output_type": "display_data",
          "data": {
            "text/plain": [
              "<Figure size 640x480 with 1 Axes>"
            ],
            "image/png": "[encoded data removed]"
          },
          "metadata": {}
        }
      ]
    },
    {
      "cell_type": "markdown",
      "source": [
        "As we can see from the plots above, there are some points in the data which lie way outside the IQR ranges of the data. Hence, these will be termed as outliers. Outliers can have a negative effect on predicting the final variable especially Linear, Support Vector and to some extent Neural Network regression. Thus, these should be handled before modelling. "
      ],
      "metadata": {
        "id": "zjm7_JpL4ZFf"
      }
    },
    {
      "cell_type": "markdown",
      "source": [
        "# Extracting Month, Day, and Year"
      ],
      "metadata": {
        "id": "lgu0ukok7yWe"
      }
    },
    {
      "cell_type": "code",
      "source": [
        "# Converting the Date column to a datetime type \n",
        "df_main['Date'] = pd.to_datetime(df_main['Date'])\n",
        "\n",
        "# Extract the month, day, and year into separate columns\n",
        "df_main['month'] = df_main['Date'].dt.month\n",
        "df_main['day'] = df_main['Date'].dt.day\n",
        "df_main['year'] = df_main['Date'].dt.year"
      ],
      "metadata": {
        "id": "rYhmM4q93Y_4"
      },
      "execution_count": 15,
      "outputs": []
    },
    {
      "cell_type": "code",
      "source": [
        "df_main.head()"
      ],
      "metadata": {
        "colab": {
          "base_uri": "https://localhost:8080/",
          "height": 206
        },
        "id": "6etxqg__7tpS",
        "outputId": "231dcf83-13a9-45d5-a3b7-6dda7229ba90"
      },
      "execution_count": 16,
      "outputs": [
        {
          "output_type": "execute_result",
          "data": {
            "text/plain": [
              "   PrimaryKey TransactionNo       Date ProductNo  \\\n",
              "0           0        581482 2019-12-09     22485   \n",
              "1           1        581475 2019-12-09     22596   \n",
              "2           2        581475 2019-12-09     23235   \n",
              "3           3        581475 2019-12-09     23272   \n",
              "4           4        581475 2019-12-09     23239   \n",
              "\n",
              "                           ProductName  Price  Quantity  CustomerNo  \\\n",
              "0        Set Of 2 Wooden Market Crates  21.47        12     17490.0   \n",
              "1  Christmas Star Wish List Chalkboard  10.65        36     13069.0   \n",
              "2             Storage Tin Vintage Leaf  11.53        12     13069.0   \n",
              "3    Tree T-Light Holder Willie Winkie  10.65        12     13069.0   \n",
              "4    Set Of 4 Knick Knack Tins Poppies  11.94         6     13069.0   \n",
              "\n",
              "          Country  month  day  year  \n",
              "0  United Kingdom     12    9  2019  \n",
              "1  United Kingdom     12    9  2019  \n",
              "2  United Kingdom     12    9  2019  \n",
              "3  United Kingdom     12    9  2019  \n",
              "4  United Kingdom     12    9  2019  "
            ],
            "text/html": [
              "\n",
              "  <div id=\"df-0fb5f2dd-eefa-4543-bf94-bef476233f7a\">\n",
              "    <div class=\"colab-df-container\">\n",
              "      <div>\n",
              "<style scoped>\n",
              "    .dataframe tbody tr th:only-of-type {\n",
              "        vertical-align: middle;\n",
              "    }\n",
              "\n",
              "    .dataframe tbody tr th {\n",
              "        vertical-align: top;\n",
              "    }\n",
              "\n",
              "    .dataframe thead th {\n",
              "        text-align: right;\n",
              "    }\n",
              "</style>\n",
              "<table border=\"1\" class=\"dataframe\">\n",
              "  <thead>\n",
              "    <tr style=\"text-align: right;\">\n",
              "      <th></th>\n",
              "      <th>PrimaryKey</th>\n",
              "      <th>TransactionNo</th>\n",
              "      <th>Date</th>\n",
              "      <th>ProductNo</th>\n",
              "      <th>ProductName</th>\n",
              "      <th>Price</th>\n",
              "      <th>Quantity</th>\n",
              "      <th>CustomerNo</th>\n",
              "      <th>Country</th>\n",
              "      <th>month</th>\n",
              "      <th>day</th>\n",
              "      <th>year</th>\n",
              "    </tr>\n",
              "  </thead>\n",
              "  <tbody>\n",
              "    <tr>\n",
              "      <th>0</th>\n",
              "      <td>0</td>\n",
              "      <td>581482</td>\n",
              "      <td>2019-12-09</td>\n",
              "      <td>22485</td>\n",
              "      <td>Set Of 2 Wooden Market Crates</td>\n",
              "      <td>21.47</td>\n",
              "      <td>12</td>\n",
              "      <td>17490.0</td>\n",
              "      <td>United Kingdom</td>\n",
              "      <td>12</td>\n",
              "      <td>9</td>\n",
              "      <td>2019</td>\n",
              "    </tr>\n",
              "    <tr>\n",
              "      <th>1</th>\n",
              "      <td>1</td>\n",
              "      <td>581475</td>\n",
              "      <td>2019-12-09</td>\n",
              "      <td>22596</td>\n",
              "      <td>Christmas Star Wish List Chalkboard</td>\n",
              "      <td>10.65</td>\n",
              "      <td>36</td>\n",
              "      <td>13069.0</td>\n",
              "      <td>United Kingdom</td>\n",
              "      <td>12</td>\n",
              "      <td>9</td>\n",
              "      <td>2019</td>\n",
              "    </tr>\n",
              "    <tr>\n",
              "      <th>2</th>\n",
              "      <td>2</td>\n",
              "      <td>581475</td>\n",
              "      <td>2019-12-09</td>\n",
              "      <td>23235</td>\n",
              "      <td>Storage Tin Vintage Leaf</td>\n",
              "      <td>11.53</td>\n",
              "      <td>12</td>\n",
              "      <td>13069.0</td>\n",
              "      <td>United Kingdom</td>\n",
              "      <td>12</td>\n",
              "      <td>9</td>\n",
              "      <td>2019</td>\n",
              "    </tr>\n",
              "    <tr>\n",
              "      <th>3</th>\n",
              "      <td>3</td>\n",
              "      <td>581475</td>\n",
              "      <td>2019-12-09</td>\n",
              "      <td>23272</td>\n",
              "      <td>Tree T-Light Holder Willie Winkie</td>\n",
              "      <td>10.65</td>\n",
              "      <td>12</td>\n",
              "      <td>13069.0</td>\n",
              "      <td>United Kingdom</td>\n",
              "      <td>12</td>\n",
              "      <td>9</td>\n",
              "      <td>2019</td>\n",
              "    </tr>\n",
              "    <tr>\n",
              "      <th>4</th>\n",
              "      <td>4</td>\n",
              "      <td>581475</td>\n",
              "      <td>2019-12-09</td>\n",
              "      <td>23239</td>\n",
              "      <td>Set Of 4 Knick Knack Tins Poppies</td>\n",
              "      <td>11.94</td>\n",
              "      <td>6</td>\n",
              "      <td>13069.0</td>\n",
              "      <td>United Kingdom</td>\n",
              "      <td>12</td>\n",
              "      <td>9</td>\n",
              "      <td>2019</td>\n",
              "    </tr>\n",
              "  </tbody>\n",
              "</table>\n",
              "</div>\n",
              "      <button class=\"colab-df-convert\" onclick=\"convertToInteractive('df-0fb5f2dd-eefa-4543-bf94-bef476233f7a')\"\n",
              "              title=\"Convert this dataframe to an interactive table.\"\n",
              "              style=\"display:none;\">\n",
              "        \n",
              "  <svg xmlns=\"http://www.w3.org/2000/svg\" height=\"24px\"viewBox=\"0 0 24 24\"\n",
              "       width=\"24px\">\n",
              "    <path d=\"M0 0h24v24H0V0z\" fill=\"none\"/>\n",
              "    <path d=\"M18.56 5.44l.94 2.06.94-2.06 2.06-.94-2.06-.94-.94-2.06-.94 2.06-2.06.94zm-11 1L8.5 8.5l.94-2.06 2.06-.94-2.06-.94L8.5 2.5l-.94 2.06-2.06.94zm10 10l.94 2.06.94-2.06 2.06-.94-2.06-.94-.94-2.06-.94 2.06-2.06.94z\"/><path d=\"M17.41 7.96l-1.37-1.37c-.4-.4-.92-.59-1.43-.59-.52 0-1.04.2-1.43.59L10.3 9.45l-7.72 7.72c-.78.78-.78 2.05 0 2.83L4 21.41c.39.39.9.59 1.41.59.51 0 1.02-.2 1.41-.59l7.78-7.78 2.81-2.81c.8-.78.8-2.07 0-2.86zM5.41 20L4 18.59l7.72-7.72 1.47 1.35L5.41 20z\"/>\n",
              "  </svg>\n",
              "      </button>\n",
              "      \n",
              "  <style>\n",
              "    .colab-df-container {\n",
              "      display:flex;\n",
              "      flex-wrap:wrap;\n",
              "      gap: 12px;\n",
              "    }\n",
              "\n",
              "    .colab-df-convert {\n",
              "      background-color: #E8F0FE;\n",
              "      border: none;\n",
              "      border-radius: 50%;\n",
              "      cursor: pointer;\n",
              "      display: none;\n",
              "      fill: #1967D2;\n",
              "      height: 32px;\n",
              "      padding: 0 0 0 0;\n",
              "      width: 32px;\n",
              "    }\n",
              "\n",
              "    .colab-df-convert:hover {\n",
              "      background-color: #E2EBFA;\n",
              "      box-shadow: 0px 1px 2px rgba(60, 64, 67, 0.3), 0px 1px 3px 1px rgba(60, 64, 67, 0.15);\n",
              "      fill: #174EA6;\n",
              "    }\n",
              "\n",
              "    [theme=dark] .colab-df-convert {\n",
              "      background-color: #3B4455;\n",
              "      fill: #D2E3FC;\n",
              "    }\n",
              "\n",
              "    [theme=dark] .colab-df-convert:hover {\n",
              "      background-color: #434B5C;\n",
              "      box-shadow: 0px 1px 3px 1px rgba(0, 0, 0, 0.15);\n",
              "      filter: drop-shadow(0px 1px 2px rgba(0, 0, 0, 0.3));\n",
              "      fill: #FFFFFF;\n",
              "    }\n",
              "  </style>\n",
              "\n",
              "      <script>\n",
              "        const buttonEl =\n",
              "          document.querySelector('#df-0fb5f2dd-eefa-4543-bf94-bef476233f7a button.colab-df-convert');\n",
              "        buttonEl.style.display =\n",
              "          google.colab.kernel.accessAllowed ? 'block' : 'none';\n",
              "\n",
              "        async function convertToInteractive(key) {\n",
              "          const element = document.querySelector('#df-0fb5f2dd-eefa-4543-bf94-bef476233f7a');\n",
              "          const dataTable =\n",
              "            await google.colab.kernel.invokeFunction('convertToInteractive',\n",
              "                                                     [key], {});\n",
              "          if (!dataTable) return;\n",
              "\n",
              "          const docLinkHtml = 'Like what you see? Visit the ' +\n",
              "            '<a target=\"_blank\" href=https://colab.research.google.com/notebooks/data_table.ipynb>data table notebook</a>'\n",
              "            + ' to learn more about interactive tables.';\n",
              "          element.innerHTML = '';\n",
              "          dataTable['output_type'] = 'display_data';\n",
              "          await google.colab.output.renderOutput(dataTable, element);\n",
              "          const docLink = document.createElement('div');\n",
              "          docLink.innerHTML = docLinkHtml;\n",
              "          element.appendChild(docLink);\n",
              "        }\n",
              "      </script>\n",
              "    </div>\n",
              "  </div>\n",
              "  "
            ]
          },
          "metadata": {},
          "execution_count": 16
        }
      ]
    },
    {
      "cell_type": "markdown",
      "source": [
        "# Correlation - Price and Quantity"
      ],
      "metadata": {
        "id": "wKniY9daFPIF"
      }
    },
    {
      "cell_type": "code",
      "source": [
        "cols = ['Price', 'Quantity']\n",
        "corr_pr_q = df_main[cols].corr()\n",
        "corr_pr_q"
      ],
      "metadata": {
        "colab": {
          "base_uri": "https://localhost:8080/",
          "height": 112
        },
        "id": "qezL2yqf7vh1",
        "outputId": "053263fb-b1a7-4214-f35b-718d74b782a7"
      },
      "execution_count": 17,
      "outputs": [
        {
          "output_type": "execute_result",
          "data": {
            "text/plain": [
              "             Price  Quantity\n",
              "Price     1.000000 -0.007182\n",
              "Quantity -0.007182  1.000000"
            ],
            "text/html": [
              "\n",
              "  <div id=\"df-c0140668-e84a-44c6-849e-7949d66fa59f\">\n",
              "    <div class=\"colab-df-container\">\n",
              "      <div>\n",
              "<style scoped>\n",
              "    .dataframe tbody tr th:only-of-type {\n",
              "        vertical-align: middle;\n",
              "    }\n",
              "\n",
              "    .dataframe tbody tr th {\n",
              "        vertical-align: top;\n",
              "    }\n",
              "\n",
              "    .dataframe thead th {\n",
              "        text-align: right;\n",
              "    }\n",
              "</style>\n",
              "<table border=\"1\" class=\"dataframe\">\n",
              "  <thead>\n",
              "    <tr style=\"text-align: right;\">\n",
              "      <th></th>\n",
              "      <th>Price</th>\n",
              "      <th>Quantity</th>\n",
              "    </tr>\n",
              "  </thead>\n",
              "  <tbody>\n",
              "    <tr>\n",
              "      <th>Price</th>\n",
              "      <td>1.000000</td>\n",
              "      <td>-0.007182</td>\n",
              "    </tr>\n",
              "    <tr>\n",
              "      <th>Quantity</th>\n",
              "      <td>-0.007182</td>\n",
              "      <td>1.000000</td>\n",
              "    </tr>\n",
              "  </tbody>\n",
              "</table>\n",
              "</div>\n",
              "      <button class=\"colab-df-convert\" onclick=\"convertToInteractive('df-c0140668-e84a-44c6-849e-7949d66fa59f')\"\n",
              "              title=\"Convert this dataframe to an interactive table.\"\n",
              "              style=\"display:none;\">\n",
              "        \n",
              "  <svg xmlns=\"http://www.w3.org/2000/svg\" height=\"24px\"viewBox=\"0 0 24 24\"\n",
              "       width=\"24px\">\n",
              "    <path d=\"M0 0h24v24H0V0z\" fill=\"none\"/>\n",
              "    <path d=\"M18.56 5.44l.94 2.06.94-2.06 2.06-.94-2.06-.94-.94-2.06-.94 2.06-2.06.94zm-11 1L8.5 8.5l.94-2.06 2.06-.94-2.06-.94L8.5 2.5l-.94 2.06-2.06.94zm10 10l.94 2.06.94-2.06 2.06-.94-2.06-.94-.94-2.06-.94 2.06-2.06.94z\"/><path d=\"M17.41 7.96l-1.37-1.37c-.4-.4-.92-.59-1.43-.59-.52 0-1.04.2-1.43.59L10.3 9.45l-7.72 7.72c-.78.78-.78 2.05 0 2.83L4 21.41c.39.39.9.59 1.41.59.51 0 1.02-.2 1.41-.59l7.78-7.78 2.81-2.81c.8-.78.8-2.07 0-2.86zM5.41 20L4 18.59l7.72-7.72 1.47 1.35L5.41 20z\"/>\n",
              "  </svg>\n",
              "      </button>\n",
              "      \n",
              "  <style>\n",
              "    .colab-df-container {\n",
              "      display:flex;\n",
              "      flex-wrap:wrap;\n",
              "      gap: 12px;\n",
              "    }\n",
              "\n",
              "    .colab-df-convert {\n",
              "      background-color: #E8F0FE;\n",
              "      border: none;\n",
              "      border-radius: 50%;\n",
              "      cursor: pointer;\n",
              "      display: none;\n",
              "      fill: #1967D2;\n",
              "      height: 32px;\n",
              "      padding: 0 0 0 0;\n",
              "      width: 32px;\n",
              "    }\n",
              "\n",
              "    .colab-df-convert:hover {\n",
              "      background-color: #E2EBFA;\n",
              "      box-shadow: 0px 1px 2px rgba(60, 64, 67, 0.3), 0px 1px 3px 1px rgba(60, 64, 67, 0.15);\n",
              "      fill: #174EA6;\n",
              "    }\n",
              "\n",
              "    [theme=dark] .colab-df-convert {\n",
              "      background-color: #3B4455;\n",
              "      fill: #D2E3FC;\n",
              "    }\n",
              "\n",
              "    [theme=dark] .colab-df-convert:hover {\n",
              "      background-color: #434B5C;\n",
              "      box-shadow: 0px 1px 3px 1px rgba(0, 0, 0, 0.15);\n",
              "      filter: drop-shadow(0px 1px 2px rgba(0, 0, 0, 0.3));\n",
              "      fill: #FFFFFF;\n",
              "    }\n",
              "  </style>\n",
              "\n",
              "      <script>\n",
              "        const buttonEl =\n",
              "          document.querySelector('#df-c0140668-e84a-44c6-849e-7949d66fa59f button.colab-df-convert');\n",
              "        buttonEl.style.display =\n",
              "          google.colab.kernel.accessAllowed ? 'block' : 'none';\n",
              "\n",
              "        async function convertToInteractive(key) {\n",
              "          const element = document.querySelector('#df-c0140668-e84a-44c6-849e-7949d66fa59f');\n",
              "          const dataTable =\n",
              "            await google.colab.kernel.invokeFunction('convertToInteractive',\n",
              "                                                     [key], {});\n",
              "          if (!dataTable) return;\n",
              "\n",
              "          const docLinkHtml = 'Like what you see? Visit the ' +\n",
              "            '<a target=\"_blank\" href=https://colab.research.google.com/notebooks/data_table.ipynb>data table notebook</a>'\n",
              "            + ' to learn more about interactive tables.';\n",
              "          element.innerHTML = '';\n",
              "          dataTable['output_type'] = 'display_data';\n",
              "          await google.colab.output.renderOutput(dataTable, element);\n",
              "          const docLink = document.createElement('div');\n",
              "          docLink.innerHTML = docLinkHtml;\n",
              "          element.appendChild(docLink);\n",
              "        }\n",
              "      </script>\n",
              "    </div>\n",
              "  </div>\n",
              "  "
            ]
          },
          "metadata": {},
          "execution_count": 17
        }
      ]
    },
    {
      "cell_type": "markdown",
      "source": [
        "There is a weak negative correlation between Price and Quantity, suggesting that with an increase in price, the Quantity might decrease. "
      ],
      "metadata": {
        "id": "jkqUID8CHMhN"
      }
    },
    {
      "cell_type": "markdown",
      "source": [
        "# Price Histograms"
      ],
      "metadata": {
        "id": "p-jNeYh2O3rv"
      }
    },
    {
      "cell_type": "code",
      "source": [
        "plt.hist(df_main['Quantity'])\n",
        "plt.show()"
      ],
      "metadata": {
        "colab": {
          "base_uri": "https://localhost:8080/",
          "height": 430
        },
        "id": "5RR1Ig1qO9d_",
        "outputId": "7debeb29-35aa-4401-a969-f5c1851dd880"
      },
      "execution_count": 18,
      "outputs": [
        {
          "output_type": "display_data",
          "data": {
            "text/plain": [
              "<Figure size 640x480 with 1 Axes>"
            ],
            "image/png": "[encoded data removed]"
          },
          "metadata": {}
        }
      ]
    },
    {
      "cell_type": "markdown",
      "source": [
        "# Numeric Variables and Target Variable Histograms"
      ],
      "metadata": {
        "id": "OopuGMTSQXeV"
      }
    },
    {
      "cell_type": "code",
      "source": [
        "num_cols = ['CustomerNo', 'Price', 'day', 'year', 'month'] \n",
        "# Generate histograms for each numerical column\n",
        "for col in num_cols:\n",
        "    fig, ax = plt.subplots()\n",
        "    ax.hist(df_main[col], bins=20)\n",
        "    ax.set_title(col)\n",
        "    ax.set_xlabel('Value')\n",
        "    ax.set_ylabel('Frequency')\n",
        "    plt.show()"
      ],
      "metadata": {
        "colab": {
          "base_uri": "https://localhost:8080/",
          "height": 1000
        },
        "id": "mzA4qeVeQS97",
        "outputId": "bcdeccfc-622e-4acb-d1f8-e87ee297445e"
      },
      "execution_count": 19,
      "outputs": [
        {
          "output_type": "display_data",
          "data": {
            "text/plain": [
              "<Figure size 640x480 with 1 Axes>"
            ],
            "image/png": "[encoded data removed]"
          },
          "metadata": {}
        },
        {
          "output_type": "display_data",
          "data": {
            "text/plain": [
              "<Figure size 640x480 with 1 Axes>"
            ],
            "image/png": "[encoded data removed]"
          },
          "metadata": {}
        },
        {
          "output_type": "display_data",
          "data": {
            "text/plain": [
              "<Figure size 640x480 with 1 Axes>"
            ],
            "image/png": "[encoded data removed]"
          },
          "metadata": {}
        },
        {
          "output_type": "display_data",
          "data": {
            "text/plain": [
              "<Figure size 640x480 with 1 Axes>"
            ],
            "image/png": "[encoded data removed]"
          },
          "metadata": {}
        },
        {
          "output_type": "display_data",
          "data": {
            "text/plain": [
              "<Figure size 640x480 with 1 Axes>"
            ],
            "image/png": "[encoded data removed]"
          },
          "metadata": {}
        }
      ]
    },
    {
      "cell_type": "markdown",
      "source": [
        "## Interpretation \n",
        "\n",
        "1. Month, Day, and CustomerNo are almost Gaussian in nature. \n",
        "2. Price is right skewed whereas year is distributed majorly for only two values. \n",
        "3. In terms of outliers, Price variable has a large number of numbers."
      ],
      "metadata": {
        "id": "ctdHW4B6RpQ-"
      }
    },
    {
      "cell_type": "markdown",
      "source": [
        "# Log Price Distribution"
      ],
      "metadata": {
        "id": "HNvYdKHL-bRa"
      }
    },
    {
      "cell_type": "code",
      "source": [
        "df['log_price'] = np.log(df['Price'])\n",
        "plt.hist(df['log_price'])\n",
        "plt.show()"
      ],
      "metadata": {
        "colab": {
          "base_uri": "https://localhost:8080/",
          "height": 430
        },
        "id": "a3yUhbDzRWel",
        "outputId": "2fdc94a3-1d8c-4d3e-8996-baea4ae31558"
      },
      "execution_count": 20,
      "outputs": [
        {
          "output_type": "display_data",
          "data": {
            "text/plain": [
              "<Figure size 640x480 with 1 Axes>"
            ],
            "image/png": "[encoded data removed]"
          },
          "metadata": {}
        }
      ]
    },
    {
      "cell_type": "markdown",
      "source": [
        "After taking a log, the price variable has become less right skewed. "
      ],
      "metadata": {
        "id": "bBbk9gX4Va6K"
      }
    },
    {
      "cell_type": "markdown",
      "source": [
        "# Target and Numeric Cols Relationship - Scatter Plots"
      ],
      "metadata": {
        "id": "Iy6i-HmoWMRs"
      }
    },
    {
      "cell_type": "code",
      "source": [
        "# Generate histograms for each numerical column\n",
        "for col in num_cols:\n",
        "    fig, ax = plt.subplots()\n",
        "    ax.scatter(df_main[col],df_main['Quantity'])\n",
        "    ax.set_title(col)\n",
        "    ax.set_xlabel(col)\n",
        "    ax.set_ylabel('Quantity')\n",
        "    plt.show()"
      ],
      "metadata": {
        "colab": {
          "base_uri": "https://localhost:8080/",
          "height": 1000
        },
        "id": "8yY_bPELVWFD",
        "outputId": "726cf8b8-3344-4f15-f596-e48898081b8c"
      },
      "execution_count": 21,
      "outputs": [
        {
          "output_type": "display_data",
          "data": {
            "text/plain": [
              "<Figure size 640x480 with 1 Axes>"
            ],
            "image/png": "[encoded data removed]"
          },
          "metadata": {}
        },
        {
          "output_type": "display_data",
          "data": {
            "text/plain": [
              "<Figure size 640x480 with 1 Axes>"
            ],
            "image/png": "[encoded data removed]"
          },
          "metadata": {}
        },
        {
          "output_type": "display_data",
          "data": {
            "text/plain": [
              "<Figure size 640x480 with 1 Axes>"
            ],
            "image/png": "[encoded data removed]"
          },
          "metadata": {}
        },
        {
          "output_type": "display_data",
          "data": {
            "text/plain": [
              "<Figure size 640x480 with 1 Axes>"
            ],
            "image/png": "[encoded data removed]"
          },
          "metadata": {}
        },
        {
          "output_type": "display_data",
          "data": {
            "text/plain": [
              "<Figure size 640x480 with 1 Axes>"
            ],
            "image/png": "[encoded data removed]"
          },
          "metadata": {}
        }
      ]
    },
    {
      "cell_type": "markdown",
      "source": [
        "1. Through the scatter plots not much can be seen as there are a lot of outliers. We need to deal with the outliers before we make any comment on the distribution of the numerical columns with respect to the target column. \n",
        "\n",
        "2. In **CustomerNo vs Quantity**, we can see that the outliers are present for Quantity and not for CustomerNo (as it's an identification for the customer hence presence of an outlier is not expected and not seen as well).\n",
        "\n",
        "3. In **Price vs Quantity**, we can see that there are outliers present for both the variables. As we've already talked about Quantity before, in Price we can see that there two datapoints outside the norm and these should be treated.\n",
        "\n",
        "4. In **Day vs Quantity**, we can see that there are some days such as 18, 9, 25, and 2 which have outliers present in terms of Quantity.\n",
        "\n",
        "5. In **Year vs Quantity**, we can see that the outliers present for the Quantity variable are present for the year 2019 more as compared to 2018. For the Year column the values are distributed only for two years and no outliers are present. \n",
        "\n",
        "6. In **Month vs Quantity**, there are some months in which the Quantity is high and we need to deal with these months later on. If we deal with the outliers of Quantity, we'll be able to get rid of this problem. "
      ],
      "metadata": {
        "id": "cyv0cJVFXAyr"
      }
    },
    {
      "cell_type": "markdown",
      "source": [
        "# Cardinality, Rare Categories, and Ordinality"
      ],
      "metadata": {
        "id": "AchfbYLo-N6r"
      }
    },
    {
      "cell_type": "code",
      "source": [
        "df_main['Country'].value_counts()"
      ],
      "metadata": {
        "colab": {
          "base_uri": "https://localhost:8080/"
        },
        "id": "cwJlnT4gWxRm",
        "outputId": "fbb7ccd7-900f-4bf0-f7b3-715f2fe2ea53"
      },
      "execution_count": 22,
      "outputs": [
        {
          "output_type": "execute_result",
          "data": {
            "text/plain": [
              "United Kingdom          485095\n",
              "Germany                  10675\n",
              "France                   10526\n",
              "EIRE                      8048\n",
              "Belgium                   2539\n",
              "Spain                     2430\n",
              "Switzerland               2336\n",
              "Netherlands               2330\n",
              "Portugal                  1848\n",
              "Australia                 1704\n",
              "Norway                     938\n",
              "Austria                    887\n",
              "Iceland                    787\n",
              "Finland                    692\n",
              "Italy                      661\n",
              "Channel Islands            629\n",
              "Cyprus                     582\n",
              "Unspecified                447\n",
              "Sweden                     417\n",
              "Denmark                    416\n",
              "USA                        379\n",
              "Japan                      371\n",
              "Israel                     358\n",
              "Singapore                  215\n",
              "Poland                     174\n",
              "Hong Kong                  153\n",
              "Canada                     150\n",
              "Malta                      149\n",
              "Greece                      67\n",
              "United Arab Emirates        67\n",
              "European Community          58\n",
              "RSA                         57\n",
              "Lebanon                     45\n",
              "Lithuania                   34\n",
              "Brazil                      31\n",
              "Czech Republic              28\n",
              "Bahrain                     17\n",
              "Saudi Arabia                10\n",
              "Name: Country, dtype: int64"
            ]
          },
          "metadata": {},
          "execution_count": 22
        }
      ]
    },
    {
      "cell_type": "code",
      "source": [
        "sns.countplot(y='Country',data=df_main)"
      ],
      "metadata": {
        "colab": {
          "base_uri": "https://localhost:8080/",
          "height": 467
        },
        "id": "v4e5bWnSXvTF",
        "outputId": "7c647500-41e4-481a-f7d7-24878492aa87"
      },
      "execution_count": 23,
      "outputs": [
        {
          "output_type": "execute_result",
          "data": {
            "text/plain": [
              "<Axes: xlabel='count', ylabel='Country'>"
            ]
          },
          "metadata": {},
          "execution_count": 23
        },
        {
          "output_type": "display_data",
          "data": {
            "text/plain": [
              "<Figure size 640x480 with 1 Axes>"
            ],
            "image/png": "[encoded data removed]"
          },
          "metadata": {}
        }
      ]
    },
    {
      "cell_type": "markdown",
      "source": [
        "We can see that United Kingdom has the highest cardinality amongst all the countries. "
      ],
      "metadata": {
        "id": "jSh07FYOZveK"
      }
    },
    {
      "cell_type": "code",
      "source": [
        "# Calculate the percentage of observations for each label in the 'ProductName' column\n",
        "label_counts_country = df['Country'].value_counts(normalize=True) * 100\n",
        "\n",
        "# Set the threshold for rare categories as 0.01%\n",
        "threshold = 0.01\n",
        "\n",
        "# Filter out the labels that have a percentage below the threshold\n",
        "rare_labels_country = label_counts_country[label_counts_country < threshold].index\n",
        "\n",
        "# Print the number of rare labels in the dataset\n",
        "print(f\"There are {len(rare_labels_country)} rare labels in the Country column.\")"
      ],
      "metadata": {
        "colab": {
          "base_uri": "https://localhost:8080/"
        },
        "id": "1XUxBEKP66YT",
        "outputId": "2fae4c50-abde-4562-8338-991160b5af5d"
      },
      "execution_count": 24,
      "outputs": [
        {
          "output_type": "stream",
          "name": "stdout",
          "text": [
            "There are 6 rare labels in the Country column.\n"
          ]
        }
      ]
    },
    {
      "cell_type": "code",
      "source": [
        "label_counts_country"
      ],
      "metadata": {
        "colab": {
          "base_uri": "https://localhost:8080/"
        },
        "id": "5oGgLF7x7FRa",
        "outputId": "974fd761-056e-43fd-e526-04f02bfaa729"
      },
      "execution_count": 25,
      "outputs": [
        {
          "output_type": "execute_result",
          "data": {
            "text/plain": [
              "United Kingdom          90.443740\n",
              "Germany                  1.990305\n",
              "France                   1.962524\n",
              "EIRE                     1.500513\n",
              "Belgium                  0.473385\n",
              "Spain                    0.453062\n",
              "Switzerland              0.435536\n",
              "Netherlands              0.434418\n",
              "Portugal                 0.344551\n",
              "Australia                0.317703\n",
              "Norway                   0.174886\n",
              "Austria                  0.165377\n",
              "Iceland                  0.146733\n",
              "Finland                  0.129020\n",
              "Italy                    0.123240\n",
              "Channel Islands          0.117274\n",
              "Cyprus                   0.108511\n",
              "Unspecified              0.083341\n",
              "Sweden                   0.077748\n",
              "Denmark                  0.077561\n",
              "USA                      0.070663\n",
              "Japan                    0.069171\n",
              "Israel                   0.066747\n",
              "Singapore                0.040086\n",
              "Poland                   0.032442\n",
              "Hong Kong                0.028526\n",
              "Canada                   0.027967\n",
              "Malta                    0.027780\n",
              "Greece                   0.012492\n",
              "United Arab Emirates     0.012492\n",
              "European Community       0.010814\n",
              "RSA                      0.010627\n",
              "Lebanon                  0.008390\n",
              "Lithuania                0.006339\n",
              "Brazil                   0.005780\n",
              "Czech Republic           0.005220\n",
              "Bahrain                  0.003170\n",
              "Saudi Arabia             0.001864\n",
              "Name: Country, dtype: float64"
            ]
          },
          "metadata": {},
          "execution_count": 25
        }
      ]
    },
    {
      "cell_type": "markdown",
      "source": [
        "Depending on the business problem, we can say that the countries under 100 value counts (or under 0.01% rare label counts) can be considered rare categories. In some other case we can also say that countries with the label count of less than 0.1% can be considered as rare categories and can be combined. It really depends on how much information we're willing to lose. We should strike a balance between reducing complexity and retaining information when it comes to combining rare categories. "
      ],
      "metadata": {
        "id": "32_xCOZJYpS8"
      }
    },
    {
      "cell_type": "code",
      "source": [
        "df_main['ProductName'].value_counts()"
      ],
      "metadata": {
        "colab": {
          "base_uri": "https://localhost:8080/"
        },
        "id": "69pK2UHwZuT8",
        "outputId": "23553859-a613-47b3-e441-6155549d38de"
      },
      "execution_count": 26,
      "outputs": [
        {
          "output_type": "execute_result",
          "data": {
            "text/plain": [
              "Cream Hanging Heart T-Light Holder    2378\n",
              "Regency Cakestand 3 Tier              2200\n",
              "Jumbo Bag Red Retrospot               2159\n",
              "Party Bunting                         1727\n",
              "Lunch Bag Red Retrospot               1639\n",
              "                                      ... \n",
              "Cat With Sunglasses Blank Card           1\n",
              "Letter \"U\" Bling Key Ring                1\n",
              "Ocean Stripe Hammock                     1\n",
              "Incense Bazaar Peach                     1\n",
              "Porcelain Hanging Bell Small             1\n",
              "Name: ProductName, Length: 3768, dtype: int64"
            ]
          },
          "metadata": {},
          "execution_count": 26
        }
      ]
    },
    {
      "cell_type": "code",
      "source": [
        "# Calculate the percentage of observations for each label in the 'ProductName' column\n",
        "label_counts_pn = df['ProductName'].value_counts(normalize=True) * 100\n",
        "\n",
        "# Set the threshold for rare categories as 0.01%\n",
        "threshold = 0.01\n",
        "\n",
        "# Filter out the labels that have a percentage below the threshold\n",
        "rare_labels = label_counts_pn[label_counts_pn < threshold].index\n",
        "\n",
        "# Print the number of rare labels in the dataset\n",
        "print(f\"There are {len(rare_labels)} rare labels in the ProductName column.\")"
      ],
      "metadata": {
        "colab": {
          "base_uri": "https://localhost:8080/"
        },
        "id": "O7GBAKIa36Ni",
        "outputId": "6f89cc58-8428-4787-f2fe-a07e16ec89a6"
      },
      "execution_count": 27,
      "outputs": [
        {
          "output_type": "stream",
          "name": "stdout",
          "text": [
            "There are 1648 rare labels in the ProductName column.\n"
          ]
        }
      ]
    },
    {
      "cell_type": "code",
      "source": [
        "label_counts_pn"
      ],
      "metadata": {
        "colab": {
          "base_uri": "https://localhost:8080/"
        },
        "id": "Tr_SO3Lk7ORl",
        "outputId": "3c152559-53fe-4f1f-901c-7286adf01036"
      },
      "execution_count": 28,
      "outputs": [
        {
          "output_type": "execute_result",
          "data": {
            "text/plain": [
              "Cream Hanging Heart T-Light Holder    0.443367\n",
              "Regency Cakestand 3 Tier              0.410180\n",
              "Jumbo Bag Red Retrospot               0.402536\n",
              "Party Bunting                         0.321991\n",
              "Lunch Bag Red Retrospot               0.305584\n",
              "                                        ...   \n",
              "Cat With Sunglasses Blank Card        0.000186\n",
              "Letter \"U\" Bling Key Ring             0.000186\n",
              "Ocean Stripe Hammock                  0.000186\n",
              "Incense Bazaar Peach                  0.000186\n",
              "Porcelain Hanging Bell Small          0.000186\n",
              "Name: ProductName, Length: 3768, dtype: float64"
            ]
          },
          "metadata": {},
          "execution_count": 28
        }
      ]
    },
    {
      "cell_type": "markdown",
      "source": [
        "We can see here that most of the categories in the ProductName column appear is very less datapoints (which can be seen through the percentage label counts), hence we should set the threshold value for combining rare categories accordingly (thus we chose 0.01%)."
      ],
      "metadata": {
        "id": "7HhskwtN501E"
      }
    },
    {
      "cell_type": "markdown",
      "source": [
        "For both Country and ProductName column, they are nominal in nature as they both don't have an inherent ordering attached to their name. "
      ],
      "metadata": {
        "id": "yfOvCpeS_GOy"
      }
    },
    {
      "cell_type": "markdown",
      "source": [
        "# Feature Engineering"
      ],
      "metadata": {
        "id": "6wYA2FIZ_uRx"
      }
    },
    {
      "cell_type": "code",
      "source": [
        "df_main['ProductNameLen']=df_main['ProductName'].apply(lambda i: len(i))\n",
        "df_main['ProductNameNumWords']=df_main['ProductName'].apply(lambda i: len(i.split()))"
      ],
      "metadata": {
        "id": "m3h_apoP6Yef"
      },
      "execution_count": 29,
      "outputs": []
    },
    {
      "cell_type": "code",
      "source": [
        "df_main.head()"
      ],
      "metadata": {
        "colab": {
          "base_uri": "https://localhost:8080/",
          "height": 337
        },
        "id": "HmMkQS8pANZW",
        "outputId": "dca0899c-9d8d-467f-f25d-d70e53608b64"
      },
      "execution_count": 30,
      "outputs": [
        {
          "output_type": "execute_result",
          "data": {
            "text/plain": [
              "   PrimaryKey TransactionNo       Date ProductNo  \\\n",
              "0           0        581482 2019-12-09     22485   \n",
              "1           1        581475 2019-12-09     22596   \n",
              "2           2        581475 2019-12-09     23235   \n",
              "3           3        581475 2019-12-09     23272   \n",
              "4           4        581475 2019-12-09     23239   \n",
              "\n",
              "                           ProductName  Price  Quantity  CustomerNo  \\\n",
              "0        Set Of 2 Wooden Market Crates  21.47        12     17490.0   \n",
              "1  Christmas Star Wish List Chalkboard  10.65        36     13069.0   \n",
              "2             Storage Tin Vintage Leaf  11.53        12     13069.0   \n",
              "3    Tree T-Light Holder Willie Winkie  10.65        12     13069.0   \n",
              "4    Set Of 4 Knick Knack Tins Poppies  11.94         6     13069.0   \n",
              "\n",
              "          Country  month  day  year  ProductNameLen  ProductNameNumWords  \n",
              "0  United Kingdom     12    9  2019              29                    6  \n",
              "1  United Kingdom     12    9  2019              35                    5  \n",
              "2  United Kingdom     12    9  2019              24                    4  \n",
              "3  United Kingdom     12    9  2019              33                    5  \n",
              "4  United Kingdom     12    9  2019              33                    7  "
            ],
            "text/html": [
              "\n",
              "  <div id=\"df-c5541517-4e68-462d-a3dd-5db0d770dd55\">\n",
              "    <div class=\"colab-df-container\">\n",
              "      <div>\n",
              "<style scoped>\n",
              "    .dataframe tbody tr th:only-of-type {\n",
              "        vertical-align: middle;\n",
              "    }\n",
              "\n",
              "    .dataframe tbody tr th {\n",
              "        vertical-align: top;\n",
              "    }\n",
              "\n",
              "    .dataframe thead th {\n",
              "        text-align: right;\n",
              "    }\n",
              "</style>\n",
              "<table border=\"1\" class=\"dataframe\">\n",
              "  <thead>\n",
              "    <tr style=\"text-align: right;\">\n",
              "      <th></th>\n",
              "      <th>PrimaryKey</th>\n",
              "      <th>TransactionNo</th>\n",
              "      <th>Date</th>\n",
              "      <th>ProductNo</th>\n",
              "      <th>ProductName</th>\n",
              "      <th>Price</th>\n",
              "      <th>Quantity</th>\n",
              "      <th>CustomerNo</th>\n",
              "      <th>Country</th>\n",
              "      <th>month</th>\n",
              "      <th>day</th>\n",
              "      <th>year</th>\n",
              "      <th>ProductNameLen</th>\n",
              "      <th>ProductNameNumWords</th>\n",
              "    </tr>\n",
              "  </thead>\n",
              "  <tbody>\n",
              "    <tr>\n",
              "      <th>0</th>\n",
              "      <td>0</td>\n",
              "      <td>581482</td>\n",
              "      <td>2019-12-09</td>\n",
              "      <td>22485</td>\n",
              "      <td>Set Of 2 Wooden Market Crates</td>\n",
              "      <td>21.47</td>\n",
              "      <td>12</td>\n",
              "      <td>17490.0</td>\n",
              "      <td>United Kingdom</td>\n",
              "      <td>12</td>\n",
              "      <td>9</td>\n",
              "      <td>2019</td>\n",
              "      <td>29</td>\n",
              "      <td>6</td>\n",
              "    </tr>\n",
              "    <tr>\n",
              "      <th>1</th>\n",
              "      <td>1</td>\n",
              "      <td>581475</td>\n",
              "      <td>2019-12-09</td>\n",
              "      <td>22596</td>\n",
              "      <td>Christmas Star Wish List Chalkboard</td>\n",
              "      <td>10.65</td>\n",
              "      <td>36</td>\n",
              "      <td>13069.0</td>\n",
              "      <td>United Kingdom</td>\n",
              "      <td>12</td>\n",
              "      <td>9</td>\n",
              "      <td>2019</td>\n",
              "      <td>35</td>\n",
              "      <td>5</td>\n",
              "    </tr>\n",
              "    <tr>\n",
              "      <th>2</th>\n",
              "      <td>2</td>\n",
              "      <td>581475</td>\n",
              "      <td>2019-12-09</td>\n",
              "      <td>23235</td>\n",
              "      <td>Storage Tin Vintage Leaf</td>\n",
              "      <td>11.53</td>\n",
              "      <td>12</td>\n",
              "      <td>13069.0</td>\n",
              "      <td>United Kingdom</td>\n",
              "      <td>12</td>\n",
              "      <td>9</td>\n",
              "      <td>2019</td>\n",
              "      <td>24</td>\n",
              "      <td>4</td>\n",
              "    </tr>\n",
              "    <tr>\n",
              "      <th>3</th>\n",
              "      <td>3</td>\n",
              "      <td>581475</td>\n",
              "      <td>2019-12-09</td>\n",
              "      <td>23272</td>\n",
              "      <td>Tree T-Light Holder Willie Winkie</td>\n",
              "      <td>10.65</td>\n",
              "      <td>12</td>\n",
              "      <td>13069.0</td>\n",
              "      <td>United Kingdom</td>\n",
              "      <td>12</td>\n",
              "      <td>9</td>\n",
              "      <td>2019</td>\n",
              "      <td>33</td>\n",
              "      <td>5</td>\n",
              "    </tr>\n",
              "    <tr>\n",
              "      <th>4</th>\n",
              "      <td>4</td>\n",
              "      <td>581475</td>\n",
              "      <td>2019-12-09</td>\n",
              "      <td>23239</td>\n",
              "      <td>Set Of 4 Knick Knack Tins Poppies</td>\n",
              "      <td>11.94</td>\n",
              "      <td>6</td>\n",
              "      <td>13069.0</td>\n",
              "      <td>United Kingdom</td>\n",
              "      <td>12</td>\n",
              "      <td>9</td>\n",
              "      <td>2019</td>\n",
              "      <td>33</td>\n",
              "      <td>7</td>\n",
              "    </tr>\n",
              "  </tbody>\n",
              "</table>\n",
              "</div>\n",
              "      <button class=\"colab-df-convert\" onclick=\"convertToInteractive('df-c5541517-4e68-462d-a3dd-5db0d770dd55')\"\n",
              "              title=\"Convert this dataframe to an interactive table.\"\n",
              "              style=\"display:none;\">\n",
              "        \n",
              "  <svg xmlns=\"http://www.w3.org/2000/svg\" height=\"24px\"viewBox=\"0 0 24 24\"\n",
              "       width=\"24px\">\n",
              "    <path d=\"M0 0h24v24H0V0z\" fill=\"none\"/>\n",
              "    <path d=\"M18.56 5.44l.94 2.06.94-2.06 2.06-.94-2.06-.94-.94-2.06-.94 2.06-2.06.94zm-11 1L8.5 8.5l.94-2.06 2.06-.94-2.06-.94L8.5 2.5l-.94 2.06-2.06.94zm10 10l.94 2.06.94-2.06 2.06-.94-2.06-.94-.94-2.06-.94 2.06-2.06.94z\"/><path d=\"M17.41 7.96l-1.37-1.37c-.4-.4-.92-.59-1.43-.59-.52 0-1.04.2-1.43.59L10.3 9.45l-7.72 7.72c-.78.78-.78 2.05 0 2.83L4 21.41c.39.39.9.59 1.41.59.51 0 1.02-.2 1.41-.59l7.78-7.78 2.81-2.81c.8-.78.8-2.07 0-2.86zM5.41 20L4 18.59l7.72-7.72 1.47 1.35L5.41 20z\"/>\n",
              "  </svg>\n",
              "      </button>\n",
              "      \n",
              "  <style>\n",
              "    .colab-df-container {\n",
              "      display:flex;\n",
              "      flex-wrap:wrap;\n",
              "      gap: 12px;\n",
              "    }\n",
              "\n",
              "    .colab-df-convert {\n",
              "      background-color: #E8F0FE;\n",
              "      border: none;\n",
              "      border-radius: 50%;\n",
              "      cursor: pointer;\n",
              "      display: none;\n",
              "      fill: #1967D2;\n",
              "      height: 32px;\n",
              "      padding: 0 0 0 0;\n",
              "      width: 32px;\n",
              "    }\n",
              "\n",
              "    .colab-df-convert:hover {\n",
              "      background-color: #E2EBFA;\n",
              "      box-shadow: 0px 1px 2px rgba(60, 64, 67, 0.3), 0px 1px 3px 1px rgba(60, 64, 67, 0.15);\n",
              "      fill: #174EA6;\n",
              "    }\n",
              "\n",
              "    [theme=dark] .colab-df-convert {\n",
              "      background-color: #3B4455;\n",
              "      fill: #D2E3FC;\n",
              "    }\n",
              "\n",
              "    [theme=dark] .colab-df-convert:hover {\n",
              "      background-color: #434B5C;\n",
              "      box-shadow: 0px 1px 3px 1px rgba(0, 0, 0, 0.15);\n",
              "      filter: drop-shadow(0px 1px 2px rgba(0, 0, 0, 0.3));\n",
              "      fill: #FFFFFF;\n",
              "    }\n",
              "  </style>\n",
              "\n",
              "      <script>\n",
              "        const buttonEl =\n",
              "          document.querySelector('#df-c5541517-4e68-462d-a3dd-5db0d770dd55 button.colab-df-convert');\n",
              "        buttonEl.style.display =\n",
              "          google.colab.kernel.accessAllowed ? 'block' : 'none';\n",
              "\n",
              "        async function convertToInteractive(key) {\n",
              "          const element = document.querySelector('#df-c5541517-4e68-462d-a3dd-5db0d770dd55');\n",
              "          const dataTable =\n",
              "            await google.colab.kernel.invokeFunction('convertToInteractive',\n",
              "                                                     [key], {});\n",
              "          if (!dataTable) return;\n",
              "\n",
              "          const docLinkHtml = 'Like what you see? Visit the ' +\n",
              "            '<a target=\"_blank\" href=https://colab.research.google.com/notebooks/data_table.ipynb>data table notebook</a>'\n",
              "            + ' to learn more about interactive tables.';\n",
              "          element.innerHTML = '';\n",
              "          dataTable['output_type'] = 'display_data';\n",
              "          await google.colab.output.renderOutput(dataTable, element);\n",
              "          const docLink = document.createElement('div');\n",
              "          docLink.innerHTML = docLinkHtml;\n",
              "          element.appendChild(docLink);\n",
              "        }\n",
              "      </script>\n",
              "    </div>\n",
              "  </div>\n",
              "  "
            ]
          },
          "metadata": {},
          "execution_count": 30
        }
      ]
    },
    {
      "cell_type": "markdown",
      "source": [
        "# Dealing with NAs"
      ],
      "metadata": {
        "id": "RJcQnXAtGMUa"
      }
    },
    {
      "cell_type": "code",
      "source": [
        "df_main.isna().sum()"
      ],
      "metadata": {
        "colab": {
          "base_uri": "https://localhost:8080/"
        },
        "id": "S-MWhchXAUXb",
        "outputId": "e08fa25b-345a-4ac4-cc65-1a2fd2774dae"
      },
      "execution_count": 31,
      "outputs": [
        {
          "output_type": "execute_result",
          "data": {
            "text/plain": [
              "PrimaryKey              0\n",
              "TransactionNo           0\n",
              "Date                    0\n",
              "ProductNo               0\n",
              "ProductName             0\n",
              "Price                   0\n",
              "Quantity                0\n",
              "CustomerNo             55\n",
              "Country                 0\n",
              "month                   0\n",
              "day                     0\n",
              "year                    0\n",
              "ProductNameLen          0\n",
              "ProductNameNumWords     0\n",
              "dtype: int64"
            ]
          },
          "metadata": {},
          "execution_count": 31
        }
      ]
    },
    {
      "cell_type": "markdown",
      "source": [
        "As there are only 55 entries in CustomerNo out of 536350, we should drop all these rows as it would not lead to a large amount of information loss. "
      ],
      "metadata": {
        "id": "gFx5RdOVGLqq"
      }
    },
    {
      "cell_type": "code",
      "source": [
        "df_wo_na = df_main.dropna(subset = ['CustomerNo'])"
      ],
      "metadata": {
        "id": "4B_-b1ZKFtTR"
      },
      "execution_count": 32,
      "outputs": []
    },
    {
      "cell_type": "code",
      "source": [
        "df_wo_na.isna().sum()"
      ],
      "metadata": {
        "colab": {
          "base_uri": "https://localhost:8080/"
        },
        "id": "gZrZ0DFRGwu9",
        "outputId": "b506beb3-1286-450f-d95f-4b06bd4496ae"
      },
      "execution_count": 33,
      "outputs": [
        {
          "output_type": "execute_result",
          "data": {
            "text/plain": [
              "PrimaryKey             0\n",
              "TransactionNo          0\n",
              "Date                   0\n",
              "ProductNo              0\n",
              "ProductName            0\n",
              "Price                  0\n",
              "Quantity               0\n",
              "CustomerNo             0\n",
              "Country                0\n",
              "month                  0\n",
              "day                    0\n",
              "year                   0\n",
              "ProductNameLen         0\n",
              "ProductNameNumWords    0\n",
              "dtype: int64"
            ]
          },
          "metadata": {},
          "execution_count": 33
        }
      ]
    },
    {
      "cell_type": "markdown",
      "source": [
        "# Deal with Outliers"
      ],
      "metadata": {
        "id": "sF5zzYTpG9jU"
      }
    },
    {
      "cell_type": "code",
      "source": [
        "df_wo_na.info()"
      ],
      "metadata": {
        "colab": {
          "base_uri": "https://localhost:8080/"
        },
        "id": "xEmniZzFGy8T",
        "outputId": "405ffc54-d4df-401f-a578-3bed98a31dd4"
      },
      "execution_count": 34,
      "outputs": [
        {
          "output_type": "stream",
          "name": "stdout",
          "text": [
            "<class 'pandas.core.frame.DataFrame'>\n",
            "Int64Index: 536295 entries, 0 to 536349\n",
            "Data columns (total 14 columns):\n",
            " #   Column               Non-Null Count   Dtype         \n",
            "---  ------               --------------   -----         \n",
            " 0   PrimaryKey           536295 non-null  int64         \n",
            " 1   TransactionNo        536295 non-null  object        \n",
            " 2   Date                 536295 non-null  datetime64[ns]\n",
            " 3   ProductNo            536295 non-null  object        \n",
            " 4   ProductName          536295 non-null  object        \n",
            " 5   Price                536295 non-null  float64       \n",
            " 6   Quantity             536295 non-null  int64         \n",
            " 7   CustomerNo           536295 non-null  float64       \n",
            " 8   Country              536295 non-null  object        \n",
            " 9   month                536295 non-null  int64         \n",
            " 10  day                  536295 non-null  int64         \n",
            " 11  year                 536295 non-null  int64         \n",
            " 12  ProductNameLen       536295 non-null  int64         \n",
            " 13  ProductNameNumWords  536295 non-null  int64         \n",
            "dtypes: datetime64[ns](1), float64(2), int64(7), object(4)\n",
            "memory usage: 61.4+ MB\n"
          ]
        }
      ]
    },
    {
      "cell_type": "code",
      "source": [
        "import copy\n",
        "\n",
        "df_wo_na_copy = copy.deepcopy(df_wo_na)"
      ],
      "metadata": {
        "id": "B6i5qLt_HrkX"
      },
      "execution_count": 35,
      "outputs": []
    },
    {
      "cell_type": "code",
      "source": [
        "from scipy.stats.mstats import winsorize\n",
        "\n",
        "# Winsorize the Quantity column at 5% level\n",
        "df_wo_na_copy['Quantity'] = winsorize(df_wo_na['Quantity'], limits=[0.05, 0.05])"
      ],
      "metadata": {
        "id": "KHHq-zRAG9Dg"
      },
      "execution_count": 36,
      "outputs": []
    },
    {
      "cell_type": "code",
      "source": [
        "sns.boxplot(df_wo_na_copy['Quantity'])"
      ],
      "metadata": {
        "colab": {
          "base_uri": "https://localhost:8080/",
          "height": 448
        },
        "id": "9myi-wyeICZ2",
        "outputId": "c2596326-5fd4-43b6-9932-4d08e52ee33a"
      },
      "execution_count": 37,
      "outputs": [
        {
          "output_type": "execute_result",
          "data": {
            "text/plain": [
              "<Axes: >"
            ]
          },
          "metadata": {},
          "execution_count": 37
        },
        {
          "output_type": "display_data",
          "data": {
            "text/plain": [
              "<Figure size 640x480 with 1 Axes>"
            ],
            "image/png": "[encoded data removed]"
          },
          "metadata": {}
        }
      ]
    },
    {
      "cell_type": "code",
      "source": [
        "sns.set(style=\"darkgrid\", palette=\"Set2\")\n",
        "sns.kdeplot(df_wo_na_copy['Quantity'], fill = True, alpha = 0.5)"
      ],
      "metadata": {
        "colab": {
          "base_uri": "https://localhost:8080/",
          "height": 475
        },
        "id": "IjsU7mo5IH7N",
        "outputId": "253ee4f0-6343-4152-81f9-36327840ce4b"
      },
      "execution_count": 38,
      "outputs": [
        {
          "output_type": "execute_result",
          "data": {
            "text/plain": [
              "<Axes: xlabel='Quantity', ylabel='Density'>"
            ]
          },
          "metadata": {},
          "execution_count": 38
        },
        {
          "output_type": "display_data",
          "data": {
            "text/plain": [
              "<Figure size 640x480 with 1 Axes>"
            ],
            "image/png": "[encoded data removed]"
          },
          "metadata": {}
        }
      ]
    },
    {
      "cell_type": "code",
      "source": [
        "df_wo_na_copy.info()"
      ],
      "metadata": {
        "colab": {
          "base_uri": "https://localhost:8080/"
        },
        "id": "imj8dzLUMPvO",
        "outputId": "0191436b-2c95-4e55-d8f0-363eb6b1ca97"
      },
      "execution_count": 39,
      "outputs": [
        {
          "output_type": "stream",
          "name": "stdout",
          "text": [
            "<class 'pandas.core.frame.DataFrame'>\n",
            "Int64Index: 536295 entries, 0 to 536349\n",
            "Data columns (total 14 columns):\n",
            " #   Column               Non-Null Count   Dtype         \n",
            "---  ------               --------------   -----         \n",
            " 0   PrimaryKey           536295 non-null  int64         \n",
            " 1   TransactionNo        536295 non-null  object        \n",
            " 2   Date                 536295 non-null  datetime64[ns]\n",
            " 3   ProductNo            536295 non-null  object        \n",
            " 4   ProductName          536295 non-null  object        \n",
            " 5   Price                536295 non-null  float64       \n",
            " 6   Quantity             536295 non-null  int64         \n",
            " 7   CustomerNo           536295 non-null  float64       \n",
            " 8   Country              536295 non-null  object        \n",
            " 9   month                536295 non-null  int64         \n",
            " 10  day                  536295 non-null  int64         \n",
            " 11  year                 536295 non-null  int64         \n",
            " 12  ProductNameLen       536295 non-null  int64         \n",
            " 13  ProductNameNumWords  536295 non-null  int64         \n",
            "dtypes: datetime64[ns](1), float64(2), int64(7), object(4)\n",
            "memory usage: 77.5+ MB\n"
          ]
        }
      ]
    },
    {
      "cell_type": "markdown",
      "source": [
        "# Modeling"
      ],
      "metadata": {
        "id": "GkYgx9sXU9IN"
      }
    },
    {
      "cell_type": "code",
      "source": [
        "df_wo_na_copy.drop(columns = ['PrimaryKey'], inplace = True)"
      ],
      "metadata": {
        "id": "axw_B5WlNOfs"
      },
      "execution_count": 40,
      "outputs": []
    },
    {
      "cell_type": "code",
      "source": [
        "df_wo_na_copy.drop(columns = ['Date'], inplace = True)"
      ],
      "metadata": {
        "id": "SX4RKiBNQLIB"
      },
      "execution_count": 41,
      "outputs": []
    },
    {
      "cell_type": "code",
      "source": [
        "df_wo_na_copy.info()"
      ],
      "metadata": {
        "colab": {
          "base_uri": "https://localhost:8080/"
        },
        "id": "7riefp0lQaA7",
        "outputId": "f72e77dd-092e-431a-e509-8549e21786f7"
      },
      "execution_count": 42,
      "outputs": [
        {
          "output_type": "stream",
          "name": "stdout",
          "text": [
            "<class 'pandas.core.frame.DataFrame'>\n",
            "Int64Index: 536295 entries, 0 to 536349\n",
            "Data columns (total 12 columns):\n",
            " #   Column               Non-Null Count   Dtype  \n",
            "---  ------               --------------   -----  \n",
            " 0   TransactionNo        536295 non-null  object \n",
            " 1   ProductNo            536295 non-null  object \n",
            " 2   ProductName          536295 non-null  object \n",
            " 3   Price                536295 non-null  float64\n",
            " 4   Quantity             536295 non-null  int64  \n",
            " 5   CustomerNo           536295 non-null  float64\n",
            " 6   Country              536295 non-null  object \n",
            " 7   month                536295 non-null  int64  \n",
            " 8   day                  536295 non-null  int64  \n",
            " 9   year                 536295 non-null  int64  \n",
            " 10  ProductNameLen       536295 non-null  int64  \n",
            " 11  ProductNameNumWords  536295 non-null  int64  \n",
            "dtypes: float64(2), int64(6), object(4)\n",
            "memory usage: 69.3+ MB\n"
          ]
        }
      ]
    },
    {
      "cell_type": "code",
      "source": [
        "df_wo_na_copy['CustomerNo'] = df_wo_na_copy['CustomerNo'].astype('object')"
      ],
      "metadata": {
        "id": "-bbL7CmIQeKY"
      },
      "execution_count": 43,
      "outputs": []
    },
    {
      "cell_type": "code",
      "source": [
        "df_wo_na_copy['month'] = df_wo_na_copy['month'].astype('object')"
      ],
      "metadata": {
        "id": "IJ8vfTKlQus6"
      },
      "execution_count": 44,
      "outputs": []
    },
    {
      "cell_type": "code",
      "source": [
        "df_wo_na_copy['day'] = df_wo_na_copy['day'].astype('object')"
      ],
      "metadata": {
        "id": "fnQ5j5NVQx2E"
      },
      "execution_count": 45,
      "outputs": []
    },
    {
      "cell_type": "code",
      "source": [
        "df_wo_na_copy['year'] = df_wo_na_copy['year'].astype('object')"
      ],
      "metadata": {
        "id": "A-FsvR-QQyU1"
      },
      "execution_count": 46,
      "outputs": []
    },
    {
      "cell_type": "code",
      "source": [
        "df_wo_na_copy.columns"
      ],
      "metadata": {
        "colab": {
          "base_uri": "https://localhost:8080/"
        },
        "id": "Y-5pp9aYO1CS",
        "outputId": "25d4d74b-3616-4ecc-cb04-9f0e2070c279"
      },
      "execution_count": 47,
      "outputs": [
        {
          "output_type": "execute_result",
          "data": {
            "text/plain": [
              "Index(['TransactionNo', 'ProductNo', 'ProductName', 'Price', 'Quantity',\n",
              "       'CustomerNo', 'Country', 'month', 'day', 'year', 'ProductNameLen',\n",
              "       'ProductNameNumWords'],\n",
              "      dtype='object')"
            ]
          },
          "metadata": {},
          "execution_count": 47
        }
      ]
    },
    {
      "cell_type": "code",
      "source": [
        "import pandas as pd\n",
        "from sklearn.model_selection import train_test_split\n",
        "from sklearn.preprocessing import StandardScaler\n",
        "from sklearn.compose import ColumnTransformer\n",
        "from sklearn.pipeline import Pipeline\n",
        "from sklearn.linear_model import LinearRegression\n",
        "from sklearn.tree import DecisionTreeRegressor\n",
        "from sklearn.ensemble import RandomForestRegressor\n",
        "from sklearn.preprocessing import OneHotEncoder\n",
        "from sklearn.svm import SVR\n",
        "\n",
        "# Split the data into training and testing sets\n",
        "X_train, X_test, y_train, y_test = train_test_split(df_wo_na_copy.drop('Quantity', axis=1), df_wo_na_copy['Quantity'], test_size=0.3, random_state=42)\n",
        "\n",
        "# Define the categorical columns\n",
        "cat_cols = ['TransactionNo', 'ProductNo', 'ProductName', 'CustomerNo', 'Country', 'day', 'year', 'month']\n",
        "\n",
        "# Define the numerical columns\n",
        "num_cols = ['Price', 'ProductNameLen', 'ProductNameNumWords']\n",
        "\n",
        "# Create the preprocessing pipeline\n",
        "preprocessing_pipeline = ColumnTransformer([\n",
        "    ('num', StandardScaler(), num_cols),\n",
        "    ('cat', OneHotEncoder(drop='first', handle_unknown='ignore'), cat_cols)],\n",
        "    remainder='passthrough')\n",
        "\n",
        "# Fit and transform the preprocessing pipeline on the training data\n",
        "X_train_preprocessed = preprocessing_pipeline.fit_transform(X_train)\n",
        "\n",
        "# Transform the testing data using the fitted preprocessing pipeline\n",
        "X_test_preprocessed = preprocessing_pipeline.transform(X_test)\n",
        "\n",
        "# Define the models to be used\n",
        "models = [LinearRegression(), DecisionTreeRegressor()]\n",
        "\n",
        "# Train and evaluate the models\n",
        "for model in models:\n",
        "    model.fit(X_train_preprocessed, y_train)\n",
        "    print(f\"{type(model).__name__} Train Score: {model.score(X_train_preprocessed, y_train)}\")\n",
        "    print(f\"{type(model).__name__} Test Score: {model.score(X_test_preprocessed, y_test)}\")\n",
        "    print()\n"
      ],
      "metadata": {
        "colab": {
          "base_uri": "https://localhost:8080/"
        },
        "id": "V3bXQujnMbPe",
        "outputId": "4d020d93-3d86-4469-8224-be180fc89abc"
      },
      "execution_count": 48,
      "outputs": [
        {
          "output_type": "stream",
          "name": "stderr",
          "text": [
            "/usr/local/lib/python3.10/dist-packages/sklearn/preprocessing/_encoders.py:202: UserWarning: Found unknown categories in columns [0, 1, 2, 3] during transform. These unknown categories will be encoded as all zeros\n",
            "  warnings.warn(\n"
          ]
        },
        {
          "output_type": "stream",
          "name": "stdout",
          "text": [
            "LinearRegression Train Score: 0.7178473284715428\n",
            "LinearRegression Test Score: 0.6576714014023923\n",
            "\n",
            "DecisionTreeRegressor Train Score: 0.9987272845981524\n",
            "DecisionTreeRegressor Test Score: 0.49657034872626027\n",
            "\n"
          ]
        }
      ]
    },
    {
      "cell_type": "markdown",
      "source": [
        "LinearRegression model performs better on the test set than the DecisionTreeRegressor model. The LinearRegression model has a test score of 0.6576714014023923 while the DecisionTreeRegressor model has a test score of 0.49657034872626027. However, the DecisionTreeRegressor model has a much higher train score of 0.9987272845981524, which could suggest overfitting."
      ],
      "metadata": {
        "id": "2K0VXNuRhJ-o"
      }
    },
    {
      "cell_type": "code",
      "source": [],
      "metadata": {
        "id": "RYQUbiPzhKZC"
      },
      "execution_count": null,
      "outputs": []
    }
  ]
}