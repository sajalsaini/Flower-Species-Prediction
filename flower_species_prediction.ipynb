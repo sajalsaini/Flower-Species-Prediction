{
  "cells": [
    {
      "cell_type": "markdown",
      "metadata": {
        "id": "view-in-github",
        "colab_type": "text"
      },
      "source": [
        "<a href=\"https://colab.research.google.com/github/sajalsaini/Flower-Species-Prediction/blob/main/flower_species_prediction.ipynb\" target=\"_parent\"><img src=\"https://colab.research.google.com/assets/colab-badge.svg\" alt=\"Open In Colab\"/></a>"
      ]
    },
    {
      "cell_type": "code",
      "execution_count": null,
      "id": "e4790945",
      "metadata": {
        "_cell_guid": "b1076dfc-b9ad-4769-8c92-a6c4dae69d19",
        "_uuid": "8f2839f25d086af736a60e9eeb907d3b93b6e0e5",
        "execution": {
          "iopub.execute_input": "2021-09-11T14:23:50.409674Z",
          "iopub.status.busy": "2021-09-11T14:23:50.404484Z",
          "iopub.status.idle": "2021-09-11T14:23:50.423966Z",
          "shell.execute_reply": "2021-09-11T14:23:50.423170Z",
          "shell.execute_reply.started": "2021-09-11T13:09:01.771015Z"
        },
        "papermill": {
          "duration": 0.096185,
          "end_time": "2021-09-11T14:23:50.424184",
          "exception": false,
          "start_time": "2021-09-11T14:23:50.327999",
          "status": "completed"
        },
        "tags": [],
        "id": "e4790945",
        "outputId": "95bb8164-af1a-4dd3-f32d-b347807c62b1"
      },
      "outputs": [
        {
          "name": "stdout",
          "output_type": "stream",
          "text": [
            "/kaggle/input/iris/Iris.csv\n",
            "/kaggle/input/iris/database.sqlite\n"
          ]
        }
      ],
      "source": [
        "# This Python 3 environment comes with many helpful analytics libraries installed\n",
        "# It is defined by the kaggle/python Docker image: https://github.com/kaggle/docker-python\n",
        "# For example, here's several helpful packages to load\n",
        "\n",
        "import numpy as np # linear algebra\n",
        "import pandas as pd # data processing, CSV file I/O (e.g. pd.read_csv)\n",
        "\n",
        "# Input data files are available in the read-only \"../input/\" directory\n",
        "# For example, running this (by clicking run or pressing Shift+Enter) will list all files under the input directory\n",
        "\n",
        "import os\n",
        "for dirname, _, filenames in os.walk('/kaggle/input'):\n",
        "    for filename in filenames:\n",
        "        print(os.path.join(dirname, filename))\n",
        "\n",
        "# You can write up to 20GB to the current directory (/kaggle/working/) that gets preserved as output when you create a version using \"Save & Run All\" \n",
        "# You can also write temporary files to /kaggle/temp/, but they won't be saved outside of the current session"
      ]
    },
    {
      "cell_type": "markdown",
      "id": "7c309680",
      "metadata": {
        "papermill": {
          "duration": 0.067799,
          "end_time": "2021-09-11T14:23:50.560091",
          "exception": false,
          "start_time": "2021-09-11T14:23:50.492292",
          "status": "completed"
        },
        "tags": [],
        "id": "7c309680"
      },
      "source": [
        "# Importing Libraries"
      ]
    },
    {
      "cell_type": "code",
      "execution_count": null,
      "id": "52200977",
      "metadata": {
        "execution": {
          "iopub.execute_input": "2021-09-11T14:23:50.698363Z",
          "iopub.status.busy": "2021-09-11T14:23:50.697332Z",
          "iopub.status.idle": "2021-09-11T14:23:51.752241Z",
          "shell.execute_reply": "2021-09-11T14:23:51.751370Z",
          "shell.execute_reply.started": "2021-09-11T13:09:01.783493Z"
        },
        "papermill": {
          "duration": 1.125709,
          "end_time": "2021-09-11T14:23:51.752423",
          "exception": false,
          "start_time": "2021-09-11T14:23:50.626714",
          "status": "completed"
        },
        "tags": [],
        "id": "52200977"
      },
      "outputs": [],
      "source": [
        "import pandas as pd\n",
        "import numpy as np\n",
        "import seaborn as sb"
      ]
    },
    {
      "cell_type": "markdown",
      "id": "153959c7",
      "metadata": {
        "papermill": {
          "duration": 0.066282,
          "end_time": "2021-09-11T14:23:51.884813",
          "exception": false,
          "start_time": "2021-09-11T14:23:51.818531",
          "status": "completed"
        },
        "tags": [],
        "id": "153959c7"
      },
      "source": [
        "# Loading the Dataset"
      ]
    },
    {
      "cell_type": "code",
      "execution_count": null,
      "id": "e7de6f39",
      "metadata": {
        "execution": {
          "iopub.execute_input": "2021-09-11T14:23:52.023321Z",
          "iopub.status.busy": "2021-09-11T14:23:52.022590Z",
          "iopub.status.idle": "2021-09-11T14:23:52.037049Z",
          "shell.execute_reply": "2021-09-11T14:23:52.036375Z",
          "shell.execute_reply.started": "2021-09-11T13:09:01.791265Z"
        },
        "papermill": {
          "duration": 0.085722,
          "end_time": "2021-09-11T14:23:52.037243",
          "exception": false,
          "start_time": "2021-09-11T14:23:51.951521",
          "status": "completed"
        },
        "tags": [],
        "id": "e7de6f39"
      },
      "outputs": [],
      "source": [
        "df = pd.read_csv(\"../input/iris/Iris.csv\")"
      ]
    },
    {
      "cell_type": "markdown",
      "id": "c0e6764e",
      "metadata": {
        "papermill": {
          "duration": 0.069589,
          "end_time": "2021-09-11T14:23:52.177788",
          "exception": false,
          "start_time": "2021-09-11T14:23:52.108199",
          "status": "completed"
        },
        "tags": [],
        "id": "c0e6764e"
      },
      "source": [
        "# EDA"
      ]
    },
    {
      "cell_type": "code",
      "execution_count": null,
      "id": "c750f66c",
      "metadata": {
        "execution": {
          "iopub.execute_input": "2021-09-11T14:23:52.349369Z",
          "iopub.status.busy": "2021-09-11T14:23:52.347204Z",
          "iopub.status.idle": "2021-09-11T14:23:52.369276Z",
          "shell.execute_reply": "2021-09-11T14:23:52.369846Z",
          "shell.execute_reply.started": "2021-09-11T13:09:01.808117Z"
        },
        "papermill": {
          "duration": 0.115894,
          "end_time": "2021-09-11T14:23:52.370075",
          "exception": false,
          "start_time": "2021-09-11T14:23:52.254181",
          "status": "completed"
        },
        "tags": [],
        "id": "c750f66c",
        "outputId": "04ecaef6-aaae-4360-f0b3-50aaf534d4e8"
      },
      "outputs": [
        {
          "data": {
            "text/html": [
              "<div>\n",
              "<style scoped>\n",
              "    .dataframe tbody tr th:only-of-type {\n",
              "        vertical-align: middle;\n",
              "    }\n",
              "\n",
              "    .dataframe tbody tr th {\n",
              "        vertical-align: top;\n",
              "    }\n",
              "\n",
              "    .dataframe thead th {\n",
              "        text-align: right;\n",
              "    }\n",
              "</style>\n",
              "<table border=\"1\" class=\"dataframe\">\n",
              "  <thead>\n",
              "    <tr style=\"text-align: right;\">\n",
              "      <th></th>\n",
              "      <th>Id</th>\n",
              "      <th>SepalLengthCm</th>\n",
              "      <th>SepalWidthCm</th>\n",
              "      <th>PetalLengthCm</th>\n",
              "      <th>PetalWidthCm</th>\n",
              "      <th>Species</th>\n",
              "    </tr>\n",
              "  </thead>\n",
              "  <tbody>\n",
              "    <tr>\n",
              "      <th>0</th>\n",
              "      <td>1</td>\n",
              "      <td>5.1</td>\n",
              "      <td>3.5</td>\n",
              "      <td>1.4</td>\n",
              "      <td>0.2</td>\n",
              "      <td>Iris-setosa</td>\n",
              "    </tr>\n",
              "    <tr>\n",
              "      <th>1</th>\n",
              "      <td>2</td>\n",
              "      <td>4.9</td>\n",
              "      <td>3.0</td>\n",
              "      <td>1.4</td>\n",
              "      <td>0.2</td>\n",
              "      <td>Iris-setosa</td>\n",
              "    </tr>\n",
              "    <tr>\n",
              "      <th>2</th>\n",
              "      <td>3</td>\n",
              "      <td>4.7</td>\n",
              "      <td>3.2</td>\n",
              "      <td>1.3</td>\n",
              "      <td>0.2</td>\n",
              "      <td>Iris-setosa</td>\n",
              "    </tr>\n",
              "    <tr>\n",
              "      <th>3</th>\n",
              "      <td>4</td>\n",
              "      <td>4.6</td>\n",
              "      <td>3.1</td>\n",
              "      <td>1.5</td>\n",
              "      <td>0.2</td>\n",
              "      <td>Iris-setosa</td>\n",
              "    </tr>\n",
              "    <tr>\n",
              "      <th>4</th>\n",
              "      <td>5</td>\n",
              "      <td>5.0</td>\n",
              "      <td>3.6</td>\n",
              "      <td>1.4</td>\n",
              "      <td>0.2</td>\n",
              "      <td>Iris-setosa</td>\n",
              "    </tr>\n",
              "  </tbody>\n",
              "</table>\n",
              "</div>"
            ],
            "text/plain": [
              "   Id  SepalLengthCm  SepalWidthCm  PetalLengthCm  PetalWidthCm      Species\n",
              "0   1            5.1           3.5            1.4           0.2  Iris-setosa\n",
              "1   2            4.9           3.0            1.4           0.2  Iris-setosa\n",
              "2   3            4.7           3.2            1.3           0.2  Iris-setosa\n",
              "3   4            4.6           3.1            1.5           0.2  Iris-setosa\n",
              "4   5            5.0           3.6            1.4           0.2  Iris-setosa"
            ]
          },
          "execution_count": 4,
          "metadata": {},
          "output_type": "execute_result"
        }
      ],
      "source": [
        "df.head()"
      ]
    },
    {
      "cell_type": "code",
      "execution_count": null,
      "id": "5471acb6",
      "metadata": {
        "execution": {
          "iopub.execute_input": "2021-09-11T14:23:52.523060Z",
          "iopub.status.busy": "2021-09-11T14:23:52.522191Z",
          "iopub.status.idle": "2021-09-11T14:23:52.529089Z",
          "shell.execute_reply": "2021-09-11T14:23:52.528478Z",
          "shell.execute_reply.started": "2021-09-11T13:09:01.828529Z"
        },
        "papermill": {
          "duration": 0.086642,
          "end_time": "2021-09-11T14:23:52.529257",
          "exception": false,
          "start_time": "2021-09-11T14:23:52.442615",
          "status": "completed"
        },
        "tags": [],
        "id": "5471acb6",
        "outputId": "e5762fc3-e7c2-4244-8ba1-090223ad262e"
      },
      "outputs": [
        {
          "data": {
            "text/plain": [
              "(150, 6)"
            ]
          },
          "execution_count": 5,
          "metadata": {},
          "output_type": "execute_result"
        }
      ],
      "source": [
        "df.shape"
      ]
    },
    {
      "cell_type": "code",
      "execution_count": null,
      "id": "ec347cd3",
      "metadata": {
        "execution": {
          "iopub.execute_input": "2021-09-11T14:23:52.678819Z",
          "iopub.status.busy": "2021-09-11T14:23:52.677886Z",
          "iopub.status.idle": "2021-09-11T14:23:52.681471Z",
          "shell.execute_reply": "2021-09-11T14:23:52.681996Z",
          "shell.execute_reply.started": "2021-09-11T13:09:01.843202Z"
        },
        "papermill": {
          "duration": 0.079808,
          "end_time": "2021-09-11T14:23:52.682191",
          "exception": false,
          "start_time": "2021-09-11T14:23:52.602383",
          "status": "completed"
        },
        "tags": [],
        "id": "ec347cd3",
        "outputId": "287ea9f5-1d4c-4fad-da2d-3f2ece21fe95"
      },
      "outputs": [
        {
          "data": {
            "text/plain": [
              "Index(['Id', 'SepalLengthCm', 'SepalWidthCm', 'PetalLengthCm', 'PetalWidthCm',\n",
              "       'Species'],\n",
              "      dtype='object')"
            ]
          },
          "execution_count": 6,
          "metadata": {},
          "output_type": "execute_result"
        }
      ],
      "source": [
        "df.columns"
      ]
    },
    {
      "cell_type": "code",
      "execution_count": null,
      "id": "d972df62",
      "metadata": {
        "execution": {
          "iopub.execute_input": "2021-09-11T14:23:52.822893Z",
          "iopub.status.busy": "2021-09-11T14:23:52.821570Z",
          "iopub.status.idle": "2021-09-11T14:23:52.863868Z",
          "shell.execute_reply": "2021-09-11T14:23:52.863271Z",
          "shell.execute_reply.started": "2021-09-11T13:09:01.875872Z"
        },
        "papermill": {
          "duration": 0.113971,
          "end_time": "2021-09-11T14:23:52.864049",
          "exception": false,
          "start_time": "2021-09-11T14:23:52.750078",
          "status": "completed"
        },
        "tags": [],
        "id": "d972df62",
        "outputId": "f63ae82f-348c-4107-8e2d-f52a31987fc4"
      },
      "outputs": [
        {
          "data": {
            "text/html": [
              "<div>\n",
              "<style scoped>\n",
              "    .dataframe tbody tr th:only-of-type {\n",
              "        vertical-align: middle;\n",
              "    }\n",
              "\n",
              "    .dataframe tbody tr th {\n",
              "        vertical-align: top;\n",
              "    }\n",
              "\n",
              "    .dataframe thead th {\n",
              "        text-align: right;\n",
              "    }\n",
              "</style>\n",
              "<table border=\"1\" class=\"dataframe\">\n",
              "  <thead>\n",
              "    <tr style=\"text-align: right;\">\n",
              "      <th></th>\n",
              "      <th>Id</th>\n",
              "      <th>SepalLengthCm</th>\n",
              "      <th>SepalWidthCm</th>\n",
              "      <th>PetalLengthCm</th>\n",
              "      <th>PetalWidthCm</th>\n",
              "    </tr>\n",
              "  </thead>\n",
              "  <tbody>\n",
              "    <tr>\n",
              "      <th>count</th>\n",
              "      <td>150.000000</td>\n",
              "      <td>150.000000</td>\n",
              "      <td>150.000000</td>\n",
              "      <td>150.000000</td>\n",
              "      <td>150.000000</td>\n",
              "    </tr>\n",
              "    <tr>\n",
              "      <th>mean</th>\n",
              "      <td>75.500000</td>\n",
              "      <td>5.843333</td>\n",
              "      <td>3.054000</td>\n",
              "      <td>3.758667</td>\n",
              "      <td>1.198667</td>\n",
              "    </tr>\n",
              "    <tr>\n",
              "      <th>std</th>\n",
              "      <td>43.445368</td>\n",
              "      <td>0.828066</td>\n",
              "      <td>0.433594</td>\n",
              "      <td>1.764420</td>\n",
              "      <td>0.763161</td>\n",
              "    </tr>\n",
              "    <tr>\n",
              "      <th>min</th>\n",
              "      <td>1.000000</td>\n",
              "      <td>4.300000</td>\n",
              "      <td>2.000000</td>\n",
              "      <td>1.000000</td>\n",
              "      <td>0.100000</td>\n",
              "    </tr>\n",
              "    <tr>\n",
              "      <th>25%</th>\n",
              "      <td>38.250000</td>\n",
              "      <td>5.100000</td>\n",
              "      <td>2.800000</td>\n",
              "      <td>1.600000</td>\n",
              "      <td>0.300000</td>\n",
              "    </tr>\n",
              "    <tr>\n",
              "      <th>50%</th>\n",
              "      <td>75.500000</td>\n",
              "      <td>5.800000</td>\n",
              "      <td>3.000000</td>\n",
              "      <td>4.350000</td>\n",
              "      <td>1.300000</td>\n",
              "    </tr>\n",
              "    <tr>\n",
              "      <th>75%</th>\n",
              "      <td>112.750000</td>\n",
              "      <td>6.400000</td>\n",
              "      <td>3.300000</td>\n",
              "      <td>5.100000</td>\n",
              "      <td>1.800000</td>\n",
              "    </tr>\n",
              "    <tr>\n",
              "      <th>max</th>\n",
              "      <td>150.000000</td>\n",
              "      <td>7.900000</td>\n",
              "      <td>4.400000</td>\n",
              "      <td>6.900000</td>\n",
              "      <td>2.500000</td>\n",
              "    </tr>\n",
              "  </tbody>\n",
              "</table>\n",
              "</div>"
            ],
            "text/plain": [
              "               Id  SepalLengthCm  SepalWidthCm  PetalLengthCm  PetalWidthCm\n",
              "count  150.000000     150.000000    150.000000     150.000000    150.000000\n",
              "mean    75.500000       5.843333      3.054000       3.758667      1.198667\n",
              "std     43.445368       0.828066      0.433594       1.764420      0.763161\n",
              "min      1.000000       4.300000      2.000000       1.000000      0.100000\n",
              "25%     38.250000       5.100000      2.800000       1.600000      0.300000\n",
              "50%     75.500000       5.800000      3.000000       4.350000      1.300000\n",
              "75%    112.750000       6.400000      3.300000       5.100000      1.800000\n",
              "max    150.000000       7.900000      4.400000       6.900000      2.500000"
            ]
          },
          "execution_count": 7,
          "metadata": {},
          "output_type": "execute_result"
        }
      ],
      "source": [
        "df.describe()"
      ]
    },
    {
      "cell_type": "code",
      "execution_count": null,
      "id": "841f6465",
      "metadata": {
        "execution": {
          "iopub.execute_input": "2021-09-11T14:23:53.018752Z",
          "iopub.status.busy": "2021-09-11T14:23:53.017629Z",
          "iopub.status.idle": "2021-09-11T14:23:53.025736Z",
          "shell.execute_reply": "2021-09-11T14:23:53.025029Z",
          "shell.execute_reply.started": "2021-09-11T13:09:01.906127Z"
        },
        "papermill": {
          "duration": 0.088344,
          "end_time": "2021-09-11T14:23:53.026014",
          "exception": false,
          "start_time": "2021-09-11T14:23:52.937670",
          "status": "completed"
        },
        "tags": [],
        "id": "841f6465",
        "outputId": "c30c21bb-ee73-4509-f180-08d7c05d99ae"
      },
      "outputs": [
        {
          "data": {
            "text/plain": [
              "Id               0\n",
              "SepalLengthCm    0\n",
              "SepalWidthCm     0\n",
              "PetalLengthCm    0\n",
              "PetalWidthCm     0\n",
              "Species          0\n",
              "dtype: int64"
            ]
          },
          "execution_count": 8,
          "metadata": {},
          "output_type": "execute_result"
        }
      ],
      "source": [
        "df.isnull().sum()"
      ]
    },
    {
      "cell_type": "markdown",
      "id": "b0caa330",
      "metadata": {
        "papermill": {
          "duration": 0.068178,
          "end_time": "2021-09-11T14:23:53.164695",
          "exception": false,
          "start_time": "2021-09-11T14:23:53.096517",
          "status": "completed"
        },
        "tags": [],
        "id": "b0caa330"
      },
      "source": [
        "***This means no missing values.***"
      ]
    },
    {
      "cell_type": "markdown",
      "id": "f00c1953",
      "metadata": {
        "papermill": {
          "duration": 0.067341,
          "end_time": "2021-09-11T14:23:53.301667",
          "exception": false,
          "start_time": "2021-09-11T14:23:53.234326",
          "status": "completed"
        },
        "tags": [],
        "id": "f00c1953"
      },
      "source": [
        "# Scatter Plot (Sepal Length vs Sepal Width)"
      ]
    },
    {
      "cell_type": "code",
      "execution_count": null,
      "id": "41b84de4",
      "metadata": {
        "execution": {
          "iopub.execute_input": "2021-09-11T14:23:53.457680Z",
          "iopub.status.busy": "2021-09-11T14:23:53.444072Z",
          "iopub.status.idle": "2021-09-11T14:23:53.856726Z",
          "shell.execute_reply": "2021-09-11T14:23:53.857279Z",
          "shell.execute_reply.started": "2021-09-11T13:09:01.917935Z"
        },
        "papermill": {
          "duration": 0.48709,
          "end_time": "2021-09-11T14:23:53.857475",
          "exception": false,
          "start_time": "2021-09-11T14:23:53.370385",
          "status": "completed"
        },
        "tags": [],
        "id": "41b84de4",
        "outputId": "1be9b586-d470-444f-9587-942416bb81b6"
      },
      "outputs": [
        {
          "data": {
            "text/plain": [
              "<AxesSubplot:xlabel='SepalLengthCm', ylabel='SepalWidthCm'>"
            ]
          },
          "execution_count": 9,
          "metadata": {},
          "output_type": "execute_result"
        },
        {
          "data": {
            "image/png": "[encoded data removed]",
            "text/plain": [
              "<Figure size 432x288 with 1 Axes>"
            ]
          },
          "metadata": {
            "needs_background": "light"
          },
          "output_type": "display_data"
        }
      ],
      "source": [
        "sb.scatterplot(data = df, x = \"SepalLengthCm\", y = \"SepalWidthCm\", hue = \"Species\", style = \"Species\")"
      ]
    },
    {
      "cell_type": "markdown",
      "id": "83196838",
      "metadata": {
        "papermill": {
          "duration": 0.074048,
          "end_time": "2021-09-11T14:23:54.004225",
          "exception": false,
          "start_time": "2021-09-11T14:23:53.930177",
          "status": "completed"
        },
        "tags": [],
        "id": "83196838"
      },
      "source": [
        "# A jointplot of Histogram and Scatterplot to ease the interpretation of the dataset."
      ]
    },
    {
      "cell_type": "code",
      "execution_count": null,
      "id": "06212b9f",
      "metadata": {
        "execution": {
          "iopub.execute_input": "2021-09-11T14:23:54.164205Z",
          "iopub.status.busy": "2021-09-11T14:23:54.151408Z",
          "iopub.status.idle": "2021-09-11T14:23:54.986935Z",
          "shell.execute_reply": "2021-09-11T14:23:54.986287Z",
          "shell.execute_reply.started": "2021-09-11T13:09:02.238637Z"
        },
        "papermill": {
          "duration": 0.911386,
          "end_time": "2021-09-11T14:23:54.987114",
          "exception": false,
          "start_time": "2021-09-11T14:23:54.075728",
          "status": "completed"
        },
        "tags": [],
        "id": "06212b9f",
        "outputId": "7faf1544-11eb-4357-8d42-d97b802ef91e"
      },
      "outputs": [
        {
          "data": {
            "text/plain": [
              "<seaborn.axisgrid.JointGrid at 0x7f39f0984390>"
            ]
          },
          "execution_count": 10,
          "metadata": {},
          "output_type": "execute_result"
        },
        {
          "data": {
            "image/png": "[encoded data removed]",
            "text/plain": [
              "<Figure size 432x432 with 3 Axes>"
            ]
          },
          "metadata": {
            "needs_background": "light"
          },
          "output_type": "display_data"
        }
      ],
      "source": [
        "sb.jointplot(data = df, x = \"SepalLengthCm\", y = \"SepalWidthCm\", hue = \"Species\")"
      ]
    },
    {
      "cell_type": "code",
      "execution_count": null,
      "id": "8e19be82",
      "metadata": {
        "execution": {
          "iopub.execute_input": "2021-09-11T14:23:55.138688Z",
          "iopub.status.busy": "2021-09-11T14:23:55.137906Z",
          "iopub.status.idle": "2021-09-11T14:23:55.428707Z",
          "shell.execute_reply": "2021-09-11T14:23:55.429229Z",
          "shell.execute_reply.started": "2021-09-11T13:09:02.875285Z"
        },
        "papermill": {
          "duration": 0.369582,
          "end_time": "2021-09-11T14:23:55.429452",
          "exception": false,
          "start_time": "2021-09-11T14:23:55.059870",
          "status": "completed"
        },
        "tags": [],
        "id": "8e19be82",
        "outputId": "1f126db9-e5f7-4b48-de1f-695f097848c1"
      },
      "outputs": [
        {
          "data": {
            "text/plain": [
              "<AxesSubplot:xlabel='SepalLengthCm', ylabel='Count'>"
            ]
          },
          "execution_count": 11,
          "metadata": {},
          "output_type": "execute_result"
        },
        {
          "data": {
            "image/png": "[encoded data removed]",
            "text/plain": [
              "<Figure size 432x288 with 1 Axes>"
            ]
          },
          "metadata": {
            "needs_background": "light"
          },
          "output_type": "display_data"
        }
      ],
      "source": [
        "sb.histplot(data = df, x = \"SepalLengthCm\", kde = True)"
      ]
    },
    {
      "cell_type": "code",
      "execution_count": null,
      "id": "c0c09571",
      "metadata": {
        "execution": {
          "iopub.execute_input": "2021-09-11T14:23:55.617486Z",
          "iopub.status.busy": "2021-09-11T14:23:55.616130Z",
          "iopub.status.idle": "2021-09-11T14:23:55.888309Z",
          "shell.execute_reply": "2021-09-11T14:23:55.887689Z",
          "shell.execute_reply.started": "2021-09-11T13:09:03.130215Z"
        },
        "papermill": {
          "duration": 0.3851,
          "end_time": "2021-09-11T14:23:55.888471",
          "exception": false,
          "start_time": "2021-09-11T14:23:55.503371",
          "status": "completed"
        },
        "tags": [],
        "id": "c0c09571",
        "outputId": "454ff585-16be-4b84-da54-1aa5d45fc8db"
      },
      "outputs": [
        {
          "data": {
            "text/plain": [
              "<AxesSubplot:xlabel='SepalWidthCm', ylabel='Count'>"
            ]
          },
          "execution_count": 12,
          "metadata": {},
          "output_type": "execute_result"
        },
        {
          "data": {
            "image/png": "[encoded data removed]",
            "text/plain": [
              "<Figure size 432x288 with 1 Axes>"
            ]
          },
          "metadata": {
            "needs_background": "light"
          },
          "output_type": "display_data"
        }
      ],
      "source": [
        "sb.histplot(data = df, x = \"SepalWidthCm\", kde = True)"
      ]
    },
    {
      "cell_type": "markdown",
      "id": "f1a3a4f2",
      "metadata": {
        "papermill": {
          "duration": 0.077142,
          "end_time": "2021-09-11T14:23:56.043573",
          "exception": false,
          "start_time": "2021-09-11T14:23:55.966431",
          "status": "completed"
        },
        "tags": [],
        "id": "f1a3a4f2"
      },
      "source": [
        "# Kernel Density Estimate Plot (Sepal Length vs Sepal Width)"
      ]
    },
    {
      "cell_type": "code",
      "execution_count": null,
      "id": "3a548065",
      "metadata": {
        "execution": {
          "iopub.execute_input": "2021-09-11T14:23:56.400736Z",
          "iopub.status.busy": "2021-09-11T14:23:56.399508Z",
          "iopub.status.idle": "2021-09-11T14:23:56.797075Z",
          "shell.execute_reply": "2021-09-11T14:23:56.796287Z",
          "shell.execute_reply.started": "2021-09-11T13:09:03.396771Z"
        },
        "papermill": {
          "duration": 0.679844,
          "end_time": "2021-09-11T14:23:56.797241",
          "exception": false,
          "start_time": "2021-09-11T14:23:56.117397",
          "status": "completed"
        },
        "tags": [],
        "id": "3a548065",
        "outputId": "cf1de569-53b0-472a-b136-094c599b74c3"
      },
      "outputs": [
        {
          "data": {
            "text/plain": [
              "<AxesSubplot:xlabel='SepalLengthCm', ylabel='SepalWidthCm'>"
            ]
          },
          "execution_count": 13,
          "metadata": {},
          "output_type": "execute_result"
        },
        {
          "data": {
            "image/png": "[encoded data removed]",
            "text/plain": [
              "<Figure size 432x288 with 1 Axes>"
            ]
          },
          "metadata": {
            "needs_background": "light"
          },
          "output_type": "display_data"
        }
      ],
      "source": [
        "sb.kdeplot(data = df, x = \"SepalLengthCm\", y = \"SepalWidthCm\", fill = True)"
      ]
    },
    {
      "cell_type": "markdown",
      "id": "67d8149a",
      "metadata": {
        "papermill": {
          "duration": 0.077966,
          "end_time": "2021-09-11T14:23:56.949979",
          "exception": false,
          "start_time": "2021-09-11T14:23:56.872013",
          "status": "completed"
        },
        "tags": [],
        "id": "67d8149a"
      },
      "source": [
        "***From the plot we can see that most of the Sepal Lengths lie between 6 and 7 centimeters. Whereas, majority of the width values lie between 2.5 to 3 centimeters.***"
      ]
    },
    {
      "cell_type": "code",
      "execution_count": null,
      "id": "864b588b",
      "metadata": {
        "execution": {
          "iopub.execute_input": "2021-09-11T14:23:57.110077Z",
          "iopub.status.busy": "2021-09-11T14:23:57.109282Z",
          "iopub.status.idle": "2021-09-11T14:23:57.358733Z",
          "shell.execute_reply": "2021-09-11T14:23:57.358017Z",
          "shell.execute_reply.started": "2021-09-11T13:09:03.790455Z"
        },
        "papermill": {
          "duration": 0.332805,
          "end_time": "2021-09-11T14:23:57.358926",
          "exception": false,
          "start_time": "2021-09-11T14:23:57.026121",
          "status": "completed"
        },
        "tags": [],
        "id": "864b588b",
        "outputId": "681f061b-c6a2-4849-b637-7211d6c12e63"
      },
      "outputs": [
        {
          "data": {
            "text/plain": [
              "<AxesSubplot:xlabel='Species', ylabel='PetalLengthCm'>"
            ]
          },
          "execution_count": 14,
          "metadata": {},
          "output_type": "execute_result"
        },
        {
          "data": {
            "image/png": "[encoded data removed]",
            "text/plain": [
              "<Figure size 432x288 with 1 Axes>"
            ]
          },
          "metadata": {
            "needs_background": "light"
          },
          "output_type": "display_data"
        }
      ],
      "source": [
        "sb.boxplot(x = \"Species\", y = \"PetalLengthCm\", data = df)"
      ]
    },
    {
      "cell_type": "code",
      "execution_count": null,
      "id": "c98a3a31",
      "metadata": {
        "execution": {
          "iopub.execute_input": "2021-09-11T14:23:57.558537Z",
          "iopub.status.busy": "2021-09-11T14:23:57.554626Z",
          "iopub.status.idle": "2021-09-11T14:23:57.769282Z",
          "shell.execute_reply": "2021-09-11T14:23:57.768663Z",
          "shell.execute_reply.started": "2021-09-11T13:09:04.028351Z"
        },
        "papermill": {
          "duration": 0.333912,
          "end_time": "2021-09-11T14:23:57.769444",
          "exception": false,
          "start_time": "2021-09-11T14:23:57.435532",
          "status": "completed"
        },
        "tags": [],
        "id": "c98a3a31",
        "outputId": "de028e0f-0efc-40cd-e5d5-b939e61fb32f"
      },
      "outputs": [
        {
          "data": {
            "text/plain": [
              "<AxesSubplot:xlabel='Species', ylabel='PetalWidthCm'>"
            ]
          },
          "execution_count": 15,
          "metadata": {},
          "output_type": "execute_result"
        },
        {
          "data": {
            "image/png": "[encoded data removed]",
            "text/plain": [
              "<Figure size 432x288 with 1 Axes>"
            ]
          },
          "metadata": {
            "needs_background": "light"
          },
          "output_type": "display_data"
        }
      ],
      "source": [
        "sb.boxplot(x = \"Species\", y = \"PetalWidthCm\", data = df)"
      ]
    },
    {
      "cell_type": "code",
      "execution_count": null,
      "id": "6f717259",
      "metadata": {
        "execution": {
          "iopub.execute_input": "2021-09-11T14:23:57.931545Z",
          "iopub.status.busy": "2021-09-11T14:23:57.930282Z",
          "iopub.status.idle": "2021-09-11T14:23:57.933952Z",
          "shell.execute_reply": "2021-09-11T14:23:57.933208Z",
          "shell.execute_reply.started": "2021-09-11T13:09:04.455764Z"
        },
        "papermill": {
          "duration": 0.088218,
          "end_time": "2021-09-11T14:23:57.934148",
          "exception": false,
          "start_time": "2021-09-11T14:23:57.845930",
          "status": "completed"
        },
        "tags": [],
        "id": "6f717259"
      },
      "outputs": [],
      "source": [
        "import matplotlib.pyplot as plt"
      ]
    },
    {
      "cell_type": "code",
      "execution_count": null,
      "id": "24f7e87e",
      "metadata": {
        "execution": {
          "iopub.execute_input": "2021-09-11T14:23:58.095675Z",
          "iopub.status.busy": "2021-09-11T14:23:58.094932Z",
          "iopub.status.idle": "2021-09-11T14:23:58.509935Z",
          "shell.execute_reply": "2021-09-11T14:23:58.510485Z",
          "shell.execute_reply.started": "2021-09-11T13:09:04.463174Z"
        },
        "papermill": {
          "duration": 0.496925,
          "end_time": "2021-09-11T14:23:58.510723",
          "exception": false,
          "start_time": "2021-09-11T14:23:58.013798",
          "status": "completed"
        },
        "tags": [],
        "id": "24f7e87e",
        "outputId": "680f9253-59cc-432d-bad6-74ef86a516c3"
      },
      "outputs": [
        {
          "data": {
            "text/plain": [
              "<AxesSubplot:xlabel='PetalLengthCm', ylabel='PetalWidthCm'>"
            ]
          },
          "execution_count": 17,
          "metadata": {},
          "output_type": "execute_result"
        },
        {
          "data": {
            "image/png": "[encoded data removed]",
            "text/plain": [
              "<Figure size 1080x720 with 1 Axes>"
            ]
          },
          "metadata": {
            "needs_background": "light"
          },
          "output_type": "display_data"
        }
      ],
      "source": [
        "fig_dims = (15,10)\n",
        "fig, ax = plt.subplots(figsize = fig_dims)\n",
        "sb.scatterplot(data = df, x = \"PetalLengthCm\", y = \"PetalWidthCm\", hue = \"Species\", ax=ax)"
      ]
    },
    {
      "cell_type": "markdown",
      "id": "096e613c",
      "metadata": {
        "papermill": {
          "duration": 0.07991,
          "end_time": "2021-09-11T14:23:58.668474",
          "exception": false,
          "start_time": "2021-09-11T14:23:58.588564",
          "status": "completed"
        },
        "tags": [],
        "id": "096e613c"
      },
      "source": [
        "***We can see here that the petal characteristics have a beter cluster than the sepal characteristics. This means that petals will be more helpful in the species identification than the sepals.***"
      ]
    },
    {
      "cell_type": "markdown",
      "id": "fbd2ac2e",
      "metadata": {
        "papermill": {
          "duration": 0.079632,
          "end_time": "2021-09-11T14:23:58.834612",
          "exception": false,
          "start_time": "2021-09-11T14:23:58.754980",
          "status": "completed"
        },
        "tags": [],
        "id": "fbd2ac2e"
      },
      "source": [
        "# Distribution of Petal Length and Width"
      ]
    },
    {
      "cell_type": "code",
      "execution_count": null,
      "id": "0bfb0f32",
      "metadata": {
        "execution": {
          "iopub.execute_input": "2021-09-11T14:23:59.038292Z",
          "iopub.status.busy": "2021-09-11T14:23:59.037383Z",
          "iopub.status.idle": "2021-09-11T14:23:59.360986Z",
          "shell.execute_reply": "2021-09-11T14:23:59.360416Z",
          "shell.execute_reply.started": "2021-09-11T13:09:04.811539Z"
        },
        "papermill": {
          "duration": 0.447522,
          "end_time": "2021-09-11T14:23:59.361150",
          "exception": false,
          "start_time": "2021-09-11T14:23:58.913628",
          "status": "completed"
        },
        "tags": [],
        "id": "0bfb0f32",
        "outputId": "8995e5b2-698d-4352-9fe0-77b89151d905"
      },
      "outputs": [
        {
          "data": {
            "text/plain": [
              "<seaborn.axisgrid.FacetGrid at 0x7f39f012f6d0>"
            ]
          },
          "execution_count": 18,
          "metadata": {},
          "output_type": "execute_result"
        },
        {
          "data": {
            "image/png": "[encoded data removed]",
            "text/plain": [
              "<Figure size 360x360 with 1 Axes>"
            ]
          },
          "metadata": {
            "needs_background": "light"
          },
          "output_type": "display_data"
        }
      ],
      "source": [
        "sb.displot(x = \"PetalLengthCm\", data = df, kde = True)"
      ]
    },
    {
      "cell_type": "code",
      "execution_count": null,
      "id": "dc67a391",
      "metadata": {
        "execution": {
          "iopub.execute_input": "2021-09-11T14:23:59.553438Z",
          "iopub.status.busy": "2021-09-11T14:23:59.536574Z",
          "iopub.status.idle": "2021-09-11T14:23:59.901554Z",
          "shell.execute_reply": "2021-09-11T14:23:59.902217Z",
          "shell.execute_reply.started": "2021-09-11T13:09:05.079755Z"
        },
        "papermill": {
          "duration": 0.459984,
          "end_time": "2021-09-11T14:23:59.902440",
          "exception": false,
          "start_time": "2021-09-11T14:23:59.442456",
          "status": "completed"
        },
        "tags": [],
        "id": "dc67a391",
        "outputId": "ec84c8ee-79c3-474b-9e86-d8412cc2675b"
      },
      "outputs": [
        {
          "data": {
            "text/plain": [
              "<seaborn.axisgrid.FacetGrid at 0x7f39f005d2d0>"
            ]
          },
          "execution_count": 19,
          "metadata": {},
          "output_type": "execute_result"
        },
        {
          "data": {
            "image/png": "[encoded data removed]",
            "text/plain": [
              "<Figure size 360x360 with 1 Axes>"
            ]
          },
          "metadata": {
            "needs_background": "light"
          },
          "output_type": "display_data"
        }
      ],
      "source": [
        "sb.displot(x = \"PetalWidthCm\", data = df, kde = True)"
      ]
    },
    {
      "cell_type": "markdown",
      "id": "4864ec2c",
      "metadata": {
        "papermill": {
          "duration": 0.082219,
          "end_time": "2021-09-11T14:24:00.067592",
          "exception": false,
          "start_time": "2021-09-11T14:23:59.985373",
          "status": "completed"
        },
        "tags": [],
        "id": "4864ec2c"
      },
      "source": [
        "# How length and width vary according to the species"
      ]
    },
    {
      "cell_type": "code",
      "execution_count": null,
      "id": "c63da103",
      "metadata": {
        "execution": {
          "iopub.execute_input": "2021-09-11T14:24:00.235107Z",
          "iopub.status.busy": "2021-09-11T14:24:00.234232Z",
          "iopub.status.idle": "2021-09-11T14:24:01.166419Z",
          "shell.execute_reply": "2021-09-11T14:24:01.165703Z",
          "shell.execute_reply.started": "2021-09-11T13:09:05.358361Z"
        },
        "papermill": {
          "duration": 1.016293,
          "end_time": "2021-09-11T14:24:01.166590",
          "exception": false,
          "start_time": "2021-09-11T14:24:00.150297",
          "status": "completed"
        },
        "tags": [],
        "id": "c63da103",
        "outputId": "805a8962-6856-4bb2-c414-5ad3d4e97a30"
      },
      "outputs": [
        {
          "data": {
            "text/plain": [
              "<AxesSubplot:xlabel='Species', ylabel='SepalWidthCm'>"
            ]
          },
          "execution_count": 20,
          "metadata": {},
          "output_type": "execute_result"
        },
        {
          "data": {
            "image/png": "[encoded data removed]",
            "text/plain": [
              "<Figure size 1080x720 with 4 Axes>"
            ]
          },
          "metadata": {
            "needs_background": "light"
          },
          "output_type": "display_data"
        }
      ],
      "source": [
        "plt.figure(figsize = (15,10)) #Specifying the size of the plot\n",
        "\n",
        "#Specifying the number of rows and columns in the data\n",
        "plt.subplot(2,2,1) #'1' specifies the index of the violin plot\n",
        "sb.violinplot(x = \"Species\", y = \"PetalLengthCm\", data = df)\n",
        "plt.subplot(2,2,2)\n",
        "sb.violinplot(x = \"Species\", y = \"PetalWidthCm\", data = df)\n",
        "plt.subplot(2,2,3)\n",
        "sb.violinplot(x = \"Species\", y = \"SepalLengthCm\", data = df)\n",
        "plt.subplot(2,2,4)\n",
        "sb.violinplot(x = \"Species\", y = \"SepalWidthCm\", data = df)"
      ]
    },
    {
      "cell_type": "code",
      "execution_count": null,
      "id": "21af3b54",
      "metadata": {
        "execution": {
          "iopub.execute_input": "2021-09-11T14:24:01.402878Z",
          "iopub.status.busy": "2021-09-11T14:24:01.386526Z",
          "iopub.status.idle": "2021-09-11T14:24:01.745014Z",
          "shell.execute_reply": "2021-09-11T14:24:01.744054Z",
          "shell.execute_reply.started": "2021-09-11T13:09:06.153666Z"
        },
        "papermill": {
          "duration": 0.494519,
          "end_time": "2021-09-11T14:24:01.745277",
          "exception": false,
          "start_time": "2021-09-11T14:24:01.250758",
          "status": "completed"
        },
        "tags": [],
        "id": "21af3b54",
        "outputId": "fad2ecf1-5d43-4e0e-b86a-0acd999e397b"
      },
      "outputs": [
        {
          "data": {
            "image/png": "[encoded data removed]",
            "text/plain": [
              "<Figure size 1080x720 with 2 Axes>"
            ]
          },
          "metadata": {
            "needs_background": "light"
          },
          "output_type": "display_data"
        }
      ],
      "source": [
        "plt.figure(figsize = (15,10))\n",
        "sb.heatmap(df.corr(), annot = True, cmap = \"cubehelix_r\")\n",
        "plt.show()"
      ]
    },
    {
      "cell_type": "markdown",
      "id": "a5ca992c",
      "metadata": {
        "papermill": {
          "duration": 0.088089,
          "end_time": "2021-09-11T14:24:01.940754",
          "exception": false,
          "start_time": "2021-09-11T14:24:01.852665",
          "status": "completed"
        },
        "tags": [],
        "id": "a5ca992c"
      },
      "source": [
        "# Observation from the Heatmap"
      ]
    },
    {
      "cell_type": "markdown",
      "id": "9a6307f1",
      "metadata": {
        "papermill": {
          "duration": 0.087028,
          "end_time": "2021-09-11T14:24:02.113538",
          "exception": false,
          "start_time": "2021-09-11T14:24:02.026510",
          "status": "completed"
        },
        "tags": [],
        "id": "9a6307f1"
      },
      "source": [
        "We can see that Sepal Length and Sepal Width are not correlated beacause tehy have a correlation value of -0.11. \n",
        "\n",
        "Whereas, Petal Width and Petal Length are highly correlated, having a correlation value of 0.96.\n",
        "\n",
        "We'll use all the features for training the model and then we'll check the accuracy. Then we'll train another model if one feature each from Petal and Sepal, and then check the accuracy."
      ]
    },
    {
      "cell_type": "markdown",
      "id": "41e508ac",
      "metadata": {
        "papermill": {
          "duration": 0.084075,
          "end_time": "2021-09-11T14:24:02.283272",
          "exception": false,
          "start_time": "2021-09-11T14:24:02.199197",
          "status": "completed"
        },
        "tags": [],
        "id": "41e508ac"
      },
      "source": [
        "# Splitting the Data into for Training and Testing"
      ]
    },
    {
      "cell_type": "code",
      "execution_count": null,
      "id": "fcaaea78",
      "metadata": {
        "execution": {
          "iopub.execute_input": "2021-09-11T14:24:02.458722Z",
          "iopub.status.busy": "2021-09-11T14:24:02.457592Z",
          "iopub.status.idle": "2021-09-11T14:24:02.836664Z",
          "shell.execute_reply": "2021-09-11T14:24:02.835996Z",
          "shell.execute_reply.started": "2021-09-11T13:09:06.511362Z"
        },
        "papermill": {
          "duration": 0.468664,
          "end_time": "2021-09-11T14:24:02.836838",
          "exception": false,
          "start_time": "2021-09-11T14:24:02.368174",
          "status": "completed"
        },
        "tags": [],
        "id": "fcaaea78"
      },
      "outputs": [],
      "source": [
        "from sklearn.linear_model import LogisticRegression\n",
        "from sklearn.model_selection import train_test_split\n",
        "from sklearn.neighbors import KNeighborsClassifier\n",
        "from sklearn import svm\n",
        "from sklearn import metrics\n",
        "from sklearn.tree import DecisionTreeClassifier"
      ]
    },
    {
      "cell_type": "code",
      "execution_count": null,
      "id": "d54fdb4c",
      "metadata": {
        "execution": {
          "iopub.execute_input": "2021-09-11T14:24:03.015134Z",
          "iopub.status.busy": "2021-09-11T14:24:03.014115Z",
          "iopub.status.idle": "2021-09-11T14:24:03.023385Z",
          "shell.execute_reply": "2021-09-11T14:24:03.022750Z",
          "shell.execute_reply.started": "2021-09-11T13:09:06.517652Z"
        },
        "papermill": {
          "duration": 0.101555,
          "end_time": "2021-09-11T14:24:03.023560",
          "exception": false,
          "start_time": "2021-09-11T14:24:02.922005",
          "status": "completed"
        },
        "tags": [],
        "id": "d54fdb4c"
      },
      "outputs": [],
      "source": [
        "df_train, df_test = train_test_split(df, test_size = 0.3)"
      ]
    },
    {
      "cell_type": "code",
      "execution_count": null,
      "id": "7b248727",
      "metadata": {
        "execution": {
          "iopub.execute_input": "2021-09-11T14:24:03.199540Z",
          "iopub.status.busy": "2021-09-11T14:24:03.198436Z",
          "iopub.status.idle": "2021-09-11T14:24:03.204302Z",
          "shell.execute_reply": "2021-09-11T14:24:03.204790Z",
          "shell.execute_reply.started": "2021-09-11T13:09:06.532946Z"
        },
        "papermill": {
          "duration": 0.095908,
          "end_time": "2021-09-11T14:24:03.204998",
          "exception": false,
          "start_time": "2021-09-11T14:24:03.109090",
          "status": "completed"
        },
        "tags": [],
        "id": "7b248727",
        "outputId": "a61f64f8-12eb-4eeb-8753-54091bd26586"
      },
      "outputs": [
        {
          "data": {
            "text/plain": [
              "(105, 6)"
            ]
          },
          "execution_count": 24,
          "metadata": {},
          "output_type": "execute_result"
        }
      ],
      "source": [
        "df_train.shape"
      ]
    },
    {
      "cell_type": "code",
      "execution_count": null,
      "id": "8dc6bb50",
      "metadata": {
        "execution": {
          "iopub.execute_input": "2021-09-11T14:24:03.382204Z",
          "iopub.status.busy": "2021-09-11T14:24:03.381103Z",
          "iopub.status.idle": "2021-09-11T14:24:03.387930Z",
          "shell.execute_reply": "2021-09-11T14:24:03.387210Z",
          "shell.execute_reply.started": "2021-09-11T13:09:06.548141Z"
        },
        "papermill": {
          "duration": 0.097089,
          "end_time": "2021-09-11T14:24:03.388095",
          "exception": false,
          "start_time": "2021-09-11T14:24:03.291006",
          "status": "completed"
        },
        "tags": [],
        "id": "8dc6bb50",
        "outputId": "eff3cf80-976f-4b67-f85d-0cf35198a257"
      },
      "outputs": [
        {
          "data": {
            "text/plain": [
              "(45, 6)"
            ]
          },
          "execution_count": 25,
          "metadata": {},
          "output_type": "execute_result"
        }
      ],
      "source": [
        "df_test.shape"
      ]
    },
    {
      "cell_type": "code",
      "execution_count": null,
      "id": "99f8b262",
      "metadata": {
        "execution": {
          "iopub.execute_input": "2021-09-11T14:24:03.573193Z",
          "iopub.status.busy": "2021-09-11T14:24:03.572226Z",
          "iopub.status.idle": "2021-09-11T14:24:03.575693Z",
          "shell.execute_reply": "2021-09-11T14:24:03.575085Z",
          "shell.execute_reply.started": "2021-09-11T13:09:06.56098Z"
        },
        "papermill": {
          "duration": 0.100598,
          "end_time": "2021-09-11T14:24:03.575857",
          "exception": false,
          "start_time": "2021-09-11T14:24:03.475259",
          "status": "completed"
        },
        "tags": [],
        "id": "99f8b262"
      },
      "outputs": [],
      "source": [
        "train_X = df_train[[\"SepalLengthCm\", \"SepalWidthCm\", \"PetalLengthCm\", \"PetalWidthCm\",]]\n",
        "train_y = df_train.Species\n",
        "\n",
        "test_X = df_test[[\"SepalLengthCm\", \"SepalWidthCm\", \"PetalLengthCm\", \"PetalWidthCm\",]]\n",
        "test_y = df_test.Species"
      ]
    },
    {
      "cell_type": "code",
      "execution_count": null,
      "id": "8dd88540",
      "metadata": {
        "execution": {
          "iopub.execute_input": "2021-09-11T14:24:03.771211Z",
          "iopub.status.busy": "2021-09-11T14:24:03.770447Z",
          "iopub.status.idle": "2021-09-11T14:24:03.775190Z",
          "shell.execute_reply": "2021-09-11T14:24:03.775742Z",
          "shell.execute_reply.started": "2021-09-11T13:09:06.57316Z"
        },
        "papermill": {
          "duration": 0.112302,
          "end_time": "2021-09-11T14:24:03.775953",
          "exception": false,
          "start_time": "2021-09-11T14:24:03.663651",
          "status": "completed"
        },
        "tags": [],
        "id": "8dd88540",
        "outputId": "83b450c4-25b2-48a0-83ee-fe56b828ecf4"
      },
      "outputs": [
        {
          "data": {
            "text/html": [
              "<div>\n",
              "<style scoped>\n",
              "    .dataframe tbody tr th:only-of-type {\n",
              "        vertical-align: middle;\n",
              "    }\n",
              "\n",
              "    .dataframe tbody tr th {\n",
              "        vertical-align: top;\n",
              "    }\n",
              "\n",
              "    .dataframe thead th {\n",
              "        text-align: right;\n",
              "    }\n",
              "</style>\n",
              "<table border=\"1\" class=\"dataframe\">\n",
              "  <thead>\n",
              "    <tr style=\"text-align: right;\">\n",
              "      <th></th>\n",
              "      <th>SepalLengthCm</th>\n",
              "      <th>SepalWidthCm</th>\n",
              "      <th>PetalLengthCm</th>\n",
              "      <th>PetalWidthCm</th>\n",
              "    </tr>\n",
              "  </thead>\n",
              "  <tbody>\n",
              "    <tr>\n",
              "      <th>13</th>\n",
              "      <td>4.3</td>\n",
              "      <td>3.0</td>\n",
              "      <td>1.1</td>\n",
              "      <td>0.1</td>\n",
              "    </tr>\n",
              "    <tr>\n",
              "      <th>1</th>\n",
              "      <td>4.9</td>\n",
              "      <td>3.0</td>\n",
              "      <td>1.4</td>\n",
              "      <td>0.2</td>\n",
              "    </tr>\n",
              "    <tr>\n",
              "      <th>116</th>\n",
              "      <td>6.5</td>\n",
              "      <td>3.0</td>\n",
              "      <td>5.5</td>\n",
              "      <td>1.8</td>\n",
              "    </tr>\n",
              "    <tr>\n",
              "      <th>146</th>\n",
              "      <td>6.3</td>\n",
              "      <td>2.5</td>\n",
              "      <td>5.0</td>\n",
              "      <td>1.9</td>\n",
              "    </tr>\n",
              "    <tr>\n",
              "      <th>43</th>\n",
              "      <td>5.0</td>\n",
              "      <td>3.5</td>\n",
              "      <td>1.6</td>\n",
              "      <td>0.6</td>\n",
              "    </tr>\n",
              "  </tbody>\n",
              "</table>\n",
              "</div>"
            ],
            "text/plain": [
              "     SepalLengthCm  SepalWidthCm  PetalLengthCm  PetalWidthCm\n",
              "13             4.3           3.0            1.1           0.1\n",
              "1              4.9           3.0            1.4           0.2\n",
              "116            6.5           3.0            5.5           1.8\n",
              "146            6.3           2.5            5.0           1.9\n",
              "43             5.0           3.5            1.6           0.6"
            ]
          },
          "execution_count": 27,
          "metadata": {},
          "output_type": "execute_result"
        }
      ],
      "source": [
        "train_X.head()"
      ]
    },
    {
      "cell_type": "code",
      "execution_count": null,
      "id": "fd3cea8d",
      "metadata": {
        "execution": {
          "iopub.execute_input": "2021-09-11T14:24:03.958877Z",
          "iopub.status.busy": "2021-09-11T14:24:03.958084Z",
          "iopub.status.idle": "2021-09-11T14:24:03.972208Z",
          "shell.execute_reply": "2021-09-11T14:24:03.971675Z",
          "shell.execute_reply.started": "2021-09-11T13:09:06.59164Z"
        },
        "papermill": {
          "duration": 0.105987,
          "end_time": "2021-09-11T14:24:03.972370",
          "exception": false,
          "start_time": "2021-09-11T14:24:03.866383",
          "status": "completed"
        },
        "tags": [],
        "id": "fd3cea8d",
        "outputId": "e0697fb4-4e84-451a-9b49-b99f327c078e"
      },
      "outputs": [
        {
          "data": {
            "text/html": [
              "<div>\n",
              "<style scoped>\n",
              "    .dataframe tbody tr th:only-of-type {\n",
              "        vertical-align: middle;\n",
              "    }\n",
              "\n",
              "    .dataframe tbody tr th {\n",
              "        vertical-align: top;\n",
              "    }\n",
              "\n",
              "    .dataframe thead th {\n",
              "        text-align: right;\n",
              "    }\n",
              "</style>\n",
              "<table border=\"1\" class=\"dataframe\">\n",
              "  <thead>\n",
              "    <tr style=\"text-align: right;\">\n",
              "      <th></th>\n",
              "      <th>SepalLengthCm</th>\n",
              "      <th>SepalWidthCm</th>\n",
              "      <th>PetalLengthCm</th>\n",
              "      <th>PetalWidthCm</th>\n",
              "    </tr>\n",
              "  </thead>\n",
              "  <tbody>\n",
              "    <tr>\n",
              "      <th>29</th>\n",
              "      <td>4.7</td>\n",
              "      <td>3.2</td>\n",
              "      <td>1.6</td>\n",
              "      <td>0.2</td>\n",
              "    </tr>\n",
              "    <tr>\n",
              "      <th>12</th>\n",
              "      <td>4.8</td>\n",
              "      <td>3.0</td>\n",
              "      <td>1.4</td>\n",
              "      <td>0.1</td>\n",
              "    </tr>\n",
              "    <tr>\n",
              "      <th>147</th>\n",
              "      <td>6.5</td>\n",
              "      <td>3.0</td>\n",
              "      <td>5.2</td>\n",
              "      <td>2.0</td>\n",
              "    </tr>\n",
              "    <tr>\n",
              "      <th>22</th>\n",
              "      <td>4.6</td>\n",
              "      <td>3.6</td>\n",
              "      <td>1.0</td>\n",
              "      <td>0.2</td>\n",
              "    </tr>\n",
              "    <tr>\n",
              "      <th>88</th>\n",
              "      <td>5.6</td>\n",
              "      <td>3.0</td>\n",
              "      <td>4.1</td>\n",
              "      <td>1.3</td>\n",
              "    </tr>\n",
              "  </tbody>\n",
              "</table>\n",
              "</div>"
            ],
            "text/plain": [
              "     SepalLengthCm  SepalWidthCm  PetalLengthCm  PetalWidthCm\n",
              "29             4.7           3.2            1.6           0.2\n",
              "12             4.8           3.0            1.4           0.1\n",
              "147            6.5           3.0            5.2           2.0\n",
              "22             4.6           3.6            1.0           0.2\n",
              "88             5.6           3.0            4.1           1.3"
            ]
          },
          "execution_count": 28,
          "metadata": {},
          "output_type": "execute_result"
        }
      ],
      "source": [
        "test_X.head()"
      ]
    },
    {
      "cell_type": "markdown",
      "id": "c3202d0b",
      "metadata": {
        "papermill": {
          "duration": 0.087329,
          "end_time": "2021-09-11T14:24:04.145898",
          "exception": false,
          "start_time": "2021-09-11T14:24:04.058569",
          "status": "completed"
        },
        "tags": [],
        "id": "c3202d0b"
      },
      "source": [
        "# Support Vector Machine"
      ]
    },
    {
      "cell_type": "code",
      "execution_count": null,
      "id": "47341871",
      "metadata": {
        "execution": {
          "iopub.execute_input": "2021-09-11T14:24:04.329218Z",
          "iopub.status.busy": "2021-09-11T14:24:04.328106Z",
          "iopub.status.idle": "2021-09-11T14:24:04.334649Z",
          "shell.execute_reply": "2021-09-11T14:24:04.333885Z",
          "shell.execute_reply.started": "2021-09-11T13:09:06.612765Z"
        },
        "papermill": {
          "duration": 0.102103,
          "end_time": "2021-09-11T14:24:04.334817",
          "exception": false,
          "start_time": "2021-09-11T14:24:04.232714",
          "status": "completed"
        },
        "tags": [],
        "id": "47341871"
      },
      "outputs": [],
      "source": [
        "model = svm.SVC()\n",
        "model.fit(train_X, train_y)\n",
        "prediction = model.predict(test_X)"
      ]
    },
    {
      "cell_type": "code",
      "execution_count": null,
      "id": "4b4f6029",
      "metadata": {
        "execution": {
          "iopub.execute_input": "2021-09-11T14:24:04.521226Z",
          "iopub.status.busy": "2021-09-11T14:24:04.520471Z",
          "iopub.status.idle": "2021-09-11T14:24:04.522479Z",
          "shell.execute_reply": "2021-09-11T14:24:04.523178Z",
          "shell.execute_reply.started": "2021-09-11T13:09:06.627102Z"
        },
        "papermill": {
          "duration": 0.097869,
          "end_time": "2021-09-11T14:24:04.523401",
          "exception": false,
          "start_time": "2021-09-11T14:24:04.425532",
          "status": "completed"
        },
        "tags": [],
        "id": "4b4f6029"
      },
      "outputs": [],
      "source": [
        "svm_accuracy = metrics.accuracy_score(prediction, test_y)"
      ]
    },
    {
      "cell_type": "code",
      "execution_count": null,
      "id": "cf6719dd",
      "metadata": {
        "execution": {
          "iopub.execute_input": "2021-09-11T14:24:04.709182Z",
          "iopub.status.busy": "2021-09-11T14:24:04.708230Z",
          "iopub.status.idle": "2021-09-11T14:24:04.712940Z",
          "shell.execute_reply": "2021-09-11T14:24:04.712259Z",
          "shell.execute_reply.started": "2021-09-11T13:09:06.634897Z"
        },
        "papermill": {
          "duration": 0.097609,
          "end_time": "2021-09-11T14:24:04.713120",
          "exception": false,
          "start_time": "2021-09-11T14:24:04.615511",
          "status": "completed"
        },
        "tags": [],
        "id": "cf6719dd",
        "outputId": "014c04f1-7b41-4422-d40a-bb90e5863806"
      },
      "outputs": [
        {
          "data": {
            "text/plain": [
              "0.9777777777777777"
            ]
          },
          "execution_count": 31,
          "metadata": {},
          "output_type": "execute_result"
        }
      ],
      "source": [
        "svm_accuracy"
      ]
    },
    {
      "cell_type": "markdown",
      "id": "4f3c9a35",
      "metadata": {
        "papermill": {
          "duration": 0.086709,
          "end_time": "2021-09-11T14:24:04.886226",
          "exception": false,
          "start_time": "2021-09-11T14:24:04.799517",
          "status": "completed"
        },
        "tags": [],
        "id": "4f3c9a35"
      },
      "source": [
        "# Logistic Regression"
      ]
    },
    {
      "cell_type": "code",
      "execution_count": null,
      "id": "3fa3d4c5",
      "metadata": {
        "execution": {
          "iopub.execute_input": "2021-09-11T14:24:05.078164Z",
          "iopub.status.busy": "2021-09-11T14:24:05.076894Z",
          "iopub.status.idle": "2021-09-11T14:24:05.117376Z",
          "shell.execute_reply": "2021-09-11T14:24:05.116798Z",
          "shell.execute_reply.started": "2021-09-11T13:09:06.649204Z"
        },
        "papermill": {
          "duration": 0.13936,
          "end_time": "2021-09-11T14:24:05.117543",
          "exception": false,
          "start_time": "2021-09-11T14:24:04.978183",
          "status": "completed"
        },
        "tags": [],
        "id": "3fa3d4c5"
      },
      "outputs": [],
      "source": [
        "model = LogisticRegression()\n",
        "model.fit(train_X, train_y)\n",
        "prediction = model.predict(test_X)\n",
        "lr_acc = metrics.accuracy_score(prediction, test_y)"
      ]
    },
    {
      "cell_type": "code",
      "execution_count": null,
      "id": "7e2ef9af",
      "metadata": {
        "execution": {
          "iopub.execute_input": "2021-09-11T14:24:05.372204Z",
          "iopub.status.busy": "2021-09-11T14:24:05.371304Z",
          "iopub.status.idle": "2021-09-11T14:24:05.374937Z",
          "shell.execute_reply": "2021-09-11T14:24:05.375675Z",
          "shell.execute_reply.started": "2021-09-11T13:09:06.691944Z"
        },
        "papermill": {
          "duration": 0.171941,
          "end_time": "2021-09-11T14:24:05.375940",
          "exception": false,
          "start_time": "2021-09-11T14:24:05.203999",
          "status": "completed"
        },
        "tags": [],
        "id": "7e2ef9af",
        "outputId": "35b88b4b-af3f-4377-f568-69fbf051e2a1"
      },
      "outputs": [
        {
          "name": "stdout",
          "output_type": "stream",
          "text": [
            "0.9777777777777777\n"
          ]
        }
      ],
      "source": [
        "print(lr_acc)"
      ]
    },
    {
      "cell_type": "markdown",
      "id": "cca23ea1",
      "metadata": {
        "papermill": {
          "duration": 0.08945,
          "end_time": "2021-09-11T14:24:05.554289",
          "exception": false,
          "start_time": "2021-09-11T14:24:05.464839",
          "status": "completed"
        },
        "tags": [],
        "id": "cca23ea1"
      },
      "source": [
        "# Decision Tree"
      ]
    },
    {
      "cell_type": "code",
      "execution_count": null,
      "id": "24855ef0",
      "metadata": {
        "execution": {
          "iopub.execute_input": "2021-09-11T14:24:05.736394Z",
          "iopub.status.busy": "2021-09-11T14:24:05.735616Z",
          "iopub.status.idle": "2021-09-11T14:24:05.748348Z",
          "shell.execute_reply": "2021-09-11T14:24:05.747779Z",
          "shell.execute_reply.started": "2021-09-11T13:09:06.698823Z"
        },
        "papermill": {
          "duration": 0.10639,
          "end_time": "2021-09-11T14:24:05.748530",
          "exception": false,
          "start_time": "2021-09-11T14:24:05.642140",
          "status": "completed"
        },
        "tags": [],
        "id": "24855ef0"
      },
      "outputs": [],
      "source": [
        "model = DecisionTreeClassifier()\n",
        "model.fit(train_X, train_y)\n",
        "prediction = model.predict (test_X)\n",
        "dt_acc = metrics.accuracy_score(prediction, test_y)"
      ]
    },
    {
      "cell_type": "code",
      "execution_count": null,
      "id": "5e501290",
      "metadata": {
        "execution": {
          "iopub.execute_input": "2021-09-11T14:24:05.933286Z",
          "iopub.status.busy": "2021-09-11T14:24:05.932527Z",
          "iopub.status.idle": "2021-09-11T14:24:05.939802Z",
          "shell.execute_reply": "2021-09-11T14:24:05.939214Z",
          "shell.execute_reply.started": "2021-09-11T13:09:06.716332Z"
        },
        "papermill": {
          "duration": 0.103237,
          "end_time": "2021-09-11T14:24:05.939992",
          "exception": false,
          "start_time": "2021-09-11T14:24:05.836755",
          "status": "completed"
        },
        "tags": [],
        "id": "5e501290",
        "outputId": "f5e4c751-4a67-423d-c638-d79d1e140612"
      },
      "outputs": [
        {
          "data": {
            "text/plain": [
              "0.9555555555555556"
            ]
          },
          "execution_count": 35,
          "metadata": {},
          "output_type": "execute_result"
        }
      ],
      "source": [
        "dt_acc"
      ]
    },
    {
      "cell_type": "markdown",
      "id": "d2a56285",
      "metadata": {
        "papermill": {
          "duration": 0.089766,
          "end_time": "2021-09-11T14:24:06.119377",
          "exception": false,
          "start_time": "2021-09-11T14:24:06.029611",
          "status": "completed"
        },
        "tags": [],
        "id": "d2a56285"
      },
      "source": [
        "# K-Nearest Neighbors"
      ]
    },
    {
      "cell_type": "code",
      "execution_count": null,
      "id": "e93294d5",
      "metadata": {
        "execution": {
          "iopub.execute_input": "2021-09-11T14:24:06.307966Z",
          "iopub.status.busy": "2021-09-11T14:24:06.300033Z",
          "iopub.status.idle": "2021-09-11T14:24:06.316697Z",
          "shell.execute_reply": "2021-09-11T14:24:06.317344Z",
          "shell.execute_reply.started": "2021-09-11T13:09:06.730804Z"
        },
        "papermill": {
          "duration": 0.109143,
          "end_time": "2021-09-11T14:24:06.317620",
          "exception": false,
          "start_time": "2021-09-11T14:24:06.208477",
          "status": "completed"
        },
        "tags": [],
        "id": "e93294d5"
      },
      "outputs": [],
      "source": [
        "model = KNeighborsClassifier(n_neighbors=3)\n",
        "model.fit(train_X, train_y)\n",
        "prediction = model.predict(test_X)\n",
        "knn_acc = metrics.accuracy_score(prediction, test_y)"
      ]
    },
    {
      "cell_type": "code",
      "execution_count": null,
      "id": "730555a8",
      "metadata": {
        "execution": {
          "iopub.execute_input": "2021-09-11T14:24:06.506339Z",
          "iopub.status.busy": "2021-09-11T14:24:06.503365Z",
          "iopub.status.idle": "2021-09-11T14:24:06.510486Z",
          "shell.execute_reply": "2021-09-11T14:24:06.509907Z",
          "shell.execute_reply.started": "2021-09-11T13:09:06.74797Z"
        },
        "papermill": {
          "duration": 0.101366,
          "end_time": "2021-09-11T14:24:06.510666",
          "exception": false,
          "start_time": "2021-09-11T14:24:06.409300",
          "status": "completed"
        },
        "tags": [],
        "id": "730555a8",
        "outputId": "f829bcf2-f6a3-47c6-8df2-0702a01ddac3"
      },
      "outputs": [
        {
          "data": {
            "text/plain": [
              "0.9555555555555556"
            ]
          },
          "execution_count": 37,
          "metadata": {},
          "output_type": "execute_result"
        }
      ],
      "source": [
        "knn_acc"
      ]
    },
    {
      "cell_type": "markdown",
      "id": "dbd6e5e5",
      "metadata": {
        "papermill": {
          "duration": 0.088217,
          "end_time": "2021-09-11T14:24:06.688308",
          "exception": false,
          "start_time": "2021-09-11T14:24:06.600091",
          "status": "completed"
        },
        "tags": [],
        "id": "dbd6e5e5"
      },
      "source": [
        "# KNN Classifier with other values of \"n\""
      ]
    },
    {
      "cell_type": "code",
      "execution_count": null,
      "id": "a26e3027",
      "metadata": {
        "execution": {
          "iopub.execute_input": "2021-09-11T14:24:06.884329Z",
          "iopub.status.busy": "2021-09-11T14:24:06.880833Z",
          "iopub.status.idle": "2021-09-11T14:24:07.194758Z",
          "shell.execute_reply": "2021-09-11T14:24:07.194169Z",
          "shell.execute_reply.started": "2021-09-11T13:09:06.762458Z"
        },
        "papermill": {
          "duration": 0.418465,
          "end_time": "2021-09-11T14:24:07.194934",
          "exception": false,
          "start_time": "2021-09-11T14:24:06.776469",
          "status": "completed"
        },
        "tags": [],
        "id": "a26e3027",
        "outputId": "90349225-c965-4622-d75a-76c09415f626"
      },
      "outputs": [
        {
          "name": "stderr",
          "output_type": "stream",
          "text": [
            "/opt/conda/lib/python3.7/site-packages/ipykernel_launcher.py:2: DeprecationWarning: The default dtype for empty Series will be 'object' instead of 'float64' in a future version. Specify a dtype explicitly to silence this warning.\n",
            "  \n"
          ]
        },
        {
          "data": {
            "text/plain": [
              "([<matplotlib.axis.XTick at 0x7f39d9a8db90>,\n",
              "  <matplotlib.axis.XTick at 0x7f39d9a8de10>,\n",
              "  <matplotlib.axis.XTick at 0x7f39d9a8d350>,\n",
              "  <matplotlib.axis.XTick at 0x7f39d9a41b90>,\n",
              "  <matplotlib.axis.XTick at 0x7f39d9a502d0>,\n",
              "  <matplotlib.axis.XTick at 0x7f39d9a50210>,\n",
              "  <matplotlib.axis.XTick at 0x7f39d9a50750>,\n",
              "  <matplotlib.axis.XTick at 0x7f39d9a58690>,\n",
              "  <matplotlib.axis.XTick at 0x7f39d9a58790>,\n",
              "  <matplotlib.axis.XTick at 0x7f39d9a58890>],\n",
              " [Text(0, 0, ''),\n",
              "  Text(0, 0, ''),\n",
              "  Text(0, 0, ''),\n",
              "  Text(0, 0, ''),\n",
              "  Text(0, 0, ''),\n",
              "  Text(0, 0, ''),\n",
              "  Text(0, 0, ''),\n",
              "  Text(0, 0, ''),\n",
              "  Text(0, 0, ''),\n",
              "  Text(0, 0, '')])"
            ]
          },
          "execution_count": 38,
          "metadata": {},
          "output_type": "execute_result"
        },
        {
          "data": {
            "image/png": "[encoded data removed]",
            "text/plain": [
              "<Figure size 432x288 with 1 Axes>"
            ]
          },
          "metadata": {
            "needs_background": "light"
          },
          "output_type": "display_data"
        }
      ],
      "source": [
        "a_index = list(range(1,11))\n",
        "a = pd.Series()\n",
        "x = [1,2,3,4,5,6,7,8,9,10]\n",
        "for i in list(range(1,11)):\n",
        "    model = KNeighborsClassifier(n_neighbors = i)\n",
        "    model.fit(train_X, train_y)\n",
        "    prediction = model.predict(test_X)\n",
        "    a = a.append(pd.Series(metrics.accuracy_score(prediction, test_y)))\n",
        "plt.plot(a_index, a)\n",
        "plt.xticks(x)"
      ]
    },
    {
      "cell_type": "markdown",
      "id": "577e1bd4",
      "metadata": {
        "papermill": {
          "duration": 0.089035,
          "end_time": "2021-09-11T14:24:07.377516",
          "exception": false,
          "start_time": "2021-09-11T14:24:07.288481",
          "status": "completed"
        },
        "tags": [],
        "id": "577e1bd4"
      },
      "source": [
        "> The above graph shows the accuracy of KNN Classification using different values of \"n\". \n",
        "> \n",
        "> The values of accuracy will be different every run due to the randomness of the data that is split between the testing and the training set."
      ]
    },
    {
      "cell_type": "markdown",
      "id": "9a2948b7",
      "metadata": {
        "papermill": {
          "duration": 0.091276,
          "end_time": "2021-09-11T14:24:07.559084",
          "exception": false,
          "start_time": "2021-09-11T14:24:07.467808",
          "status": "completed"
        },
        "tags": [],
        "id": "9a2948b7"
      },
      "source": [
        "# Using 1 Petal and 1 Sepal Feature"
      ]
    },
    {
      "cell_type": "code",
      "execution_count": null,
      "id": "fcb0dc18",
      "metadata": {
        "execution": {
          "iopub.execute_input": "2021-09-11T14:24:07.749543Z",
          "iopub.status.busy": "2021-09-11T14:24:07.748348Z",
          "iopub.status.idle": "2021-09-11T14:24:07.751503Z",
          "shell.execute_reply": "2021-09-11T14:24:07.752121Z",
          "shell.execute_reply.started": "2021-09-11T13:09:07.04256Z"
        },
        "papermill": {
          "duration": 0.103914,
          "end_time": "2021-09-11T14:24:07.752332",
          "exception": false,
          "start_time": "2021-09-11T14:24:07.648418",
          "status": "completed"
        },
        "tags": [],
        "id": "fcb0dc18"
      },
      "outputs": [],
      "source": [
        "petal = df[[\"PetalLengthCm\", \"PetalWidthCm\", \"Species\"]]\n",
        "sepal = df[[\"SepalLengthCm\", \"SepalWidthCm\", \"Species\"]]"
      ]
    },
    {
      "cell_type": "code",
      "execution_count": null,
      "id": "4ec6fa46",
      "metadata": {
        "execution": {
          "iopub.execute_input": "2021-09-11T14:24:07.950398Z",
          "iopub.status.busy": "2021-09-11T14:24:07.949656Z",
          "iopub.status.idle": "2021-09-11T14:24:07.952627Z",
          "shell.execute_reply": "2021-09-11T14:24:07.953151Z",
          "shell.execute_reply.started": "2021-09-11T13:09:07.051211Z"
        },
        "papermill": {
          "duration": 0.111017,
          "end_time": "2021-09-11T14:24:07.953348",
          "exception": false,
          "start_time": "2021-09-11T14:24:07.842331",
          "status": "completed"
        },
        "tags": [],
        "id": "4ec6fa46",
        "outputId": "4f14c036-dcfc-4563-a8c7-315782f7df58"
      },
      "outputs": [
        {
          "data": {
            "text/html": [
              "<div>\n",
              "<style scoped>\n",
              "    .dataframe tbody tr th:only-of-type {\n",
              "        vertical-align: middle;\n",
              "    }\n",
              "\n",
              "    .dataframe tbody tr th {\n",
              "        vertical-align: top;\n",
              "    }\n",
              "\n",
              "    .dataframe thead th {\n",
              "        text-align: right;\n",
              "    }\n",
              "</style>\n",
              "<table border=\"1\" class=\"dataframe\">\n",
              "  <thead>\n",
              "    <tr style=\"text-align: right;\">\n",
              "      <th></th>\n",
              "      <th>PetalLengthCm</th>\n",
              "      <th>PetalWidthCm</th>\n",
              "      <th>Species</th>\n",
              "    </tr>\n",
              "  </thead>\n",
              "  <tbody>\n",
              "    <tr>\n",
              "      <th>0</th>\n",
              "      <td>1.4</td>\n",
              "      <td>0.2</td>\n",
              "      <td>Iris-setosa</td>\n",
              "    </tr>\n",
              "    <tr>\n",
              "      <th>1</th>\n",
              "      <td>1.4</td>\n",
              "      <td>0.2</td>\n",
              "      <td>Iris-setosa</td>\n",
              "    </tr>\n",
              "    <tr>\n",
              "      <th>2</th>\n",
              "      <td>1.3</td>\n",
              "      <td>0.2</td>\n",
              "      <td>Iris-setosa</td>\n",
              "    </tr>\n",
              "    <tr>\n",
              "      <th>3</th>\n",
              "      <td>1.5</td>\n",
              "      <td>0.2</td>\n",
              "      <td>Iris-setosa</td>\n",
              "    </tr>\n",
              "    <tr>\n",
              "      <th>4</th>\n",
              "      <td>1.4</td>\n",
              "      <td>0.2</td>\n",
              "      <td>Iris-setosa</td>\n",
              "    </tr>\n",
              "    <tr>\n",
              "      <th>...</th>\n",
              "      <td>...</td>\n",
              "      <td>...</td>\n",
              "      <td>...</td>\n",
              "    </tr>\n",
              "    <tr>\n",
              "      <th>145</th>\n",
              "      <td>5.2</td>\n",
              "      <td>2.3</td>\n",
              "      <td>Iris-virginica</td>\n",
              "    </tr>\n",
              "    <tr>\n",
              "      <th>146</th>\n",
              "      <td>5.0</td>\n",
              "      <td>1.9</td>\n",
              "      <td>Iris-virginica</td>\n",
              "    </tr>\n",
              "    <tr>\n",
              "      <th>147</th>\n",
              "      <td>5.2</td>\n",
              "      <td>2.0</td>\n",
              "      <td>Iris-virginica</td>\n",
              "    </tr>\n",
              "    <tr>\n",
              "      <th>148</th>\n",
              "      <td>5.4</td>\n",
              "      <td>2.3</td>\n",
              "      <td>Iris-virginica</td>\n",
              "    </tr>\n",
              "    <tr>\n",
              "      <th>149</th>\n",
              "      <td>5.1</td>\n",
              "      <td>1.8</td>\n",
              "      <td>Iris-virginica</td>\n",
              "    </tr>\n",
              "  </tbody>\n",
              "</table>\n",
              "<p>150 rows × 3 columns</p>\n",
              "</div>"
            ],
            "text/plain": [
              "     PetalLengthCm  PetalWidthCm         Species\n",
              "0              1.4           0.2     Iris-setosa\n",
              "1              1.4           0.2     Iris-setosa\n",
              "2              1.3           0.2     Iris-setosa\n",
              "3              1.5           0.2     Iris-setosa\n",
              "4              1.4           0.2     Iris-setosa\n",
              "..             ...           ...             ...\n",
              "145            5.2           2.3  Iris-virginica\n",
              "146            5.0           1.9  Iris-virginica\n",
              "147            5.2           2.0  Iris-virginica\n",
              "148            5.4           2.3  Iris-virginica\n",
              "149            5.1           1.8  Iris-virginica\n",
              "\n",
              "[150 rows x 3 columns]"
            ]
          },
          "execution_count": 40,
          "metadata": {},
          "output_type": "execute_result"
        }
      ],
      "source": [
        "petal"
      ]
    },
    {
      "cell_type": "code",
      "execution_count": null,
      "id": "aede5caa",
      "metadata": {
        "execution": {
          "iopub.execute_input": "2021-09-11T14:24:08.141469Z",
          "iopub.status.busy": "2021-09-11T14:24:08.140760Z",
          "iopub.status.idle": "2021-09-11T14:24:08.151985Z",
          "shell.execute_reply": "2021-09-11T14:24:08.152466Z",
          "shell.execute_reply.started": "2021-09-11T13:09:07.074361Z"
        },
        "papermill": {
          "duration": 0.107597,
          "end_time": "2021-09-11T14:24:08.152699",
          "exception": false,
          "start_time": "2021-09-11T14:24:08.045102",
          "status": "completed"
        },
        "tags": [],
        "id": "aede5caa",
        "outputId": "c6e786c9-0f41-46f5-e8b6-82f6350e2156"
      },
      "outputs": [
        {
          "data": {
            "text/html": [
              "<div>\n",
              "<style scoped>\n",
              "    .dataframe tbody tr th:only-of-type {\n",
              "        vertical-align: middle;\n",
              "    }\n",
              "\n",
              "    .dataframe tbody tr th {\n",
              "        vertical-align: top;\n",
              "    }\n",
              "\n",
              "    .dataframe thead th {\n",
              "        text-align: right;\n",
              "    }\n",
              "</style>\n",
              "<table border=\"1\" class=\"dataframe\">\n",
              "  <thead>\n",
              "    <tr style=\"text-align: right;\">\n",
              "      <th></th>\n",
              "      <th>SepalLengthCm</th>\n",
              "      <th>SepalWidthCm</th>\n",
              "      <th>Species</th>\n",
              "    </tr>\n",
              "  </thead>\n",
              "  <tbody>\n",
              "    <tr>\n",
              "      <th>0</th>\n",
              "      <td>5.1</td>\n",
              "      <td>3.5</td>\n",
              "      <td>Iris-setosa</td>\n",
              "    </tr>\n",
              "    <tr>\n",
              "      <th>1</th>\n",
              "      <td>4.9</td>\n",
              "      <td>3.0</td>\n",
              "      <td>Iris-setosa</td>\n",
              "    </tr>\n",
              "    <tr>\n",
              "      <th>2</th>\n",
              "      <td>4.7</td>\n",
              "      <td>3.2</td>\n",
              "      <td>Iris-setosa</td>\n",
              "    </tr>\n",
              "    <tr>\n",
              "      <th>3</th>\n",
              "      <td>4.6</td>\n",
              "      <td>3.1</td>\n",
              "      <td>Iris-setosa</td>\n",
              "    </tr>\n",
              "    <tr>\n",
              "      <th>4</th>\n",
              "      <td>5.0</td>\n",
              "      <td>3.6</td>\n",
              "      <td>Iris-setosa</td>\n",
              "    </tr>\n",
              "  </tbody>\n",
              "</table>\n",
              "</div>"
            ],
            "text/plain": [
              "   SepalLengthCm  SepalWidthCm      Species\n",
              "0            5.1           3.5  Iris-setosa\n",
              "1            4.9           3.0  Iris-setosa\n",
              "2            4.7           3.2  Iris-setosa\n",
              "3            4.6           3.1  Iris-setosa\n",
              "4            5.0           3.6  Iris-setosa"
            ]
          },
          "execution_count": 41,
          "metadata": {},
          "output_type": "execute_result"
        }
      ],
      "source": [
        "sepal.head()"
      ]
    },
    {
      "cell_type": "markdown",
      "id": "be82dce1",
      "metadata": {
        "papermill": {
          "duration": 0.091227,
          "end_time": "2021-09-11T14:24:08.335513",
          "exception": false,
          "start_time": "2021-09-11T14:24:08.244286",
          "status": "completed"
        },
        "tags": [],
        "id": "be82dce1"
      },
      "source": [
        "# Test and Training Splitting"
      ]
    },
    {
      "cell_type": "markdown",
      "id": "e7eb52d3",
      "metadata": {
        "papermill": {
          "duration": 0.091497,
          "end_time": "2021-09-11T14:24:08.518811",
          "exception": false,
          "start_time": "2021-09-11T14:24:08.427314",
          "status": "completed"
        },
        "tags": [],
        "id": "e7eb52d3"
      },
      "source": [
        "> Here, the data has been splitted for training and testing for both petal characteristics and sepal characteristics."
      ]
    },
    {
      "cell_type": "code",
      "execution_count": null,
      "id": "83b5158f",
      "metadata": {
        "execution": {
          "iopub.execute_input": "2021-09-11T14:24:08.722191Z",
          "iopub.status.busy": "2021-09-11T14:24:08.714624Z",
          "iopub.status.idle": "2021-09-11T14:24:08.725307Z",
          "shell.execute_reply": "2021-09-11T14:24:08.724598Z",
          "shell.execute_reply.started": "2021-09-11T13:09:07.094692Z"
        },
        "papermill": {
          "duration": 0.114195,
          "end_time": "2021-09-11T14:24:08.725488",
          "exception": false,
          "start_time": "2021-09-11T14:24:08.611293",
          "status": "completed"
        },
        "tags": [],
        "id": "83b5158f"
      },
      "outputs": [],
      "source": [
        "train_p, test_p = train_test_split(petal, test_size = 0.3)\n",
        "\n",
        "train_x_p = train_p[[\"PetalWidthCm\", \"PetalLengthCm\"]]\n",
        "train_y_p = train_p.Species\n",
        "\n",
        "test_x_p = test_p[[\"PetalWidthCm\", \"PetalLengthCm\"]]\n",
        "test_y_p = test_p.Species\n",
        "\n",
        "train_s, test_s = train_test_split(sepal, test_size = 0.3)\n",
        "\n",
        "train_x_s = train_s[[\"SepalWidthCm\", \"SepalLengthCm\"]]\n",
        "train_y_s = train_s.Species\n",
        "\n",
        "test_x_s = test_s[[\"SepalWidthCm\", \"SepalLengthCm\"]]\n",
        "test_y_s = test_s.Species"
      ]
    },
    {
      "cell_type": "markdown",
      "id": "e7abc2f6",
      "metadata": {
        "papermill": {
          "duration": 0.092356,
          "end_time": "2021-09-11T14:24:08.909532",
          "exception": false,
          "start_time": "2021-09-11T14:24:08.817176",
          "status": "completed"
        },
        "tags": [],
        "id": "e7abc2f6"
      },
      "source": [
        "# Support Vector Machine"
      ]
    },
    {
      "cell_type": "code",
      "execution_count": null,
      "id": "5bb85a19",
      "metadata": {
        "execution": {
          "iopub.execute_input": "2021-09-11T14:24:09.103537Z",
          "iopub.status.busy": "2021-09-11T14:24:09.102712Z",
          "iopub.status.idle": "2021-09-11T14:24:09.108749Z",
          "shell.execute_reply": "2021-09-11T14:24:09.108190Z",
          "shell.execute_reply.started": "2021-09-11T13:09:07.112009Z"
        },
        "papermill": {
          "duration": 0.106548,
          "end_time": "2021-09-11T14:24:09.108916",
          "exception": false,
          "start_time": "2021-09-11T14:24:09.002368",
          "status": "completed"
        },
        "tags": [],
        "id": "5bb85a19"
      },
      "outputs": [],
      "source": [
        "#For Petals\n",
        "model = svm.SVC()\n",
        "model.fit(train_x_p, train_y_p)\n",
        "prediction = model.predict(test_x_p)\n",
        "svm_p_acc = metrics.accuracy_score(prediction, test_y_p)"
      ]
    },
    {
      "cell_type": "code",
      "execution_count": null,
      "id": "39e8a53d",
      "metadata": {
        "execution": {
          "iopub.execute_input": "2021-09-11T14:24:09.297196Z",
          "iopub.status.busy": "2021-09-11T14:24:09.296480Z",
          "iopub.status.idle": "2021-09-11T14:24:09.301624Z",
          "shell.execute_reply": "2021-09-11T14:24:09.302210Z",
          "shell.execute_reply.started": "2021-09-11T13:09:07.130448Z"
        },
        "papermill": {
          "duration": 0.100928,
          "end_time": "2021-09-11T14:24:09.302412",
          "exception": false,
          "start_time": "2021-09-11T14:24:09.201484",
          "status": "completed"
        },
        "tags": [],
        "id": "39e8a53d",
        "outputId": "9c9616ad-b467-4fc7-b97f-501b9f230e52"
      },
      "outputs": [
        {
          "data": {
            "text/plain": [
              "1.0"
            ]
          },
          "execution_count": 44,
          "metadata": {},
          "output_type": "execute_result"
        }
      ],
      "source": [
        "svm_p_acc"
      ]
    },
    {
      "cell_type": "code",
      "execution_count": null,
      "id": "ecfc890e",
      "metadata": {
        "execution": {
          "iopub.execute_input": "2021-09-11T14:24:09.500203Z",
          "iopub.status.busy": "2021-09-11T14:24:09.499239Z",
          "iopub.status.idle": "2021-09-11T14:24:09.505338Z",
          "shell.execute_reply": "2021-09-11T14:24:09.504799Z",
          "shell.execute_reply.started": "2021-09-11T13:09:07.14616Z"
        },
        "papermill": {
          "duration": 0.110232,
          "end_time": "2021-09-11T14:24:09.505504",
          "exception": false,
          "start_time": "2021-09-11T14:24:09.395272",
          "status": "completed"
        },
        "tags": [],
        "id": "ecfc890e"
      },
      "outputs": [],
      "source": [
        "#For Sepals\n",
        "model = svm.SVC()\n",
        "model.fit(train_x_s, train_y_s)\n",
        "prediction = model.predict(test_x_s)\n",
        "svm_s_acc = metrics.accuracy_score(prediction, test_y_s)"
      ]
    },
    {
      "cell_type": "code",
      "execution_count": null,
      "id": "8f35a6f5",
      "metadata": {
        "execution": {
          "iopub.execute_input": "2021-09-11T14:24:09.697673Z",
          "iopub.status.busy": "2021-09-11T14:24:09.696745Z",
          "iopub.status.idle": "2021-09-11T14:24:09.700928Z",
          "shell.execute_reply": "2021-09-11T14:24:09.700260Z",
          "shell.execute_reply.started": "2021-09-11T13:09:07.165555Z"
        },
        "papermill": {
          "duration": 0.10189,
          "end_time": "2021-09-11T14:24:09.701093",
          "exception": false,
          "start_time": "2021-09-11T14:24:09.599203",
          "status": "completed"
        },
        "tags": [],
        "id": "8f35a6f5",
        "outputId": "adb212cc-c5d1-41d7-a9b7-e7904cebf1b3"
      },
      "outputs": [
        {
          "data": {
            "text/plain": [
              "0.7555555555555555"
            ]
          },
          "execution_count": 46,
          "metadata": {},
          "output_type": "execute_result"
        }
      ],
      "source": [
        "svm_s_acc"
      ]
    },
    {
      "cell_type": "markdown",
      "id": "f0953a76",
      "metadata": {
        "papermill": {
          "duration": 0.092115,
          "end_time": "2021-09-11T14:24:09.887223",
          "exception": false,
          "start_time": "2021-09-11T14:24:09.795108",
          "status": "completed"
        },
        "tags": [],
        "id": "f0953a76"
      },
      "source": [
        "# Logistic Regression"
      ]
    },
    {
      "cell_type": "code",
      "execution_count": null,
      "id": "7202f921",
      "metadata": {
        "execution": {
          "iopub.execute_input": "2021-09-11T14:24:10.095293Z",
          "iopub.status.busy": "2021-09-11T14:24:10.088239Z",
          "iopub.status.idle": "2021-09-11T14:24:10.102198Z",
          "shell.execute_reply": "2021-09-11T14:24:10.101516Z",
          "shell.execute_reply.started": "2021-09-11T13:12:47.704233Z"
        },
        "papermill": {
          "duration": 0.122776,
          "end_time": "2021-09-11T14:24:10.102370",
          "exception": false,
          "start_time": "2021-09-11T14:24:09.979594",
          "status": "completed"
        },
        "tags": [],
        "id": "7202f921"
      },
      "outputs": [],
      "source": [
        "#For Petals\n",
        "model = LogisticRegression()\n",
        "model.fit(train_x_p, train_y_p)\n",
        "prediction = model.predict(test_x_p)\n",
        "lr_p_acc = metrics.accuracy_score(prediction, test_y_p)"
      ]
    },
    {
      "cell_type": "code",
      "execution_count": null,
      "id": "b71bfde8",
      "metadata": {
        "execution": {
          "iopub.execute_input": "2021-09-11T14:24:10.299177Z",
          "iopub.status.busy": "2021-09-11T14:24:10.297143Z",
          "iopub.status.idle": "2021-09-11T14:24:10.302957Z",
          "shell.execute_reply": "2021-09-11T14:24:10.303545Z",
          "shell.execute_reply.started": "2021-09-11T13:12:48.668842Z"
        },
        "papermill": {
          "duration": 0.105689,
          "end_time": "2021-09-11T14:24:10.303777",
          "exception": false,
          "start_time": "2021-09-11T14:24:10.198088",
          "status": "completed"
        },
        "tags": [],
        "id": "b71bfde8",
        "outputId": "732ad115-0e12-494c-931c-3c154cc6741c"
      },
      "outputs": [
        {
          "data": {
            "text/plain": [
              "1.0"
            ]
          },
          "execution_count": 48,
          "metadata": {},
          "output_type": "execute_result"
        }
      ],
      "source": [
        "lr_p_acc"
      ]
    },
    {
      "cell_type": "code",
      "execution_count": null,
      "id": "be3ba2af",
      "metadata": {
        "execution": {
          "iopub.execute_input": "2021-09-11T14:24:10.499941Z",
          "iopub.status.busy": "2021-09-11T14:24:10.499127Z",
          "iopub.status.idle": "2021-09-11T14:24:10.525443Z",
          "shell.execute_reply": "2021-09-11T14:24:10.524784Z",
          "shell.execute_reply.started": "2021-09-11T13:12:49.954316Z"
        },
        "papermill": {
          "duration": 0.127641,
          "end_time": "2021-09-11T14:24:10.525605",
          "exception": false,
          "start_time": "2021-09-11T14:24:10.397964",
          "status": "completed"
        },
        "tags": [],
        "id": "be3ba2af"
      },
      "outputs": [],
      "source": [
        "#For Sepals\n",
        "model = LogisticRegression()\n",
        "model.fit(train_x_s, train_y_s)\n",
        "prediction = model.predict(test_x_s)\n",
        "lr_s_acc = metrics.accuracy_score(prediction, test_y_s)"
      ]
    },
    {
      "cell_type": "code",
      "execution_count": null,
      "id": "018bd9cb",
      "metadata": {
        "execution": {
          "iopub.execute_input": "2021-09-11T14:24:10.722150Z",
          "iopub.status.busy": "2021-09-11T14:24:10.721062Z",
          "iopub.status.idle": "2021-09-11T14:24:10.727360Z",
          "shell.execute_reply": "2021-09-11T14:24:10.726827Z",
          "shell.execute_reply.started": "2021-09-11T13:13:08.623728Z"
        },
        "papermill": {
          "duration": 0.105346,
          "end_time": "2021-09-11T14:24:10.727524",
          "exception": false,
          "start_time": "2021-09-11T14:24:10.622178",
          "status": "completed"
        },
        "tags": [],
        "id": "018bd9cb",
        "outputId": "15e7b4e3-ba38-4fea-bc85-a70dea8c62be"
      },
      "outputs": [
        {
          "data": {
            "text/plain": [
              "0.7777777777777778"
            ]
          },
          "execution_count": 50,
          "metadata": {},
          "output_type": "execute_result"
        }
      ],
      "source": [
        "lr_s_acc"
      ]
    },
    {
      "cell_type": "markdown",
      "id": "ce3eb563",
      "metadata": {
        "papermill": {
          "duration": 0.095554,
          "end_time": "2021-09-11T14:24:10.917741",
          "exception": false,
          "start_time": "2021-09-11T14:24:10.822187",
          "status": "completed"
        },
        "tags": [],
        "id": "ce3eb563"
      },
      "source": [
        "# Decision Tree"
      ]
    },
    {
      "cell_type": "code",
      "execution_count": null,
      "id": "3cb81c41",
      "metadata": {
        "execution": {
          "iopub.execute_input": "2021-09-11T14:24:11.110568Z",
          "iopub.status.busy": "2021-09-11T14:24:11.109700Z",
          "iopub.status.idle": "2021-09-11T14:24:11.118686Z",
          "shell.execute_reply": "2021-09-11T14:24:11.119239Z",
          "shell.execute_reply.started": "2021-09-11T13:17:48.064755Z"
        },
        "papermill": {
          "duration": 0.106684,
          "end_time": "2021-09-11T14:24:11.119461",
          "exception": false,
          "start_time": "2021-09-11T14:24:11.012777",
          "status": "completed"
        },
        "tags": [],
        "id": "3cb81c41"
      },
      "outputs": [],
      "source": [
        "#For Petals\n",
        "model = DecisionTreeClassifier()\n",
        "model.fit(train_x_p, train_y_p)\n",
        "prediction = model.predict (test_x_p)\n",
        "dt_p_acc = metrics.accuracy_score(prediction, test_y_p)"
      ]
    },
    {
      "cell_type": "code",
      "execution_count": null,
      "id": "7abf8862",
      "metadata": {
        "execution": {
          "iopub.execute_input": "2021-09-11T14:24:11.309154Z",
          "iopub.status.busy": "2021-09-11T14:24:11.308405Z",
          "iopub.status.idle": "2021-09-11T14:24:11.315937Z",
          "shell.execute_reply": "2021-09-11T14:24:11.315097Z",
          "shell.execute_reply.started": "2021-09-11T13:17:52.721633Z"
        },
        "papermill": {
          "duration": 0.104125,
          "end_time": "2021-09-11T14:24:11.316127",
          "exception": false,
          "start_time": "2021-09-11T14:24:11.212002",
          "status": "completed"
        },
        "tags": [],
        "id": "7abf8862",
        "outputId": "4187595b-5700-4c1d-e6d6-d51a1acc1b53"
      },
      "outputs": [
        {
          "data": {
            "text/plain": [
              "0.9777777777777777"
            ]
          },
          "execution_count": 52,
          "metadata": {},
          "output_type": "execute_result"
        }
      ],
      "source": [
        "dt_p_acc"
      ]
    },
    {
      "cell_type": "code",
      "execution_count": null,
      "id": "7478c3c6",
      "metadata": {
        "execution": {
          "iopub.execute_input": "2021-09-11T14:24:11.508247Z",
          "iopub.status.busy": "2021-09-11T14:24:11.507240Z",
          "iopub.status.idle": "2021-09-11T14:24:11.516175Z",
          "shell.execute_reply": "2021-09-11T14:24:11.516793Z",
          "shell.execute_reply.started": "2021-09-11T13:19:07.964752Z"
        },
        "papermill": {
          "duration": 0.106771,
          "end_time": "2021-09-11T14:24:11.517024",
          "exception": false,
          "start_time": "2021-09-11T14:24:11.410253",
          "status": "completed"
        },
        "tags": [],
        "id": "7478c3c6"
      },
      "outputs": [],
      "source": [
        "#For Sepals\n",
        "model = DecisionTreeClassifier()\n",
        "model.fit(train_x_s, train_y_s)\n",
        "prediction = model.predict (test_x_s)\n",
        "dt_s_acc = metrics.accuracy_score(prediction, test_y_s)"
      ]
    },
    {
      "cell_type": "code",
      "execution_count": null,
      "id": "9d868d9e",
      "metadata": {
        "execution": {
          "iopub.execute_input": "2021-09-11T14:24:11.709361Z",
          "iopub.status.busy": "2021-09-11T14:24:11.708660Z",
          "iopub.status.idle": "2021-09-11T14:24:11.714069Z",
          "shell.execute_reply": "2021-09-11T14:24:11.714620Z",
          "shell.execute_reply.started": "2021-09-11T13:19:12.700021Z"
        },
        "papermill": {
          "duration": 0.103878,
          "end_time": "2021-09-11T14:24:11.714839",
          "exception": false,
          "start_time": "2021-09-11T14:24:11.610961",
          "status": "completed"
        },
        "tags": [],
        "id": "9d868d9e",
        "outputId": "b94fdcb5-3f89-4d1b-e6f5-cb86c3c6c28c"
      },
      "outputs": [
        {
          "data": {
            "text/plain": [
              "0.6666666666666666"
            ]
          },
          "execution_count": 54,
          "metadata": {},
          "output_type": "execute_result"
        }
      ],
      "source": [
        "dt_s_acc"
      ]
    },
    {
      "cell_type": "markdown",
      "id": "9a5a173c",
      "metadata": {
        "papermill": {
          "duration": 0.093239,
          "end_time": "2021-09-11T14:24:11.902040",
          "exception": false,
          "start_time": "2021-09-11T14:24:11.808801",
          "status": "completed"
        },
        "tags": [],
        "id": "9a5a173c"
      },
      "source": [
        "# K-Nearest Neighbors"
      ]
    },
    {
      "cell_type": "code",
      "execution_count": null,
      "id": "f62dcee6",
      "metadata": {
        "execution": {
          "iopub.execute_input": "2021-09-11T14:24:12.095012Z",
          "iopub.status.busy": "2021-09-11T14:24:12.094207Z",
          "iopub.status.idle": "2021-09-11T14:24:12.106242Z",
          "shell.execute_reply": "2021-09-11T14:24:12.106820Z",
          "shell.execute_reply.started": "2021-09-11T13:24:33.957962Z"
        },
        "papermill": {
          "duration": 0.112467,
          "end_time": "2021-09-11T14:24:12.107035",
          "exception": false,
          "start_time": "2021-09-11T14:24:11.994568",
          "status": "completed"
        },
        "tags": [],
        "id": "f62dcee6"
      },
      "outputs": [],
      "source": [
        "#For Petals\n",
        "model = KNeighborsClassifier(n_neighbors=3)\n",
        "model.fit(train_x_p, train_y_p)\n",
        "prediction = model.predict(test_x_p)\n",
        "knn_p_acc = metrics.accuracy_score(prediction, test_y_p)"
      ]
    },
    {
      "cell_type": "code",
      "execution_count": null,
      "id": "6d05de18",
      "metadata": {
        "execution": {
          "iopub.execute_input": "2021-09-11T14:24:12.298837Z",
          "iopub.status.busy": "2021-09-11T14:24:12.298147Z",
          "iopub.status.idle": "2021-09-11T14:24:12.303884Z",
          "shell.execute_reply": "2021-09-11T14:24:12.304345Z",
          "shell.execute_reply.started": "2021-09-11T13:24:34.746147Z"
        },
        "papermill": {
          "duration": 0.101833,
          "end_time": "2021-09-11T14:24:12.304652",
          "exception": false,
          "start_time": "2021-09-11T14:24:12.202819",
          "status": "completed"
        },
        "tags": [],
        "id": "6d05de18",
        "outputId": "56d506d3-d16f-4c8e-c53c-9a7027f700ac"
      },
      "outputs": [
        {
          "data": {
            "text/plain": [
              "0.9777777777777777"
            ]
          },
          "execution_count": 56,
          "metadata": {},
          "output_type": "execute_result"
        }
      ],
      "source": [
        "knn_p_acc"
      ]
    },
    {
      "cell_type": "code",
      "execution_count": null,
      "id": "99d2b7b0",
      "metadata": {
        "execution": {
          "iopub.execute_input": "2021-09-11T14:24:12.505521Z",
          "iopub.status.busy": "2021-09-11T14:24:12.504726Z",
          "iopub.status.idle": "2021-09-11T14:24:12.509717Z",
          "shell.execute_reply": "2021-09-11T14:24:12.510255Z",
          "shell.execute_reply.started": "2021-09-11T13:24:38.935941Z"
        },
        "papermill": {
          "duration": 0.111107,
          "end_time": "2021-09-11T14:24:12.510456",
          "exception": false,
          "start_time": "2021-09-11T14:24:12.399349",
          "status": "completed"
        },
        "tags": [],
        "id": "99d2b7b0"
      },
      "outputs": [],
      "source": [
        "#For Sepals\n",
        "model = KNeighborsClassifier(n_neighbors=3)\n",
        "model.fit(train_x_s, train_y_s)\n",
        "prediction = model.predict(test_x_s)\n",
        "knn_s_acc = metrics.accuracy_score(prediction, test_y_s)"
      ]
    },
    {
      "cell_type": "code",
      "execution_count": null,
      "id": "ddda0553",
      "metadata": {
        "execution": {
          "iopub.execute_input": "2021-09-11T14:24:12.712333Z",
          "iopub.status.busy": "2021-09-11T14:24:12.711159Z",
          "iopub.status.idle": "2021-09-11T14:24:12.719472Z",
          "shell.execute_reply": "2021-09-11T14:24:12.720340Z",
          "shell.execute_reply.started": "2021-09-11T13:24:46.317218Z"
        },
        "papermill": {
          "duration": 0.113661,
          "end_time": "2021-09-11T14:24:12.720625",
          "exception": false,
          "start_time": "2021-09-11T14:24:12.606964",
          "status": "completed"
        },
        "tags": [],
        "id": "ddda0553",
        "outputId": "d50cef47-6412-4136-d7e0-6333f62a8121"
      },
      "outputs": [
        {
          "data": {
            "text/plain": [
              "0.7333333333333333"
            ]
          },
          "execution_count": 58,
          "metadata": {},
          "output_type": "execute_result"
        }
      ],
      "source": [
        "knn_s_acc"
      ]
    },
    {
      "cell_type": "markdown",
      "id": "385352cf",
      "metadata": {
        "papermill": {
          "duration": 0.093141,
          "end_time": "2021-09-11T14:24:12.932518",
          "exception": false,
          "start_time": "2021-09-11T14:24:12.839377",
          "status": "completed"
        },
        "tags": [],
        "id": "385352cf"
      },
      "source": [
        "# Comparing Accuracy of Models with Petal Data vs Sepal Data"
      ]
    },
    {
      "cell_type": "code",
      "execution_count": null,
      "id": "d1e65608",
      "metadata": {
        "execution": {
          "iopub.execute_input": "2021-09-11T14:24:13.130034Z",
          "iopub.status.busy": "2021-09-11T14:24:13.129323Z",
          "iopub.status.idle": "2021-09-11T14:24:13.130741Z",
          "shell.execute_reply": "2021-09-11T14:24:13.131322Z",
          "shell.execute_reply.started": "2021-09-11T14:06:26.97075Z"
        },
        "papermill": {
          "duration": 0.103136,
          "end_time": "2021-09-11T14:24:13.131523",
          "exception": false,
          "start_time": "2021-09-11T14:24:13.028387",
          "status": "completed"
        },
        "tags": [],
        "id": "d1e65608"
      },
      "outputs": [],
      "source": [
        "accuracy_petals = [svm_p_acc, lr_p_acc, dt_p_acc, knn_p_acc]\n",
        "accuracy_sepals = [svm_s_acc, lr_s_acc, dt_s_acc, knn_s_acc]"
      ]
    },
    {
      "cell_type": "code",
      "execution_count": null,
      "id": "67088983",
      "metadata": {
        "execution": {
          "iopub.execute_input": "2021-09-11T14:24:13.323404Z",
          "iopub.status.busy": "2021-09-11T14:24:13.322735Z",
          "iopub.status.idle": "2021-09-11T14:24:13.328535Z",
          "shell.execute_reply": "2021-09-11T14:24:13.327962Z",
          "shell.execute_reply.started": "2021-09-11T14:06:32.10026Z"
        },
        "papermill": {
          "duration": 0.102737,
          "end_time": "2021-09-11T14:24:13.328727",
          "exception": false,
          "start_time": "2021-09-11T14:24:13.225990",
          "status": "completed"
        },
        "tags": [],
        "id": "67088983",
        "outputId": "c2f1efcf-6c9c-4006-e444-d72a8d497faf"
      },
      "outputs": [
        {
          "data": {
            "text/plain": [
              "[1.0, 1.0, 0.9777777777777777, 0.9777777777777777]"
            ]
          },
          "execution_count": 60,
          "metadata": {},
          "output_type": "execute_result"
        }
      ],
      "source": [
        "accuracy_petals"
      ]
    },
    {
      "cell_type": "code",
      "execution_count": null,
      "id": "47fee0e5",
      "metadata": {
        "execution": {
          "iopub.execute_input": "2021-09-11T14:24:13.526558Z",
          "iopub.status.busy": "2021-09-11T14:24:13.525800Z",
          "iopub.status.idle": "2021-09-11T14:24:13.527271Z",
          "shell.execute_reply": "2021-09-11T14:24:13.527883Z",
          "shell.execute_reply.started": "2021-09-11T14:07:55.134395Z"
        },
        "papermill": {
          "duration": 0.103004,
          "end_time": "2021-09-11T14:24:13.528095",
          "exception": false,
          "start_time": "2021-09-11T14:24:13.425091",
          "status": "completed"
        },
        "tags": [],
        "id": "47fee0e5"
      },
      "outputs": [],
      "source": [
        "data = {\"accuracy_petals\": [svm_p_acc, lr_p_acc, dt_p_acc, knn_p_acc], \"accuracy_sepals\": [svm_s_acc, lr_s_acc, dt_s_acc, knn_s_acc]}"
      ]
    },
    {
      "cell_type": "code",
      "execution_count": null,
      "id": "87d62192",
      "metadata": {
        "execution": {
          "iopub.execute_input": "2021-09-11T14:24:13.729762Z",
          "iopub.status.busy": "2021-09-11T14:24:13.725832Z",
          "iopub.status.idle": "2021-09-11T14:24:13.732178Z",
          "shell.execute_reply": "2021-09-11T14:24:13.732705Z",
          "shell.execute_reply.started": "2021-09-11T14:08:00.195942Z"
        },
        "papermill": {
          "duration": 0.107757,
          "end_time": "2021-09-11T14:24:13.732911",
          "exception": false,
          "start_time": "2021-09-11T14:24:13.625154",
          "status": "completed"
        },
        "tags": [],
        "id": "87d62192",
        "outputId": "e4d2b645-9e3a-41f1-bf65-c0a5be7946fb"
      },
      "outputs": [
        {
          "data": {
            "text/plain": [
              "{'accuracy_petals': [1.0, 1.0, 0.9777777777777777, 0.9777777777777777],\n",
              " 'accuracy_sepals': [0.7555555555555555,\n",
              "  0.7777777777777778,\n",
              "  0.6666666666666666,\n",
              "  0.7333333333333333]}"
            ]
          },
          "execution_count": 62,
          "metadata": {},
          "output_type": "execute_result"
        }
      ],
      "source": [
        "data"
      ]
    },
    {
      "cell_type": "code",
      "execution_count": null,
      "id": "acb6a550",
      "metadata": {
        "execution": {
          "iopub.execute_input": "2021-09-11T14:24:13.928044Z",
          "iopub.status.busy": "2021-09-11T14:24:13.927226Z",
          "iopub.status.idle": "2021-09-11T14:24:13.932957Z",
          "shell.execute_reply": "2021-09-11T14:24:13.933522Z",
          "shell.execute_reply.started": "2021-09-11T14:08:47.472394Z"
        },
        "papermill": {
          "duration": 0.106321,
          "end_time": "2021-09-11T14:24:13.933756",
          "exception": false,
          "start_time": "2021-09-11T14:24:13.827435",
          "status": "completed"
        },
        "tags": [],
        "id": "acb6a550"
      },
      "outputs": [],
      "source": [
        "models_df = pd.DataFrame(data, index = [\"SVM\", \"Logistic Regression\", \"Decision Tree\", \"KNN\"])"
      ]
    },
    {
      "cell_type": "code",
      "execution_count": null,
      "id": "a3394f89",
      "metadata": {
        "execution": {
          "iopub.execute_input": "2021-09-11T14:24:14.140950Z",
          "iopub.status.busy": "2021-09-11T14:24:14.133007Z",
          "iopub.status.idle": "2021-09-11T14:24:14.144576Z",
          "shell.execute_reply": "2021-09-11T14:24:14.145171Z",
          "shell.execute_reply.started": "2021-09-11T14:08:53.483553Z"
        },
        "papermill": {
          "duration": 0.115573,
          "end_time": "2021-09-11T14:24:14.145368",
          "exception": false,
          "start_time": "2021-09-11T14:24:14.029795",
          "status": "completed"
        },
        "tags": [],
        "id": "a3394f89",
        "outputId": "c07d2ce8-879f-47f6-b8e6-c0dc8e27f4e0"
      },
      "outputs": [
        {
          "data": {
            "text/html": [
              "<div>\n",
              "<style scoped>\n",
              "    .dataframe tbody tr th:only-of-type {\n",
              "        vertical-align: middle;\n",
              "    }\n",
              "\n",
              "    .dataframe tbody tr th {\n",
              "        vertical-align: top;\n",
              "    }\n",
              "\n",
              "    .dataframe thead th {\n",
              "        text-align: right;\n",
              "    }\n",
              "</style>\n",
              "<table border=\"1\" class=\"dataframe\">\n",
              "  <thead>\n",
              "    <tr style=\"text-align: right;\">\n",
              "      <th></th>\n",
              "      <th>accuracy_petals</th>\n",
              "      <th>accuracy_sepals</th>\n",
              "    </tr>\n",
              "  </thead>\n",
              "  <tbody>\n",
              "    <tr>\n",
              "      <th>SVM</th>\n",
              "      <td>1.000000</td>\n",
              "      <td>0.755556</td>\n",
              "    </tr>\n",
              "    <tr>\n",
              "      <th>Logistic Regression</th>\n",
              "      <td>1.000000</td>\n",
              "      <td>0.777778</td>\n",
              "    </tr>\n",
              "    <tr>\n",
              "      <th>Decision Tree</th>\n",
              "      <td>0.977778</td>\n",
              "      <td>0.666667</td>\n",
              "    </tr>\n",
              "    <tr>\n",
              "      <th>KNN</th>\n",
              "      <td>0.977778</td>\n",
              "      <td>0.733333</td>\n",
              "    </tr>\n",
              "  </tbody>\n",
              "</table>\n",
              "</div>"
            ],
            "text/plain": [
              "                     accuracy_petals  accuracy_sepals\n",
              "SVM                         1.000000         0.755556\n",
              "Logistic Regression         1.000000         0.777778\n",
              "Decision Tree               0.977778         0.666667\n",
              "KNN                         0.977778         0.733333"
            ]
          },
          "execution_count": 64,
          "metadata": {},
          "output_type": "execute_result"
        }
      ],
      "source": [
        "models_df"
      ]
    },
    {
      "cell_type": "code",
      "execution_count": null,
      "id": "d3f9fd04",
      "metadata": {
        "execution": {
          "iopub.execute_input": "2021-09-11T14:24:14.397304Z",
          "iopub.status.busy": "2021-09-11T14:24:14.396138Z",
          "iopub.status.idle": "2021-09-11T14:24:14.654968Z",
          "shell.execute_reply": "2021-09-11T14:24:14.654407Z",
          "shell.execute_reply.started": "2021-09-11T14:09:39.856134Z"
        },
        "papermill": {
          "duration": 0.412714,
          "end_time": "2021-09-11T14:24:14.655136",
          "exception": false,
          "start_time": "2021-09-11T14:24:14.242422",
          "status": "completed"
        },
        "tags": [],
        "id": "d3f9fd04",
        "outputId": "bc7790b0-d22a-4614-d327-9acadc653322"
      },
      "outputs": [
        {
          "data": {
            "text/plain": [
              "<AxesSubplot:>"
            ]
          },
          "execution_count": 65,
          "metadata": {},
          "output_type": "execute_result"
        },
        {
          "data": {
            "image/png": "[encoded data removed]",
            "text/plain": [
              "<Figure size 432x288 with 1 Axes>"
            ]
          },
          "metadata": {
            "needs_background": "light"
          },
          "output_type": "display_data"
        }
      ],
      "source": [
        "sb.scatterplot(data = models_df)"
      ]
    },
    {
      "cell_type": "markdown",
      "id": "441cf514",
      "metadata": {
        "papermill": {
          "duration": 0.096914,
          "end_time": "2021-09-11T14:24:14.847776",
          "exception": false,
          "start_time": "2021-09-11T14:24:14.750862",
          "status": "completed"
        },
        "tags": [],
        "id": "441cf514"
      },
      "source": [
        "# What do we see from the Scatterplot?"
      ]
    },
    {
      "cell_type": "markdown",
      "id": "38462dee",
      "metadata": {
        "papermill": {
          "duration": 0.096345,
          "end_time": "2021-09-11T14:24:15.041357",
          "exception": false,
          "start_time": "2021-09-11T14:24:14.945012",
          "status": "completed"
        },
        "tags": [],
        "id": "38462dee"
      },
      "source": [
        "As was earlier hypothesized, that petals would be a more accurate classification feature for species, the same can be seen in the scatter plot above. The petals have an higher accuracy score of predicting the species of the flower than the sepals for every model. "
      ]
    }
  ],
  "metadata": {
    "kernelspec": {
      "display_name": "Python 3",
      "language": "python",
      "name": "python3"
    },
    "language_info": {
      "codemirror_mode": {
        "name": "ipython",
        "version": 3
      },
      "file_extension": ".py",
      "mimetype": "text/x-python",
      "name": "python",
      "nbconvert_exporter": "python",
      "pygments_lexer": "ipython3",
      "version": "3.7.10"
    },
    "papermill": {
      "default_parameters": {},
      "duration": 36.09158,
      "end_time": "2021-09-11T14:24:16.552450",
      "environment_variables": {},
      "exception": null,
      "input_path": "__notebook__.ipynb",
      "output_path": "__notebook__.ipynb",
      "parameters": {},
      "start_time": "2021-09-11T14:23:40.460870",
      "version": "2.3.3"
    },
    "colab": {
      "name": "flower-species-prediction.ipynb",
      "provenance": [],
      "include_colab_link": true
    }
  },
  "nbformat": 4,
  "nbformat_minor": 5
}